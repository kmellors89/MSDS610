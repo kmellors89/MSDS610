{
 "cells": [
  {
   "cell_type": "markdown",
   "id": "4986685d-b35a-46e5-a4a6-f7b3f21786a4",
   "metadata": {
    "tags": []
   },
   "source": [
    "# Mellors MSDS 610 Final Project - Notebook 3: Parts 7-10"
   ]
  },
  {
   "cell_type": "markdown",
   "id": "cf4e3b60-a114-49a2-aa4b-59361d0d90ff",
   "metadata": {},
   "source": [
    "# Part 7: Executing with Live Data"
   ]
  },
  {
   "cell_type": "markdown",
   "id": "b06efbb0-c252-4ec4-ac77-b5444b08870d",
   "metadata": {},
   "source": [
    "## Part 7, Section 1: Loading Files and Data"
   ]
  },
  {
   "cell_type": "code",
   "execution_count": 1,
   "id": "d3528ede-631c-4d1c-8027-6899f17dcb86",
   "metadata": {
    "tags": []
   },
   "outputs": [],
   "source": [
    "import pandas as pd\n",
    "import numpy as np\n",
    "import matplotlib.pyplot as plt\n",
    "from sklearn.preprocessing import StandardScaler\n",
    "import pickle\n",
    "import joblib\n",
    "import datetime"
   ]
  },
  {
   "cell_type": "code",
   "execution_count": 2,
   "id": "c26ab183-82a0-43e0-b75a-20dbc89c3139",
   "metadata": {
    "tags": []
   },
   "outputs": [],
   "source": [
    "df_live = pd.read_csv(\"live_data.csv\")"
   ]
  },
  {
   "cell_type": "markdown",
   "id": "4cdf7c73-2bf8-4e69-a951-32b260d19766",
   "metadata": {},
   "source": [
    "**Below:** I am importing my model and my feature engineering maps. The feature engineering maps are pickle files that I created when I was feature engineering and realized that the clean up of my sample would not specifically match the engineering on my training data. For instance, in my training data - which would have all the manufacturers - assigned them integers based on their frequency, but if I did that in my sample, it likely wouldn't contain all the manufactures and using frequency would change that. The idea is that I can create a pickle file that stores what number was assigned to each manufacturer in training and apply that correct number to the manufacturers that exist in the training data."
   ]
  },
  {
   "cell_type": "code",
   "execution_count": 3,
   "id": "49cdc67b-e89d-475d-be83-71621fc8a663",
   "metadata": {
    "tags": []
   },
   "outputs": [],
   "source": [
    "region_rank_map = joblib.load(\"region_rank_map.pkl\")\n",
    "state_rank_map = joblib.load(\"state_rank_map.pkl\")\n",
    "manufacturer_rank_map = joblib.load(\"manufacturer_rank_map.pkl\")"
   ]
  },
  {
   "cell_type": "code",
   "execution_count": 4,
   "id": "3d5fd951-bc0a-4101-aa94-14f13763b21f",
   "metadata": {
    "tags": []
   },
   "outputs": [],
   "source": [
    "xgb_model_live = joblib.load(\"xgb_price_predictor.pkl\")"
   ]
  },
  {
   "cell_type": "code",
   "execution_count": 5,
   "id": "d74be3c1-39d9-400f-a82a-e1a11ce031ad",
   "metadata": {
    "tags": []
   },
   "outputs": [
    {
     "name": "stdout",
     "output_type": "stream",
     "text": [
      "<class 'pandas.core.frame.DataFrame'>\n",
      "RangeIndex: 100 entries, 0 to 99\n",
      "Data columns (total 26 columns):\n",
      " #   Column        Non-Null Count  Dtype  \n",
      "---  ------        --------------  -----  \n",
      " 0   id            100 non-null    int64  \n",
      " 1   url           100 non-null    object \n",
      " 2   region        100 non-null    object \n",
      " 3   region_url    100 non-null    object \n",
      " 4   price         100 non-null    int64  \n",
      " 5   year          100 non-null    float64\n",
      " 6   manufacturer  96 non-null     object \n",
      " 7   model         100 non-null    object \n",
      " 8   condition     53 non-null     object \n",
      " 9   cylinders     55 non-null     object \n",
      " 10  fuel          100 non-null    object \n",
      " 11  odometer      100 non-null    float64\n",
      " 12  title_status  100 non-null    object \n",
      " 13  transmission  100 non-null    object \n",
      " 14  VIN           65 non-null     object \n",
      " 15  drive         71 non-null     object \n",
      " 16  size          20 non-null     object \n",
      " 17  type          79 non-null     object \n",
      " 18  paint_color   69 non-null     object \n",
      " 19  image_url     100 non-null    object \n",
      " 20  description   100 non-null    object \n",
      " 21  county        0 non-null      float64\n",
      " 22  state         100 non-null    object \n",
      " 23  lat           100 non-null    float64\n",
      " 24  long          100 non-null    float64\n",
      " 25  posting_date  100 non-null    object \n",
      "dtypes: float64(5), int64(2), object(19)\n",
      "memory usage: 20.4+ KB\n"
     ]
    }
   ],
   "source": [
    "df_live.info()"
   ]
  },
  {
   "cell_type": "markdown",
   "id": "94e62d27-7334-4e74-acfb-cbe4de40fcce",
   "metadata": {},
   "source": [
    "## Part 7, Section 2: Cleaning Data (with UDFs)"
   ]
  },
  {
   "cell_type": "markdown",
   "id": "75722b61-dbd8-4e3f-98e6-e4b6c18e9b6f",
   "metadata": {},
   "source": [
    "**Below:** I am developing 2 UDFs, one for the cleaning phase and one for the the engineering. I am using the \"rules\" tables I developed, along with my previous notebook, to ensure that this data is cleaned as close as possible to how the original set was cleaned. The comments (#) explain which part of the cleaning process the code lines are cleaning (and align with the cleaning table)."
   ]
  },
  {
   "cell_type": "code",
   "execution_count": 6,
   "id": "f2de41d4-7322-4794-a1e2-2534fc63fc7c",
   "metadata": {
    "tags": []
   },
   "outputs": [],
   "source": [
    "def clean_live_data(df):\n",
    "    # Dropping Columns\n",
    "    df.drop(columns=['id', 'model', 'url', 'region_url', 'VIN', 'image_url', 'description', \n",
    "                     'county', 'lat', 'long', 'size', 'posting_date', 'paint_color'], inplace=True)\n",
    "\n",
    "    # Missing values\n",
    "    df['year'] = df['year'].fillna(2011).astype(int)\n",
    "    df.loc[df['year'] < 1940, 'year'] = 1940\n",
    "\n",
    "    df['manufacturer'] = df['manufacturer'].fillna(\"unknown\")\n",
    "    df['fuel'] = df['fuel'].fillna(\"gas\")\n",
    "    df['odometer'] = df['odometer'].fillna(98045)  # Median value\n",
    "    df['title_status'] = df['title_status'].fillna(\"clean\")\n",
    "    df['transmission'] = df['transmission'].fillna(\"automatic\")\n",
    "\n",
    "    # Creating \"mileage\" to use for NULLs in \"condition\"\n",
    "    df['mileage'] = pd.cut(df['odometer'], bins=[0, 60000, 120000, float('inf')], labels=['low', 'medium', 'high'])\n",
    "    df['condition'] = df.groupby(['year', 'mileage'])['condition'].transform(lambda x: x.fillna(x.mode().iloc[0] if not x.mode().empty else \"excellent\"))\n",
    "\n",
    "    # Imputing 'cylinders' based on 'type' and 'fuel'\n",
    "    df['cylinders'] = df.groupby(['type', 'fuel'])['cylinders'].transform(lambda x: x.fillna(x.mode().iloc[0] if not x.mode().empty else \"unknown\"))\n",
    "\n",
    "    # Cylinder Mapping\n",
    "    cylinder_mapping = {\n",
    "        \"3 cylinders\": 3,\n",
    "        \"4 cylinders\": 4,\n",
    "        \"5 cylinders\": 5,\n",
    "        \"6 cylinders\": 6,\n",
    "        \"8 cylinders\": 8,\n",
    "        \"10 cylinders\": 10,\n",
    "        \"12 cylinders\": 12,\n",
    "        \"other\": 0,\n",
    "        \"unknown\": 4 }\n",
    "\n",
    "    # Converting cylinders to numbers\n",
    "    df['cylinders'] = df['cylinders'].map(cylinder_mapping).fillna(4).astype(int)\n",
    "\n",
    "    # Imputing \"drive\" using \"type\" and \"manufacturer\"\n",
    "    df['drive'] = df.groupby(['type'])['drive'].transform(lambda x: x.fillna(x.mode().iloc[0] if not x.mode().empty else \"fwd\"))\n",
    "    df['drive'] = df.groupby(['manufacturer'])['drive'].transform(lambda x: x.fillna(x.mode().iloc[0] if not x.mode().empty else \"fwd\"))\n",
    "\n",
    "    # Imputing \"type\" using \"fuel\" and \"cylinders'\n",
    "    df['type'] = df.groupby(['fuel', 'cylinders'])['type'].transform(lambda x: x.fillna(x.mode().iloc[0] if not x.mode().empty else \"sedan\"))\n",
    "\n",
    "    return df"
   ]
  },
  {
   "cell_type": "code",
   "execution_count": 7,
   "id": "a8e8cd0e-ab37-481f-9ef8-aaee3942bd23",
   "metadata": {
    "tags": []
   },
   "outputs": [
    {
     "name": "stderr",
     "output_type": "stream",
     "text": [
      "C:\\Users\\kmell\\AppData\\Local\\Temp\\ipykernel_37784\\3372651288.py:18: FutureWarning: The default of observed=False is deprecated and will be changed to True in a future version of pandas. Pass observed=False to retain current behavior or observed=True to adopt the future default and silence this warning.\n",
      "  df['condition'] = df.groupby(['year', 'mileage'])['condition'].transform(lambda x: x.fillna(x.mode().iloc[0] if not x.mode().empty else \"excellent\"))\n"
     ]
    }
   ],
   "source": [
    "df_live_cleaned = clean_live_data(df_live)"
   ]
  },
  {
   "cell_type": "code",
   "execution_count": 8,
   "id": "f76a89b9-478f-4ad1-96a4-92ad144c1cb2",
   "metadata": {
    "tags": []
   },
   "outputs": [
    {
     "name": "stdout",
     "output_type": "stream",
     "text": [
      "<class 'pandas.core.frame.DataFrame'>\n",
      "RangeIndex: 100 entries, 0 to 99\n",
      "Data columns (total 14 columns):\n",
      " #   Column        Non-Null Count  Dtype   \n",
      "---  ------        --------------  -----   \n",
      " 0   region        100 non-null    object  \n",
      " 1   price         100 non-null    int64   \n",
      " 2   year          100 non-null    int32   \n",
      " 3   manufacturer  100 non-null    object  \n",
      " 4   condition     100 non-null    object  \n",
      " 5   cylinders     100 non-null    int32   \n",
      " 6   fuel          100 non-null    object  \n",
      " 7   odometer      100 non-null    float64 \n",
      " 8   title_status  100 non-null    object  \n",
      " 9   transmission  100 non-null    object  \n",
      " 10  drive         100 non-null    object  \n",
      " 11  type          100 non-null    object  \n",
      " 12  state         100 non-null    object  \n",
      " 13  mileage       100 non-null    category\n",
      "dtypes: category(1), float64(1), int32(2), int64(1), object(9)\n",
      "memory usage: 9.7+ KB\n"
     ]
    }
   ],
   "source": [
    "df_live_cleaned.info()"
   ]
  },
  {
   "cell_type": "code",
   "execution_count": 9,
   "id": "900c5621-a47a-42eb-bb71-9677bd6a75e5",
   "metadata": {
    "tags": []
   },
   "outputs": [],
   "source": [
    "def feature_engineer_live_data(df):\n",
    "    # Creating 'age' feature from 'year'\n",
    "    current_year = datetime.datetime.now().year\n",
    "    df['age'] = current_year - df['year']\n",
    "    df.drop(columns=['year'], inplace=True)  # Drop original year column\n",
    "\n",
    "    # Creating 'luxury' feature\n",
    "    luxury_brands = [\n",
    "        'bmw', 'mercedes-benz', 'lexus', 'audi', 'cadillac', \n",
    "        'acura', 'infiniti', 'lincoln', 'volvo', 'jaguar', \n",
    "        'porsche', 'land rover', 'rover', 'alfa-romeo', 'tesla', \n",
    "        'ferrari', 'aston-martin']\n",
    "    df['luxury'] = df['manufacturer'].apply(lambda x: 1 if x.lower() in luxury_brands else 0)\n",
    "\n",
    "    # Loading the maps for region, manufacturer, and state & drop columns\n",
    "    with open('region_freq_map.pkl', 'rb') as file:\n",
    "        region_freq_map = pickle.load(file)\n",
    "    df['region_encoded'] = df['region'].map(region_rank_map)\n",
    "    \n",
    "    with open('manufacturer_freq_map.pkl', 'rb') as file:\n",
    "        manufacturer_freq_map = pickle.load(file)\n",
    "    df['manufacturer_encoded'] = df['manufacturer'].map(manufacturer_rank_map)\n",
    "    \n",
    "    with open('state_freq_map.pkl', 'rb') as file:\n",
    "        state_freq_map = pickle.load(file)\n",
    "        df['state_encoded'] = df['state'].map(state_rank_map)\n",
    "\n",
    "    df.drop(columns=['region', 'manufacturer', 'state'], inplace=True) \n",
    "\n",
    "    # Encode 'condition' as ordinal categories\n",
    "    condition_mapping = {\n",
    "        'new': 5, 'like new': 4, 'excellent': 3, \n",
    "        'good': 2, 'fair': 1, 'salvage': 0}\n",
    "    df['condition_encoded'] = df['condition'].map(condition_mapping)\n",
    "    df.drop(columns=['condition'], inplace=True)\n",
    "\n",
    "    # Encode 'mileage' as ordinal categories\n",
    "    mileage_map = {'low': 0, 'medium': 1, 'high': 2}\n",
    "    df['mileage_encoded'] = df['mileage'].map(mileage_map)\n",
    "    df.drop(columns=['mileage'], inplace=True)\n",
    "\n",
    "    # Encode 'title_status' as ordinal categories\n",
    "    title_status_mapping = {\n",
    "        'clean': 5, 'rebuilt': 4, 'salvage': 3, \n",
    "        'lien': 2, 'missing': 1, 'parts only': 0}\n",
    "    df['title_encoded'] = df['title_status'].map(title_status_mapping)\n",
    "    df.drop(columns=['title_status'], inplace=True)\n",
    "\n",
    "    # One-hot encode categorical variables\n",
    "    df = pd.get_dummies(df, columns=['fuel', 'transmission', 'drive', 'type'], drop_first=True)\n",
    "\n",
    "    # Normalize 'odometer' using StandardScaler\n",
    "    scaler = StandardScaler()\n",
    "    df['odometer_encoded'] = scaler.fit_transform(df[['odometer']])\n",
    "    df.drop(columns=['odometer'], inplace=True)\n",
    "\n",
    "    return df"
   ]
  },
  {
   "cell_type": "code",
   "execution_count": 10,
   "id": "f4ff33f5-a91f-465a-b2f0-d6866a43da9d",
   "metadata": {
    "tags": []
   },
   "outputs": [],
   "source": [
    "df_live_final = feature_engineer_live_data(df_live_cleaned)"
   ]
  },
  {
   "cell_type": "markdown",
   "id": "4e593cb3-8613-41b2-bce3-48069ef218fd",
   "metadata": {},
   "source": [
    "**Below:** When I ran the above UDPs and model, I got an error stating that some expected columns did not exist. This was because, given my sample, those particular features weren't created (due to a lack of them in the sample). As such, I decided to manualy enter them with a value of \"0\"."
   ]
  },
  {
   "cell_type": "code",
   "execution_count": 11,
   "id": "19e6e0c7-40dc-4ecc-b864-f561fd57ff4c",
   "metadata": {
    "tags": []
   },
   "outputs": [],
   "source": [
    "df_live_final['fuel_electric'] = 0\n",
    "df_live_final['type_bus'] = 0\n",
    "df_live_final['type_convertible'] = 0\n",
    "df_live_final['type_mini-van'] = 0\n",
    "df_live_final['type_offroad'] = 0"
   ]
  },
  {
   "cell_type": "code",
   "execution_count": 12,
   "id": "5919bab6-83eb-410b-87b1-1c1232f3c93e",
   "metadata": {
    "tags": []
   },
   "outputs": [
    {
     "name": "stdout",
     "output_type": "stream",
     "text": [
      "<class 'pandas.core.frame.DataFrame'>\n",
      "RangeIndex: 100 entries, 0 to 99\n",
      "Data columns (total 31 columns):\n",
      " #   Column                Non-Null Count  Dtype   \n",
      "---  ------                --------------  -----   \n",
      " 0   price                 100 non-null    int64   \n",
      " 1   cylinders             100 non-null    int32   \n",
      " 2   age                   100 non-null    int32   \n",
      " 3   luxury                100 non-null    int64   \n",
      " 4   region_encoded        100 non-null    float64 \n",
      " 5   manufacturer_encoded  100 non-null    float64 \n",
      " 6   state_encoded         100 non-null    float64 \n",
      " 7   condition_encoded     100 non-null    int64   \n",
      " 8   mileage_encoded       100 non-null    category\n",
      " 9   title_encoded         100 non-null    int64   \n",
      " 10  fuel_gas              100 non-null    bool    \n",
      " 11  fuel_hybrid           100 non-null    bool    \n",
      " 12  fuel_other            100 non-null    bool    \n",
      " 13  transmission_manual   100 non-null    bool    \n",
      " 14  transmission_other    100 non-null    bool    \n",
      " 15  drive_fwd             100 non-null    bool    \n",
      " 16  drive_rwd             100 non-null    bool    \n",
      " 17  type_coupe            100 non-null    bool    \n",
      " 18  type_hatchback        100 non-null    bool    \n",
      " 19  type_other            100 non-null    bool    \n",
      " 20  type_pickup           100 non-null    bool    \n",
      " 21  type_sedan            100 non-null    bool    \n",
      " 22  type_truck            100 non-null    bool    \n",
      " 23  type_van              100 non-null    bool    \n",
      " 24  type_wagon            100 non-null    bool    \n",
      " 25  odometer_encoded      100 non-null    float64 \n",
      " 26  fuel_electric         100 non-null    int64   \n",
      " 27  type_bus              100 non-null    int64   \n",
      " 28  type_convertible      100 non-null    int64   \n",
      " 29  type_mini-van         100 non-null    int64   \n",
      " 30  type_offroad          100 non-null    int64   \n",
      "dtypes: bool(15), category(1), float64(4), int32(2), int64(9)\n",
      "memory usage: 12.8 KB\n"
     ]
    }
   ],
   "source": [
    "df_live_final.info() "
   ]
  },
  {
   "cell_type": "code",
   "execution_count": 13,
   "id": "a9b9a4a6-650a-48cf-b840-2997860f3550",
   "metadata": {
    "tags": []
   },
   "outputs": [
    {
     "data": {
      "text/plain": [
       "cylinders\n",
       "4    50\n",
       "6    29\n",
       "8    21\n",
       "Name: count, dtype: int64"
      ]
     },
     "execution_count": 13,
     "metadata": {},
     "output_type": "execute_result"
    }
   ],
   "source": [
    "df_live_final.cylinders.value_counts()"
   ]
  },
  {
   "cell_type": "code",
   "execution_count": 14,
   "id": "137a35fe-010f-4a3d-9632-38c321d643c7",
   "metadata": {
    "tags": []
   },
   "outputs": [
    {
     "data": {
      "text/plain": [
       "51   -0.892343\n",
       "20    0.751789\n",
       "91    0.327774\n",
       "72    1.507280\n",
       "65   -0.442698\n",
       "Name: odometer_encoded, dtype: float64"
      ]
     },
     "execution_count": 14,
     "metadata": {},
     "output_type": "execute_result"
    }
   ],
   "source": [
    "df_live_final.odometer_encoded.sample(5)"
   ]
  },
  {
   "cell_type": "code",
   "execution_count": 15,
   "id": "0f88eeab-681b-4e64-811c-fa5eb923e6ca",
   "metadata": {
    "tags": []
   },
   "outputs": [
    {
     "name": "stdout",
     "output_type": "stream",
     "text": [
      "<class 'pandas.core.series.Series'>\n",
      "RangeIndex: 100 entries, 0 to 99\n",
      "Series name: mileage_encoded\n",
      "Non-Null Count  Dtype   \n",
      "--------------  -----   \n",
      "100 non-null    category\n",
      "dtypes: category(1)\n",
      "memory usage: 364.0 bytes\n"
     ]
    }
   ],
   "source": [
    "df_live_final.mileage_encoded.info()"
   ]
  },
  {
   "cell_type": "markdown",
   "id": "2650df5b-0ffa-43ac-b7a4-5def01b844a8",
   "metadata": {},
   "source": [
    "## Part 7, Section 2: Executing Live Data on Saved Model"
   ]
  },
  {
   "cell_type": "markdown",
   "id": "12a59ae4-f0da-4c6a-95e3-d1bd43cfcdf1",
   "metadata": {},
   "source": [
    "**Below:** I am using the the \"get_booster\" function on my model to ensure that my live data has the features it is expecting and in the right order. I had to use this, because when I ran my model I was getting errors that the columns were not in the order that they model expected them to be in. I then used \"reindex\" to make sure that the order matched the training data."
   ]
  },
  {
   "cell_type": "code",
   "execution_count": 16,
   "id": "3e954a7c-a914-4f27-99ba-f259567b5061",
   "metadata": {
    "tags": []
   },
   "outputs": [],
   "source": [
    "expected_features = xgb_model_live.get_booster().feature_names"
   ]
  },
  {
   "cell_type": "code",
   "execution_count": 17,
   "id": "ecf488e2-5f3d-4d3a-b17b-9354e2381b17",
   "metadata": {
    "tags": []
   },
   "outputs": [],
   "source": [
    "df_live_final = df_live_final.reindex(columns=expected_features)"
   ]
  },
  {
   "cell_type": "code",
   "execution_count": 18,
   "id": "e38d240f-99a0-4110-aa4d-fc7d30aa00b0",
   "metadata": {
    "tags": []
   },
   "outputs": [
    {
     "name": "stdout",
     "output_type": "stream",
     "text": [
      "<class 'pandas.core.frame.DataFrame'>\n",
      "RangeIndex: 100 entries, 0 to 99\n",
      "Data columns (total 30 columns):\n",
      " #   Column                Non-Null Count  Dtype   \n",
      "---  ------                --------------  -----   \n",
      " 0   cylinders             100 non-null    int32   \n",
      " 1   age                   100 non-null    int32   \n",
      " 2   luxury                100 non-null    int64   \n",
      " 3   region_encoded        100 non-null    float64 \n",
      " 4   manufacturer_encoded  100 non-null    float64 \n",
      " 5   condition_encoded     100 non-null    int64   \n",
      " 6   fuel_electric         100 non-null    int64   \n",
      " 7   fuel_gas              100 non-null    bool    \n",
      " 8   fuel_hybrid           100 non-null    bool    \n",
      " 9   fuel_other            100 non-null    bool    \n",
      " 10  odometer_encoded      100 non-null    float64 \n",
      " 11  title_encoded         100 non-null    int64   \n",
      " 12  transmission_manual   100 non-null    bool    \n",
      " 13  transmission_other    100 non-null    bool    \n",
      " 14  drive_fwd             100 non-null    bool    \n",
      " 15  drive_rwd             100 non-null    bool    \n",
      " 16  type_bus              100 non-null    int64   \n",
      " 17  type_convertible      100 non-null    int64   \n",
      " 18  type_coupe            100 non-null    bool    \n",
      " 19  type_hatchback        100 non-null    bool    \n",
      " 20  type_mini-van         100 non-null    int64   \n",
      " 21  type_offroad          100 non-null    int64   \n",
      " 22  type_other            100 non-null    bool    \n",
      " 23  type_pickup           100 non-null    bool    \n",
      " 24  type_sedan            100 non-null    bool    \n",
      " 25  type_truck            100 non-null    bool    \n",
      " 26  type_van              100 non-null    bool    \n",
      " 27  type_wagon            100 non-null    bool    \n",
      " 28  state_encoded         100 non-null    float64 \n",
      " 29  mileage_encoded       100 non-null    category\n",
      "dtypes: bool(15), category(1), float64(4), int32(2), int64(8)\n",
      "memory usage: 12.0 KB\n"
     ]
    }
   ],
   "source": [
    "df_live_final.info()"
   ]
  },
  {
   "cell_type": "code",
   "execution_count": 19,
   "id": "c1d7b2a7-dd82-406a-846d-951dc0321d1d",
   "metadata": {
    "tags": []
   },
   "outputs": [],
   "source": [
    "predictions = xgb_model_live.predict(df_live_final)"
   ]
  },
  {
   "cell_type": "markdown",
   "id": "a4622317-0be4-4d58-a4a4-98565bb8c89a",
   "metadata": {},
   "source": [
    "**Below:** I am adding a new column \"predicted_price\" that adds the predictions into the dataframe, and I am reinserting the \"price\" column (which had to be removed when I was reindexing the file names, because the model wasn't expecting that column."
   ]
  },
  {
   "cell_type": "code",
   "execution_count": 20,
   "id": "a1c5b547-67e0-4bcc-8ea4-79c6e8fb085e",
   "metadata": {
    "tags": []
   },
   "outputs": [],
   "source": [
    "df_live_final = df_live_final.assign(predicted_price=predictions, price=df_live['price'])"
   ]
  },
  {
   "cell_type": "code",
   "execution_count": 21,
   "id": "fac52d94-f1f5-47ba-b246-02733ef6a0ef",
   "metadata": {
    "tags": []
   },
   "outputs": [
    {
     "data": {
      "text/plain": [
       "98     9728.694336\n",
       "74     3728.363037\n",
       "73    10215.066406\n",
       "78     8974.831055\n",
       "76     6681.139648\n",
       "Name: predicted_price, dtype: float32"
      ]
     },
     "execution_count": 21,
     "metadata": {},
     "output_type": "execute_result"
    }
   ],
   "source": [
    "df_live_final.predicted_price.sample(5)"
   ]
  },
  {
   "cell_type": "code",
   "execution_count": 22,
   "id": "9b217f73-8e6d-4cdb-9c64-c2896db6f500",
   "metadata": {
    "tags": []
   },
   "outputs": [
    {
     "data": {
      "text/html": [
       "<div>\n",
       "<style scoped>\n",
       "    .dataframe tbody tr th:only-of-type {\n",
       "        vertical-align: middle;\n",
       "    }\n",
       "\n",
       "    .dataframe tbody tr th {\n",
       "        vertical-align: top;\n",
       "    }\n",
       "\n",
       "    .dataframe thead th {\n",
       "        text-align: right;\n",
       "    }\n",
       "</style>\n",
       "<table border=\"1\" class=\"dataframe\">\n",
       "  <thead>\n",
       "    <tr style=\"text-align: right;\">\n",
       "      <th></th>\n",
       "      <th>cylinders</th>\n",
       "      <th>age</th>\n",
       "      <th>luxury</th>\n",
       "      <th>region_encoded</th>\n",
       "      <th>manufacturer_encoded</th>\n",
       "      <th>condition_encoded</th>\n",
       "      <th>fuel_electric</th>\n",
       "      <th>fuel_gas</th>\n",
       "      <th>fuel_hybrid</th>\n",
       "      <th>fuel_other</th>\n",
       "      <th>...</th>\n",
       "      <th>type_other</th>\n",
       "      <th>type_pickup</th>\n",
       "      <th>type_sedan</th>\n",
       "      <th>type_truck</th>\n",
       "      <th>type_van</th>\n",
       "      <th>type_wagon</th>\n",
       "      <th>state_encoded</th>\n",
       "      <th>mileage_encoded</th>\n",
       "      <th>predicted_price</th>\n",
       "      <th>price</th>\n",
       "    </tr>\n",
       "  </thead>\n",
       "  <tbody>\n",
       "    <tr>\n",
       "      <th>0</th>\n",
       "      <td>4</td>\n",
       "      <td>15</td>\n",
       "      <td>0</td>\n",
       "      <td>58.0</td>\n",
       "      <td>33.0</td>\n",
       "      <td>4</td>\n",
       "      <td>0</td>\n",
       "      <td>True</td>\n",
       "      <td>False</td>\n",
       "      <td>False</td>\n",
       "      <td>...</td>\n",
       "      <td>False</td>\n",
       "      <td>False</td>\n",
       "      <td>True</td>\n",
       "      <td>False</td>\n",
       "      <td>False</td>\n",
       "      <td>False</td>\n",
       "      <td>2.0</td>\n",
       "      <td>2</td>\n",
       "      <td>5897.312012</td>\n",
       "      <td>3900</td>\n",
       "    </tr>\n",
       "    <tr>\n",
       "      <th>1</th>\n",
       "      <td>8</td>\n",
       "      <td>10</td>\n",
       "      <td>0</td>\n",
       "      <td>49.0</td>\n",
       "      <td>1.0</td>\n",
       "      <td>2</td>\n",
       "      <td>0</td>\n",
       "      <td>False</td>\n",
       "      <td>False</td>\n",
       "      <td>False</td>\n",
       "      <td>...</td>\n",
       "      <td>False</td>\n",
       "      <td>True</td>\n",
       "      <td>False</td>\n",
       "      <td>False</td>\n",
       "      <td>False</td>\n",
       "      <td>False</td>\n",
       "      <td>2.0</td>\n",
       "      <td>0</td>\n",
       "      <td>64838.515625</td>\n",
       "      <td>68788</td>\n",
       "    </tr>\n",
       "    <tr>\n",
       "      <th>2</th>\n",
       "      <td>6</td>\n",
       "      <td>7</td>\n",
       "      <td>0</td>\n",
       "      <td>56.0</td>\n",
       "      <td>1.0</td>\n",
       "      <td>2</td>\n",
       "      <td>0</td>\n",
       "      <td>True</td>\n",
       "      <td>False</td>\n",
       "      <td>False</td>\n",
       "      <td>...</td>\n",
       "      <td>True</td>\n",
       "      <td>False</td>\n",
       "      <td>False</td>\n",
       "      <td>False</td>\n",
       "      <td>False</td>\n",
       "      <td>False</td>\n",
       "      <td>31.0</td>\n",
       "      <td>0</td>\n",
       "      <td>24135.314453</td>\n",
       "      <td>19990</td>\n",
       "    </tr>\n",
       "    <tr>\n",
       "      <th>3</th>\n",
       "      <td>6</td>\n",
       "      <td>25</td>\n",
       "      <td>0</td>\n",
       "      <td>38.0</td>\n",
       "      <td>9.0</td>\n",
       "      <td>1</td>\n",
       "      <td>0</td>\n",
       "      <td>True</td>\n",
       "      <td>False</td>\n",
       "      <td>False</td>\n",
       "      <td>...</td>\n",
       "      <td>False</td>\n",
       "      <td>False</td>\n",
       "      <td>False</td>\n",
       "      <td>False</td>\n",
       "      <td>True</td>\n",
       "      <td>False</td>\n",
       "      <td>18.0</td>\n",
       "      <td>2</td>\n",
       "      <td>2173.812256</td>\n",
       "      <td>2900</td>\n",
       "    </tr>\n",
       "    <tr>\n",
       "      <th>4</th>\n",
       "      <td>4</td>\n",
       "      <td>13</td>\n",
       "      <td>0</td>\n",
       "      <td>117.0</td>\n",
       "      <td>9.0</td>\n",
       "      <td>3</td>\n",
       "      <td>0</td>\n",
       "      <td>True</td>\n",
       "      <td>False</td>\n",
       "      <td>False</td>\n",
       "      <td>...</td>\n",
       "      <td>False</td>\n",
       "      <td>False</td>\n",
       "      <td>True</td>\n",
       "      <td>False</td>\n",
       "      <td>False</td>\n",
       "      <td>False</td>\n",
       "      <td>4.0</td>\n",
       "      <td>2</td>\n",
       "      <td>12238.546875</td>\n",
       "      <td>10295</td>\n",
       "    </tr>\n",
       "  </tbody>\n",
       "</table>\n",
       "<p>5 rows × 32 columns</p>\n",
       "</div>"
      ],
      "text/plain": [
       "   cylinders  age  luxury  region_encoded  manufacturer_encoded  \\\n",
       "0          4   15       0            58.0                  33.0   \n",
       "1          8   10       0            49.0                   1.0   \n",
       "2          6    7       0            56.0                   1.0   \n",
       "3          6   25       0            38.0                   9.0   \n",
       "4          4   13       0           117.0                   9.0   \n",
       "\n",
       "   condition_encoded  fuel_electric  fuel_gas  fuel_hybrid  fuel_other  ...  \\\n",
       "0                  4              0      True        False       False  ...   \n",
       "1                  2              0     False        False       False  ...   \n",
       "2                  2              0      True        False       False  ...   \n",
       "3                  1              0      True        False       False  ...   \n",
       "4                  3              0      True        False       False  ...   \n",
       "\n",
       "   type_other  type_pickup  type_sedan  type_truck  type_van  type_wagon  \\\n",
       "0       False        False        True       False     False       False   \n",
       "1       False         True       False       False     False       False   \n",
       "2        True        False       False       False     False       False   \n",
       "3       False        False       False       False      True       False   \n",
       "4       False        False        True       False     False       False   \n",
       "\n",
       "   state_encoded  mileage_encoded  predicted_price  price  \n",
       "0            2.0                2      5897.312012   3900  \n",
       "1            2.0                0     64838.515625  68788  \n",
       "2           31.0                0     24135.314453  19990  \n",
       "3           18.0                2      2173.812256   2900  \n",
       "4            4.0                2     12238.546875  10295  \n",
       "\n",
       "[5 rows x 32 columns]"
      ]
     },
     "execution_count": 22,
     "metadata": {},
     "output_type": "execute_result"
    }
   ],
   "source": [
    "df_live_final.head()"
   ]
  },
  {
   "cell_type": "markdown",
   "id": "f7ac217d-d1be-4e4c-bcd3-c2dd0d15b6af",
   "metadata": {},
   "source": [
    "# Part 8: Storing Predictions"
   ]
  },
  {
   "cell_type": "code",
   "execution_count": 23,
   "id": "37fbfca8-7109-4907-acae-3e78730b981a",
   "metadata": {
    "tags": []
   },
   "outputs": [],
   "source": [
    "from sqlalchemy import create_engine"
   ]
  },
  {
   "cell_type": "code",
   "execution_count": 24,
   "id": "97d24e81-557d-4e9d-89de-d8458d8ac696",
   "metadata": {
    "tags": []
   },
   "outputs": [],
   "source": [
    "host = r'127.0.0.1' \n",
    "db = r'MSDS610' \n",
    "user = r'postgres' \n",
    "pw = r'postgres' \n",
    "port = r'5432'\n",
    "schema = r'cleaned'"
   ]
  },
  {
   "cell_type": "code",
   "execution_count": 25,
   "id": "ae317c81-cb6e-4a7b-b2b0-f3ef7d614dd3",
   "metadata": {
    "tags": []
   },
   "outputs": [],
   "source": [
    "db_conn = create_engine(\"postgresql://{}:{}@{}:{}/{}\".format(user, pw, host, port, db))"
   ]
  },
  {
   "cell_type": "code",
   "execution_count": 26,
   "id": "d0d8eb96-46d9-4ae7-b4f6-708abe04fd81",
   "metadata": {
    "tags": []
   },
   "outputs": [
    {
     "data": {
      "text/plain": [
       "\"SELECT tables.table_name FROM information_schema.tables WHERE table_schema = 'cleaned' ORDER BY 1;\""
      ]
     },
     "execution_count": 26,
     "metadata": {},
     "output_type": "execute_result"
    }
   ],
   "source": [
    "sql = \"SELECT tables.table_name FROM information_schema.tables WHERE table_schema = '\" + schema + \"' ORDER BY 1;\"\n",
    "sql"
   ]
  },
  {
   "cell_type": "code",
   "execution_count": 27,
   "id": "2fac9e4b-cc8e-4917-94d2-44117034c7d3",
   "metadata": {
    "tags": []
   },
   "outputs": [],
   "source": [
    "tbl_df = pd.read_sql(sql, db_conn, index_col=None)"
   ]
  },
  {
   "cell_type": "code",
   "execution_count": 28,
   "id": "ac124588-7059-470d-bce4-b65181272e1e",
   "metadata": {
    "tags": []
   },
   "outputs": [],
   "source": [
    "table_name = r'df_live_preds'"
   ]
  },
  {
   "cell_type": "code",
   "execution_count": 29,
   "id": "a0a7abcf-826e-43f6-86c8-eb18c35db713",
   "metadata": {
    "tags": []
   },
   "outputs": [
    {
     "data": {
      "text/plain": [
       "100"
      ]
     },
     "execution_count": 29,
     "metadata": {},
     "output_type": "execute_result"
    }
   ],
   "source": [
    "df_live_final.to_sql(table_name, con=db_conn, if_exists='replace', index=False, schema=\"analytic\", chunksize=1000, method='multi')"
   ]
  },
  {
   "cell_type": "markdown",
   "id": "c5fc7a0c-5ffb-4791-ad8d-5bc22eb8de1d",
   "metadata": {
    "tags": []
   },
   "source": [
    "![pgAdmin Screenshot](msds_610_final_project_df_preds_img.png)"
   ]
  },
  {
   "cell_type": "markdown",
   "id": "7b824008-50c9-4e35-a602-8c88189edabf",
   "metadata": {},
   "source": [
    "# Part 9: Insights"
   ]
  },
  {
   "cell_type": "code",
   "execution_count": 30,
   "id": "b869b0b5-b288-43f1-8938-271c41d71626",
   "metadata": {
    "tags": []
   },
   "outputs": [],
   "source": [
    "import xgboost as xgb"
   ]
  },
  {
   "cell_type": "markdown",
   "id": "01087575-4d4f-4534-8dc1-951a9bb177f1",
   "metadata": {},
   "source": [
    "**Below:** I am looking at the Mean Absolute Error and R2 score to see how well my model performed."
   ]
  },
  {
   "cell_type": "code",
   "execution_count": 31,
   "id": "8f1b04ba-e33e-484f-8433-6cd85eaa70ad",
   "metadata": {
    "tags": []
   },
   "outputs": [],
   "source": [
    "from sklearn.metrics import mean_absolute_error, mean_squared_error, r2_score\n",
    "import numpy as np"
   ]
  },
  {
   "cell_type": "code",
   "execution_count": 32,
   "id": "1010394b-1352-441a-acf0-4cb22b8756c7",
   "metadata": {
    "tags": []
   },
   "outputs": [],
   "source": [
    "y_actual = df_live_final['price']\n",
    "y_pred = df_live_final['predicted_price']"
   ]
  },
  {
   "cell_type": "code",
   "execution_count": 33,
   "id": "8e250247-62eb-4e68-b4ac-979f3b225849",
   "metadata": {
    "tags": []
   },
   "outputs": [],
   "source": [
    "mae = mean_absolute_error(y_actual, y_pred)\n",
    "r2 = r2_score(y_actual, y_pred)"
   ]
  },
  {
   "cell_type": "code",
   "execution_count": 34,
   "id": "acce2926-cae6-46b6-bb8a-6fb29d4f87a0",
   "metadata": {
    "tags": []
   },
   "outputs": [
    {
     "name": "stdout",
     "output_type": "stream",
     "text": [
      "6155.773936767579\n",
      "0.41893261671066284\n"
     ]
    }
   ],
   "source": [
    "print(mean_absolute_error(y_actual, y_pred))\n",
    "print(r2_score(y_actual, y_pred))"
   ]
  },
  {
   "cell_type": "code",
   "execution_count": 35,
   "id": "e4329f29-0317-414f-97bb-eb156596d9e6",
   "metadata": {
    "tags": []
   },
   "outputs": [
    {
     "data": {
      "image/png": "[encoded data removed]",
      "text/plain": [
       "<Figure size 640x480 with 1 Axes>"
      ]
     },
     "metadata": {},
     "output_type": "display_data"
    }
   ],
   "source": [
    "xgb.plot_importance(xgb_model_live, max_num_features=10)\n",
    "plt.show()"
   ]
  },
  {
   "cell_type": "markdown",
   "id": "4bd79d7d-a08a-405b-9ee4-c77af1ab3f46",
   "metadata": {},
   "source": [
    "**Summary** \n",
    "We can see that when the model was ran on my raw data, it performed much poorer than I anticipated (especially given the fact that it did rather well in testing and validation). On the \"live\" data, the model predictions were off from the actual prices an average of 8,715 dollars, which is twice as big as the average from the testing and validation phase. Additionally, the predictive power is really low, with a 0.42 (compared to my testing and validation of 0.74). I rechecked the important features of my model, to make sure that it was processing the \"live\" data the same as the training data, which we can see it is. This tells me, given the low prediction power, that for some reason the \"live\" data is expecting different features to be the most important for prediction (which doesn't make sense to me, something went wrong with processing the \"live data).\n",
    "\n",
    "In terms of the scenario, this is not a good live model (although, after testing and validation, I would have recommened the model for live deployment). Given that the model is off by more than 6,000 dollars, I don't think that it would produce viable prices for the company; certainly not within range. The model would either over price (making the car as an unviable option of customers) or under price (cutting into the organizations profits). Because of the validation and testing phases working well, I imagine that something went wrong during the \"live\" data processing (I wasn't able to figure it out, I explain more in the next section)."
   ]
  },
  {
   "cell_type": "markdown",
   "id": "d862ae0c-df2e-41ee-ac9f-94bb36162240",
   "metadata": {},
   "source": [
    "# Part 10: Summary"
   ]
  },
  {
   "cell_type": "markdown",
   "id": "1bc6cdb1-6534-4cc1-98f1-b40906d7998f",
   "metadata": {},
   "source": [
    "First, I want to say that this was a very valuable class, it was definitely interesting learning how to take the data through a data pipeline and the importance of data storage and collection. I thought that this assignment was really good at testing our capabilities with handling, storing, and processing the data. Personally, I really enjoyed the feature engineering part of the data processing (I understand why it wouldn't be everyone's favorite); I enjoyed it because it really had me thinking outside of the box, while I did create 3 new features, which I expected to have some predictive power in the model, only 2 of them showed up in the top 10 most important, and one did not, although, one of my features \"age\", was the number one predictor in my model, so that was really cool to see. Additionally, I really enjoyed testing different models just to compare - at baseline parameters - computational needs and accuracy. In the end, I actually didn't opt for the model that performed best at the baseline (RF), mainly because I was convinced that a more computationally-capable model (XGB) could be tuned to better perform; which I was correct, so I was able to get my parameterized XGB to perform better than my RF, and I definitely felt a sense of personal accomplishment there.\n",
    "\n",
    "However, my feeling of personal accomplishment was soon replaced with confusion and personal frustration when it came to \"deploying\" my model on the live data. First, creating the UDFs, while easier given that I created the rule tables, was quite tedious and I am prone to making small errors, so I had to be really sure that it was all correct (although, even now, I am not sure it is), and had to keep adjusting to fix errors with the UDFs. Once I was able to get UDFs that didn't create errors, I then went to test my model and, it functioned rather poorly. I attempted a number of things (which I tested within the notebooks and seperate notebooks, and ultimately removed when they didn't work), such as reducing the initial dataframe to only the top 10 important features (it actually performed slightly better on the live data than my originally processed data, with a 0.30 r2 score). I also made a copy of my data cleaning and engineering notebook and manually went through each step to with the \"live\" data (to usurp the UDFs) and that didn't help either, there were issues, like I mentioned above, with certain columns not generating because the feature engineering didnt create them due to a lack of entries. Even now, I am unsure where the issue is. I also addressed how I was assigning the integer values for my pickled features (initially I was just using frequency, but then used ranking with frequency). I can only imagine that the issue must reside within either the data processing, or the mapping (pickle) files that I used to generate the integers for some of the features -- I think it might be that, because  all three of the mapped features are in the top 5 features my original model used to make predictions. \n",
    "\n",
    "Overall, while I am disappointed with my \"live\" prediction outcomes, I am very pleased with my testing, validation, and model. I also found it really cool to learn abit about using SQL, something that I think I am going to be practicing in my spare time. "
   ]
  },
  {
   "cell_type": "code",
   "execution_count": null,
   "id": "f1fbdc9c-f56c-421b-989c-2d73ee87725f",
   "metadata": {},
   "outputs": [],
   "source": []
  }
 ],
 "metadata": {
  "kernelspec": {
   "display_name": "Python 3 (ipykernel)",
   "language": "python",
   "name": "python3"
  },
  "language_info": {
   "codemirror_mode": {
    "name": "ipython",
    "version": 3
   },
   "file_extension": ".py",
   "mimetype": "text/x-python",
   "name": "python",
   "nbconvert_exporter": "python",
   "pygments_lexer": "ipython3",
   "version": "3.11.5"
  }
 },
 "nbformat": 4,
 "nbformat_minor": 5
}
