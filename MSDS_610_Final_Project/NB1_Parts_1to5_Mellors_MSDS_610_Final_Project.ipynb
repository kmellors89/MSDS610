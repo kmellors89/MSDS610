{
 "cells": [
  {
   "cell_type": "markdown",
   "id": "d227e8d0-5f34-437a-8572-91ebc301fe66",
   "metadata": {},
   "source": [
    "# Mellors MSDS 610 Final Project - Notebook 1: Parts 1-5"
   ]
  },
  {
   "cell_type": "markdown",
   "id": "bef1cd0a-c475-42f2-b95f-f1012ea5ceef",
   "metadata": {},
   "source": [
    "**IMPORTANT NOTE:** I have ran and re-ran the models again and again and tried a number of different things, but no matter what, even though my model looks good on the testing and validation model (r2 = ~0.74), I cannot get my model to perform well on the live data (r2 = ~ 0.42). I cannot figure out what, if anything, I am doing wrong. "
   ]
  },
  {
   "cell_type": "markdown",
   "id": "d9b9ef71-ae6f-4174-a1ec-69f6e8fcdfaf",
   "metadata": {},
   "source": [
    "# Part 1: Scenario Selection"
   ]
  },
  {
   "cell_type": "markdown",
   "id": "ea65b0e2-3572-4881-8573-37e77c5fe217",
   "metadata": {},
   "source": [
    "For this assignment, I am choosing Scenario 2: Used Cars.\n",
    "\n",
    "\"You just got a job working for a pre-owned car company in Albuquerque, New Mexico that buys and sells vehicles in the area. You’ve been tasked with determining the asking sells price of a used vehicle based on it’s characteristics.\"\n",
    "\n",
    "The data set can be found here: \n",
    "https://www.kaggle.com/datasets/austinreese/craigslist-carstrucks-data"
   ]
  },
  {
   "cell_type": "markdown",
   "id": "98495339-16d1-4530-8e2a-4a16af9c272e",
   "metadata": {},
   "source": [
    "# Part 2: Split and Store Data"
   ]
  },
  {
   "cell_type": "markdown",
   "id": "b2b27ea4-fc21-4ea2-becc-1e1d26a0e751",
   "metadata": {},
   "source": [
    "## Part 2, Section 1: Creating 100 \"Live Data\" DF and Exporting"
   ]
  },
  {
   "cell_type": "code",
   "execution_count": 1,
   "id": "e07ae1c7-e262-42c3-abcf-b2532e564767",
   "metadata": {
    "tags": []
   },
   "outputs": [],
   "source": [
    "import pandas as pd\n",
    "import numpy as np\n",
    "import seaborn as sns\n",
    "import matplotlib.pyplot as plt\n",
    "from sklearn.preprocessing import StandardScaler\n",
    "import datetime\n",
    "import pickle\n",
    "import psycopg2\n",
    "from sqlalchemy import create_engine\n",
    "import joblib\n",
    "from sklearn.model_selection import train_test_split\n",
    "from sklearn.model_selection import train_test_split\n",
    "from sklearn.feature_extraction.text import TfidfVectorizer"
   ]
  },
  {
   "cell_type": "code",
   "execution_count": 2,
   "id": "a1a96445-2fe8-40dd-b630-d399c2575ef0",
   "metadata": {
    "tags": []
   },
   "outputs": [],
   "source": [
    "pd.set_option('display.float_format', '{:.2f}'.format)"
   ]
  },
  {
   "cell_type": "code",
   "execution_count": 3,
   "id": "c5fa548b-2699-4484-a576-36a3c595a03a",
   "metadata": {
    "tags": []
   },
   "outputs": [],
   "source": [
    "df = pd.read_csv(\"vehicles.csv\")"
   ]
  },
  {
   "cell_type": "code",
   "execution_count": 4,
   "id": "67ee36ed-ef62-4611-b5e4-aa8ee001c46c",
   "metadata": {
    "tags": []
   },
   "outputs": [
    {
     "data": {
      "text/html": [
       "<div>\n",
       "<style scoped>\n",
       "    .dataframe tbody tr th:only-of-type {\n",
       "        vertical-align: middle;\n",
       "    }\n",
       "\n",
       "    .dataframe tbody tr th {\n",
       "        vertical-align: top;\n",
       "    }\n",
       "\n",
       "    .dataframe thead th {\n",
       "        text-align: right;\n",
       "    }\n",
       "</style>\n",
       "<table border=\"1\" class=\"dataframe\">\n",
       "  <thead>\n",
       "    <tr style=\"text-align: right;\">\n",
       "      <th></th>\n",
       "      <th>id</th>\n",
       "      <th>url</th>\n",
       "      <th>region</th>\n",
       "      <th>region_url</th>\n",
       "      <th>price</th>\n",
       "      <th>year</th>\n",
       "      <th>manufacturer</th>\n",
       "      <th>model</th>\n",
       "      <th>condition</th>\n",
       "      <th>cylinders</th>\n",
       "      <th>...</th>\n",
       "      <th>size</th>\n",
       "      <th>type</th>\n",
       "      <th>paint_color</th>\n",
       "      <th>image_url</th>\n",
       "      <th>description</th>\n",
       "      <th>county</th>\n",
       "      <th>state</th>\n",
       "      <th>lat</th>\n",
       "      <th>long</th>\n",
       "      <th>posting_date</th>\n",
       "    </tr>\n",
       "  </thead>\n",
       "  <tbody>\n",
       "    <tr>\n",
       "      <th>147800</th>\n",
       "      <td>7314652435</td>\n",
       "      <td>https://stlouis.craigslist.org/cto/d/granite-c...</td>\n",
       "      <td>st louis, MO</td>\n",
       "      <td>https://stlouis.craigslist.org</td>\n",
       "      <td>4200</td>\n",
       "      <td>1974.00</td>\n",
       "      <td>chevrolet</td>\n",
       "      <td>p30 step van</td>\n",
       "      <td>good</td>\n",
       "      <td>8 cylinders</td>\n",
       "      <td>...</td>\n",
       "      <td>NaN</td>\n",
       "      <td>NaN</td>\n",
       "      <td>NaN</td>\n",
       "      <td>https://images.craigslist.org/01010_3Nw4KCLy0n...</td>\n",
       "      <td>70's style bread truck with 90's era engine.  ...</td>\n",
       "      <td>NaN</td>\n",
       "      <td>il</td>\n",
       "      <td>38.73</td>\n",
       "      <td>-90.11</td>\n",
       "      <td>2021-04-29T21:22:09-0500</td>\n",
       "    </tr>\n",
       "    <tr>\n",
       "      <th>282055</th>\n",
       "      <td>7312353186</td>\n",
       "      <td>https://utica.craigslist.org/ctd/d/utica-2014-...</td>\n",
       "      <td>utica-rome-oneida</td>\n",
       "      <td>https://utica.craigslist.org</td>\n",
       "      <td>27990</td>\n",
       "      <td>2014.00</td>\n",
       "      <td>toyota</td>\n",
       "      <td>tacoma access cab pickup</td>\n",
       "      <td>good</td>\n",
       "      <td>NaN</td>\n",
       "      <td>...</td>\n",
       "      <td>NaN</td>\n",
       "      <td>pickup</td>\n",
       "      <td>red</td>\n",
       "      <td>https://images.craigslist.org/00X0X_1cMDo5xqSu...</td>\n",
       "      <td>Carvana is the safer way to buy a car During t...</td>\n",
       "      <td>NaN</td>\n",
       "      <td>ny</td>\n",
       "      <td>43.10</td>\n",
       "      <td>-75.23</td>\n",
       "      <td>2021-04-25T12:01:11-0400</td>\n",
       "    </tr>\n",
       "  </tbody>\n",
       "</table>\n",
       "<p>2 rows × 26 columns</p>\n",
       "</div>"
      ],
      "text/plain": [
       "                id                                                url  \\\n",
       "147800  7314652435  https://stlouis.craigslist.org/cto/d/granite-c...   \n",
       "282055  7312353186  https://utica.craigslist.org/ctd/d/utica-2014-...   \n",
       "\n",
       "                   region                      region_url  price    year  \\\n",
       "147800       st louis, MO  https://stlouis.craigslist.org   4200 1974.00   \n",
       "282055  utica-rome-oneida    https://utica.craigslist.org  27990 2014.00   \n",
       "\n",
       "       manufacturer                     model condition    cylinders  ...  \\\n",
       "147800    chevrolet              p30 step van      good  8 cylinders  ...   \n",
       "282055       toyota  tacoma access cab pickup      good          NaN  ...   \n",
       "\n",
       "       size    type paint_color  \\\n",
       "147800  NaN     NaN         NaN   \n",
       "282055  NaN  pickup         red   \n",
       "\n",
       "                                                image_url  \\\n",
       "147800  https://images.craigslist.org/01010_3Nw4KCLy0n...   \n",
       "282055  https://images.craigslist.org/00X0X_1cMDo5xqSu...   \n",
       "\n",
       "                                              description county state   lat  \\\n",
       "147800  70's style bread truck with 90's era engine.  ...    NaN    il 38.73   \n",
       "282055  Carvana is the safer way to buy a car During t...    NaN    ny 43.10   \n",
       "\n",
       "         long              posting_date  \n",
       "147800 -90.11  2021-04-29T21:22:09-0500  \n",
       "282055 -75.23  2021-04-25T12:01:11-0400  \n",
       "\n",
       "[2 rows x 26 columns]"
      ]
     },
     "execution_count": 4,
     "metadata": {},
     "output_type": "execute_result"
    }
   ],
   "source": [
    "df.sample(2)"
   ]
  },
  {
   "cell_type": "code",
   "execution_count": 5,
   "id": "a4b8cd1a-d0b0-457b-b060-0de17c63e952",
   "metadata": {
    "tags": []
   },
   "outputs": [
    {
     "name": "stdout",
     "output_type": "stream",
     "text": [
      "<class 'pandas.core.frame.DataFrame'>\n",
      "RangeIndex: 426880 entries, 0 to 426879\n",
      "Data columns (total 26 columns):\n",
      " #   Column        Non-Null Count   Dtype  \n",
      "---  ------        --------------   -----  \n",
      " 0   id            426880 non-null  int64  \n",
      " 1   url           426880 non-null  object \n",
      " 2   region        426880 non-null  object \n",
      " 3   region_url    426880 non-null  object \n",
      " 4   price         426880 non-null  int64  \n",
      " 5   year          425675 non-null  float64\n",
      " 6   manufacturer  409234 non-null  object \n",
      " 7   model         421603 non-null  object \n",
      " 8   condition     252776 non-null  object \n",
      " 9   cylinders     249202 non-null  object \n",
      " 10  fuel          423867 non-null  object \n",
      " 11  odometer      422480 non-null  float64\n",
      " 12  title_status  418638 non-null  object \n",
      " 13  transmission  424324 non-null  object \n",
      " 14  VIN           265838 non-null  object \n",
      " 15  drive         296313 non-null  object \n",
      " 16  size          120519 non-null  object \n",
      " 17  type          334022 non-null  object \n",
      " 18  paint_color   296677 non-null  object \n",
      " 19  image_url     426812 non-null  object \n",
      " 20  description   426810 non-null  object \n",
      " 21  county        0 non-null       float64\n",
      " 22  state         426880 non-null  object \n",
      " 23  lat           420331 non-null  float64\n",
      " 24  long          420331 non-null  float64\n",
      " 25  posting_date  426812 non-null  object \n",
      "dtypes: float64(5), int64(2), object(19)\n",
      "memory usage: 84.7+ MB\n"
     ]
    }
   ],
   "source": [
    "df.info()"
   ]
  },
  {
   "cell_type": "code",
   "execution_count": 6,
   "id": "950f77cd-2557-4564-9193-1f38026a3e0d",
   "metadata": {
    "tags": []
   },
   "outputs": [],
   "source": [
    "live_data = df.sample(n=100, random_state = 4)"
   ]
  },
  {
   "cell_type": "code",
   "execution_count": 7,
   "id": "fff303d5-847b-4f94-96e9-d24eec410464",
   "metadata": {
    "tags": []
   },
   "outputs": [
    {
     "name": "stdout",
     "output_type": "stream",
     "text": [
      "<class 'pandas.core.frame.DataFrame'>\n",
      "Index: 100 entries, 118825 to 43001\n",
      "Data columns (total 26 columns):\n",
      " #   Column        Non-Null Count  Dtype  \n",
      "---  ------        --------------  -----  \n",
      " 0   id            100 non-null    int64  \n",
      " 1   url           100 non-null    object \n",
      " 2   region        100 non-null    object \n",
      " 3   region_url    100 non-null    object \n",
      " 4   price         100 non-null    int64  \n",
      " 5   year          100 non-null    float64\n",
      " 6   manufacturer  96 non-null     object \n",
      " 7   model         100 non-null    object \n",
      " 8   condition     53 non-null     object \n",
      " 9   cylinders     55 non-null     object \n",
      " 10  fuel          100 non-null    object \n",
      " 11  odometer      100 non-null    float64\n",
      " 12  title_status  100 non-null    object \n",
      " 13  transmission  100 non-null    object \n",
      " 14  VIN           65 non-null     object \n",
      " 15  drive         71 non-null     object \n",
      " 16  size          20 non-null     object \n",
      " 17  type          79 non-null     object \n",
      " 18  paint_color   69 non-null     object \n",
      " 19  image_url     100 non-null    object \n",
      " 20  description   100 non-null    object \n",
      " 21  county        0 non-null      float64\n",
      " 22  state         100 non-null    object \n",
      " 23  lat           100 non-null    float64\n",
      " 24  long          100 non-null    float64\n",
      " 25  posting_date  100 non-null    object \n",
      "dtypes: float64(5), int64(2), object(19)\n",
      "memory usage: 21.1+ KB\n"
     ]
    }
   ],
   "source": [
    "live_data.info()"
   ]
  },
  {
   "cell_type": "code",
   "execution_count": 8,
   "id": "e5b471e5-15f8-48c5-9774-542639d9f3d0",
   "metadata": {
    "tags": []
   },
   "outputs": [],
   "source": [
    "live_data.to_csv(\"live_data.csv\", index=False)"
   ]
  },
  {
   "cell_type": "code",
   "execution_count": 9,
   "id": "af88cee0-19ed-4c92-b80b-6ec9c81af21b",
   "metadata": {
    "tags": []
   },
   "outputs": [
    {
     "data": {
      "text/html": [
       "<div>\n",
       "<style scoped>\n",
       "    .dataframe tbody tr th:only-of-type {\n",
       "        vertical-align: middle;\n",
       "    }\n",
       "\n",
       "    .dataframe tbody tr th {\n",
       "        vertical-align: top;\n",
       "    }\n",
       "\n",
       "    .dataframe thead th {\n",
       "        text-align: right;\n",
       "    }\n",
       "</style>\n",
       "<table border=\"1\" class=\"dataframe\">\n",
       "  <thead>\n",
       "    <tr style=\"text-align: right;\">\n",
       "      <th></th>\n",
       "      <th>id</th>\n",
       "      <th>url</th>\n",
       "      <th>region</th>\n",
       "      <th>region_url</th>\n",
       "      <th>price</th>\n",
       "      <th>year</th>\n",
       "      <th>manufacturer</th>\n",
       "      <th>model</th>\n",
       "      <th>condition</th>\n",
       "      <th>cylinders</th>\n",
       "      <th>...</th>\n",
       "      <th>size</th>\n",
       "      <th>type</th>\n",
       "      <th>paint_color</th>\n",
       "      <th>image_url</th>\n",
       "      <th>description</th>\n",
       "      <th>county</th>\n",
       "      <th>state</th>\n",
       "      <th>lat</th>\n",
       "      <th>long</th>\n",
       "      <th>posting_date</th>\n",
       "    </tr>\n",
       "  </thead>\n",
       "  <tbody>\n",
       "    <tr>\n",
       "      <th>118825</th>\n",
       "      <td>7313679206</td>\n",
       "      <td>https://tampa.craigslist.org/hil/cto/d/clearwa...</td>\n",
       "      <td>tampa bay area</td>\n",
       "      <td>https://tampa.craigslist.org</td>\n",
       "      <td>3900</td>\n",
       "      <td>2010.00</td>\n",
       "      <td>mercury</td>\n",
       "      <td>milan</td>\n",
       "      <td>like new</td>\n",
       "      <td>NaN</td>\n",
       "      <td>...</td>\n",
       "      <td>NaN</td>\n",
       "      <td>sedan</td>\n",
       "      <td>white</td>\n",
       "      <td>https://images.craigslist.org/00000_k02RAtflGh...</td>\n",
       "      <td>Se habla Español llame hoy lindo Mercury Milan...</td>\n",
       "      <td>NaN</td>\n",
       "      <td>fl</td>\n",
       "      <td>27.99</td>\n",
       "      <td>-82.74</td>\n",
       "      <td>2021-04-27T22:53:03-0400</td>\n",
       "    </tr>\n",
       "    <tr>\n",
       "      <th>96603</th>\n",
       "      <td>7304296203</td>\n",
       "      <td>https://fortmyers.craigslist.org/chl/ctd/d/sar...</td>\n",
       "      <td>ft myers / SW florida</td>\n",
       "      <td>https://fortmyers.craigslist.org</td>\n",
       "      <td>68788</td>\n",
       "      <td>2015.00</td>\n",
       "      <td>ford</td>\n",
       "      <td>f-250</td>\n",
       "      <td>NaN</td>\n",
       "      <td>NaN</td>\n",
       "      <td>...</td>\n",
       "      <td>NaN</td>\n",
       "      <td>pickup</td>\n",
       "      <td>NaN</td>\n",
       "      <td>https://images.craigslist.org/00707_gS1GXl7y42...</td>\n",
       "      <td>2015 Ford F-250 F250 F 250 SRW PLATINUM 4x4 TU...</td>\n",
       "      <td>NaN</td>\n",
       "      <td>fl</td>\n",
       "      <td>27.27</td>\n",
       "      <td>-82.48</td>\n",
       "      <td>2021-04-09T14:42:04-0400</td>\n",
       "    </tr>\n",
       "    <tr>\n",
       "      <th>261039</th>\n",
       "      <td>7312289104</td>\n",
       "      <td>https://albuquerque.craigslist.org/ctd/d/albuq...</td>\n",
       "      <td>albuquerque</td>\n",
       "      <td>https://albuquerque.craigslist.org</td>\n",
       "      <td>19990</td>\n",
       "      <td>2018.00</td>\n",
       "      <td>ford</td>\n",
       "      <td>escape sel sport utility 4d</td>\n",
       "      <td>good</td>\n",
       "      <td>NaN</td>\n",
       "      <td>...</td>\n",
       "      <td>NaN</td>\n",
       "      <td>other</td>\n",
       "      <td>black</td>\n",
       "      <td>https://images.craigslist.org/00o0o_gIdsTcCInJ...</td>\n",
       "      <td>Carvana is the safer way to buy a car During t...</td>\n",
       "      <td>NaN</td>\n",
       "      <td>nm</td>\n",
       "      <td>35.11</td>\n",
       "      <td>-106.62</td>\n",
       "      <td>2021-04-25T07:41:06-0600</td>\n",
       "    </tr>\n",
       "    <tr>\n",
       "      <th>13925</th>\n",
       "      <td>7316774765</td>\n",
       "      <td>https://tucson.craigslist.org/cto/d/tucson-200...</td>\n",
       "      <td>tucson</td>\n",
       "      <td>https://tucson.craigslist.org</td>\n",
       "      <td>2900</td>\n",
       "      <td>2000.00</td>\n",
       "      <td>gmc</td>\n",
       "      <td>safari</td>\n",
       "      <td>NaN</td>\n",
       "      <td>6 cylinders</td>\n",
       "      <td>...</td>\n",
       "      <td>NaN</td>\n",
       "      <td>van</td>\n",
       "      <td>NaN</td>\n",
       "      <td>https://images.craigslist.org/01616_2vDoXKxZpL...</td>\n",
       "      <td>2000 GMC SAFARI JUST PASSED EMISSIONS, 189K MI...</td>\n",
       "      <td>NaN</td>\n",
       "      <td>az</td>\n",
       "      <td>32.21</td>\n",
       "      <td>-110.88</td>\n",
       "      <td>2021-05-04T09:30:39-0700</td>\n",
       "    </tr>\n",
       "    <tr>\n",
       "      <th>280583</th>\n",
       "      <td>7314927546</td>\n",
       "      <td>https://syracuse.craigslist.org/ctd/d/oswego-2...</td>\n",
       "      <td>syracuse</td>\n",
       "      <td>https://syracuse.craigslist.org</td>\n",
       "      <td>10295</td>\n",
       "      <td>2012.00</td>\n",
       "      <td>gmc</td>\n",
       "      <td>acadia slt awd</td>\n",
       "      <td>NaN</td>\n",
       "      <td>6 cylinders</td>\n",
       "      <td>...</td>\n",
       "      <td>NaN</td>\n",
       "      <td>NaN</td>\n",
       "      <td>NaN</td>\n",
       "      <td>https://images.craigslist.org/00H0H_6J4OvGYYtb...</td>\n",
       "      <td>2012 GMC Acadia Trim SLT Sport Utility 4D Mile...</td>\n",
       "      <td>NaN</td>\n",
       "      <td>ny</td>\n",
       "      <td>43.46</td>\n",
       "      <td>-76.45</td>\n",
       "      <td>2021-04-30T14:20:25-0400</td>\n",
       "    </tr>\n",
       "  </tbody>\n",
       "</table>\n",
       "<p>5 rows × 26 columns</p>\n",
       "</div>"
      ],
      "text/plain": [
       "                id                                                url  \\\n",
       "118825  7313679206  https://tampa.craigslist.org/hil/cto/d/clearwa...   \n",
       "96603   7304296203  https://fortmyers.craigslist.org/chl/ctd/d/sar...   \n",
       "261039  7312289104  https://albuquerque.craigslist.org/ctd/d/albuq...   \n",
       "13925   7316774765  https://tucson.craigslist.org/cto/d/tucson-200...   \n",
       "280583  7314927546  https://syracuse.craigslist.org/ctd/d/oswego-2...   \n",
       "\n",
       "                       region                          region_url  price  \\\n",
       "118825         tampa bay area        https://tampa.craigslist.org   3900   \n",
       "96603   ft myers / SW florida    https://fortmyers.craigslist.org  68788   \n",
       "261039            albuquerque  https://albuquerque.craigslist.org  19990   \n",
       "13925                  tucson       https://tucson.craigslist.org   2900   \n",
       "280583               syracuse     https://syracuse.craigslist.org  10295   \n",
       "\n",
       "          year manufacturer                        model condition  \\\n",
       "118825 2010.00      mercury                        milan  like new   \n",
       "96603  2015.00         ford                        f-250       NaN   \n",
       "261039 2018.00         ford  escape sel sport utility 4d      good   \n",
       "13925  2000.00          gmc                       safari       NaN   \n",
       "280583 2012.00          gmc               acadia slt awd       NaN   \n",
       "\n",
       "          cylinders  ... size    type paint_color  \\\n",
       "118825          NaN  ...  NaN   sedan       white   \n",
       "96603           NaN  ...  NaN  pickup         NaN   \n",
       "261039          NaN  ...  NaN   other       black   \n",
       "13925   6 cylinders  ...  NaN     van         NaN   \n",
       "280583  6 cylinders  ...  NaN     NaN         NaN   \n",
       "\n",
       "                                                image_url  \\\n",
       "118825  https://images.craigslist.org/00000_k02RAtflGh...   \n",
       "96603   https://images.craigslist.org/00707_gS1GXl7y42...   \n",
       "261039  https://images.craigslist.org/00o0o_gIdsTcCInJ...   \n",
       "13925   https://images.craigslist.org/01616_2vDoXKxZpL...   \n",
       "280583  https://images.craigslist.org/00H0H_6J4OvGYYtb...   \n",
       "\n",
       "                                              description county state   lat  \\\n",
       "118825  Se habla Español llame hoy lindo Mercury Milan...    NaN    fl 27.99   \n",
       "96603   2015 Ford F-250 F250 F 250 SRW PLATINUM 4x4 TU...    NaN    fl 27.27   \n",
       "261039  Carvana is the safer way to buy a car During t...    NaN    nm 35.11   \n",
       "13925   2000 GMC SAFARI JUST PASSED EMISSIONS, 189K MI...    NaN    az 32.21   \n",
       "280583  2012 GMC Acadia Trim SLT Sport Utility 4D Mile...    NaN    ny 43.46   \n",
       "\n",
       "          long              posting_date  \n",
       "118825  -82.74  2021-04-27T22:53:03-0400  \n",
       "96603   -82.48  2021-04-09T14:42:04-0400  \n",
       "261039 -106.62  2021-04-25T07:41:06-0600  \n",
       "13925  -110.88  2021-05-04T09:30:39-0700  \n",
       "280583  -76.45  2021-04-30T14:20:25-0400  \n",
       "\n",
       "[5 rows x 26 columns]"
      ]
     },
     "execution_count": 9,
     "metadata": {},
     "output_type": "execute_result"
    }
   ],
   "source": [
    "live_data.head()"
   ]
  },
  {
   "cell_type": "code",
   "execution_count": 10,
   "id": "27919348-9924-483f-9a45-e474c835ef7b",
   "metadata": {
    "tags": []
   },
   "outputs": [],
   "source": [
    "df = df.drop(live_data.index)"
   ]
  },
  {
   "cell_type": "code",
   "execution_count": 11,
   "id": "7d177a72-78d2-452d-87ea-914371c15f01",
   "metadata": {
    "tags": []
   },
   "outputs": [
    {
     "data": {
      "text/plain": [
       "(426780, 26)"
      ]
     },
     "execution_count": 11,
     "metadata": {},
     "output_type": "execute_result"
    }
   ],
   "source": [
    "df.shape"
   ]
  },
  {
   "cell_type": "code",
   "execution_count": 12,
   "id": "fada7a66-85be-4d01-99fe-2710dd45b6bf",
   "metadata": {
    "tags": []
   },
   "outputs": [
    {
     "data": {
      "text/html": [
       "<div>\n",
       "<style scoped>\n",
       "    .dataframe tbody tr th:only-of-type {\n",
       "        vertical-align: middle;\n",
       "    }\n",
       "\n",
       "    .dataframe tbody tr th {\n",
       "        vertical-align: top;\n",
       "    }\n",
       "\n",
       "    .dataframe thead th {\n",
       "        text-align: right;\n",
       "    }\n",
       "</style>\n",
       "<table border=\"1\" class=\"dataframe\">\n",
       "  <thead>\n",
       "    <tr style=\"text-align: right;\">\n",
       "      <th></th>\n",
       "      <th>id</th>\n",
       "      <th>url</th>\n",
       "      <th>region</th>\n",
       "      <th>region_url</th>\n",
       "      <th>price</th>\n",
       "      <th>year</th>\n",
       "      <th>manufacturer</th>\n",
       "      <th>model</th>\n",
       "      <th>condition</th>\n",
       "      <th>cylinders</th>\n",
       "      <th>...</th>\n",
       "      <th>size</th>\n",
       "      <th>type</th>\n",
       "      <th>paint_color</th>\n",
       "      <th>image_url</th>\n",
       "      <th>description</th>\n",
       "      <th>county</th>\n",
       "      <th>state</th>\n",
       "      <th>lat</th>\n",
       "      <th>long</th>\n",
       "      <th>posting_date</th>\n",
       "    </tr>\n",
       "  </thead>\n",
       "  <tbody>\n",
       "    <tr>\n",
       "      <th>0</th>\n",
       "      <td>7222695916</td>\n",
       "      <td>https://prescott.craigslist.org/cto/d/prescott...</td>\n",
       "      <td>prescott</td>\n",
       "      <td>https://prescott.craigslist.org</td>\n",
       "      <td>6000</td>\n",
       "      <td>NaN</td>\n",
       "      <td>NaN</td>\n",
       "      <td>NaN</td>\n",
       "      <td>NaN</td>\n",
       "      <td>NaN</td>\n",
       "      <td>...</td>\n",
       "      <td>NaN</td>\n",
       "      <td>NaN</td>\n",
       "      <td>NaN</td>\n",
       "      <td>NaN</td>\n",
       "      <td>NaN</td>\n",
       "      <td>NaN</td>\n",
       "      <td>az</td>\n",
       "      <td>NaN</td>\n",
       "      <td>NaN</td>\n",
       "      <td>NaN</td>\n",
       "    </tr>\n",
       "    <tr>\n",
       "      <th>1</th>\n",
       "      <td>7218891961</td>\n",
       "      <td>https://fayar.craigslist.org/ctd/d/bentonville...</td>\n",
       "      <td>fayetteville</td>\n",
       "      <td>https://fayar.craigslist.org</td>\n",
       "      <td>11900</td>\n",
       "      <td>NaN</td>\n",
       "      <td>NaN</td>\n",
       "      <td>NaN</td>\n",
       "      <td>NaN</td>\n",
       "      <td>NaN</td>\n",
       "      <td>...</td>\n",
       "      <td>NaN</td>\n",
       "      <td>NaN</td>\n",
       "      <td>NaN</td>\n",
       "      <td>NaN</td>\n",
       "      <td>NaN</td>\n",
       "      <td>NaN</td>\n",
       "      <td>ar</td>\n",
       "      <td>NaN</td>\n",
       "      <td>NaN</td>\n",
       "      <td>NaN</td>\n",
       "    </tr>\n",
       "    <tr>\n",
       "      <th>2</th>\n",
       "      <td>7221797935</td>\n",
       "      <td>https://keys.craigslist.org/cto/d/summerland-k...</td>\n",
       "      <td>florida keys</td>\n",
       "      <td>https://keys.craigslist.org</td>\n",
       "      <td>21000</td>\n",
       "      <td>NaN</td>\n",
       "      <td>NaN</td>\n",
       "      <td>NaN</td>\n",
       "      <td>NaN</td>\n",
       "      <td>NaN</td>\n",
       "      <td>...</td>\n",
       "      <td>NaN</td>\n",
       "      <td>NaN</td>\n",
       "      <td>NaN</td>\n",
       "      <td>NaN</td>\n",
       "      <td>NaN</td>\n",
       "      <td>NaN</td>\n",
       "      <td>fl</td>\n",
       "      <td>NaN</td>\n",
       "      <td>NaN</td>\n",
       "      <td>NaN</td>\n",
       "    </tr>\n",
       "    <tr>\n",
       "      <th>3</th>\n",
       "      <td>7222270760</td>\n",
       "      <td>https://worcester.craigslist.org/cto/d/west-br...</td>\n",
       "      <td>worcester / central MA</td>\n",
       "      <td>https://worcester.craigslist.org</td>\n",
       "      <td>1500</td>\n",
       "      <td>NaN</td>\n",
       "      <td>NaN</td>\n",
       "      <td>NaN</td>\n",
       "      <td>NaN</td>\n",
       "      <td>NaN</td>\n",
       "      <td>...</td>\n",
       "      <td>NaN</td>\n",
       "      <td>NaN</td>\n",
       "      <td>NaN</td>\n",
       "      <td>NaN</td>\n",
       "      <td>NaN</td>\n",
       "      <td>NaN</td>\n",
       "      <td>ma</td>\n",
       "      <td>NaN</td>\n",
       "      <td>NaN</td>\n",
       "      <td>NaN</td>\n",
       "    </tr>\n",
       "    <tr>\n",
       "      <th>4</th>\n",
       "      <td>7210384030</td>\n",
       "      <td>https://greensboro.craigslist.org/cto/d/trinit...</td>\n",
       "      <td>greensboro</td>\n",
       "      <td>https://greensboro.craigslist.org</td>\n",
       "      <td>4900</td>\n",
       "      <td>NaN</td>\n",
       "      <td>NaN</td>\n",
       "      <td>NaN</td>\n",
       "      <td>NaN</td>\n",
       "      <td>NaN</td>\n",
       "      <td>...</td>\n",
       "      <td>NaN</td>\n",
       "      <td>NaN</td>\n",
       "      <td>NaN</td>\n",
       "      <td>NaN</td>\n",
       "      <td>NaN</td>\n",
       "      <td>NaN</td>\n",
       "      <td>nc</td>\n",
       "      <td>NaN</td>\n",
       "      <td>NaN</td>\n",
       "      <td>NaN</td>\n",
       "    </tr>\n",
       "  </tbody>\n",
       "</table>\n",
       "<p>5 rows × 26 columns</p>\n",
       "</div>"
      ],
      "text/plain": [
       "           id                                                url  \\\n",
       "0  7222695916  https://prescott.craigslist.org/cto/d/prescott...   \n",
       "1  7218891961  https://fayar.craigslist.org/ctd/d/bentonville...   \n",
       "2  7221797935  https://keys.craigslist.org/cto/d/summerland-k...   \n",
       "3  7222270760  https://worcester.craigslist.org/cto/d/west-br...   \n",
       "4  7210384030  https://greensboro.craigslist.org/cto/d/trinit...   \n",
       "\n",
       "                   region                         region_url  price  year  \\\n",
       "0                prescott    https://prescott.craigslist.org   6000   NaN   \n",
       "1            fayetteville       https://fayar.craigslist.org  11900   NaN   \n",
       "2            florida keys        https://keys.craigslist.org  21000   NaN   \n",
       "3  worcester / central MA   https://worcester.craigslist.org   1500   NaN   \n",
       "4              greensboro  https://greensboro.craigslist.org   4900   NaN   \n",
       "\n",
       "  manufacturer model condition cylinders  ... size  type paint_color  \\\n",
       "0          NaN   NaN       NaN       NaN  ...  NaN   NaN         NaN   \n",
       "1          NaN   NaN       NaN       NaN  ...  NaN   NaN         NaN   \n",
       "2          NaN   NaN       NaN       NaN  ...  NaN   NaN         NaN   \n",
       "3          NaN   NaN       NaN       NaN  ...  NaN   NaN         NaN   \n",
       "4          NaN   NaN       NaN       NaN  ...  NaN   NaN         NaN   \n",
       "\n",
       "  image_url description county state lat long posting_date  \n",
       "0       NaN         NaN    NaN    az NaN  NaN          NaN  \n",
       "1       NaN         NaN    NaN    ar NaN  NaN          NaN  \n",
       "2       NaN         NaN    NaN    fl NaN  NaN          NaN  \n",
       "3       NaN         NaN    NaN    ma NaN  NaN          NaN  \n",
       "4       NaN         NaN    NaN    nc NaN  NaN          NaN  \n",
       "\n",
       "[5 rows x 26 columns]"
      ]
     },
     "execution_count": 12,
     "metadata": {},
     "output_type": "execute_result"
    }
   ],
   "source": [
    "df.head()"
   ]
  },
  {
   "cell_type": "markdown",
   "id": "cfdacac6-ec80-44a5-9c4d-7f59a891c34b",
   "metadata": {},
   "source": [
    "## Part 2, Section 2: Storing Raw DF to PgAdmin"
   ]
  },
  {
   "cell_type": "markdown",
   "id": "f23e4896-e685-4f69-ae93-32d82e096c92",
   "metadata": {},
   "source": [
    "**IMPORTANT NOTE:** I am commenting out this section (after my initial run) because I tend to run and re-run my notebooks many times and this section is time consuming and I don't need to keep replacing the dataset in PgAdmin."
   ]
  },
  {
   "cell_type": "markdown",
   "id": "e3a429ba-e8f9-4083-bf01-955e060dcb1e",
   "metadata": {},
   "source": [
    "**Below:** I am creating a new table that will store my raw data (without the \"live\" sample\") in PgAdmin,  This will allow me to access the dataset in seperate notebooks."
   ]
  },
  {
   "cell_type": "code",
   "execution_count": 13,
   "id": "e5a2904c-8da6-4f40-b75a-89066fa584cb",
   "metadata": {
    "tags": []
   },
   "outputs": [],
   "source": [
    "host = r'127.0.0.1' \n",
    "db = r'MSDS610' \n",
    "user = r'postgres' \n",
    "pw = r'postgres' \n",
    "port = r'5432'\n",
    "schema = r'raw'"
   ]
  },
  {
   "cell_type": "code",
   "execution_count": 14,
   "id": "76b180b7-e5e6-4291-9cba-9f06e9841ccb",
   "metadata": {
    "tags": []
   },
   "outputs": [],
   "source": [
    "#db_conn = create_engine(\"postgresql://{}:{}@{}:{}/{}\".format(user, pw, host, port, db))\n",
    "#db_conn"
   ]
  },
  {
   "cell_type": "code",
   "execution_count": 15,
   "id": "13c0f546-a3c0-4802-839c-29ce0d776331",
   "metadata": {
    "tags": []
   },
   "outputs": [],
   "source": [
    "#sql = \"SELECT tables.table_name FROM information_schema.tables WHERE table_schema = '\" + schema + \"' ORDER BY 1;\"\n",
    "#sql"
   ]
  },
  {
   "cell_type": "code",
   "execution_count": 16,
   "id": "2a5939f7-84e1-4412-a030-e0f0f2225a4f",
   "metadata": {
    "tags": []
   },
   "outputs": [],
   "source": [
    "#table_name = r'vehicle_data'"
   ]
  },
  {
   "cell_type": "code",
   "execution_count": 17,
   "id": "6e42c8a7-f481-4aa5-95ed-b61edf3702bb",
   "metadata": {
    "tags": []
   },
   "outputs": [],
   "source": [
    "# df.to_sql(table_name, con=db_conn, if_exists='replace', index=False, schema=schema, chunksize=1000, method='multi')"
   ]
  },
  {
   "cell_type": "code",
   "execution_count": 18,
   "id": "115e89ba-f470-43ae-a161-db649aa25199",
   "metadata": {
    "tags": []
   },
   "outputs": [],
   "source": [
    "#tbl_df = pd.read_sql(sql, db_conn, index_col=None)\n",
    "#tbl_df"
   ]
  },
  {
   "cell_type": "markdown",
   "id": "f9f760de-93a1-4c0b-a269-d2c21922ac55",
   "metadata": {
    "tags": []
   },
   "source": [
    "![pgAdmin Screenshot](msds_610_final_project_raw_df_to_pgadmin_img.png)"
   ]
  },
  {
   "cell_type": "markdown",
   "id": "b0e62983-3cd5-4cf3-a780-d07a3c19df7d",
   "metadata": {},
   "source": [
    "# Part 3: Data Definition and Analytical Question"
   ]
  },
  {
   "cell_type": "markdown",
   "id": "7263d290-e6ae-4618-8ce6-89ef82767c85",
   "metadata": {},
   "source": [
    "**DATA DEFINITION**\n",
    "\n",
    "**The 4 types of data types:**\n",
    "- Ordinal: Categories with order or ranking (i.e: low, medium, high)\n",
    "- Nominal: Categories without order (i.e: car models)\n",
    "- Discrete: Categories with countable, whole numbers (i.e: # of car doors)\n",
    "- Countinuous: Categories that have measurable values that can take any value in a range (i.e.: car prices)\n",
    "\n",
    "Note: \"String\" means \"Object\" in the following descriptions.\n",
    "\n",
    "**The Features:**\n",
    "\n",
    "The dataset is a dataframe of 26 features and 426880 entries (before removing the 100 \"live data\" samples), with a mix of floats (float64), integers (int64) and strings (object) and include the following features:\n",
    "\n",
    "- **'id'** (Nominal, Integer): A unique identifier number for each entry.\n",
    "- **'url'** (Nominal, String): A unique URL to the location of the vehicle for sale.\n",
    "- **'region'** (Nominal, String): Area where the vehicle is being sold.\n",
    "- **'region_url'** (Nominal, String): unique URL of the Craigslist for the region.\n",
    "- **'price'** (Continuous, Integer): The asking price of the car for sale.\n",
    "- **'year'** (Nominal, Integer - Note: Listed as floats): The year the vehicle was made.\n",
    "- **'manufacturer'** (Nominal, String): The company that made the vehicle.\n",
    "- **'model'** (Nominal, String): The name/type of the vehicle.\n",
    "- **'condition'** (Ordinal, String): Categories (6) - \"good\", \"excellent\", \"like new\", \"fair\", \"new\", \"salvage\". The condition of the vehicle for sale.\n",
    "- **'cylinders'** (Nominal, String): Note: This could also be be described as Ordinal, since more cylinders could mean more power, but since my analytical question isn't to find the most \"powerful\" vehicle, I am classifying at as Nominal. But it likely should be converted to \"Discrete\" because it is listed as text because the entries end with \"cylinder\" and have a \"other\" option, but could be converted to integers. This feature describes the number of cylinders in the engine of the car for sale.\n",
    "- **'fuel'** (Nominal, String): Values (5) - \"gas\", \"other\", \"diesel\", \"hybrid\", \"electric\". The type(s) of fuel the vehicle for sale runs on.\n",
    "- **'odometer'** (Continuous, Float): Note: Could be converted to Integer, because it looks like the values are rounded to a whole number. The number of miles on the engine of the vehicle.\n",
    "- **'title_status'** (Nominal, String): Values (6): \"clean\" = no issues, \"rebuilt\" = fixed and passed inspection, \"salvage\" = total loss, \"lien\" = outstanding loan, \"missing\" = no title, \"parts only\" = can only be used for parts. This describes the legal status of the vehicles condition and use.\n",
    "- **'transmission'** (Nominal, String): Values: \"automatic\", \"manual\", \"other\". How power is delivered from the engine to the wheels.\n",
    "- **'VIN'** (Nominal, String): A unique 17-character code for each vehicle.\n",
    "- **'drive'** (Nominal, String): Values: \"fwd\" = front wheel drive, \"4wd\" = 4 wheel drive, \"rwd\" = rear wheel drive. The drivetrain of the vehicle, how power is distributed to the tires. \n",
    "- **'size'** (Ordinal, String): Values: \"full-size\" = largest, \"mid-size\" = third smallest, \"compact\" = second smallest, \"sub-compact\" = smallest. The body size classification of the vehicle.\n",
    "- **'type'** (Nominal, String): 13 Values (i.e.: \"sedan\", \"SUV\", \"truck\"). The body style of the vehicle.\n",
    "- **'paint_color'** (Nominal, String): 12 Values (i.e: \"gray\", \"black\", \"blue\").  The color of the vehicle for sale.\n",
    "- **'image_url'** (Nominal, String). The URL for the image posted of the vehicle for sale.\n",
    "- **'description'** (Nominal, String). A written summary about the vehicle for sale. \n",
    "- **'county'** NOTE: This feature is all NULL (NAN) in the dataframe. This would be a Nominal, String of what county the vehicle for sale is. No informational value, will drop this feature.\n",
    "- **'state'** (Nominal, String). The state where the vehicle for sale is located. Uses a two-character state code (i.e: \"ny\", \"fl\", \"me\")\n",
    "- **'lat'** (Continuous, Float). The latitudinal location of the vehicle for sale.\n",
    "- **'long'** (Continuous, Float). The longitudinal location of the vehicle for sale.\n",
    "- **'posting_date'** (DateTime, String). In the format: YYYY-MM-DDTHH:MM:SS±HHMM. The time when the vehicle listing was posted on the website.\n",
    "\n",
    "**ANALYTICAL QUESTION AND TARGET**\n",
    "\n",
    "**Analytical Question:** What vehicle features can I use to predict the sale prices of vehicles being sold in Albuquerque, New Mexico.    \n",
    "**Target:** \"price\"\n",
    "\n",
    "**Below:** I used a mix of the \"nunique\", \"value_counts\", \"total_values\", and \"info\" functions to help describe each of the features (as described above)."
   ]
  },
  {
   "cell_type": "code",
   "execution_count": 19,
   "id": "23a6c239-8926-4da0-889b-cb9bb1b57424",
   "metadata": {
    "tags": []
   },
   "outputs": [
    {
     "data": {
      "text/html": [
       "<div>\n",
       "<style scoped>\n",
       "    .dataframe tbody tr th:only-of-type {\n",
       "        vertical-align: middle;\n",
       "    }\n",
       "\n",
       "    .dataframe tbody tr th {\n",
       "        vertical-align: top;\n",
       "    }\n",
       "\n",
       "    .dataframe thead th {\n",
       "        text-align: right;\n",
       "    }\n",
       "</style>\n",
       "<table border=\"1\" class=\"dataframe\">\n",
       "  <thead>\n",
       "    <tr style=\"text-align: right;\">\n",
       "      <th></th>\n",
       "      <th>id</th>\n",
       "      <th>url</th>\n",
       "      <th>region</th>\n",
       "      <th>region_url</th>\n",
       "      <th>price</th>\n",
       "      <th>year</th>\n",
       "      <th>manufacturer</th>\n",
       "      <th>model</th>\n",
       "      <th>condition</th>\n",
       "      <th>cylinders</th>\n",
       "      <th>...</th>\n",
       "      <th>size</th>\n",
       "      <th>type</th>\n",
       "      <th>paint_color</th>\n",
       "      <th>image_url</th>\n",
       "      <th>description</th>\n",
       "      <th>county</th>\n",
       "      <th>state</th>\n",
       "      <th>lat</th>\n",
       "      <th>long</th>\n",
       "      <th>posting_date</th>\n",
       "    </tr>\n",
       "  </thead>\n",
       "  <tbody>\n",
       "    <tr>\n",
       "      <th>220029</th>\n",
       "      <td>7308344771</td>\n",
       "      <td>https://columbiamo.craigslist.org/ctd/d/columb...</td>\n",
       "      <td>columbia / jeff city</td>\n",
       "      <td>https://columbiamo.craigslist.org</td>\n",
       "      <td>40990</td>\n",
       "      <td>2019.00</td>\n",
       "      <td>chevrolet</td>\n",
       "      <td>camaro ss coupe 2d</td>\n",
       "      <td>good</td>\n",
       "      <td>8 cylinders</td>\n",
       "      <td>...</td>\n",
       "      <td>NaN</td>\n",
       "      <td>coupe</td>\n",
       "      <td>NaN</td>\n",
       "      <td>https://images.craigslist.org/00h0h_3elhPqitgh...</td>\n",
       "      <td>Carvana is the safer way to buy a car During t...</td>\n",
       "      <td>NaN</td>\n",
       "      <td>mo</td>\n",
       "      <td>38.95</td>\n",
       "      <td>-92.32</td>\n",
       "      <td>2021-04-17T12:40:52-0500</td>\n",
       "    </tr>\n",
       "    <tr>\n",
       "      <th>46444</th>\n",
       "      <td>7314457142</td>\n",
       "      <td>https://redding.craigslist.org/ctd/d/rancho-co...</td>\n",
       "      <td>redding</td>\n",
       "      <td>https://redding.craigslist.org</td>\n",
       "      <td>26999</td>\n",
       "      <td>2007.00</td>\n",
       "      <td>mercedes-benz</td>\n",
       "      <td>sl550</td>\n",
       "      <td>NaN</td>\n",
       "      <td>8 cylinders</td>\n",
       "      <td>...</td>\n",
       "      <td>NaN</td>\n",
       "      <td>convertible</td>\n",
       "      <td>silver</td>\n",
       "      <td>https://images.craigslist.org/01414_4EXIaSKeMS...</td>\n",
       "      <td>Finance @ www.ElegantAutoSales.net - Paste the...</td>\n",
       "      <td>NaN</td>\n",
       "      <td>ca</td>\n",
       "      <td>38.61</td>\n",
       "      <td>-121.27</td>\n",
       "      <td>2021-04-29T12:05:06-0700</td>\n",
       "    </tr>\n",
       "  </tbody>\n",
       "</table>\n",
       "<p>2 rows × 26 columns</p>\n",
       "</div>"
      ],
      "text/plain": [
       "                id                                                url  \\\n",
       "220029  7308344771  https://columbiamo.craigslist.org/ctd/d/columb...   \n",
       "46444   7314457142  https://redding.craigslist.org/ctd/d/rancho-co...   \n",
       "\n",
       "                      region                         region_url  price  \\\n",
       "220029  columbia / jeff city  https://columbiamo.craigslist.org  40990   \n",
       "46444                redding     https://redding.craigslist.org  26999   \n",
       "\n",
       "          year   manufacturer               model condition    cylinders  ...  \\\n",
       "220029 2019.00      chevrolet  camaro ss coupe 2d      good  8 cylinders  ...   \n",
       "46444  2007.00  mercedes-benz               sl550       NaN  8 cylinders  ...   \n",
       "\n",
       "       size         type paint_color  \\\n",
       "220029  NaN        coupe         NaN   \n",
       "46444   NaN  convertible      silver   \n",
       "\n",
       "                                                image_url  \\\n",
       "220029  https://images.craigslist.org/00h0h_3elhPqitgh...   \n",
       "46444   https://images.craigslist.org/01414_4EXIaSKeMS...   \n",
       "\n",
       "                                              description county state   lat  \\\n",
       "220029  Carvana is the safer way to buy a car During t...    NaN    mo 38.95   \n",
       "46444   Finance @ www.ElegantAutoSales.net - Paste the...    NaN    ca 38.61   \n",
       "\n",
       "          long              posting_date  \n",
       "220029  -92.32  2021-04-17T12:40:52-0500  \n",
       "46444  -121.27  2021-04-29T12:05:06-0700  \n",
       "\n",
       "[2 rows x 26 columns]"
      ]
     },
     "execution_count": 19,
     "metadata": {},
     "output_type": "execute_result"
    }
   ],
   "source": [
    "df.sample(2)"
   ]
  },
  {
   "cell_type": "code",
   "execution_count": 20,
   "id": "69ab4a8e-6dfe-4a2e-9da7-b5b91ca69814",
   "metadata": {
    "tags": []
   },
   "outputs": [
    {
     "name": "stdout",
     "output_type": "stream",
     "text": [
      "<class 'pandas.core.frame.DataFrame'>\n",
      "Index: 426780 entries, 0 to 426879\n",
      "Data columns (total 26 columns):\n",
      " #   Column        Non-Null Count   Dtype  \n",
      "---  ------        --------------   -----  \n",
      " 0   id            426780 non-null  int64  \n",
      " 1   url           426780 non-null  object \n",
      " 2   region        426780 non-null  object \n",
      " 3   region_url    426780 non-null  object \n",
      " 4   price         426780 non-null  int64  \n",
      " 5   year          425575 non-null  float64\n",
      " 6   manufacturer  409138 non-null  object \n",
      " 7   model         421503 non-null  object \n",
      " 8   condition     252723 non-null  object \n",
      " 9   cylinders     249147 non-null  object \n",
      " 10  fuel          423767 non-null  object \n",
      " 11  odometer      422380 non-null  float64\n",
      " 12  title_status  418538 non-null  object \n",
      " 13  transmission  424224 non-null  object \n",
      " 14  VIN           265773 non-null  object \n",
      " 15  drive         296242 non-null  object \n",
      " 16  size          120499 non-null  object \n",
      " 17  type          333943 non-null  object \n",
      " 18  paint_color   296608 non-null  object \n",
      " 19  image_url     426712 non-null  object \n",
      " 20  description   426710 non-null  object \n",
      " 21  county        0 non-null       float64\n",
      " 22  state         426780 non-null  object \n",
      " 23  lat           420231 non-null  float64\n",
      " 24  long          420231 non-null  float64\n",
      " 25  posting_date  426712 non-null  object \n",
      "dtypes: float64(5), int64(2), object(19)\n",
      "memory usage: 87.9+ MB\n"
     ]
    }
   ],
   "source": [
    "df.info()"
   ]
  },
  {
   "cell_type": "code",
   "execution_count": 21,
   "id": "edd980d1-c3dc-4d28-90f9-5b22e098f7fa",
   "metadata": {
    "tags": []
   },
   "outputs": [
    {
     "data": {
      "text/plain": [
       "6"
      ]
     },
     "execution_count": 21,
     "metadata": {},
     "output_type": "execute_result"
    }
   ],
   "source": [
    "df.condition.nunique()"
   ]
  },
  {
   "cell_type": "code",
   "execution_count": 22,
   "id": "5f1b638e-2fb3-47e0-af1b-3b7097c8d0c4",
   "metadata": {
    "tags": []
   },
   "outputs": [
    {
     "data": {
      "text/plain": [
       "condition\n",
       "good         121424\n",
       "excellent    101453\n",
       "like new      21174\n",
       "fair           6766\n",
       "new            1305\n",
       "salvage         601\n",
       "Name: count, dtype: int64"
      ]
     },
     "execution_count": 22,
     "metadata": {},
     "output_type": "execute_result"
    }
   ],
   "source": [
    "df.condition.value_counts()"
   ]
  },
  {
   "cell_type": "code",
   "execution_count": 23,
   "id": "ad67fc48-22b1-49f2-a6a5-861a086bf3f9",
   "metadata": {
    "tags": []
   },
   "outputs": [
    {
     "data": {
      "text/plain": [
       "8"
      ]
     },
     "execution_count": 23,
     "metadata": {},
     "output_type": "execute_result"
    }
   ],
   "source": [
    "df.cylinders.nunique()"
   ]
  },
  {
   "cell_type": "code",
   "execution_count": 24,
   "id": "22c2710b-69e2-42aa-ab59-5ff0b69b9ce7",
   "metadata": {
    "tags": []
   },
   "outputs": [
    {
     "data": {
      "text/plain": [
       "cylinders\n",
       "6 cylinders     94149\n",
       "4 cylinders     77624\n",
       "8 cylinders     72045\n",
       "5 cylinders      1712\n",
       "10 cylinders     1455\n",
       "other            1298\n",
       "3 cylinders       655\n",
       "12 cylinders      209\n",
       "Name: count, dtype: int64"
      ]
     },
     "execution_count": 24,
     "metadata": {},
     "output_type": "execute_result"
    }
   ],
   "source": [
    "df.cylinders.value_counts()"
   ]
  },
  {
   "cell_type": "code",
   "execution_count": 25,
   "id": "6dc99fc7-6fee-4964-915b-9b0e34de2d39",
   "metadata": {
    "tags": []
   },
   "outputs": [
    {
     "data": {
      "text/plain": [
       "fuel\n",
       "gas         356124\n",
       "other        30722\n",
       "diesel       30055\n",
       "hybrid        5168\n",
       "electric      1698\n",
       "Name: count, dtype: int64"
      ]
     },
     "execution_count": 25,
     "metadata": {},
     "output_type": "execute_result"
    }
   ],
   "source": [
    "df.fuel.value_counts()"
   ]
  },
  {
   "cell_type": "code",
   "execution_count": 26,
   "id": "0f9332d6-0535-4be7-84d8-f33b795ec273",
   "metadata": {
    "tags": []
   },
   "outputs": [
    {
     "data": {
      "text/plain": [
       "394044   179000.00\n",
       "178473   133745.00\n",
       "133527    57337.00\n",
       "104468   136146.00\n",
       "Name: odometer, dtype: float64"
      ]
     },
     "execution_count": 26,
     "metadata": {},
     "output_type": "execute_result"
    }
   ],
   "source": [
    "df.odometer.sample(4)"
   ]
  },
  {
   "cell_type": "code",
   "execution_count": 27,
   "id": "3dd340cf-2ea0-4738-8540-0337fb88602e",
   "metadata": {
    "tags": []
   },
   "outputs": [
    {
     "data": {
      "text/plain": [
       "6"
      ]
     },
     "execution_count": 27,
     "metadata": {},
     "output_type": "execute_result"
    }
   ],
   "source": [
    "df.title_status.nunique()"
   ]
  },
  {
   "cell_type": "code",
   "execution_count": 28,
   "id": "5b96d281-3766-4066-a6d8-9a2c46478004",
   "metadata": {
    "tags": []
   },
   "outputs": [
    {
     "data": {
      "text/plain": [
       "title_status\n",
       "clean         405020\n",
       "rebuilt         7217\n",
       "salvage         3867\n",
       "lien            1422\n",
       "missing          814\n",
       "parts only       198\n",
       "Name: count, dtype: int64"
      ]
     },
     "execution_count": 28,
     "metadata": {},
     "output_type": "execute_result"
    }
   ],
   "source": [
    "df.title_status.value_counts()"
   ]
  },
  {
   "cell_type": "code",
   "execution_count": 29,
   "id": "ff85af02-4722-48ef-aa4d-70b26eae8fb6",
   "metadata": {
    "tags": []
   },
   "outputs": [
    {
     "data": {
      "text/plain": [
       "transmission\n",
       "automatic    336448\n",
       "other         62667\n",
       "manual        25109\n",
       "Name: count, dtype: int64"
      ]
     },
     "execution_count": 29,
     "metadata": {},
     "output_type": "execute_result"
    }
   ],
   "source": [
    "df.transmission.value_counts()"
   ]
  },
  {
   "cell_type": "code",
   "execution_count": 30,
   "id": "be6057f1-97d0-4334-adfa-cdb5b7c44f42",
   "metadata": {
    "tags": []
   },
   "outputs": [
    {
     "data": {
      "text/plain": [
       "293804    2C3CDZDJ5GH315931\n",
       "198666                  NaN\n",
       "86891     JN8AS58V48W118061\n",
       "Name: VIN, dtype: object"
      ]
     },
     "execution_count": 30,
     "metadata": {},
     "output_type": "execute_result"
    }
   ],
   "source": [
    "df.VIN.sample(3)"
   ]
  },
  {
   "cell_type": "code",
   "execution_count": 31,
   "id": "a5ba8388-a586-4751-b637-bd091cbca822",
   "metadata": {
    "tags": []
   },
   "outputs": [
    {
     "data": {
      "text/plain": [
       "3"
      ]
     },
     "execution_count": 31,
     "metadata": {},
     "output_type": "execute_result"
    }
   ],
   "source": [
    "df.drive.nunique()"
   ]
  },
  {
   "cell_type": "code",
   "execution_count": 32,
   "id": "1b3dab4f-6083-4ff0-a838-3db89fb6d308",
   "metadata": {
    "tags": []
   },
   "outputs": [
    {
     "data": {
      "text/plain": [
       "drive\n",
       "4wd    131868\n",
       "fwd    105493\n",
       "rwd     58881\n",
       "Name: count, dtype: int64"
      ]
     },
     "execution_count": 32,
     "metadata": {},
     "output_type": "execute_result"
    }
   ],
   "source": [
    "df.drive.value_counts()"
   ]
  },
  {
   "cell_type": "code",
   "execution_count": 33,
   "id": "b01501eb-d37c-4a83-a453-8de957d22be8",
   "metadata": {
    "tags": []
   },
   "outputs": [
    {
     "data": {
      "text/plain": [
       "size\n",
       "full-size      63456\n",
       "mid-size       34469\n",
       "compact        19380\n",
       "sub-compact     3194\n",
       "Name: count, dtype: int64"
      ]
     },
     "execution_count": 33,
     "metadata": {},
     "output_type": "execute_result"
    }
   ],
   "source": [
    "df['size'].value_counts()"
   ]
  },
  {
   "cell_type": "code",
   "execution_count": 34,
   "id": "6a24ed27-fd3a-4cb9-b092-b76dfa9385f7",
   "metadata": {
    "tags": []
   },
   "outputs": [
    {
     "data": {
      "text/plain": [
       "13"
      ]
     },
     "execution_count": 34,
     "metadata": {},
     "output_type": "execute_result"
    }
   ],
   "source": [
    "df.type.nunique()"
   ]
  },
  {
   "cell_type": "code",
   "execution_count": 35,
   "id": "396d844e-dfc2-4cc9-a8fc-57ad58c82e05",
   "metadata": {
    "tags": []
   },
   "outputs": [
    {
     "data": {
      "text/plain": [
       "type\n",
       "sedan          87031\n",
       "SUV            77273\n",
       "pickup         43497\n",
       "truck          35271\n",
       "other          22102\n",
       "coupe          19199\n",
       "hatchback      16597\n",
       "wagon          10747\n",
       "van             8544\n",
       "convertible     7731\n",
       "mini-van        4825\n",
       "offroad          609\n",
       "bus              517\n",
       "Name: count, dtype: int64"
      ]
     },
     "execution_count": 35,
     "metadata": {},
     "output_type": "execute_result"
    }
   ],
   "source": [
    "df.type.value_counts()"
   ]
  },
  {
   "cell_type": "code",
   "execution_count": 36,
   "id": "cf3188ed-5ba3-4f0f-8589-af9f2f89e06a",
   "metadata": {
    "tags": []
   },
   "outputs": [
    {
     "data": {
      "text/plain": [
       "12"
      ]
     },
     "execution_count": 36,
     "metadata": {},
     "output_type": "execute_result"
    }
   ],
   "source": [
    "df.paint_color.nunique()"
   ]
  },
  {
   "cell_type": "code",
   "execution_count": 37,
   "id": "5e64ddc0-bd8a-44a6-96c5-409a0c0eeda0",
   "metadata": {
    "tags": []
   },
   "outputs": [
    {
     "data": {
      "text/plain": [
       "paint_color\n",
       "white     79267\n",
       "black     62846\n",
       "silver    42954\n",
       "blue      31217\n",
       "red       30470\n",
       "grey      24410\n",
       "green      7341\n",
       "custom     6699\n",
       "brown      6591\n",
       "yellow     2142\n",
       "orange     1984\n",
       "purple      687\n",
       "Name: count, dtype: int64"
      ]
     },
     "execution_count": 37,
     "metadata": {},
     "output_type": "execute_result"
    }
   ],
   "source": [
    "df.paint_color.value_counts()"
   ]
  },
  {
   "cell_type": "code",
   "execution_count": 38,
   "id": "92ded5ae-12a2-4ebe-bd86-ba19ff860a96",
   "metadata": {
    "tags": []
   },
   "outputs": [
    {
     "data": {
      "text/plain": [
       "106037    https://images.craigslist.org/00c0c_8o1J3eozJd...\n",
       "2450      https://images.craigslist.org/00T0T_5YAa6EHhsP...\n",
       "413429    https://images.craigslist.org/00K0K_jO8zDaUS4U...\n",
       "223214    https://images.craigslist.org/00Y0Y_h6Y6d7M0ak...\n",
       "378691    https://images.craigslist.org/00h0h_4wdXzPF3Qa...\n",
       "Name: image_url, dtype: object"
      ]
     },
     "execution_count": 38,
     "metadata": {},
     "output_type": "execute_result"
    }
   ],
   "source": [
    "df.image_url.sample(5)"
   ]
  },
  {
   "cell_type": "code",
   "execution_count": 39,
   "id": "32975297-6995-446a-bf27-ae13bcc27028",
   "metadata": {
    "tags": []
   },
   "outputs": [
    {
     "data": {
      "text/plain": [
       "34003     THE BEST LOOKING !!!!!  save thousands !!!  fi...\n",
       "224328    For more information on this Jeep and to acces...\n",
       "314165    2011 Ford F150 XLT SuperCrew Cab 139K Miles Cl...\n",
       "Name: description, dtype: object"
      ]
     },
     "execution_count": 39,
     "metadata": {},
     "output_type": "execute_result"
    }
   ],
   "source": [
    "df.description.sample(3)"
   ]
  },
  {
   "cell_type": "code",
   "execution_count": 40,
   "id": "dab8013e-31c9-467a-86d8-ff3c60b26a6a",
   "metadata": {
    "tags": []
   },
   "outputs": [
    {
     "data": {
      "text/plain": [
       "0"
      ]
     },
     "execution_count": 40,
     "metadata": {},
     "output_type": "execute_result"
    }
   ],
   "source": [
    "df.county.nunique()"
   ]
  },
  {
   "cell_type": "code",
   "execution_count": 41,
   "id": "781d45b8-3832-42f1-824b-c0e1adda9188",
   "metadata": {
    "tags": []
   },
   "outputs": [
    {
     "data": {
      "text/plain": [
       "51"
      ]
     },
     "execution_count": 41,
     "metadata": {},
     "output_type": "execute_result"
    }
   ],
   "source": [
    "df.state.nunique()"
   ]
  },
  {
   "cell_type": "code",
   "execution_count": 42,
   "id": "bddc8c34-a3a6-4d4c-bb5c-4aa54cbdaaf1",
   "metadata": {
    "tags": []
   },
   "outputs": [
    {
     "data": {
      "text/plain": [
       "270893    ny\n",
       "386759    vt\n",
       "223824    mt\n",
       "Name: state, dtype: object"
      ]
     },
     "execution_count": 42,
     "metadata": {},
     "output_type": "execute_result"
    }
   ],
   "source": [
    "df.state.sample(3)"
   ]
  },
  {
   "cell_type": "code",
   "execution_count": 43,
   "id": "007b2cc5-6eeb-4669-91ea-cda1e3657274",
   "metadata": {
    "tags": []
   },
   "outputs": [
    {
     "data": {
      "text/plain": [
       "275898   40.59\n",
       "226382   47.70\n",
       "300825   40.52\n",
       "Name: lat, dtype: float64"
      ]
     },
     "execution_count": 43,
     "metadata": {},
     "output_type": "execute_result"
    }
   ],
   "source": [
    "df.lat.sample(3)"
   ]
  },
  {
   "cell_type": "code",
   "execution_count": 44,
   "id": "3b1d0627-1eed-4f64-babc-7a72ff073f55",
   "metadata": {
    "tags": []
   },
   "outputs": [
    {
     "data": {
      "text/plain": [
       "110363   -82.49\n",
       "243782   -77.66\n",
       "301959   -83.48\n",
       "Name: long, dtype: float64"
      ]
     },
     "execution_count": 44,
     "metadata": {},
     "output_type": "execute_result"
    }
   ],
   "source": [
    "df.long.sample(3)"
   ]
  },
  {
   "cell_type": "code",
   "execution_count": 45,
   "id": "76761959-1b78-4d8d-9a48-a26618f92132",
   "metadata": {
    "tags": []
   },
   "outputs": [
    {
     "data": {
      "text/plain": [
       "210443    2021-04-13T11:58:27-0400\n",
       "237612    2021-04-21T11:08:22-0400\n",
       "284910    2021-04-26T08:43:45-0400\n",
       "Name: posting_date, dtype: object"
      ]
     },
     "execution_count": 45,
     "metadata": {},
     "output_type": "execute_result"
    }
   ],
   "source": [
    "df.posting_date.sample(3)"
   ]
  },
  {
   "cell_type": "markdown",
   "id": "90d57e35-4e60-49f8-a559-526d31cff431",
   "metadata": {},
   "source": [
    "# Part 4: Data Prep and Feature Selection"
   ]
  },
  {
   "cell_type": "markdown",
   "id": "ef3b5f82-fee0-4960-89cc-42bda2ea0d71",
   "metadata": {},
   "source": [
    "## Part 4, Section 1: Feature Selection"
   ]
  },
  {
   "cell_type": "code",
   "execution_count": 46,
   "id": "799c838c-1eba-4a95-8e54-5d92bbedfe94",
   "metadata": {
    "tags": []
   },
   "outputs": [
    {
     "name": "stdout",
     "output_type": "stream",
     "text": [
      "<class 'pandas.core.frame.DataFrame'>\n",
      "Index: 426780 entries, 0 to 426879\n",
      "Data columns (total 26 columns):\n",
      " #   Column        Non-Null Count   Dtype  \n",
      "---  ------        --------------   -----  \n",
      " 0   id            426780 non-null  int64  \n",
      " 1   url           426780 non-null  object \n",
      " 2   region        426780 non-null  object \n",
      " 3   region_url    426780 non-null  object \n",
      " 4   price         426780 non-null  int64  \n",
      " 5   year          425575 non-null  float64\n",
      " 6   manufacturer  409138 non-null  object \n",
      " 7   model         421503 non-null  object \n",
      " 8   condition     252723 non-null  object \n",
      " 9   cylinders     249147 non-null  object \n",
      " 10  fuel          423767 non-null  object \n",
      " 11  odometer      422380 non-null  float64\n",
      " 12  title_status  418538 non-null  object \n",
      " 13  transmission  424224 non-null  object \n",
      " 14  VIN           265773 non-null  object \n",
      " 15  drive         296242 non-null  object \n",
      " 16  size          120499 non-null  object \n",
      " 17  type          333943 non-null  object \n",
      " 18  paint_color   296608 non-null  object \n",
      " 19  image_url     426712 non-null  object \n",
      " 20  description   426710 non-null  object \n",
      " 21  county        0 non-null       float64\n",
      " 22  state         426780 non-null  object \n",
      " 23  lat           420231 non-null  float64\n",
      " 24  long          420231 non-null  float64\n",
      " 25  posting_date  426712 non-null  object \n",
      "dtypes: float64(5), int64(2), object(19)\n",
      "memory usage: 87.9+ MB\n"
     ]
    }
   ],
   "source": [
    "df.info()"
   ]
  },
  {
   "cell_type": "markdown",
   "id": "40f5213c-aae1-4632-a201-81cb33a0ec64",
   "metadata": {},
   "source": [
    "In this section, I am deciding which features I want to keep - and which ones I want to drop - based on if I think they will help me answer my analytical question.\n",
    "\n",
    "Below, I am listing each feature, along with my decision to keep or drop, along with an explanation. I will also rate the \"keep\" ones based on if I think (EDA and testing will give definitive answers) the feature has high, low, or medium, correspondance to my target (\"price\"). The decision to \"keep\" might change to \"drop\" after further EDA.\n",
    "\n",
    "\n",
    "**The Features and Drop/Keep Decision**\n",
    "- **'id':** Drop. This is unique to each entry and provides no informational value.\n",
    "-  **'url':** Drop. This is unique to each entry and provides no information  value.\n",
    "-  **'region':** Keep. Since I am looking to predict regional prices, this is high value \n",
    "-  **'region_url':** Drop. This the URL for the region, but since we already have a \"region\" feature\", this has no value.\n",
    "-  **'price':** Keep. This is my target variable.\n",
    "-  **'year':** Keep. Since how old a vehicle is can have an effect on worth and depreciation, this has high value.\n",
    "-  **'manufacturer':** Keep. This might have a low to medium value, since manufacturing sentiment *might* have an effect on vehicle value.\n",
    "-  **'model':** Keep. Same as manufacturing, 'model' sentiment might have an effect on vehicle value.\n",
    "- **'condition':**: Keep. The condition of the vehicle will most likely determine the price. Very high value.\n",
    "- **'cylinders':** Keep. The engine size/type likely has an effect on price (the more cylinders, the higher the price), medium to high value.\n",
    "-  **'fuel':** Keep. The type of fuel will likely influence the cost of the vehicle, medium to high value. \n",
    "-  **'odometer':** Keep. How many miles on the vehicle will most likely effect the sales price. Very high value.\n",
    "- **'title_status':** Keep. I am not sure the value this would have - although, a clean title is likely better than a \"parts-only\" title - on price. Keeping to do more EDA.\n",
    "- **'transmission':** Keep. Whether a vehicle is a manual or automatic transmission might effect price because of the different pools of potential buyers. \n",
    "- **'VIN':** Drop. Unique identifier number for each individual vehicle. This has no informational value.\n",
    "- **'drive':** Keep. Whether the car is 4 wheel drive, rear wheel drive, or front wheel drive, may impact price. Continued EDA needed to make final determination.\n",
    "- **'size':** Drop. While The size of the vehicle might contribute to the price, around 3/4s of entries are missing this information is missing, and vehicle \"type\" will likely be a better determinate.  \n",
    "- **'type':** Keep. Whether a vehicle is a truck, sedan, SUV, likely influences the sales price, medium to high value.\n",
    "- **'paint_color':** Drop. I don't think the paint color will have a high correlation on cost.\n",
    "- **'image_url':** Drop. This has no informational value.\n",
    "- **'description':** Drop. I considered keeping, and seeing if certain phrases, keywords, etc. effect pricing, but I feel that the technical information likely has much more value than the summarial.\n",
    "- **'county':** Drop. This a NULL column. Description of this column from Kaggle: \"useless column left in by mistake\"\n",
    "- **'state':** Keep. Since the company in the scenario is in New Mexico, this has high value.\n",
    "- **'lat':** Drop. I considered keeping this to find the specific location of Albuquerque, NM, but I think I have enough information with \"region\" and \"state\" for local purposes.\n",
    "- **'long':** Drop. Same reasoning at \"lat\".\n",
    "- **'posting_date':** Drop. How long a vehicle has been posted might effect the price (i.e. the longer the posting is up, the lower the price goes). But, this isn't a technical feature of the vehicles, and given the scenario that I work at a used car lot, posting dates are not important (and other features would be better suited to determine depreciation, if that was the goal).\n",
    "\n",
    "I will be doing EDA below to determine the best features, but I predict that the mileage (odometer), condition, year, type, and region, will have the highest impact on sales price.\n"
   ]
  },
  {
   "cell_type": "markdown",
   "id": "d553ca3a-44f4-49af-b985-c6d153cc1be7",
   "metadata": {
    "tags": []
   },
   "source": [
    "### Dropping Low Value Feature"
   ]
  },
  {
   "cell_type": "code",
   "execution_count": 47,
   "id": "7262dd55-374c-481d-ba4f-1c55cb728317",
   "metadata": {
    "tags": []
   },
   "outputs": [
    {
     "name": "stdout",
     "output_type": "stream",
     "text": [
      "<class 'pandas.core.frame.DataFrame'>\n",
      "Index: 426780 entries, 0 to 426879\n",
      "Data columns (total 14 columns):\n",
      " #   Column        Non-Null Count   Dtype  \n",
      "---  ------        --------------   -----  \n",
      " 0   region        426780 non-null  object \n",
      " 1   price         426780 non-null  int64  \n",
      " 2   year          425575 non-null  float64\n",
      " 3   manufacturer  409138 non-null  object \n",
      " 4   model         421503 non-null  object \n",
      " 5   condition     252723 non-null  object \n",
      " 6   cylinders     249147 non-null  object \n",
      " 7   fuel          423767 non-null  object \n",
      " 8   odometer      422380 non-null  float64\n",
      " 9   title_status  418538 non-null  object \n",
      " 10  transmission  424224 non-null  object \n",
      " 11  drive         296242 non-null  object \n",
      " 12  type          333943 non-null  object \n",
      " 13  state         426780 non-null  object \n",
      "dtypes: float64(2), int64(1), object(11)\n",
      "memory usage: 48.8+ MB\n"
     ]
    }
   ],
   "source": [
    "df.drop(columns=['id', 'url', 'region_url', 'description', 'VIN', 'image_url', 'description', 'county', 'lat', 'long', 'size', 'posting_date', \"paint_color\"], inplace=True)\n",
    "df.info()"
   ]
  },
  {
   "cell_type": "markdown",
   "id": "1038eabb-176a-4c07-9ffe-6c6f4077701a",
   "metadata": {
    "tags": []
   },
   "source": [
    "## Part 4, Section 2: EDA - NULLS"
   ]
  },
  {
   "cell_type": "markdown",
   "id": "90802273-f16a-41e9-99ed-8122b74e7f94",
   "metadata": {},
   "source": [
    "### 'Year' Nulls"
   ]
  },
  {
   "cell_type": "code",
   "execution_count": 48,
   "id": "6dedb508-d7e7-4440-9559-d14c8fd23032",
   "metadata": {
    "tags": []
   },
   "outputs": [
    {
     "data": {
      "text/plain": [
       "114"
      ]
     },
     "execution_count": 48,
     "metadata": {},
     "output_type": "execute_result"
    }
   ],
   "source": [
    "df.year.nunique()"
   ]
  },
  {
   "cell_type": "code",
   "execution_count": 49,
   "id": "d4df47ed-7130-495e-b615-f244dc731427",
   "metadata": {
    "tags": []
   },
   "outputs": [
    {
     "data": {
      "text/plain": [
       "year\n",
       "False    425575\n",
       "True       1205\n",
       "Name: count, dtype: int64"
      ]
     },
     "execution_count": 49,
     "metadata": {},
     "output_type": "execute_result"
    }
   ],
   "source": [
    "df.year.isna().value_counts()"
   ]
  },
  {
   "cell_type": "markdown",
   "id": "a22f68b3-bb78-437e-b7ff-e3522a9f45b9",
   "metadata": {},
   "source": [
    "**Below:** Since there is only 1,205 NULLS out of a 426,780 entries. I am going to replace the NULLs for year with median \"year\", because, given the small value of NULLs, I don't think it will have an impact on my analysis and predictions. Note: this feature is listed as a float, and should be an integer. As such, I am going to use the whole number median year for the NULLs and set the type to integer (astype(int)), to turn the feature into integers."
   ]
  },
  {
   "cell_type": "code",
   "execution_count": 50,
   "id": "06c7cc2a-bd9a-4ded-a6ae-c8a07ae9c73c",
   "metadata": {
    "tags": []
   },
   "outputs": [
    {
     "data": {
      "text/plain": [
       "236343   2016.00\n",
       "263819   2011.00\n",
       "403468   2006.00\n",
       "Name: year, dtype: float64"
      ]
     },
     "execution_count": 50,
     "metadata": {},
     "output_type": "execute_result"
    }
   ],
   "source": [
    "df.year.sample(3)"
   ]
  },
  {
   "cell_type": "code",
   "execution_count": 51,
   "id": "220db606-1948-4ebf-a146-3d01850c65eb",
   "metadata": {
    "tags": []
   },
   "outputs": [
    {
     "data": {
      "text/plain": [
       "count   425575.00\n",
       "mean      2011.24\n",
       "std          9.45\n",
       "min       1900.00\n",
       "25%       2008.00\n",
       "50%       2013.00\n",
       "75%       2017.00\n",
       "max       2022.00\n",
       "Name: year, dtype: float64"
      ]
     },
     "execution_count": 51,
     "metadata": {},
     "output_type": "execute_result"
    }
   ],
   "source": [
    "df.year.describe()"
   ]
  },
  {
   "cell_type": "code",
   "execution_count": 52,
   "id": "0c491331-9b4e-47f3-a7ec-6414fd8bdcd6",
   "metadata": {
    "tags": []
   },
   "outputs": [],
   "source": [
    "df['year'] = df['year'].fillna(2011).astype(int)"
   ]
  },
  {
   "cell_type": "code",
   "execution_count": 53,
   "id": "b544b9af-f991-4a88-a131-0eb7db16483d",
   "metadata": {
    "tags": []
   },
   "outputs": [
    {
     "name": "stdout",
     "output_type": "stream",
     "text": [
      "<class 'pandas.core.frame.DataFrame'>\n",
      "Index: 426780 entries, 0 to 426879\n",
      "Data columns (total 14 columns):\n",
      " #   Column        Non-Null Count   Dtype  \n",
      "---  ------        --------------   -----  \n",
      " 0   region        426780 non-null  object \n",
      " 1   price         426780 non-null  int64  \n",
      " 2   year          426780 non-null  int32  \n",
      " 3   manufacturer  409138 non-null  object \n",
      " 4   model         421503 non-null  object \n",
      " 5   condition     252723 non-null  object \n",
      " 6   cylinders     249147 non-null  object \n",
      " 7   fuel          423767 non-null  object \n",
      " 8   odometer      422380 non-null  float64\n",
      " 9   title_status  418538 non-null  object \n",
      " 10  transmission  424224 non-null  object \n",
      " 11  drive         296242 non-null  object \n",
      " 12  type          333943 non-null  object \n",
      " 13  state         426780 non-null  object \n",
      "dtypes: float64(1), int32(1), int64(1), object(11)\n",
      "memory usage: 47.2+ MB\n"
     ]
    }
   ],
   "source": [
    "df.info()"
   ]
  },
  {
   "cell_type": "markdown",
   "id": "b6b1ab53-1e56-48a2-bf21-06208efe2a3b",
   "metadata": {},
   "source": [
    "**Below:** \"year\" is listed as a float, because of a hanging zero. I am going to switch the feature to an integer. "
   ]
  },
  {
   "cell_type": "code",
   "execution_count": 54,
   "id": "27a6e129-1eac-4d30-8f41-f6104bfc9755",
   "metadata": {
    "tags": []
   },
   "outputs": [
    {
     "data": {
      "text/plain": [
       "421509    2015\n",
       "273676    2007\n",
       "71999     2015\n",
       "182986    2015\n",
       "402555    1993\n",
       "Name: year, dtype: int32"
      ]
     },
     "execution_count": 54,
     "metadata": {},
     "output_type": "execute_result"
    }
   ],
   "source": [
    "df.year.sample(5)"
   ]
  },
  {
   "cell_type": "markdown",
   "id": "0804a9af-b4b2-4286-9a01-90c459396608",
   "metadata": {},
   "source": [
    "### 'Manufacturer' Nulls"
   ]
  },
  {
   "cell_type": "code",
   "execution_count": 55,
   "id": "6911f943-f536-4982-b1fb-99b9a12c8322",
   "metadata": {
    "tags": []
   },
   "outputs": [
    {
     "data": {
      "text/plain": [
       "manufacturer\n",
       "False    409138\n",
       "True      17642\n",
       "Name: count, dtype: int64"
      ]
     },
     "execution_count": 55,
     "metadata": {},
     "output_type": "execute_result"
    }
   ],
   "source": [
    "df.manufacturer.isna().value_counts()"
   ]
  },
  {
   "cell_type": "markdown",
   "id": "4598e69b-9c0d-4165-8f24-a67b8fce0612",
   "metadata": {},
   "source": [
    "The 'manufacturer' feature has 17,642 NULLs out of 426,780 total entries, this means \"manufacturer\" is missing about 4% of the data - which is considered low. As such, I am going to use filler text \"unknown\" to replace the missing values."
   ]
  },
  {
   "cell_type": "code",
   "execution_count": 56,
   "id": "33df101f-199e-41c6-a3cf-0f6b14ae53b5",
   "metadata": {
    "tags": []
   },
   "outputs": [],
   "source": [
    "df['manufacturer'] = df['manufacturer'].fillna(\"unknown\")"
   ]
  },
  {
   "cell_type": "code",
   "execution_count": 57,
   "id": "6644f5d0-4da1-4b37-bad0-edde6a011878",
   "metadata": {
    "tags": []
   },
   "outputs": [
    {
     "data": {
      "text/plain": [
       "manufacturer\n",
       "False    426780\n",
       "Name: count, dtype: int64"
      ]
     },
     "execution_count": 57,
     "metadata": {},
     "output_type": "execute_result"
    }
   ],
   "source": [
    "df.manufacturer.isna().value_counts()"
   ]
  },
  {
   "cell_type": "code",
   "execution_count": 58,
   "id": "75c27239-f679-44e3-af71-803d0ab4848e",
   "metadata": {
    "tags": []
   },
   "outputs": [
    {
     "data": {
      "text/plain": [
       "manufacturer\n",
       "ford               70966\n",
       "chevrolet          55053\n",
       "toyota             34194\n",
       "honda              21263\n",
       "nissan             19065\n",
       "jeep               19010\n",
       "ram                18341\n",
       "unknown            17642\n",
       "gmc                16775\n",
       "bmw                14694\n",
       "dodge              13705\n",
       "mercedes-benz      11816\n",
       "hyundai            10336\n",
       "subaru              9492\n",
       "volkswagen          9344\n",
       "kia                 8453\n",
       "lexus               8198\n",
       "audi                7571\n",
       "cadillac            6953\n",
       "chrysler            6030\n",
       "acura               5976\n",
       "buick               5500\n",
       "mazda               5426\n",
       "infiniti            4801\n",
       "lincoln             4219\n",
       "volvo               3374\n",
       "mitsubishi          3291\n",
       "mini                2376\n",
       "pontiac             2288\n",
       "rover               2113\n",
       "jaguar              1945\n",
       "porsche             1383\n",
       "mercury             1183\n",
       "saturn              1090\n",
       "alfa-romeo           896\n",
       "tesla                868\n",
       "fiat                 791\n",
       "harley-davidson      153\n",
       "ferrari               95\n",
       "datsun                63\n",
       "aston-martin          24\n",
       "land rover            21\n",
       "morgan                 3\n",
       "Name: count, dtype: int64"
      ]
     },
     "execution_count": 58,
     "metadata": {},
     "output_type": "execute_result"
    }
   ],
   "source": [
    "df.manufacturer.value_counts()"
   ]
  },
  {
   "cell_type": "markdown",
   "id": "1416f2c3-3700-43ab-9965-43fad8bade41",
   "metadata": {},
   "source": [
    "### 'Model' NULLs"
   ]
  },
  {
   "cell_type": "markdown",
   "id": "0b172767-6097-45f0-97c3-70133f2c49d8",
   "metadata": {},
   "source": [
    "I was going to give the 'model' feature the same treatment as 'manufacturer', but given that there are nearly 30,000 unique values, and that other features are likely going to be much more important in determining price, I am opting to drop this column at this point."
   ]
  },
  {
   "cell_type": "code",
   "execution_count": 59,
   "id": "e0aaaf68-0551-4536-8638-71ab03486e04",
   "metadata": {
    "tags": []
   },
   "outputs": [
    {
     "data": {
      "text/plain": [
       "model\n",
       "False    421503\n",
       "True       5277\n",
       "Name: count, dtype: int64"
      ]
     },
     "execution_count": 59,
     "metadata": {},
     "output_type": "execute_result"
    }
   ],
   "source": [
    "df.model.isna().value_counts()"
   ]
  },
  {
   "cell_type": "code",
   "execution_count": 60,
   "id": "1d1e741c-3438-4feb-9470-9a560c1d1a18",
   "metadata": {
    "tags": []
   },
   "outputs": [
    {
     "data": {
      "text/plain": [
       "29663"
      ]
     },
     "execution_count": 60,
     "metadata": {},
     "output_type": "execute_result"
    }
   ],
   "source": [
    "df.model.nunique()"
   ]
  },
  {
   "cell_type": "code",
   "execution_count": 61,
   "id": "71262501-619d-41ef-8b61-d8c3ecd764d7",
   "metadata": {
    "tags": []
   },
   "outputs": [
    {
     "name": "stdout",
     "output_type": "stream",
     "text": [
      "<class 'pandas.core.frame.DataFrame'>\n",
      "Index: 426780 entries, 0 to 426879\n",
      "Data columns (total 13 columns):\n",
      " #   Column        Non-Null Count   Dtype  \n",
      "---  ------        --------------   -----  \n",
      " 0   region        426780 non-null  object \n",
      " 1   price         426780 non-null  int64  \n",
      " 2   year          426780 non-null  int32  \n",
      " 3   manufacturer  426780 non-null  object \n",
      " 4   condition     252723 non-null  object \n",
      " 5   cylinders     249147 non-null  object \n",
      " 6   fuel          423767 non-null  object \n",
      " 7   odometer      422380 non-null  float64\n",
      " 8   title_status  418538 non-null  object \n",
      " 9   transmission  424224 non-null  object \n",
      " 10  drive         296242 non-null  object \n",
      " 11  type          333943 non-null  object \n",
      " 12  state         426780 non-null  object \n",
      "dtypes: float64(1), int32(1), int64(1), object(10)\n",
      "memory usage: 44.0+ MB\n"
     ]
    }
   ],
   "source": [
    "df.drop(columns=[\"model\"], inplace=True)\n",
    "df.info()"
   ]
  },
  {
   "cell_type": "markdown",
   "id": "38692efb-ac6d-4a14-93a0-5ff09c046ede",
   "metadata": {
    "tags": []
   },
   "source": [
    "### \"Condition\" and \"Odometer\" Nulls"
   ]
  },
  {
   "cell_type": "markdown",
   "id": "36f1b752-72ce-4eb5-b0b1-a9af6275a677",
   "metadata": {},
   "source": [
    "**Below:** More than a third of the \"condition\" feature has missing values. Since I think that this has high correlation on my predictions, I am opting to impute for the missing values."
   ]
  },
  {
   "cell_type": "code",
   "execution_count": 62,
   "id": "58f796f3-26b6-41b7-9abe-f410a6d3ab05",
   "metadata": {
    "tags": []
   },
   "outputs": [
    {
     "data": {
      "text/plain": [
       "condition\n",
       "False    252723\n",
       "True     174057\n",
       "Name: count, dtype: int64"
      ]
     },
     "execution_count": 62,
     "metadata": {},
     "output_type": "execute_result"
    }
   ],
   "source": [
    "df.condition.isna().value_counts()"
   ]
  },
  {
   "cell_type": "code",
   "execution_count": 63,
   "id": "d5bb0a6f-7c93-4d7f-a9ce-54eb0fe284d1",
   "metadata": {
    "tags": []
   },
   "outputs": [
    {
     "data": {
      "text/plain": [
       "condition\n",
       "good         121424\n",
       "excellent    101453\n",
       "like new      21174\n",
       "fair           6766\n",
       "new            1305\n",
       "salvage         601\n",
       "Name: count, dtype: int64"
      ]
     },
     "execution_count": 63,
     "metadata": {},
     "output_type": "execute_result"
    }
   ],
   "source": [
    "df.condition.value_counts()"
   ]
  },
  {
   "cell_type": "markdown",
   "id": "aef03de3-66e6-498c-91dc-2243b0a76fac",
   "metadata": {},
   "source": [
    "**Below:** Since I want to use a groupby function, and I want it impute it based on year and odometer, I have to make sure that the columns can be used to impute. Since \"odometer\" is a continuous value, I am going to create a new feature called \"mileage\" which will rate the vehicle as \"low\", \"normal\", \"high\" mileage, so that I can use it to impute my \"condition\" column. I am using \"year\" because it is likely that older cars will have poorer condition and I am using \"odometer\" because the higher the mileage the more wear and tear on the vehicle.\n",
    "\n",
    "Since \"odometer\" has missing values (4400) and I want to use 'odometer' to impute the condition, I am going to have to impute its NULLs now. Given how small the number is, I am going to use the median odometer reading to fill in the 'odometer' NULLs."
   ]
  },
  {
   "cell_type": "code",
   "execution_count": 64,
   "id": "051f9c20-f33a-4f94-9d72-5ec18338e7aa",
   "metadata": {
    "tags": []
   },
   "outputs": [
    {
     "data": {
      "text/plain": [
       "odometer\n",
       "False    422380\n",
       "True       4400\n",
       "Name: count, dtype: int64"
      ]
     },
     "execution_count": 64,
     "metadata": {},
     "output_type": "execute_result"
    }
   ],
   "source": [
    "df.odometer.isna().value_counts()"
   ]
  },
  {
   "cell_type": "code",
   "execution_count": 65,
   "id": "638d18e5-cd16-43c6-8f84-8928dfcd5ab5",
   "metadata": {
    "tags": []
   },
   "outputs": [
    {
     "data": {
      "text/plain": [
       "count     422380.00\n",
       "mean       98044.85\n",
       "std       213904.60\n",
       "min            0.00\n",
       "25%        37710.00\n",
       "50%        85548.00\n",
       "75%       133544.00\n",
       "max     10000000.00\n",
       "Name: odometer, dtype: float64"
      ]
     },
     "execution_count": 65,
     "metadata": {},
     "output_type": "execute_result"
    }
   ],
   "source": [
    "df.odometer.describe()"
   ]
  },
  {
   "cell_type": "code",
   "execution_count": 66,
   "id": "ea6a33da-8170-4bf5-a708-889a5b78757d",
   "metadata": {
    "tags": []
   },
   "outputs": [],
   "source": [
    "df['odometer'] = df['odometer'].fillna(98045)"
   ]
  },
  {
   "cell_type": "markdown",
   "id": "675d18f2-3caf-46a8-ac69-34b4a66b9c5f",
   "metadata": {},
   "source": [
    "**Below:** I searched around the internet to get an idea of what is considered low, medium, and high mileage. There was no general consensus I could find, so I used my best judgement based on what I found, and opted to classify mileage as \"low\" if under 60,000 miles, \"medium\" between 60,000-120,000 and \"high\" as over 120,000. \n",
    "\n",
    "I was able to get good class balance with those numbers, with each category roughly 1/3 of the entries."
   ]
  },
  {
   "cell_type": "code",
   "execution_count": 67,
   "id": "d5244a99-f06c-48b1-ad09-d81d7cb2ef48",
   "metadata": {
    "tags": []
   },
   "outputs": [],
   "source": [
    "def classify_mileage(odometer):\n",
    "    if odometer < 60_000:\n",
    "        return \"low\"\n",
    "    elif odometer < 120_000:\n",
    "        return \"medium\"\n",
    "    else:\n",
    "        return \"high\""
   ]
  },
  {
   "cell_type": "code",
   "execution_count": 68,
   "id": "3a8281dc-ef9c-4af4-b4d4-bb81313b1792",
   "metadata": {
    "tags": []
   },
   "outputs": [],
   "source": [
    "df['mileage'] = df['odometer'].apply(classify_mileage)"
   ]
  },
  {
   "cell_type": "code",
   "execution_count": 69,
   "id": "18c3fd64-44f0-4f20-aa16-4b994049abef",
   "metadata": {
    "tags": []
   },
   "outputs": [
    {
     "data": {
      "text/plain": [
       "mileage\n",
       "low       154474\n",
       "medium    138917\n",
       "high      133389\n",
       "Name: count, dtype: int64"
      ]
     },
     "execution_count": 69,
     "metadata": {},
     "output_type": "execute_result"
    }
   ],
   "source": [
    "df.mileage.value_counts()"
   ]
  },
  {
   "cell_type": "markdown",
   "id": "00d3885c-84ac-4f37-8ddb-a42a845caed6",
   "metadata": {},
   "source": [
    "**Below:** Now that I have a way to use the miles (with the new \"mileage\" feature), I can impute for \"condition\" using the new feature (\"mileage\") and \"year\". I am using a groupby function that uses those features to fill the \"condition\" NULLs with the mode of the group. Meaning, it will replace the NULL with the most frequent \"condition\" that exists given all the possible arrangements of the groupby features."
   ]
  },
  {
   "cell_type": "code",
   "execution_count": 70,
   "id": "695f7094-4952-4965-b0bb-7f7bb1d4e7d0",
   "metadata": {
    "tags": []
   },
   "outputs": [
    {
     "data": {
      "text/plain": [
       "condition\n",
       "False    252723\n",
       "True     174057\n",
       "Name: count, dtype: int64"
      ]
     },
     "execution_count": 70,
     "metadata": {},
     "output_type": "execute_result"
    }
   ],
   "source": [
    "df.condition.isna().value_counts()"
   ]
  },
  {
   "cell_type": "code",
   "execution_count": 71,
   "id": "6c235d60-3547-48d1-9b3f-fb2f97041e95",
   "metadata": {
    "tags": []
   },
   "outputs": [
    {
     "data": {
      "text/plain": [
       "condition\n",
       "good         121424\n",
       "excellent    101453\n",
       "like new      21174\n",
       "fair           6766\n",
       "new            1305\n",
       "salvage         601\n",
       "Name: count, dtype: int64"
      ]
     },
     "execution_count": 71,
     "metadata": {},
     "output_type": "execute_result"
    }
   ],
   "source": [
    "df.condition.value_counts()"
   ]
  },
  {
   "cell_type": "code",
   "execution_count": 72,
   "id": "859447d5-8ca1-4f54-a044-61cd7df32c45",
   "metadata": {
    "tags": []
   },
   "outputs": [],
   "source": [
    "df['condition'] = df.groupby(['year', 'mileage'])['condition'].transform(lambda x: x.fillna(x.mode().iloc[0] if not x.mode().empty else \"unknown\"))"
   ]
  },
  {
   "cell_type": "code",
   "execution_count": 73,
   "id": "c6b01dcc-ea80-41f8-bb77-3148089703fe",
   "metadata": {
    "tags": []
   },
   "outputs": [
    {
     "data": {
      "text/plain": [
       "condition\n",
       "excellent    210368\n",
       "good         186467\n",
       "like new      21177\n",
       "fair           6819\n",
       "new            1319\n",
       "salvage         601\n",
       "unknown          29\n",
       "Name: count, dtype: int64"
      ]
     },
     "execution_count": 73,
     "metadata": {},
     "output_type": "execute_result"
    }
   ],
   "source": [
    "df.condition.value_counts()"
   ]
  },
  {
   "cell_type": "code",
   "execution_count": 74,
   "id": "a1bbb543-24f0-4041-952b-ffb19395e464",
   "metadata": {
    "tags": []
   },
   "outputs": [
    {
     "data": {
      "text/plain": [
       "condition\n",
       "False    426780\n",
       "Name: count, dtype: int64"
      ]
     },
     "execution_count": 74,
     "metadata": {},
     "output_type": "execute_result"
    }
   ],
   "source": [
    "df.condition.isna().value_counts()"
   ]
  },
  {
   "cell_type": "markdown",
   "id": "96a768dd-e095-4187-9c81-bcf4019cd2f0",
   "metadata": {},
   "source": [
    "**Above:** It looks like, through the imputing, that the condition values all increased in about equal parts (their values seem to carry the same class weight as they did before the NULLs were imputed). I see that my function was unable to determine 29 entries and labeled them (as I specified) as unknown. \n",
    "\n",
    "**Below:** Since \"unknown\" is such a low number (29)  and I still want to classify them in the original values, I am going to add them to the \"excellent\" column, since that column is roughly 50% of the total dataframe, it is the best option to choose to impute the \"unknowns\". The reason I didn't do this in the initial function was because I didn't know how many \"unknowns\" would exist, and so I wouldn't know the best way to treat them, that is why I am doing that in two parts."
   ]
  },
  {
   "cell_type": "code",
   "execution_count": 75,
   "id": "55c3df79-d6be-4941-ab8b-73d475722b50",
   "metadata": {
    "tags": []
   },
   "outputs": [],
   "source": [
    "df['condition'].replace(\"unknown\", \"excellent\", inplace=True)"
   ]
  },
  {
   "cell_type": "code",
   "execution_count": 76,
   "id": "02abf675-c7ec-4d64-b748-ccb480bd8d37",
   "metadata": {
    "tags": []
   },
   "outputs": [
    {
     "data": {
      "text/plain": [
       "condition\n",
       "excellent    210397\n",
       "good         186467\n",
       "like new      21177\n",
       "fair           6819\n",
       "new            1319\n",
       "salvage         601\n",
       "Name: count, dtype: int64"
      ]
     },
     "execution_count": 76,
     "metadata": {},
     "output_type": "execute_result"
    }
   ],
   "source": [
    "df.condition.value_counts()"
   ]
  },
  {
   "cell_type": "code",
   "execution_count": 77,
   "id": "44951fe7-1b1d-4b4e-a2c0-0e51d2706682",
   "metadata": {
    "tags": []
   },
   "outputs": [
    {
     "name": "stdout",
     "output_type": "stream",
     "text": [
      "<class 'pandas.core.frame.DataFrame'>\n",
      "Index: 426780 entries, 0 to 426879\n",
      "Data columns (total 14 columns):\n",
      " #   Column        Non-Null Count   Dtype  \n",
      "---  ------        --------------   -----  \n",
      " 0   region        426780 non-null  object \n",
      " 1   price         426780 non-null  int64  \n",
      " 2   year          426780 non-null  int32  \n",
      " 3   manufacturer  426780 non-null  object \n",
      " 4   condition     426780 non-null  object \n",
      " 5   cylinders     249147 non-null  object \n",
      " 6   fuel          423767 non-null  object \n",
      " 7   odometer      426780 non-null  float64\n",
      " 8   title_status  418538 non-null  object \n",
      " 9   transmission  424224 non-null  object \n",
      " 10  drive         296242 non-null  object \n",
      " 11  type          333943 non-null  object \n",
      " 12  state         426780 non-null  object \n",
      " 13  mileage       426780 non-null  object \n",
      "dtypes: float64(1), int32(1), int64(1), object(11)\n",
      "memory usage: 47.2+ MB\n"
     ]
    }
   ],
   "source": [
    "df.info()"
   ]
  },
  {
   "cell_type": "markdown",
   "id": "6f7dc1e7-0a57-42d0-994f-cdabbd590188",
   "metadata": {},
   "source": [
    "### 'Cylinders' NULLS"
   ]
  },
  {
   "cell_type": "markdown",
   "id": "1ec659e2-ab75-47ae-8898-5b584c916b09",
   "metadata": {},
   "source": [
    "\"Cylinders\" is missing roughly 1/3 of the data. I am going to try to impute it based on some of the other features. I think I am going to use \"type\" (since SUVs will have more cylinders and compacts will likely have less) and \"fuel\" (since EVs have no cylinders and diesels tend to have more)."
   ]
  },
  {
   "cell_type": "code",
   "execution_count": 78,
   "id": "80d5be88-f6db-4ea5-9331-d4433f2b76b0",
   "metadata": {
    "tags": []
   },
   "outputs": [
    {
     "data": {
      "text/plain": [
       "cylinders\n",
       "False    249147\n",
       "True     177633\n",
       "Name: count, dtype: int64"
      ]
     },
     "execution_count": 78,
     "metadata": {},
     "output_type": "execute_result"
    }
   ],
   "source": [
    "df.cylinders.isna().value_counts()"
   ]
  },
  {
   "cell_type": "code",
   "execution_count": 79,
   "id": "833dbdc1-85e8-42ac-8e65-0b7191ff30c1",
   "metadata": {
    "tags": []
   },
   "outputs": [],
   "source": [
    "df['cylinders'] = df.groupby(['type', 'fuel'])['cylinders'].transform(lambda x: x.fillna(x.mode().iloc[0] if not x.mode().empty else \"unknown\"))"
   ]
  },
  {
   "cell_type": "code",
   "execution_count": 80,
   "id": "51a964ff-7d17-4014-a5ec-363a7ea00006",
   "metadata": {
    "tags": []
   },
   "outputs": [
    {
     "data": {
      "text/plain": [
       "cylinders\n",
       "False    332102\n",
       "True      94678\n",
       "Name: count, dtype: int64"
      ]
     },
     "execution_count": 80,
     "metadata": {},
     "output_type": "execute_result"
    }
   ],
   "source": [
    "df.cylinders.isna().value_counts()"
   ]
  },
  {
   "cell_type": "code",
   "execution_count": 81,
   "id": "3e5d63a1-ce42-462d-a412-ca49fd34b4a6",
   "metadata": {
    "tags": []
   },
   "outputs": [
    {
     "data": {
      "text/plain": [
       "cylinders\n",
       "6 cylinders     121401\n",
       "4 cylinders     107092\n",
       "8 cylinders      97837\n",
       "other             2282\n",
       "5 cylinders       1502\n",
       "10 cylinders      1209\n",
       "3 cylinders        592\n",
       "12 cylinders       186\n",
       "unknown              1\n",
       "Name: count, dtype: int64"
      ]
     },
     "execution_count": 81,
     "metadata": {},
     "output_type": "execute_result"
    }
   ],
   "source": [
    "df.cylinders.value_counts()"
   ]
  },
  {
   "cell_type": "markdown",
   "id": "6ccc229d-2dbb-4783-b55d-270f1040b3e3",
   "metadata": {},
   "source": [
    "**Above:** After imputing with \"type\" and \"fuel\" I have lowered the NULLs, but still have ~95,000. \n",
    "\n",
    "**Below:** I am going to continue to impute. I am going to now impute the remaining with \"year\" and \"manufacturer\", since the number of cylinders could be determined by the year the vehicle was made and by whom.\n",
    "\n",
    "After imputing with \"year\" and \"manufacturer\" I was able to impute the remaining NULLs for \"cylinders\""
   ]
  },
  {
   "cell_type": "code",
   "execution_count": 82,
   "id": "33976af5-52e5-4ec0-bd9e-820459fe3fa8",
   "metadata": {
    "tags": []
   },
   "outputs": [],
   "source": [
    "df['cylinders'] = df.groupby(['year', 'manufacturer'])['cylinders'].transform(lambda x: x.fillna(x.mode().iloc[0] if not x.mode().empty else \"unknown\"))"
   ]
  },
  {
   "cell_type": "code",
   "execution_count": 83,
   "id": "7f4f0605-e30f-4201-a24a-976a36a9d892",
   "metadata": {
    "tags": []
   },
   "outputs": [
    {
     "data": {
      "text/plain": [
       "cylinders\n",
       "False    426780\n",
       "Name: count, dtype: int64"
      ]
     },
     "execution_count": 83,
     "metadata": {},
     "output_type": "execute_result"
    }
   ],
   "source": [
    "df.cylinders.isna().value_counts()"
   ]
  },
  {
   "cell_type": "code",
   "execution_count": 84,
   "id": "c86d33fa-c5a6-4b4e-abdf-e587b7216e5b",
   "metadata": {
    "tags": []
   },
   "outputs": [
    {
     "data": {
      "text/plain": [
       "cylinders\n",
       "6 cylinders     146220\n",
       "8 cylinders     140959\n",
       "4 cylinders     133107\n",
       "other             2499\n",
       "5 cylinders       1739\n",
       "10 cylinders      1209\n",
       "3 cylinders        628\n",
       "unknown            225\n",
       "12 cylinders       194\n",
       "Name: count, dtype: int64"
      ]
     },
     "execution_count": 84,
     "metadata": {},
     "output_type": "execute_result"
    }
   ],
   "source": [
    "df.cylinders.value_counts()"
   ]
  },
  {
   "cell_type": "markdown",
   "id": "7eef70d1-e04b-4b54-8fd5-86301d2c9a2e",
   "metadata": {
    "tags": []
   },
   "source": [
    "**Below:** Since I am already working in \"cylinders\" and I notice that they will likely be more useful in prediction as integers. I am going to change them to integers now. I am going to list the \"other\" as 0, since there is only 2,016 entries and unlikely to affect the data (and likely they are none of the most commonly listed ones, or they would have listed it as such), and I am going to reclassify \"unknown\" to the 4 cylinders because it is the most common type of engine."
   ]
  },
  {
   "cell_type": "code",
   "execution_count": 85,
   "id": "b5376abd-9c5d-4668-98d5-a1c886b637fe",
   "metadata": {
    "tags": []
   },
   "outputs": [],
   "source": [
    "df['cylinders'].replace(\"6 cylinders\", 6, inplace=True)\n",
    "df['cylinders'].replace(\"8 cylinders\", 8, inplace=True)\n",
    "df['cylinders'].replace(\"4 cylinders\", 4, inplace=True)\n",
    "df['cylinders'].replace(\"5 cylinders\", 5, inplace=True)\n",
    "df['cylinders'].replace(\"10 cylinders\", 10, inplace=True)\n",
    "df['cylinders'].replace(\"3 cylinders\", 3, inplace=True)\n",
    "df['cylinders'].replace(\"12 cylinders\", 12, inplace=True)\n",
    "df['cylinders'].replace(\"other\", 0, inplace=True)\n",
    "df['cylinders'].replace(\"unknown\", 4, inplace=True)"
   ]
  },
  {
   "cell_type": "code",
   "execution_count": 86,
   "id": "b8bd89d7-a83d-47d9-9917-044583bc1c49",
   "metadata": {
    "tags": []
   },
   "outputs": [
    {
     "data": {
      "text/plain": [
       "cylinders\n",
       "6     146220\n",
       "8     140959\n",
       "4     133332\n",
       "0       2499\n",
       "5       1739\n",
       "10      1209\n",
       "3        628\n",
       "12       194\n",
       "Name: count, dtype: int64"
      ]
     },
     "execution_count": 86,
     "metadata": {},
     "output_type": "execute_result"
    }
   ],
   "source": [
    "df.cylinders.value_counts()"
   ]
  },
  {
   "cell_type": "code",
   "execution_count": 87,
   "id": "6ac5714e-8392-4c4c-a568-71d31dc085ba",
   "metadata": {
    "tags": []
   },
   "outputs": [
    {
     "name": "stdout",
     "output_type": "stream",
     "text": [
      "<class 'pandas.core.frame.DataFrame'>\n",
      "Index: 426780 entries, 0 to 426879\n",
      "Data columns (total 14 columns):\n",
      " #   Column        Non-Null Count   Dtype  \n",
      "---  ------        --------------   -----  \n",
      " 0   region        426780 non-null  object \n",
      " 1   price         426780 non-null  int64  \n",
      " 2   year          426780 non-null  int32  \n",
      " 3   manufacturer  426780 non-null  object \n",
      " 4   condition     426780 non-null  object \n",
      " 5   cylinders     426780 non-null  int64  \n",
      " 6   fuel          423767 non-null  object \n",
      " 7   odometer      426780 non-null  float64\n",
      " 8   title_status  418538 non-null  object \n",
      " 9   transmission  424224 non-null  object \n",
      " 10  drive         296242 non-null  object \n",
      " 11  type          333943 non-null  object \n",
      " 12  state         426780 non-null  object \n",
      " 13  mileage       426780 non-null  object \n",
      "dtypes: float64(1), int32(1), int64(2), object(10)\n",
      "memory usage: 47.2+ MB\n"
     ]
    }
   ],
   "source": [
    "df.info()"
   ]
  },
  {
   "cell_type": "markdown",
   "id": "36c41018-44bf-4c69-8e56-f42ff6876fea",
   "metadata": {},
   "source": [
    "### \"Fuel\" NULLs"
   ]
  },
  {
   "cell_type": "markdown",
   "id": "aa55d02d-e585-4e6b-befa-59f901e32094",
   "metadata": {},
   "source": [
    "There only 3,013 \"fuel\" NULLs, which is less than 1% of the feature. As such, I am going to reclassify the NULLS as \"gas\", given that \"gas\" makes up the class majority with 356,000 of the entries. While some of the NULLs might not be gas, it is highly likely that the majority of them are. "
   ]
  },
  {
   "cell_type": "code",
   "execution_count": 88,
   "id": "68d2a932-69ec-4510-98dd-4b0cd427087e",
   "metadata": {
    "tags": []
   },
   "outputs": [
    {
     "data": {
      "text/plain": [
       "fuel\n",
       "False    423767\n",
       "True       3013\n",
       "Name: count, dtype: int64"
      ]
     },
     "execution_count": 88,
     "metadata": {},
     "output_type": "execute_result"
    }
   ],
   "source": [
    "df.fuel.isna().value_counts()"
   ]
  },
  {
   "cell_type": "code",
   "execution_count": 89,
   "id": "5f80efbc-d7d7-453e-983d-e98d3474bb4e",
   "metadata": {
    "tags": []
   },
   "outputs": [
    {
     "data": {
      "text/plain": [
       "fuel\n",
       "gas         356124\n",
       "other        30722\n",
       "diesel       30055\n",
       "hybrid        5168\n",
       "electric      1698\n",
       "Name: count, dtype: int64"
      ]
     },
     "execution_count": 89,
     "metadata": {},
     "output_type": "execute_result"
    }
   ],
   "source": [
    "df.fuel.value_counts()"
   ]
  },
  {
   "cell_type": "code",
   "execution_count": 90,
   "id": "72246b45-668b-494e-891e-94dec33b8190",
   "metadata": {
    "tags": []
   },
   "outputs": [],
   "source": [
    "df.fuel.fillna(\"gas\", inplace=True)"
   ]
  },
  {
   "cell_type": "code",
   "execution_count": 91,
   "id": "a80f6ee7-b95a-4f31-8b5c-94dff7971d51",
   "metadata": {
    "tags": []
   },
   "outputs": [
    {
     "data": {
      "text/plain": [
       "fuel\n",
       "False    426780\n",
       "Name: count, dtype: int64"
      ]
     },
     "execution_count": 91,
     "metadata": {},
     "output_type": "execute_result"
    }
   ],
   "source": [
    "df.fuel.isna().value_counts()"
   ]
  },
  {
   "cell_type": "code",
   "execution_count": 92,
   "id": "4bf3e0aa-8fbd-4c30-bdd3-51489424500e",
   "metadata": {
    "tags": []
   },
   "outputs": [
    {
     "data": {
      "text/plain": [
       "fuel\n",
       "gas         359137\n",
       "other        30722\n",
       "diesel       30055\n",
       "hybrid        5168\n",
       "electric      1698\n",
       "Name: count, dtype: int64"
      ]
     },
     "execution_count": 92,
     "metadata": {},
     "output_type": "execute_result"
    }
   ],
   "source": [
    "df.fuel.value_counts()"
   ]
  },
  {
   "cell_type": "markdown",
   "id": "0e0fd743-fa30-468b-a369-ba8bfb7b05a9",
   "metadata": {
    "tags": []
   },
   "source": [
    "### \"Title_Status\" NULLs"
   ]
  },
  {
   "cell_type": "markdown",
   "id": "e9620dc0-dfdb-4804-a2c9-5e4f5133ac26",
   "metadata": {},
   "source": [
    "There are only 8,242 NULL values for \"title_status\" with the vast majority (400,000) being \"clean\", as such, I feel like I can impute the NULLs as \"clean\" and have little affect on the analytics. Also, given the incredibly high class imbalance, I will likely drop this feature, as it will probably have little impact on the price. But, I will make that decision later."
   ]
  },
  {
   "cell_type": "code",
   "execution_count": 93,
   "id": "fe5c10e6-cd74-4ca8-a689-2ca7aceef15a",
   "metadata": {
    "tags": []
   },
   "outputs": [
    {
     "data": {
      "text/plain": [
       "title_status\n",
       "False    418538\n",
       "True       8242\n",
       "Name: count, dtype: int64"
      ]
     },
     "execution_count": 93,
     "metadata": {},
     "output_type": "execute_result"
    }
   ],
   "source": [
    "df.title_status.isna().value_counts()"
   ]
  },
  {
   "cell_type": "code",
   "execution_count": 94,
   "id": "ba7a4cbf-b06f-4c15-88b3-cd1fc109c927",
   "metadata": {
    "tags": []
   },
   "outputs": [
    {
     "data": {
      "text/plain": [
       "title_status\n",
       "clean         405020\n",
       "rebuilt         7217\n",
       "salvage         3867\n",
       "lien            1422\n",
       "missing          814\n",
       "parts only       198\n",
       "Name: count, dtype: int64"
      ]
     },
     "execution_count": 94,
     "metadata": {},
     "output_type": "execute_result"
    }
   ],
   "source": [
    "df.title_status.value_counts()"
   ]
  },
  {
   "cell_type": "code",
   "execution_count": 95,
   "id": "11d4f369-e254-4ae8-8333-29834fbd95b6",
   "metadata": {
    "tags": []
   },
   "outputs": [],
   "source": [
    "df.title_status.fillna(\"clean\", inplace=True)"
   ]
  },
  {
   "cell_type": "code",
   "execution_count": 96,
   "id": "1e9f01e8-31ea-43a1-a778-37580cef64a8",
   "metadata": {
    "tags": []
   },
   "outputs": [
    {
     "data": {
      "text/plain": [
       "title_status\n",
       "False    426780\n",
       "Name: count, dtype: int64"
      ]
     },
     "execution_count": 96,
     "metadata": {},
     "output_type": "execute_result"
    }
   ],
   "source": [
    "df.title_status.isna().value_counts()"
   ]
  },
  {
   "cell_type": "code",
   "execution_count": 97,
   "id": "8497e844-5a37-471e-835f-0946ef6d1cdd",
   "metadata": {
    "tags": []
   },
   "outputs": [
    {
     "data": {
      "text/plain": [
       "title_status\n",
       "clean         413262\n",
       "rebuilt         7217\n",
       "salvage         3867\n",
       "lien            1422\n",
       "missing          814\n",
       "parts only       198\n",
       "Name: count, dtype: int64"
      ]
     },
     "execution_count": 97,
     "metadata": {},
     "output_type": "execute_result"
    }
   ],
   "source": [
    "df.title_status.value_counts()"
   ]
  },
  {
   "cell_type": "markdown",
   "id": "a7ade47b-3962-499e-9a13-e826e3856552",
   "metadata": {
    "tags": []
   },
   "source": [
    "### 'Transmission' NULLs"
   ]
  },
  {
   "cell_type": "markdown",
   "id": "1fb0ee44-e1c0-4ed9-8a47-c3c0fc297bfd",
   "metadata": {},
   "source": [
    "Just like \"title_status\", this feature has a very low amount of missing values and has an overwhelming class. In this case, there are 2,556 NULLs and 336,448 entries labeled as \"automatic\". I will impute the NULLs to the majority class."
   ]
  },
  {
   "cell_type": "code",
   "execution_count": 98,
   "id": "042797bb-57f6-458b-940e-868e4e9bcff0",
   "metadata": {
    "tags": []
   },
   "outputs": [
    {
     "data": {
      "text/plain": [
       "transmission\n",
       "False    424224\n",
       "True       2556\n",
       "Name: count, dtype: int64"
      ]
     },
     "execution_count": 98,
     "metadata": {},
     "output_type": "execute_result"
    }
   ],
   "source": [
    "df.transmission.isna().value_counts()"
   ]
  },
  {
   "cell_type": "code",
   "execution_count": 99,
   "id": "569552d9-f255-42da-bddb-ea25c5b515e7",
   "metadata": {
    "tags": []
   },
   "outputs": [
    {
     "data": {
      "text/plain": [
       "transmission\n",
       "automatic    336448\n",
       "other         62667\n",
       "manual        25109\n",
       "Name: count, dtype: int64"
      ]
     },
     "execution_count": 99,
     "metadata": {},
     "output_type": "execute_result"
    }
   ],
   "source": [
    "df.transmission.value_counts()"
   ]
  },
  {
   "cell_type": "code",
   "execution_count": 100,
   "id": "797157f9-f75b-45e9-8371-81be9526534a",
   "metadata": {
    "tags": []
   },
   "outputs": [],
   "source": [
    "df.transmission.fillna(\"automatic\", inplace=True)"
   ]
  },
  {
   "cell_type": "code",
   "execution_count": 101,
   "id": "421cd58b-a8b3-4aeb-b28d-035fd0c673b7",
   "metadata": {
    "tags": []
   },
   "outputs": [
    {
     "data": {
      "text/plain": [
       "transmission\n",
       "False    426780\n",
       "Name: count, dtype: int64"
      ]
     },
     "execution_count": 101,
     "metadata": {},
     "output_type": "execute_result"
    }
   ],
   "source": [
    "df.transmission.isna().value_counts()"
   ]
  },
  {
   "cell_type": "code",
   "execution_count": 102,
   "id": "98eb342a-73a1-4d11-967b-81d81df853cf",
   "metadata": {
    "tags": []
   },
   "outputs": [
    {
     "data": {
      "text/plain": [
       "transmission\n",
       "automatic    339004\n",
       "other         62667\n",
       "manual        25109\n",
       "Name: count, dtype: int64"
      ]
     },
     "execution_count": 102,
     "metadata": {},
     "output_type": "execute_result"
    }
   ],
   "source": [
    "df.transmission.value_counts()"
   ]
  },
  {
   "cell_type": "code",
   "execution_count": 103,
   "id": "44870ceb-e4c0-479c-8201-07f2f11590db",
   "metadata": {
    "tags": []
   },
   "outputs": [
    {
     "name": "stdout",
     "output_type": "stream",
     "text": [
      "<class 'pandas.core.frame.DataFrame'>\n",
      "Index: 426780 entries, 0 to 426879\n",
      "Data columns (total 14 columns):\n",
      " #   Column        Non-Null Count   Dtype  \n",
      "---  ------        --------------   -----  \n",
      " 0   region        426780 non-null  object \n",
      " 1   price         426780 non-null  int64  \n",
      " 2   year          426780 non-null  int32  \n",
      " 3   manufacturer  426780 non-null  object \n",
      " 4   condition     426780 non-null  object \n",
      " 5   cylinders     426780 non-null  int64  \n",
      " 6   fuel          426780 non-null  object \n",
      " 7   odometer      426780 non-null  float64\n",
      " 8   title_status  426780 non-null  object \n",
      " 9   transmission  426780 non-null  object \n",
      " 10  drive         296242 non-null  object \n",
      " 11  type          333943 non-null  object \n",
      " 12  state         426780 non-null  object \n",
      " 13  mileage       426780 non-null  object \n",
      "dtypes: float64(1), int32(1), int64(2), object(10)\n",
      "memory usage: 47.2+ MB\n"
     ]
    }
   ],
   "source": [
    "df.info()"
   ]
  },
  {
   "cell_type": "markdown",
   "id": "5e29a019-ebfb-41e6-980f-89f490a9ef36",
   "metadata": {
    "tags": []
   },
   "source": [
    "### \"Drive\" NULLs"
   ]
  },
  {
   "cell_type": "markdown",
   "id": "866e5e34-4ca4-4034-b488-2e3f07622f2b",
   "metadata": {},
   "source": [
    "\"Drive\" is missing roughly 1/3 of the entries, as such I am going to impute."
   ]
  },
  {
   "cell_type": "code",
   "execution_count": 104,
   "id": "eb10a548-77a8-40c9-bcee-1293940b4821",
   "metadata": {
    "tags": []
   },
   "outputs": [
    {
     "data": {
      "text/plain": [
       "drive\n",
       "False    296242\n",
       "True     130538\n",
       "Name: count, dtype: int64"
      ]
     },
     "execution_count": 104,
     "metadata": {},
     "output_type": "execute_result"
    }
   ],
   "source": [
    "df.drive.isna().value_counts()"
   ]
  },
  {
   "cell_type": "code",
   "execution_count": 105,
   "id": "5771cd11-cb60-4f77-b01f-6326bef6456f",
   "metadata": {
    "tags": []
   },
   "outputs": [
    {
     "data": {
      "text/plain": [
       "drive\n",
       "4wd    131868\n",
       "fwd    105493\n",
       "rwd     58881\n",
       "Name: count, dtype: int64"
      ]
     },
     "execution_count": 105,
     "metadata": {},
     "output_type": "execute_result"
    }
   ],
   "source": [
    "df.drive.value_counts()"
   ]
  },
  {
   "cell_type": "markdown",
   "id": "43a4e528-9bfc-4830-950b-5441be33fd05",
   "metadata": {},
   "source": [
    "**Below:** To impute, I am going to use the groupby function (like I have used on previous NULLs) and use \"type\", because I think that the type of vehicle is a good indicator of the type of drive."
   ]
  },
  {
   "cell_type": "code",
   "execution_count": 106,
   "id": "391f5272-dfd8-47f9-9e18-5f11660fd5b1",
   "metadata": {
    "tags": []
   },
   "outputs": [],
   "source": [
    "df['drive'] = df.groupby(['type'])['drive'].transform(lambda x: x.fillna(x.mode().iloc[0] if not x.mode().empty else \"unknown\"))"
   ]
  },
  {
   "cell_type": "code",
   "execution_count": 107,
   "id": "d26c5cf3-c6b8-4e67-a978-b69ac95dab35",
   "metadata": {
    "tags": []
   },
   "outputs": [
    {
     "data": {
      "text/plain": [
       "drive\n",
       "False    333943\n",
       "True      92837\n",
       "Name: count, dtype: int64"
      ]
     },
     "execution_count": 107,
     "metadata": {},
     "output_type": "execute_result"
    }
   ],
   "source": [
    "df.drive.isna().value_counts()"
   ]
  },
  {
   "cell_type": "code",
   "execution_count": 108,
   "id": "fca9c243-d4c6-4690-87b6-4e8ff5c4a0be",
   "metadata": {
    "tags": []
   },
   "outputs": [
    {
     "data": {
      "text/plain": [
       "drive\n",
       "4wd    143197\n",
       "fwd    132902\n",
       "rwd     57844\n",
       "Name: count, dtype: int64"
      ]
     },
     "execution_count": 108,
     "metadata": {},
     "output_type": "execute_result"
    }
   ],
   "source": [
    "df.drive.value_counts()"
   ]
  },
  {
   "cell_type": "markdown",
   "id": "98cf52e2-aa36-413d-9d11-04293292bc82",
   "metadata": {},
   "source": [
    "**Below:** Since, \"type\" resolved many, but not all, of my NULLs, I am going to do a second impute that uses \"manufacturer\" on the rest of the NULL entries, given that that certain manufacturers may have a preference on the type of drive.\n",
    "\n",
    "This resolved the rest of the NULLs"
   ]
  },
  {
   "cell_type": "code",
   "execution_count": 109,
   "id": "68971968-3703-4947-affe-7397796357b7",
   "metadata": {
    "tags": []
   },
   "outputs": [],
   "source": [
    "df['drive'] = df.groupby(['manufacturer'])['drive'].transform(lambda x: x.fillna(x.mode().iloc[0] if not x.mode().empty else \"unknown\"))"
   ]
  },
  {
   "cell_type": "code",
   "execution_count": 110,
   "id": "d3daa8ac-031c-42cb-bddb-c051522ab798",
   "metadata": {
    "tags": []
   },
   "outputs": [
    {
     "data": {
      "text/plain": [
       "drive\n",
       "False    426780\n",
       "Name: count, dtype: int64"
      ]
     },
     "execution_count": 110,
     "metadata": {},
     "output_type": "execute_result"
    }
   ],
   "source": [
    "df.drive.isna().value_counts()"
   ]
  },
  {
   "cell_type": "code",
   "execution_count": 111,
   "id": "2dddf359-f8be-4a3b-b51a-dbb28e47b05b",
   "metadata": {
    "tags": []
   },
   "outputs": [
    {
     "data": {
      "text/plain": [
       "drive\n",
       "4wd    190435\n",
       "fwd    167800\n",
       "rwd     68545\n",
       "Name: count, dtype: int64"
      ]
     },
     "execution_count": 111,
     "metadata": {},
     "output_type": "execute_result"
    }
   ],
   "source": [
    "df.drive.value_counts()"
   ]
  },
  {
   "cell_type": "code",
   "execution_count": 112,
   "id": "661e073f-a29d-400b-8176-66c1091a855a",
   "metadata": {
    "tags": []
   },
   "outputs": [
    {
     "name": "stdout",
     "output_type": "stream",
     "text": [
      "<class 'pandas.core.frame.DataFrame'>\n",
      "Index: 426780 entries, 0 to 426879\n",
      "Data columns (total 14 columns):\n",
      " #   Column        Non-Null Count   Dtype  \n",
      "---  ------        --------------   -----  \n",
      " 0   region        426780 non-null  object \n",
      " 1   price         426780 non-null  int64  \n",
      " 2   year          426780 non-null  int32  \n",
      " 3   manufacturer  426780 non-null  object \n",
      " 4   condition     426780 non-null  object \n",
      " 5   cylinders     426780 non-null  int64  \n",
      " 6   fuel          426780 non-null  object \n",
      " 7   odometer      426780 non-null  float64\n",
      " 8   title_status  426780 non-null  object \n",
      " 9   transmission  426780 non-null  object \n",
      " 10  drive         426780 non-null  object \n",
      " 11  type          333943 non-null  object \n",
      " 12  state         426780 non-null  object \n",
      " 13  mileage       426780 non-null  object \n",
      "dtypes: float64(1), int32(1), int64(2), object(10)\n",
      "memory usage: 47.2+ MB\n"
     ]
    }
   ],
   "source": [
    "df.info()"
   ]
  },
  {
   "cell_type": "markdown",
   "id": "88a79891-c5fb-4c9d-947d-8b79f4d7863b",
   "metadata": {
    "tags": []
   },
   "source": [
    "### \"Type\" NULLs"
   ]
  },
  {
   "cell_type": "markdown",
   "id": "773bd930-0e1d-4ed5-a78e-665ad69f3238",
   "metadata": {},
   "source": [
    "\"Type\" is missing ~1/4 of the data, and since this is what I would consider a \"high value\" feature, I am going to make sure to impute this. Again, I will use the groupby function."
   ]
  },
  {
   "cell_type": "code",
   "execution_count": 113,
   "id": "b0bd332c-8d79-469d-a34f-5fdcb83af65d",
   "metadata": {
    "tags": []
   },
   "outputs": [
    {
     "data": {
      "text/plain": [
       "type\n",
       "False    333943\n",
       "True      92837\n",
       "Name: count, dtype: int64"
      ]
     },
     "execution_count": 113,
     "metadata": {},
     "output_type": "execute_result"
    }
   ],
   "source": [
    "df.type.isna().value_counts()"
   ]
  },
  {
   "cell_type": "code",
   "execution_count": 114,
   "id": "d6976980-c01e-42e3-9fe2-cb9fee0fe8f4",
   "metadata": {
    "tags": []
   },
   "outputs": [
    {
     "data": {
      "text/plain": [
       "type\n",
       "sedan          87031\n",
       "SUV            77273\n",
       "pickup         43497\n",
       "truck          35271\n",
       "other          22102\n",
       "coupe          19199\n",
       "hatchback      16597\n",
       "wagon          10747\n",
       "van             8544\n",
       "convertible     7731\n",
       "mini-van        4825\n",
       "offroad          609\n",
       "bus              517\n",
       "Name: count, dtype: int64"
      ]
     },
     "execution_count": 114,
     "metadata": {},
     "output_type": "execute_result"
    }
   ],
   "source": [
    "df.type.value_counts()"
   ]
  },
  {
   "cell_type": "markdown",
   "id": "4e8667f6-8eea-42e9-9d33-506854fd9a73",
   "metadata": {},
   "source": [
    "**Below:** I am going to use the \"fuel\" and \"cylinders\" features to help impute for the \"type\" because of the features given, I think those two will have the highest correlation for the type of vehicle it is.\n",
    "\n",
    "This imputation was able to resolve all of the NULLs and did not generate any \"unknowns\"."
   ]
  },
  {
   "cell_type": "code",
   "execution_count": 115,
   "id": "b6066b24-2f00-4c1c-a49f-71053543d4c0",
   "metadata": {
    "tags": []
   },
   "outputs": [],
   "source": [
    "df['type'] = df.groupby(['fuel', 'cylinders'])['type'].transform(lambda x: x.fillna(x.mode().iloc[0] if not x.mode().empty else \"unknown\"))"
   ]
  },
  {
   "cell_type": "code",
   "execution_count": 116,
   "id": "ee188854-ebc9-4a09-ba97-dd85aab33c0a",
   "metadata": {
    "tags": []
   },
   "outputs": [
    {
     "data": {
      "text/plain": [
       "type\n",
       "False    426780\n",
       "Name: count, dtype: int64"
      ]
     },
     "execution_count": 116,
     "metadata": {},
     "output_type": "execute_result"
    }
   ],
   "source": [
    "df.type.isna().value_counts()"
   ]
  },
  {
   "cell_type": "code",
   "execution_count": 117,
   "id": "5c2373af-997a-46ec-8ef4-60a2ea95839a",
   "metadata": {
    "tags": []
   },
   "outputs": [
    {
     "data": {
      "text/plain": [
       "type\n",
       "sedan          113051\n",
       "SUV             99686\n",
       "pickup          79161\n",
       "truck           43464\n",
       "other           22147\n",
       "coupe           19199\n",
       "hatchback       17098\n",
       "wagon           10747\n",
       "van              8545\n",
       "convertible      7731\n",
       "mini-van         4825\n",
       "offroad           609\n",
       "bus               517\n",
       "Name: count, dtype: int64"
      ]
     },
     "execution_count": 117,
     "metadata": {},
     "output_type": "execute_result"
    }
   ],
   "source": [
    "df.type.value_counts()"
   ]
  },
  {
   "cell_type": "code",
   "execution_count": 118,
   "id": "2e5dc01e-3660-4d1a-96a4-36845fd2298e",
   "metadata": {
    "tags": []
   },
   "outputs": [
    {
     "name": "stdout",
     "output_type": "stream",
     "text": [
      "<class 'pandas.core.frame.DataFrame'>\n",
      "Index: 426780 entries, 0 to 426879\n",
      "Data columns (total 14 columns):\n",
      " #   Column        Non-Null Count   Dtype  \n",
      "---  ------        --------------   -----  \n",
      " 0   region        426780 non-null  object \n",
      " 1   price         426780 non-null  int64  \n",
      " 2   year          426780 non-null  int32  \n",
      " 3   manufacturer  426780 non-null  object \n",
      " 4   condition     426780 non-null  object \n",
      " 5   cylinders     426780 non-null  int64  \n",
      " 6   fuel          426780 non-null  object \n",
      " 7   odometer      426780 non-null  float64\n",
      " 8   title_status  426780 non-null  object \n",
      " 9   transmission  426780 non-null  object \n",
      " 10  drive         426780 non-null  object \n",
      " 11  type          426780 non-null  object \n",
      " 12  state         426780 non-null  object \n",
      " 13  mileage       426780 non-null  object \n",
      "dtypes: float64(1), int32(1), int64(2), object(10)\n",
      "memory usage: 47.2+ MB\n"
     ]
    }
   ],
   "source": [
    "df.info()"
   ]
  },
  {
   "cell_type": "markdown",
   "id": "a36f8a59-d374-4112-85a3-b0b3157ec9ec",
   "metadata": {},
   "source": [
    "## Part 4, Section 3: EDA - Outliers"
   ]
  },
  {
   "cell_type": "markdown",
   "id": "a44ce132-33eb-4928-bf68-790c6bbb38d8",
   "metadata": {
    "tags": []
   },
   "source": [
    "### \"Region\" Outliers"
   ]
  },
  {
   "cell_type": "markdown",
   "id": "16da1faa-07ce-4d7b-9148-d72f9b8129ef",
   "metadata": {},
   "source": [
    "While there are 404 unique values, with the lowest count being \"8\" for \"west virgina (old)\" I do not consider these outliers, since they all seem to be viable locations. Just some locations have a higher amount of cars for sale."
   ]
  },
  {
   "cell_type": "code",
   "execution_count": 119,
   "id": "57d98c77-e270-4159-b021-5d9146a690ed",
   "metadata": {
    "tags": []
   },
   "outputs": [
    {
     "data": {
      "text/plain": [
       "404"
      ]
     },
     "execution_count": 119,
     "metadata": {},
     "output_type": "execute_result"
    }
   ],
   "source": [
    "df.region.nunique()"
   ]
  },
  {
   "cell_type": "code",
   "execution_count": 120,
   "id": "8fc4bd56-2762-4e0a-aa6c-692d251d815a",
   "metadata": {
    "tags": []
   },
   "outputs": [
    {
     "data": {
      "text/plain": [
       "region\n",
       "columbus                   3608\n",
       "jacksonville               3562\n",
       "spokane / coeur d'alene    2987\n",
       "fresno / madera            2983\n",
       "eugene                     2983\n",
       "                           ... \n",
       "meridian                     28\n",
       "southwest MS                 14\n",
       "kansas city                  11\n",
       "fort smith, AR                9\n",
       "west virginia (old)           8\n",
       "Name: count, Length: 404, dtype: int64"
      ]
     },
     "execution_count": 120,
     "metadata": {},
     "output_type": "execute_result"
    }
   ],
   "source": [
    "df.region.value_counts()"
   ]
  },
  {
   "cell_type": "markdown",
   "id": "9b2c9470-0fee-485d-8034-abeb4f88471d",
   "metadata": {
    "tags": []
   },
   "source": [
    "### \"Price\" Outliers"
   ]
  },
  {
   "cell_type": "code",
   "execution_count": 121,
   "id": "6792e753-7f1d-4f70-9fa9-c06342e4e636",
   "metadata": {
    "tags": []
   },
   "outputs": [
    {
     "data": {
      "text/plain": [
       "15651"
      ]
     },
     "execution_count": 121,
     "metadata": {},
     "output_type": "execute_result"
    }
   ],
   "source": [
    "df.price.nunique()"
   ]
  },
  {
   "cell_type": "markdown",
   "id": "52b2fd13-062b-4b7c-bea7-971bc54eb927",
   "metadata": {},
   "source": [
    "**Below:** We can see that there is definitely outliers (the max = 37,36,928,711) And from the Box and Whisker plot we can see there handful of outliers within the dataframe. I am going to use the IQR method to impute the outliers to the mean price of the vehicles. "
   ]
  },
  {
   "cell_type": "code",
   "execution_count": 122,
   "id": "820997c6-4ed4-4f61-905a-453e9c7227e9",
   "metadata": {
    "tags": []
   },
   "outputs": [
    {
     "data": {
      "text/plain": [
       "count       426780.00\n",
       "mean         75212.35\n",
       "std       12183709.29\n",
       "min              0.00\n",
       "25%           5900.00\n",
       "50%          13950.00\n",
       "75%          26485.00\n",
       "max     3736928711.00\n",
       "Name: price, dtype: float64"
      ]
     },
     "execution_count": 122,
     "metadata": {},
     "output_type": "execute_result"
    }
   ],
   "source": [
    "df.price.describe()"
   ]
  },
  {
   "cell_type": "code",
   "execution_count": 123,
   "id": "6a738745-8515-4cf9-a126-fa422b44f5cb",
   "metadata": {
    "tags": []
   },
   "outputs": [
    {
     "name": "stderr",
     "output_type": "stream",
     "text": [
      "C:\\Users\\kmell\\Anaconda3\\Lib\\site-packages\\seaborn\\_oldcore.py:1498: FutureWarning: is_categorical_dtype is deprecated and will be removed in a future version. Use isinstance(dtype, CategoricalDtype) instead\n",
      "  if pd.api.types.is_categorical_dtype(vector):\n"
     ]
    },
    {
     "data": {
      "text/plain": [
       "Text(0, 0.5, 'Price')"
      ]
     },
     "execution_count": 123,
     "metadata": {},
     "output_type": "execute_result"
    },
    {
     "data": {
      "image/png": "[encoded data removed]",
      "text/plain": [
       "<Figure size 1000x600 with 1 Axes>"
      ]
     },
     "metadata": {},
     "output_type": "display_data"
    }
   ],
   "source": [
    "plt.figure(figsize=(10, 6))\n",
    "sns.boxplot(y=df['price'])\n",
    "plt.title(\"Price\")\n",
    "plt.ylabel(\"Price\")"
   ]
  },
  {
   "cell_type": "code",
   "execution_count": 124,
   "id": "d99dca6e-2e69-4162-ba62-cf454c3e7719",
   "metadata": {
    "tags": []
   },
   "outputs": [],
   "source": [
    "Q1 = df['price'].quantile(0.25)\n",
    "Q3 = df['price'].quantile(0.75)\n",
    "IQR = Q3 - Q1\n",
    "\n",
    "lower_bound = Q1 - 1.5 * IQR\n",
    "upper_bound = Q3 + 1.5 * IQR\n",
    "\n",
    "mean_price = df['price'].mean()\n",
    "\n",
    "df['price'] = np.where((df['price'] < lower_bound) | (df['price'] > upper_bound), mean_price, df['price'])"
   ]
  },
  {
   "cell_type": "code",
   "execution_count": 125,
   "id": "35a57ba8-bef8-4a85-9ba9-5856b97a508a",
   "metadata": {
    "tags": []
   },
   "outputs": [
    {
     "data": {
      "text/plain": [
       "count   426780.00\n",
       "mean     17470.31\n",
       "std      15319.28\n",
       "min          0.00\n",
       "25%       5900.00\n",
       "50%      13950.00\n",
       "75%      26485.00\n",
       "max      75212.35\n",
       "Name: price, dtype: float64"
      ]
     },
     "execution_count": 125,
     "metadata": {},
     "output_type": "execute_result"
    }
   ],
   "source": [
    "df.price.describe()"
   ]
  },
  {
   "cell_type": "code",
   "execution_count": 126,
   "id": "a527c8ed-356e-43ac-b0ab-f12c02621935",
   "metadata": {
    "tags": []
   },
   "outputs": [
    {
     "name": "stdout",
     "output_type": "stream",
     "text": [
      "<class 'pandas.core.frame.DataFrame'>\n",
      "Index: 426780 entries, 0 to 426879\n",
      "Data columns (total 14 columns):\n",
      " #   Column        Non-Null Count   Dtype  \n",
      "---  ------        --------------   -----  \n",
      " 0   region        426780 non-null  object \n",
      " 1   price         426780 non-null  float64\n",
      " 2   year          426780 non-null  int32  \n",
      " 3   manufacturer  426780 non-null  object \n",
      " 4   condition     426780 non-null  object \n",
      " 5   cylinders     426780 non-null  int64  \n",
      " 6   fuel          426780 non-null  object \n",
      " 7   odometer      426780 non-null  float64\n",
      " 8   title_status  426780 non-null  object \n",
      " 9   transmission  426780 non-null  object \n",
      " 10  drive         426780 non-null  object \n",
      " 11  type          426780 non-null  object \n",
      " 12  state         426780 non-null  object \n",
      " 13  mileage       426780 non-null  object \n",
      "dtypes: float64(2), int32(1), int64(1), object(10)\n",
      "memory usage: 47.2+ MB\n"
     ]
    }
   ],
   "source": [
    "df.info()"
   ]
  },
  {
   "cell_type": "markdown",
   "id": "bb74740c-d59e-42a2-9768-d8d2892cf47d",
   "metadata": {
    "tags": []
   },
   "source": [
    "### \"Year\" Outliers"
   ]
  },
  {
   "cell_type": "markdown",
   "id": "0cf7bf4c-e046-48a4-b26c-dcc8aeaa3d84",
   "metadata": {},
   "source": [
    "**Below:** We can see that the earliest year listed was 1900 and the highest was 2022, with the mean being 2011. Since there is nothing to say that these vehicles cannot exist, they are all viable options. However, I feel it is unlikely there are many, if any, cars that would be for sale on craigslist that are over a 100 years old. As such, I am going to reimpute the oldest cars to 1940."
   ]
  },
  {
   "cell_type": "code",
   "execution_count": 127,
   "id": "5181f191-94a9-4a0f-9106-c4b70578000e",
   "metadata": {
    "tags": []
   },
   "outputs": [
    {
     "data": {
      "text/plain": [
       "count   426780.00\n",
       "mean      2011.23\n",
       "std          9.44\n",
       "min       1900.00\n",
       "25%       2008.00\n",
       "50%       2013.00\n",
       "75%       2017.00\n",
       "max       2022.00\n",
       "Name: year, dtype: float64"
      ]
     },
     "execution_count": 127,
     "metadata": {},
     "output_type": "execute_result"
    }
   ],
   "source": [
    "df.year.describe()"
   ]
  },
  {
   "cell_type": "code",
   "execution_count": 128,
   "id": "558fca0b-d2ec-4a7a-8ed5-871acd207cee",
   "metadata": {
    "tags": []
   },
   "outputs": [
    {
     "name": "stderr",
     "output_type": "stream",
     "text": [
      "C:\\Users\\kmell\\Anaconda3\\Lib\\site-packages\\seaborn\\_oldcore.py:1498: FutureWarning: is_categorical_dtype is deprecated and will be removed in a future version. Use isinstance(dtype, CategoricalDtype) instead\n",
      "  if pd.api.types.is_categorical_dtype(vector):\n"
     ]
    },
    {
     "data": {
      "text/plain": [
       "Text(0, 0.5, 'Year')"
      ]
     },
     "execution_count": 128,
     "metadata": {},
     "output_type": "execute_result"
    },
    {
     "data": {
      "image/png": "[encoded data removed]",
      "text/plain": [
       "<Figure size 1000x600 with 1 Axes>"
      ]
     },
     "metadata": {},
     "output_type": "display_data"
    }
   ],
   "source": [
    "plt.figure(figsize=(10, 6))\n",
    "sns.boxplot(y=df['year'])\n",
    "plt.title(\"Year\")\n",
    "plt.ylabel(\"Year\")"
   ]
  },
  {
   "cell_type": "code",
   "execution_count": 129,
   "id": "0aabd1a4-4d08-457a-9c99-7392d39ebcd2",
   "metadata": {
    "tags": []
   },
   "outputs": [],
   "source": [
    "df['year'] = df['year'].apply(lambda x: 1940 if x < 1940 else x)"
   ]
  },
  {
   "cell_type": "code",
   "execution_count": 130,
   "id": "a953017c-40db-4b75-aa61-8b8345c43cc3",
   "metadata": {
    "tags": []
   },
   "outputs": [
    {
     "data": {
      "text/plain": [
       "count   426780.00\n",
       "mean      2011.25\n",
       "std          9.30\n",
       "min       1940.00\n",
       "25%       2008.00\n",
       "50%       2013.00\n",
       "75%       2017.00\n",
       "max       2022.00\n",
       "Name: year, dtype: float64"
      ]
     },
     "execution_count": 130,
     "metadata": {},
     "output_type": "execute_result"
    }
   ],
   "source": [
    "df.year.describe()"
   ]
  },
  {
   "cell_type": "markdown",
   "id": "f725d1a2-2d28-42f7-9821-18690c3f5b8b",
   "metadata": {},
   "source": [
    "### \"Manufacturer\" Outliers"
   ]
  },
  {
   "cell_type": "markdown",
   "id": "5c4e6208-5836-4199-9467-593a1ab7c34d",
   "metadata": {},
   "source": [
    "While there are 43 unique values, with some of the most notable manufacturers (ford, chevrolet, toyota) taking the top values, there is no reason to believe the manufacturers with less values are outliers, and therefore. I am opting to say that there is no outliers that need any imputing done."
   ]
  },
  {
   "cell_type": "code",
   "execution_count": 131,
   "id": "66dbce65-6137-4c18-b438-d49622b24a89",
   "metadata": {
    "tags": []
   },
   "outputs": [
    {
     "data": {
      "text/plain": [
       "43"
      ]
     },
     "execution_count": 131,
     "metadata": {},
     "output_type": "execute_result"
    }
   ],
   "source": [
    "df.manufacturer.nunique()"
   ]
  },
  {
   "cell_type": "code",
   "execution_count": 132,
   "id": "d5db5900-fc11-4eea-b173-c43c9d7b0321",
   "metadata": {
    "tags": []
   },
   "outputs": [
    {
     "data": {
      "text/plain": [
       "manufacturer\n",
       "ford               70966\n",
       "chevrolet          55053\n",
       "toyota             34194\n",
       "honda              21263\n",
       "nissan             19065\n",
       "jeep               19010\n",
       "ram                18341\n",
       "unknown            17642\n",
       "gmc                16775\n",
       "bmw                14694\n",
       "dodge              13705\n",
       "mercedes-benz      11816\n",
       "hyundai            10336\n",
       "subaru              9492\n",
       "volkswagen          9344\n",
       "kia                 8453\n",
       "lexus               8198\n",
       "audi                7571\n",
       "cadillac            6953\n",
       "chrysler            6030\n",
       "acura               5976\n",
       "buick               5500\n",
       "mazda               5426\n",
       "infiniti            4801\n",
       "lincoln             4219\n",
       "volvo               3374\n",
       "mitsubishi          3291\n",
       "mini                2376\n",
       "pontiac             2288\n",
       "rover               2113\n",
       "jaguar              1945\n",
       "porsche             1383\n",
       "mercury             1183\n",
       "saturn              1090\n",
       "alfa-romeo           896\n",
       "tesla                868\n",
       "fiat                 791\n",
       "harley-davidson      153\n",
       "ferrari               95\n",
       "datsun                63\n",
       "aston-martin          24\n",
       "land rover            21\n",
       "morgan                 3\n",
       "Name: count, dtype: int64"
      ]
     },
     "execution_count": 132,
     "metadata": {},
     "output_type": "execute_result"
    }
   ],
   "source": [
    "df.manufacturer.value_counts()"
   ]
  },
  {
   "cell_type": "code",
   "execution_count": 133,
   "id": "754df5ac-78ac-4f29-8f37-dfdc047dd9d3",
   "metadata": {
    "tags": []
   },
   "outputs": [
    {
     "name": "stdout",
     "output_type": "stream",
     "text": [
      "<class 'pandas.core.frame.DataFrame'>\n",
      "Index: 426780 entries, 0 to 426879\n",
      "Data columns (total 14 columns):\n",
      " #   Column        Non-Null Count   Dtype  \n",
      "---  ------        --------------   -----  \n",
      " 0   region        426780 non-null  object \n",
      " 1   price         426780 non-null  float64\n",
      " 2   year          426780 non-null  int64  \n",
      " 3   manufacturer  426780 non-null  object \n",
      " 4   condition     426780 non-null  object \n",
      " 5   cylinders     426780 non-null  int64  \n",
      " 6   fuel          426780 non-null  object \n",
      " 7   odometer      426780 non-null  float64\n",
      " 8   title_status  426780 non-null  object \n",
      " 9   transmission  426780 non-null  object \n",
      " 10  drive         426780 non-null  object \n",
      " 11  type          426780 non-null  object \n",
      " 12  state         426780 non-null  object \n",
      " 13  mileage       426780 non-null  object \n",
      "dtypes: float64(2), int64(2), object(10)\n",
      "memory usage: 48.8+ MB\n"
     ]
    }
   ],
   "source": [
    "df.info()"
   ]
  },
  {
   "cell_type": "markdown",
   "id": "b6c3f0f3-b920-4056-8cd0-6fff05ef4fa4",
   "metadata": {
    "tags": []
   },
   "source": [
    "### \"Condition\" Outliers"
   ]
  },
  {
   "cell_type": "markdown",
   "id": "10b98c46-cca4-4a5a-83f8-a8bc36d589d7",
   "metadata": {},
   "source": [
    "There is no outliers, as all entries fall into 1 of 6 reasonable categories."
   ]
  },
  {
   "cell_type": "code",
   "execution_count": 134,
   "id": "7668972b-36b0-4497-9e43-30957f65818e",
   "metadata": {
    "tags": []
   },
   "outputs": [
    {
     "data": {
      "text/plain": [
       "6"
      ]
     },
     "execution_count": 134,
     "metadata": {},
     "output_type": "execute_result"
    }
   ],
   "source": [
    "df.condition.nunique()"
   ]
  },
  {
   "cell_type": "code",
   "execution_count": 135,
   "id": "094d31a9-629e-47dc-88cc-ab77acd24c38",
   "metadata": {
    "tags": []
   },
   "outputs": [
    {
     "data": {
      "text/plain": [
       "condition\n",
       "excellent    210397\n",
       "good         186467\n",
       "like new      21177\n",
       "fair           6819\n",
       "new            1319\n",
       "salvage         601\n",
       "Name: count, dtype: int64"
      ]
     },
     "execution_count": 135,
     "metadata": {},
     "output_type": "execute_result"
    }
   ],
   "source": [
    "df.condition.value_counts()"
   ]
  },
  {
   "cell_type": "markdown",
   "id": "9a2608b0-90a2-4df2-b316-d8cf9cd16331",
   "metadata": {
    "tags": []
   },
   "source": [
    "### \"Cylinder\" Outliers"
   ]
  },
  {
   "cell_type": "markdown",
   "id": "55230ed4-4ac3-4bec-aaa8-e889026e7655",
   "metadata": {},
   "source": [
    "Even though there is class imbalance, all entries fall into 1 of 8 categories, which are all reasonable (there are vehicles with up 12 cylinders)."
   ]
  },
  {
   "cell_type": "code",
   "execution_count": 136,
   "id": "043c4d00-1832-4bd5-8540-b910c9c3264c",
   "metadata": {
    "tags": []
   },
   "outputs": [
    {
     "data": {
      "text/plain": [
       "8"
      ]
     },
     "execution_count": 136,
     "metadata": {},
     "output_type": "execute_result"
    }
   ],
   "source": [
    "df.cylinders.nunique()"
   ]
  },
  {
   "cell_type": "code",
   "execution_count": 137,
   "id": "640c82ce-c0e6-4d32-bcc6-72523c8bf041",
   "metadata": {
    "tags": []
   },
   "outputs": [
    {
     "data": {
      "text/plain": [
       "cylinders\n",
       "6     146220\n",
       "8     140959\n",
       "4     133332\n",
       "0       2499\n",
       "5       1739\n",
       "10      1209\n",
       "3        628\n",
       "12       194\n",
       "Name: count, dtype: int64"
      ]
     },
     "execution_count": 137,
     "metadata": {},
     "output_type": "execute_result"
    }
   ],
   "source": [
    "df.cylinders.value_counts()"
   ]
  },
  {
   "cell_type": "markdown",
   "id": "03dd2b14-156c-4c65-9ec7-43e0159637af",
   "metadata": {
    "tags": []
   },
   "source": [
    "### \"Fuel\" Outliers"
   ]
  },
  {
   "cell_type": "markdown",
   "id": "6ad4c138-7350-43bb-a8b8-6c8f0b8ae8a5",
   "metadata": {},
   "source": [
    "While the vast majority of the entries fall under \"gas\", all entries fall within 5 reasonable categories. There are no outliers."
   ]
  },
  {
   "cell_type": "code",
   "execution_count": 138,
   "id": "3a9a290e-2f6f-49e6-81b0-b16f4c8e158c",
   "metadata": {
    "tags": []
   },
   "outputs": [
    {
     "data": {
      "text/plain": [
       "5"
      ]
     },
     "execution_count": 138,
     "metadata": {},
     "output_type": "execute_result"
    }
   ],
   "source": [
    "df.fuel.nunique()"
   ]
  },
  {
   "cell_type": "code",
   "execution_count": 139,
   "id": "ee80623a-488d-4f13-97dc-408662befe66",
   "metadata": {
    "tags": []
   },
   "outputs": [
    {
     "data": {
      "text/plain": [
       "fuel\n",
       "gas         359137\n",
       "other        30722\n",
       "diesel       30055\n",
       "hybrid        5168\n",
       "electric      1698\n",
       "Name: count, dtype: int64"
      ]
     },
     "execution_count": 139,
     "metadata": {},
     "output_type": "execute_result"
    }
   ],
   "source": [
    "df.fuel.value_counts()"
   ]
  },
  {
   "cell_type": "markdown",
   "id": "9b0c7523-889f-4565-8d6d-1ce900631919",
   "metadata": {
    "tags": []
   },
   "source": [
    "### \"Odometer\" Outliers"
   ]
  },
  {
   "cell_type": "markdown",
   "id": "54e1618e-639f-4550-b0f5-65cf964056ec",
   "metadata": {},
   "source": [
    "There are some outliers, specifically with the max being 10,000,000 miles, I am going to use the IQR method and use the median for mileage above the upper bound."
   ]
  },
  {
   "cell_type": "code",
   "execution_count": 140,
   "id": "31d058eb-0d59-4ecd-b2b3-4fd4bc6eeecb",
   "metadata": {
    "tags": []
   },
   "outputs": [
    {
     "data": {
      "text/plain": [
       "count     426780.00\n",
       "mean       98044.85\n",
       "std       212799.09\n",
       "min            0.00\n",
       "25%        38130.00\n",
       "50%        86600.00\n",
       "75%       133000.00\n",
       "max     10000000.00\n",
       "Name: odometer, dtype: float64"
      ]
     },
     "execution_count": 140,
     "metadata": {},
     "output_type": "execute_result"
    }
   ],
   "source": [
    "df.odometer.describe()"
   ]
  },
  {
   "cell_type": "code",
   "execution_count": 141,
   "id": "ec4bd964-3aec-4d00-9bb4-fb12126ba96d",
   "metadata": {
    "tags": []
   },
   "outputs": [
    {
     "name": "stderr",
     "output_type": "stream",
     "text": [
      "C:\\Users\\kmell\\Anaconda3\\Lib\\site-packages\\seaborn\\_oldcore.py:1498: FutureWarning: is_categorical_dtype is deprecated and will be removed in a future version. Use isinstance(dtype, CategoricalDtype) instead\n",
      "  if pd.api.types.is_categorical_dtype(vector):\n"
     ]
    },
    {
     "data": {
      "text/plain": [
       "Text(0, 0.5, 'Miles')"
      ]
     },
     "execution_count": 141,
     "metadata": {},
     "output_type": "execute_result"
    },
    {
     "data": {
      "image/png": "[encoded data removed]",
      "text/plain": [
       "<Figure size 1000x600 with 1 Axes>"
      ]
     },
     "metadata": {},
     "output_type": "display_data"
    }
   ],
   "source": [
    "plt.figure(figsize=(10, 6))\n",
    "sns.boxplot(y=df['odometer'])\n",
    "plt.title(\"Miles\")\n",
    "plt.ylabel(\"Miles\")"
   ]
  },
  {
   "cell_type": "code",
   "execution_count": 142,
   "id": "099efeea-71dd-45c3-b1c4-d1067b1b2522",
   "metadata": {
    "tags": []
   },
   "outputs": [],
   "source": [
    "median_odometer = df['odometer'].median()\n",
    "\n",
    "df['odometer'] = np.where(df['odometer'] > upper_bound, median_odometer, df['odometer'])"
   ]
  },
  {
   "cell_type": "code",
   "execution_count": 143,
   "id": "c5c53cee-6e6d-4d5e-aea3-c53596a85e92",
   "metadata": {
    "tags": []
   },
   "outputs": [
    {
     "data": {
      "text/plain": [
       "count   426780.00\n",
       "mean     65615.38\n",
       "std      30192.60\n",
       "min          0.00\n",
       "25%      38130.00\n",
       "50%      86600.00\n",
       "75%      86600.00\n",
       "max      86600.00\n",
       "Name: odometer, dtype: float64"
      ]
     },
     "execution_count": 143,
     "metadata": {},
     "output_type": "execute_result"
    }
   ],
   "source": [
    "df.odometer.describe()"
   ]
  },
  {
   "cell_type": "markdown",
   "id": "c1b3c04d-871f-4fd7-9f05-69355f945ef1",
   "metadata": {
    "tags": []
   },
   "source": [
    "### \"Title_Status\" Outliers"
   ]
  },
  {
   "cell_type": "markdown",
   "id": "9ab2da0d-c6de-4ee8-be00-d420b5ddfb97",
   "metadata": {},
   "source": [
    "There are no outliers because all entrties fall into 1 of 6 reasonable categories."
   ]
  },
  {
   "cell_type": "code",
   "execution_count": 144,
   "id": "cc9363fa-40bd-45b0-ba87-ac9720fa0203",
   "metadata": {
    "tags": []
   },
   "outputs": [
    {
     "data": {
      "text/plain": [
       "6"
      ]
     },
     "execution_count": 144,
     "metadata": {},
     "output_type": "execute_result"
    }
   ],
   "source": [
    "df.title_status.nunique()"
   ]
  },
  {
   "cell_type": "code",
   "execution_count": 145,
   "id": "ebcf8edf-a07c-4cae-8336-aa5869e6c60a",
   "metadata": {
    "tags": []
   },
   "outputs": [
    {
     "data": {
      "text/plain": [
       "title_status\n",
       "clean         413262\n",
       "rebuilt         7217\n",
       "salvage         3867\n",
       "lien            1422\n",
       "missing          814\n",
       "parts only       198\n",
       "Name: count, dtype: int64"
      ]
     },
     "execution_count": 145,
     "metadata": {},
     "output_type": "execute_result"
    }
   ],
   "source": [
    "df.title_status.value_counts()"
   ]
  },
  {
   "cell_type": "markdown",
   "id": "63848bb1-f376-42c4-85a9-5227897568f5",
   "metadata": {
    "tags": []
   },
   "source": [
    "### \"Transmission\" Outliers"
   ]
  },
  {
   "cell_type": "markdown",
   "id": "c84ef3ce-b8c3-4d47-849c-ca42c0861bbf",
   "metadata": {},
   "source": [
    "There are no outliers since all entries fall into 1 of 3 reasonable categories."
   ]
  },
  {
   "cell_type": "code",
   "execution_count": 146,
   "id": "04cdf31d-d6f6-4dd3-bccc-605f07e33c49",
   "metadata": {
    "tags": []
   },
   "outputs": [
    {
     "data": {
      "text/plain": [
       "3"
      ]
     },
     "execution_count": 146,
     "metadata": {},
     "output_type": "execute_result"
    }
   ],
   "source": [
    "df.transmission.nunique()"
   ]
  },
  {
   "cell_type": "code",
   "execution_count": 147,
   "id": "9cd1dbda-cb24-4a52-8e4f-3b2cb69754ef",
   "metadata": {
    "tags": []
   },
   "outputs": [
    {
     "data": {
      "text/plain": [
       "transmission\n",
       "automatic    339004\n",
       "other         62667\n",
       "manual        25109\n",
       "Name: count, dtype: int64"
      ]
     },
     "execution_count": 147,
     "metadata": {},
     "output_type": "execute_result"
    }
   ],
   "source": [
    "df.transmission.value_counts()"
   ]
  },
  {
   "cell_type": "code",
   "execution_count": 148,
   "id": "0d2eb059-a167-42f9-9c44-b0f9603808ab",
   "metadata": {
    "tags": []
   },
   "outputs": [
    {
     "name": "stdout",
     "output_type": "stream",
     "text": [
      "<class 'pandas.core.frame.DataFrame'>\n",
      "Index: 426780 entries, 0 to 426879\n",
      "Data columns (total 14 columns):\n",
      " #   Column        Non-Null Count   Dtype  \n",
      "---  ------        --------------   -----  \n",
      " 0   region        426780 non-null  object \n",
      " 1   price         426780 non-null  float64\n",
      " 2   year          426780 non-null  int64  \n",
      " 3   manufacturer  426780 non-null  object \n",
      " 4   condition     426780 non-null  object \n",
      " 5   cylinders     426780 non-null  int64  \n",
      " 6   fuel          426780 non-null  object \n",
      " 7   odometer      426780 non-null  float64\n",
      " 8   title_status  426780 non-null  object \n",
      " 9   transmission  426780 non-null  object \n",
      " 10  drive         426780 non-null  object \n",
      " 11  type          426780 non-null  object \n",
      " 12  state         426780 non-null  object \n",
      " 13  mileage       426780 non-null  object \n",
      "dtypes: float64(2), int64(2), object(10)\n",
      "memory usage: 48.8+ MB\n"
     ]
    }
   ],
   "source": [
    "df.info()"
   ]
  },
  {
   "cell_type": "markdown",
   "id": "355e7d38-a8bd-4a5a-bd87-9e2434d3a4e3",
   "metadata": {
    "tags": []
   },
   "source": [
    "### \"Drive\" Outliers"
   ]
  },
  {
   "cell_type": "markdown",
   "id": "f4996c8c-3851-4f86-aef5-12f77ed50b26",
   "metadata": {
    "tags": []
   },
   "source": [
    "There are no outliers because all entries fall into 1 of 3 reasonable categories."
   ]
  },
  {
   "cell_type": "code",
   "execution_count": 149,
   "id": "d2e00f61-671e-4d7a-a19e-147978084e45",
   "metadata": {
    "tags": []
   },
   "outputs": [
    {
     "data": {
      "text/plain": [
       "3"
      ]
     },
     "execution_count": 149,
     "metadata": {},
     "output_type": "execute_result"
    }
   ],
   "source": [
    "df.drive.nunique()"
   ]
  },
  {
   "cell_type": "code",
   "execution_count": 150,
   "id": "8b37db5f-74f6-4914-bd18-f88d7d50523b",
   "metadata": {
    "tags": []
   },
   "outputs": [
    {
     "data": {
      "text/plain": [
       "drive\n",
       "4wd    190435\n",
       "fwd    167800\n",
       "rwd     68545\n",
       "Name: count, dtype: int64"
      ]
     },
     "execution_count": 150,
     "metadata": {},
     "output_type": "execute_result"
    }
   ],
   "source": [
    "df.drive.value_counts()"
   ]
  },
  {
   "cell_type": "markdown",
   "id": "f8cc5d8f-4f21-482c-904a-f74a66107dc1",
   "metadata": {},
   "source": [
    "### \"Type\" Outliers"
   ]
  },
  {
   "cell_type": "markdown",
   "id": "0590f2d1-3ae8-4c70-aaec-9f770ee958b3",
   "metadata": {},
   "source": [
    "There are no outliers, since all entries fall into 1 of 13 categories, which are all types of vehicles."
   ]
  },
  {
   "cell_type": "code",
   "execution_count": 151,
   "id": "1ce04ab3-af79-407c-a6c4-cfade5830283",
   "metadata": {
    "tags": []
   },
   "outputs": [
    {
     "data": {
      "text/plain": [
       "13"
      ]
     },
     "execution_count": 151,
     "metadata": {},
     "output_type": "execute_result"
    }
   ],
   "source": [
    "df.type.nunique()"
   ]
  },
  {
   "cell_type": "code",
   "execution_count": 152,
   "id": "a88dfb2e-d48f-438d-8146-34433e450cfd",
   "metadata": {
    "tags": []
   },
   "outputs": [
    {
     "data": {
      "text/plain": [
       "type\n",
       "sedan          113051\n",
       "SUV             99686\n",
       "pickup          79161\n",
       "truck           43464\n",
       "other           22147\n",
       "coupe           19199\n",
       "hatchback       17098\n",
       "wagon           10747\n",
       "van              8545\n",
       "convertible      7731\n",
       "mini-van         4825\n",
       "offroad           609\n",
       "bus               517\n",
       "Name: count, dtype: int64"
      ]
     },
     "execution_count": 152,
     "metadata": {},
     "output_type": "execute_result"
    }
   ],
   "source": [
    "df.type.value_counts()"
   ]
  },
  {
   "cell_type": "markdown",
   "id": "0835a572-f8fa-44a2-b605-3f9bd0267e9c",
   "metadata": {
    "tags": []
   },
   "source": [
    "### \"State\" Outliers"
   ]
  },
  {
   "cell_type": "markdown",
   "id": "1d0a25b0-1a73-40ca-8375-915f165ee238",
   "metadata": {},
   "source": [
    "There are no outliers because all entries fall under the 50 states + D.C. (51 values)."
   ]
  },
  {
   "cell_type": "code",
   "execution_count": 153,
   "id": "1a3e0b09-c758-4d52-a2e2-7d6e28db5c03",
   "metadata": {
    "tags": []
   },
   "outputs": [
    {
     "data": {
      "text/plain": [
       "51"
      ]
     },
     "execution_count": 153,
     "metadata": {},
     "output_type": "execute_result"
    }
   ],
   "source": [
    "df.state.nunique()"
   ]
  },
  {
   "cell_type": "code",
   "execution_count": 154,
   "id": "3876c487-01de-4697-8bb5-ed88f6562362",
   "metadata": {
    "tags": []
   },
   "outputs": [
    {
     "data": {
      "text/plain": [
       "state\n",
       "ca    50601\n",
       "fl    28503\n",
       "tx    22938\n",
       "ny    19378\n",
       "oh    17694\n",
       "or    17098\n",
       "mi    16898\n",
       "nc    15274\n",
       "wa    13859\n",
       "pa    13751\n",
       "wi    11395\n",
       "co    11085\n",
       "tn    11064\n",
       "va    10732\n",
       "il    10384\n",
       "nj     9739\n",
       "id     8959\n",
       "az     8676\n",
       "ia     8632\n",
       "ma     8173\n",
       "mn     7714\n",
       "ga     7002\n",
       "ok     6791\n",
       "sc     6325\n",
       "mt     6292\n",
       "ks     6208\n",
       "in     5704\n",
       "ct     5187\n",
       "al     4953\n",
       "md     4778\n",
       "nm     4421\n",
       "mo     4293\n",
       "ky     4149\n",
       "ar     4037\n",
       "ak     3473\n",
       "nv     3194\n",
       "la     3194\n",
       "nh     2981\n",
       "dc     2969\n",
       "me     2965\n",
       "hi     2964\n",
       "vt     2513\n",
       "ri     2320\n",
       "sd     1301\n",
       "ut     1150\n",
       "wv     1052\n",
       "ne     1035\n",
       "ms     1015\n",
       "de      948\n",
       "wy      609\n",
       "nd      410\n",
       "Name: count, dtype: int64"
      ]
     },
     "execution_count": 154,
     "metadata": {},
     "output_type": "execute_result"
    }
   ],
   "source": [
    "df.state.value_counts()"
   ]
  },
  {
   "cell_type": "markdown",
   "id": "4066ee9f-e999-4517-b78e-b480bbff1afb",
   "metadata": {},
   "source": [
    "### \"Mileage\" Outliers"
   ]
  },
  {
   "cell_type": "markdown",
   "id": "94ab3878-ce7e-48a0-a71e-fcf2682c986d",
   "metadata": {
    "tags": []
   },
   "source": [
    "there is no outliers because I created this feature to include 3 categories, where all entries fall into 1o f the 3 categories."
   ]
  },
  {
   "cell_type": "code",
   "execution_count": 155,
   "id": "81a80af3-04f9-456e-898a-d6c7f30dc200",
   "metadata": {
    "tags": []
   },
   "outputs": [
    {
     "data": {
      "text/plain": [
       "3"
      ]
     },
     "execution_count": 155,
     "metadata": {},
     "output_type": "execute_result"
    }
   ],
   "source": [
    "df.mileage.nunique()"
   ]
  },
  {
   "cell_type": "code",
   "execution_count": 156,
   "id": "95a324f5-30c9-4f10-adef-7448392d5e42",
   "metadata": {
    "tags": []
   },
   "outputs": [
    {
     "data": {
      "text/plain": [
       "mileage\n",
       "low       154474\n",
       "medium    138917\n",
       "high      133389\n",
       "Name: count, dtype: int64"
      ]
     },
     "execution_count": 156,
     "metadata": {},
     "output_type": "execute_result"
    }
   ],
   "source": [
    "df.mileage.value_counts()"
   ]
  },
  {
   "cell_type": "code",
   "execution_count": 157,
   "id": "35bb3b62-0cb8-4a0b-88ad-5f01f54c1910",
   "metadata": {
    "tags": []
   },
   "outputs": [
    {
     "name": "stdout",
     "output_type": "stream",
     "text": [
      "<class 'pandas.core.frame.DataFrame'>\n",
      "Index: 426780 entries, 0 to 426879\n",
      "Data columns (total 14 columns):\n",
      " #   Column        Non-Null Count   Dtype  \n",
      "---  ------        --------------   -----  \n",
      " 0   region        426780 non-null  object \n",
      " 1   price         426780 non-null  float64\n",
      " 2   year          426780 non-null  int64  \n",
      " 3   manufacturer  426780 non-null  object \n",
      " 4   condition     426780 non-null  object \n",
      " 5   cylinders     426780 non-null  int64  \n",
      " 6   fuel          426780 non-null  object \n",
      " 7   odometer      426780 non-null  float64\n",
      " 8   title_status  426780 non-null  object \n",
      " 9   transmission  426780 non-null  object \n",
      " 10  drive         426780 non-null  object \n",
      " 11  type          426780 non-null  object \n",
      " 12  state         426780 non-null  object \n",
      " 13  mileage       426780 non-null  object \n",
      "dtypes: float64(2), int64(2), object(10)\n",
      "memory usage: 48.8+ MB\n"
     ]
    }
   ],
   "source": [
    "df.info()"
   ]
  },
  {
   "cell_type": "markdown",
   "id": "0387d776-5cb1-46f0-a9c9-fcc77dd5ad2b",
   "metadata": {},
   "source": [
    "### Part 4, Section 4: Data Cleaning Table"
   ]
  },
  {
   "cell_type": "markdown",
   "id": "c051313a-6ec2-4635-81b2-8339cab94844",
   "metadata": {},
   "source": [
    "**IMPORTANT NOTE:** I am commenting out this section because I like to re-run my code and I don't want it to run this section each time."
   ]
  },
  {
   "cell_type": "markdown",
   "id": "df990d93-b321-4cce-91d1-e3b169936a54",
   "metadata": {},
   "source": [
    "**Below:** I created a table in PgAdmin that that stored all the actions I took to clean my data. I can use this when I develp my UDFs in the other notebooks."
   ]
  },
  {
   "cell_type": "code",
   "execution_count": 158,
   "id": "e587f5e3-9a64-43c3-be57-cd55a6b50e7c",
   "metadata": {
    "tags": []
   },
   "outputs": [],
   "source": [
    "# connection = psycopg2.connect(\n",
    "#    host = r'127.0.0.1', \n",
    "#    database = r'MSDS610', \n",
    "#    user = r'postgres', \n",
    "#    password = r'postgres', \n",
    "#    port = r'5432')\n",
    "#cursor = connection.cursor()"
   ]
  },
  {
   "cell_type": "code",
   "execution_count": 159,
   "id": "d10a397a-9c06-445e-9804-4344902d1811",
   "metadata": {
    "tags": []
   },
   "outputs": [],
   "source": [
    "# sql_command = \"\"\"\n",
    "#    CREATE TABLE clean_data_rules(\n",
    "#       feature TEXT,\n",
    "#       description TEXT,\n",
    "#       action TEXT);\n",
    "#       \"\"\""
   ]
  },
  {
   "cell_type": "code",
   "execution_count": 160,
   "id": "91b25357-5890-4219-93b9-fb39529a37f3",
   "metadata": {
    "tags": []
   },
   "outputs": [],
   "source": [
    "# cursor.execute(sql_command)"
   ]
  },
  {
   "cell_type": "markdown",
   "id": "e67aa0c1-1a66-445f-b631-d2c4aee30889",
   "metadata": {},
   "source": [
    "![pgAdmin Screenshot](msds_610_final_project_cleaning_rules_pgadm_img.png)"
   ]
  },
  {
   "cell_type": "markdown",
   "id": "84597f18-5b5b-4e0c-a3a7-c259fbe67d00",
   "metadata": {},
   "source": [
    "# Part 5: Feature Engineering & Normalization"
   ]
  },
  {
   "cell_type": "markdown",
   "id": "eabce67b-3167-4e2c-9a28-311a4ddb548a",
   "metadata": {
    "tags": []
   },
   "source": [
    "## Part 5, Section 1: New Features"
   ]
  },
  {
   "cell_type": "markdown",
   "id": "fdcdaac1-13dc-4446-a6be-86ab21f9176e",
   "metadata": {},
   "source": [
    "### New Feature 1: Mileage"
   ]
  },
  {
   "cell_type": "markdown",
   "id": "c54c85ff-216d-4b56-9160-cd70df292fff",
   "metadata": {},
   "source": [
    "This is a feature that I created during the feature selection process, which classifies if the vehicle has \"low\", \"medium\", or \"high\" mileage. this was a useful feature for imputing some NULLs, but it can be useful in predictions, because it creates categories for the countinuous value of \"odometer\" (miles). I can then normalize this by turning each category into an integer, which is the preferred data type for MLs. "
   ]
  },
  {
   "cell_type": "code",
   "execution_count": 161,
   "id": "f2a84b73-1784-4186-a3e5-9d77b506fcaf",
   "metadata": {
    "tags": []
   },
   "outputs": [
    {
     "data": {
      "text/plain": [
       "mileage\n",
       "low       154474\n",
       "medium    138917\n",
       "high      133389\n",
       "Name: count, dtype: int64"
      ]
     },
     "execution_count": 161,
     "metadata": {},
     "output_type": "execute_result"
    }
   ],
   "source": [
    "df.mileage.value_counts()"
   ]
  },
  {
   "cell_type": "markdown",
   "id": "9f58882b-4aed-467f-9c9f-f45049c94b61",
   "metadata": {},
   "source": [
    "### New Feature 2: Age"
   ]
  },
  {
   "cell_type": "markdown",
   "id": "039ebba8-6878-4a15-b3df-b0721b326a03",
   "metadata": {},
   "source": [
    "This feature lists the age of the vehicle using the \"year\" feature. This will be useful for predicting cost because the older the car the more it depreciates (unless it is a vintage). I am u sing the \"datetime\" function to create this feature. Since the age is a direct correlation to \"year\", I am going to drop \"year\" to avoid correlation conflicts."
   ]
  },
  {
   "cell_type": "code",
   "execution_count": 162,
   "id": "e9788c90-28d0-4c8c-bed5-74d0e981e025",
   "metadata": {
    "tags": []
   },
   "outputs": [],
   "source": [
    "current_year = datetime.datetime.now().year\n",
    "df['age'] = current_year - df['year']"
   ]
  },
  {
   "cell_type": "code",
   "execution_count": 163,
   "id": "b6161744-5550-4325-88b3-53d980034f52",
   "metadata": {
    "tags": []
   },
   "outputs": [
    {
     "data": {
      "text/plain": [
       "392571    11\n",
       "Name: age, dtype: int64"
      ]
     },
     "execution_count": 163,
     "metadata": {},
     "output_type": "execute_result"
    }
   ],
   "source": [
    "df.age.sample()"
   ]
  },
  {
   "cell_type": "code",
   "execution_count": 164,
   "id": "07a15be4-f6d8-4d63-a0d6-2418d2e888e9",
   "metadata": {
    "tags": []
   },
   "outputs": [
    {
     "name": "stdout",
     "output_type": "stream",
     "text": [
      "<class 'pandas.core.frame.DataFrame'>\n",
      "Index: 426780 entries, 0 to 426879\n",
      "Data columns (total 15 columns):\n",
      " #   Column        Non-Null Count   Dtype  \n",
      "---  ------        --------------   -----  \n",
      " 0   region        426780 non-null  object \n",
      " 1   price         426780 non-null  float64\n",
      " 2   year          426780 non-null  int64  \n",
      " 3   manufacturer  426780 non-null  object \n",
      " 4   condition     426780 non-null  object \n",
      " 5   cylinders     426780 non-null  int64  \n",
      " 6   fuel          426780 non-null  object \n",
      " 7   odometer      426780 non-null  float64\n",
      " 8   title_status  426780 non-null  object \n",
      " 9   transmission  426780 non-null  object \n",
      " 10  drive         426780 non-null  object \n",
      " 11  type          426780 non-null  object \n",
      " 12  state         426780 non-null  object \n",
      " 13  mileage       426780 non-null  object \n",
      " 14  age           426780 non-null  int64  \n",
      "dtypes: float64(2), int64(3), object(10)\n",
      "memory usage: 52.1+ MB\n"
     ]
    }
   ],
   "source": [
    "df.info()"
   ]
  },
  {
   "cell_type": "code",
   "execution_count": 165,
   "id": "6186ed93-2cec-495f-987e-b4e849f9487f",
   "metadata": {
    "tags": []
   },
   "outputs": [],
   "source": [
    "df.drop(columns=['year'], inplace=True)"
   ]
  },
  {
   "cell_type": "markdown",
   "id": "8e85aaf8-09f7-4881-8fa0-40fd31bdd122",
   "metadata": {
    "tags": []
   },
   "source": [
    "### New Feature 3: Luxury vs Non-Luxury Brands"
   ]
  },
  {
   "cell_type": "markdown",
   "id": "4cadd45a-619f-4167-924a-0e9017f4abce",
   "metadata": {},
   "source": [
    "For this feature, I am developing a binary (0/1) for if the manufacturer is considered a \"luxury\" brand. This will help in prediction, because luxury brands tend to maintain higher resale value. I have identified 13 brands (out of the 43 total brands) that I believe to be \"luxury\" brands. This has personal bias, because someone else might classify the brands differently. For the binary, 1 represent luxury brand and 0 represents non-luxury. There are roughly 75,000 entries that are considered luxury."
   ]
  },
  {
   "cell_type": "code",
   "execution_count": 166,
   "id": "ebbc9b58-a49e-414f-ae8f-db5e282195b6",
   "metadata": {
    "tags": []
   },
   "outputs": [
    {
     "data": {
      "text/plain": [
       "43"
      ]
     },
     "execution_count": 166,
     "metadata": {},
     "output_type": "execute_result"
    }
   ],
   "source": [
    "df.manufacturer.nunique()"
   ]
  },
  {
   "cell_type": "code",
   "execution_count": 167,
   "id": "15c7cbb5-9e2c-4a49-8512-08c6a1e6c0d4",
   "metadata": {
    "tags": []
   },
   "outputs": [
    {
     "data": {
      "text/plain": [
       "manufacturer\n",
       "ford               70966\n",
       "chevrolet          55053\n",
       "toyota             34194\n",
       "honda              21263\n",
       "nissan             19065\n",
       "jeep               19010\n",
       "ram                18341\n",
       "unknown            17642\n",
       "gmc                16775\n",
       "bmw                14694\n",
       "dodge              13705\n",
       "mercedes-benz      11816\n",
       "hyundai            10336\n",
       "subaru              9492\n",
       "volkswagen          9344\n",
       "kia                 8453\n",
       "lexus               8198\n",
       "audi                7571\n",
       "cadillac            6953\n",
       "chrysler            6030\n",
       "acura               5976\n",
       "buick               5500\n",
       "mazda               5426\n",
       "infiniti            4801\n",
       "lincoln             4219\n",
       "volvo               3374\n",
       "mitsubishi          3291\n",
       "mini                2376\n",
       "pontiac             2288\n",
       "rover               2113\n",
       "jaguar              1945\n",
       "porsche             1383\n",
       "mercury             1183\n",
       "saturn              1090\n",
       "alfa-romeo           896\n",
       "tesla                868\n",
       "fiat                 791\n",
       "harley-davidson      153\n",
       "ferrari               95\n",
       "datsun                63\n",
       "aston-martin          24\n",
       "land rover            21\n",
       "morgan                 3\n",
       "Name: count, dtype: int64"
      ]
     },
     "execution_count": 167,
     "metadata": {},
     "output_type": "execute_result"
    }
   ],
   "source": [
    "df.manufacturer.value_counts()"
   ]
  },
  {
   "cell_type": "code",
   "execution_count": 168,
   "id": "225e5819-f88f-451f-befb-63cfd2d1efb4",
   "metadata": {
    "tags": []
   },
   "outputs": [],
   "source": [
    "luxury_brands = [\n",
    "    'bmw', \n",
    "    'mercedes-benz', \n",
    "    'lexus', \n",
    "    'audi', \n",
    "    'cadillac', \n",
    "    'acura',\n",
    "    'infiniti', \n",
    "    'lincoln', \n",
    "    'volvo', \n",
    "    'jaguar', \n",
    "    'porsche', \n",
    "    'land rover',\n",
    "    'rover', \n",
    "    'alfa-romeo', \n",
    "    'tesla', \n",
    "    'ferrari', \n",
    "    'aston-martin']"
   ]
  },
  {
   "cell_type": "code",
   "execution_count": 169,
   "id": "c19a36b6-3555-4c29-80ad-ff067abbe553",
   "metadata": {
    "tags": []
   },
   "outputs": [],
   "source": [
    "df['luxury'] = df['manufacturer'].apply(lambda x: 1 if x.lower() in luxury_brands else 0)"
   ]
  },
  {
   "cell_type": "code",
   "execution_count": 170,
   "id": "f7e14131-93bd-4031-88c7-374d3e660941",
   "metadata": {
    "tags": []
   },
   "outputs": [
    {
     "name": "stdout",
     "output_type": "stream",
     "text": [
      "<class 'pandas.core.frame.DataFrame'>\n",
      "Index: 426780 entries, 0 to 426879\n",
      "Data columns (total 15 columns):\n",
      " #   Column        Non-Null Count   Dtype  \n",
      "---  ------        --------------   -----  \n",
      " 0   region        426780 non-null  object \n",
      " 1   price         426780 non-null  float64\n",
      " 2   manufacturer  426780 non-null  object \n",
      " 3   condition     426780 non-null  object \n",
      " 4   cylinders     426780 non-null  int64  \n",
      " 5   fuel          426780 non-null  object \n",
      " 6   odometer      426780 non-null  float64\n",
      " 7   title_status  426780 non-null  object \n",
      " 8   transmission  426780 non-null  object \n",
      " 9   drive         426780 non-null  object \n",
      " 10  type          426780 non-null  object \n",
      " 11  state         426780 non-null  object \n",
      " 12  mileage       426780 non-null  object \n",
      " 13  age           426780 non-null  int64  \n",
      " 14  luxury        426780 non-null  int64  \n",
      "dtypes: float64(2), int64(3), object(10)\n",
      "memory usage: 52.1+ MB\n"
     ]
    }
   ],
   "source": [
    "df.info()"
   ]
  },
  {
   "cell_type": "code",
   "execution_count": 171,
   "id": "d6c21a83-720e-47ae-a3cd-2f4f0b6b7203",
   "metadata": {
    "tags": []
   },
   "outputs": [
    {
     "data": {
      "text/plain": [
       "luxury\n",
       "0    351833\n",
       "1     74947\n",
       "Name: count, dtype: int64"
      ]
     },
     "execution_count": 171,
     "metadata": {},
     "output_type": "execute_result"
    }
   ],
   "source": [
    "df.luxury.value_counts()"
   ]
  },
  {
   "cell_type": "markdown",
   "id": "0072a948-3e1a-403f-988d-33fb6793c307",
   "metadata": {
    "tags": []
   },
   "source": [
    "## Part 5, Section 2: Normalization Table in PGAdmin"
   ]
  },
  {
   "cell_type": "markdown",
   "id": "90f4ef9d-7025-4169-9729-f6c0afd5daa0",
   "metadata": {},
   "source": [
    "**IMPORTANT NOTE:** I am commenting this section out so that it doesn't re-run everytime I re-run my notebook."
   ]
  },
  {
   "cell_type": "code",
   "execution_count": 172,
   "id": "4d80f975-1fa2-4f7d-98e6-321036e8046c",
   "metadata": {
    "tags": []
   },
   "outputs": [],
   "source": [
    "# connection = psycopg2.connect(\n",
    "#   host = r'127.0.0.1', \n",
    "#   database = r'MSDS610', \n",
    "#   user = r'postgres', \n",
    "#   password = r'postgres', \n",
    "#   port = r'5432')\n",
    "# cursor = connection.cursor()"
   ]
  },
  {
   "cell_type": "code",
   "execution_count": 173,
   "id": "29fe8ce4-1cfd-4855-9fd1-117b95565cb1",
   "metadata": {
    "tags": []
   },
   "outputs": [],
   "source": [
    "# sql_command = \"\"\"\n",
    "#    CREATE TABLE normalization_rules(\n",
    "#      feature TEXT,\n",
    "#      description TEXT,\n",
    "#      action TEXT);\n",
    "#      \"\"\""
   ]
  },
  {
   "cell_type": "code",
   "execution_count": 174,
   "id": "a6dd5366-93e2-432d-b3d1-d6c24ce07e64",
   "metadata": {
    "tags": []
   },
   "outputs": [],
   "source": [
    "# cursor.execute(sql_command)"
   ]
  },
  {
   "cell_type": "code",
   "execution_count": 175,
   "id": "09f3e5b8-bceb-4db2-b12b-a3dc3d713adb",
   "metadata": {
    "tags": []
   },
   "outputs": [],
   "source": [
    "# connection.commit()"
   ]
  },
  {
   "cell_type": "markdown",
   "id": "d95d0a65-69eb-4063-9c92-01223b0084af",
   "metadata": {},
   "source": [
    "![pgAdmin Screenshot](msds_610_final_project_normalization_rules_pgadm_img.png)"
   ]
  },
  {
   "cell_type": "markdown",
   "id": "83af4b19-25a9-4f17-aa6e-90273c1e6003",
   "metadata": {},
   "source": [
    "## Part 5, Section 3: Encoding and Normalizing"
   ]
  },
  {
   "cell_type": "markdown",
   "id": "b9c8242a-91e1-4a9b-b8d1-fabbb1b08df0",
   "metadata": {
    "tags": []
   },
   "source": [
    "### \"Region\" Normalization"
   ]
  },
  {
   "cell_type": "markdown",
   "id": "a7c4b63a-847f-42c0-9b21-d7a210809712",
   "metadata": {},
   "source": [
    "We want to normalize region by converting them into numbers. Because there is 404 unique values, I am going to encode them using  the \"first\" ranking method. It classifies each uniqiue region with a unique number based on on the value counts. I used the \"first\" ranking so in instances where regions have the same frequency, the first one the function comes across gets the next ranking mumber, with the next same frequency region follows with the next ranking suit after that. While this encoding might assume ranking, the alternative is using \"get_dummies\" and that would create too many columns, given that there are 404 unique values. I am opting to stick to the frequency encoding.\n",
    "\n",
    "Additionally, because the encoding is based on frequency, I need to create a dictionary and output it (as a pkl) because using this encoding method on the raw data will generate different values for the categories, and I need to maintain the same encoding."
   ]
  },
  {
   "cell_type": "code",
   "execution_count": 176,
   "id": "1973da6d-37c5-4089-92e7-43aac0c2b01d",
   "metadata": {
    "tags": []
   },
   "outputs": [
    {
     "data": {
      "text/plain": [
       "404"
      ]
     },
     "execution_count": 176,
     "metadata": {},
     "output_type": "execute_result"
    }
   ],
   "source": [
    "df.region.nunique()"
   ]
  },
  {
   "cell_type": "code",
   "execution_count": 177,
   "id": "c9250c81-50b0-4a42-a07c-20c06214bf84",
   "metadata": {
    "tags": []
   },
   "outputs": [
    {
     "data": {
      "text/plain": [
       "region\n",
       "columbus                   3608\n",
       "jacksonville               3562\n",
       "spokane / coeur d'alene    2987\n",
       "fresno / madera            2983\n",
       "eugene                     2983\n",
       "                           ... \n",
       "meridian                     28\n",
       "southwest MS                 14\n",
       "kansas city                  11\n",
       "fort smith, AR                9\n",
       "west virginia (old)           8\n",
       "Name: count, Length: 404, dtype: int64"
      ]
     },
     "execution_count": 177,
     "metadata": {},
     "output_type": "execute_result"
    }
   ],
   "source": [
    "df.region.value_counts()"
   ]
  },
  {
   "cell_type": "code",
   "execution_count": 178,
   "id": "48f9e23e-aaf6-461f-a26e-8a44b34fa28a",
   "metadata": {
    "tags": []
   },
   "outputs": [],
   "source": [
    "region_freq_map = df['region'].value_counts().to_dict()"
   ]
  },
  {
   "cell_type": "code",
   "execution_count": 179,
   "id": "0a6c6bba-5dd4-46c4-89c2-56aec8a9f2c8",
   "metadata": {
    "tags": []
   },
   "outputs": [],
   "source": [
    "region_rank_map = pd.Series(region_freq_map).rank(method='first', ascending=False).to_dict()"
   ]
  },
  {
   "cell_type": "code",
   "execution_count": 180,
   "id": "c4c0f5ac-38e9-4096-995d-41b2f09c4cb6",
   "metadata": {
    "tags": []
   },
   "outputs": [],
   "source": [
    "with open('region_rank_map.pkl', 'wb') as file:\n",
    "    pickle.dump(region_rank_map, file)"
   ]
  },
  {
   "cell_type": "code",
   "execution_count": 181,
   "id": "64d1a6dd-0761-4b6d-95b3-9f68c04615c3",
   "metadata": {},
   "outputs": [],
   "source": [
    "df['region_encoded'] = df['region'].map(region_rank_map)"
   ]
  },
  {
   "cell_type": "code",
   "execution_count": 182,
   "id": "d0b47169-754c-4407-bc62-21aec500ee1d",
   "metadata": {
    "tags": []
   },
   "outputs": [
    {
     "data": {
      "text/plain": [
       "region_encoded\n",
       "1.00      3608\n",
       "2.00      3562\n",
       "3.00      2987\n",
       "4.00      2983\n",
       "5.00      2983\n",
       "          ... \n",
       "400.00      28\n",
       "401.00      14\n",
       "402.00      11\n",
       "403.00       9\n",
       "404.00       8\n",
       "Name: count, Length: 404, dtype: int64"
      ]
     },
     "execution_count": 182,
     "metadata": {},
     "output_type": "execute_result"
    }
   ],
   "source": [
    "df.region_encoded.value_counts()"
   ]
  },
  {
   "cell_type": "code",
   "execution_count": 183,
   "id": "ba9f4e88-b14c-4303-a96f-92b0e62acc4c",
   "metadata": {
    "tags": []
   },
   "outputs": [
    {
     "data": {
      "text/plain": [
       "404"
      ]
     },
     "execution_count": 183,
     "metadata": {},
     "output_type": "execute_result"
    }
   ],
   "source": [
    "df.region_encoded.nunique()"
   ]
  },
  {
   "cell_type": "code",
   "execution_count": 184,
   "id": "e6f576e3-2fed-4223-a3fb-e7048f2ac6ec",
   "metadata": {
    "tags": []
   },
   "outputs": [
    {
     "name": "stdout",
     "output_type": "stream",
     "text": [
      "<class 'pandas.core.frame.DataFrame'>\n",
      "Index: 426780 entries, 0 to 426879\n",
      "Data columns (total 16 columns):\n",
      " #   Column          Non-Null Count   Dtype  \n",
      "---  ------          --------------   -----  \n",
      " 0   region          426780 non-null  object \n",
      " 1   price           426780 non-null  float64\n",
      " 2   manufacturer    426780 non-null  object \n",
      " 3   condition       426780 non-null  object \n",
      " 4   cylinders       426780 non-null  int64  \n",
      " 5   fuel            426780 non-null  object \n",
      " 6   odometer        426780 non-null  float64\n",
      " 7   title_status    426780 non-null  object \n",
      " 8   transmission    426780 non-null  object \n",
      " 9   drive           426780 non-null  object \n",
      " 10  type            426780 non-null  object \n",
      " 11  state           426780 non-null  object \n",
      " 12  mileage         426780 non-null  object \n",
      " 13  age             426780 non-null  int64  \n",
      " 14  luxury          426780 non-null  int64  \n",
      " 15  region_encoded  426780 non-null  float64\n",
      "dtypes: float64(3), int64(3), object(10)\n",
      "memory usage: 55.4+ MB\n"
     ]
    }
   ],
   "source": [
    "df.info()"
   ]
  },
  {
   "cell_type": "code",
   "execution_count": 185,
   "id": "0cc674c1-ee62-4b91-a459-73e3d8ec4d0d",
   "metadata": {
    "tags": []
   },
   "outputs": [],
   "source": [
    "df.drop(columns=['region'], inplace=True)"
   ]
  },
  {
   "cell_type": "markdown",
   "id": "2ff1a320-6d12-4cef-b0d3-53a7ffa5e726",
   "metadata": {
    "tags": []
   },
   "source": [
    "### \"Price\" Normalization: Target"
   ]
  },
  {
   "cell_type": "markdown",
   "id": "18d777e9-2935-4a91-a8d1-ae3d707b8f3d",
   "metadata": {
    "tags": []
   },
   "source": [
    "Since \"Price\" is my target feature, I will not be encoding."
   ]
  },
  {
   "cell_type": "markdown",
   "id": "b863f9ed-5e7b-4010-b8ff-f29819fbd1fd",
   "metadata": {},
   "source": [
    "### \"Manufacturer\" Encoding"
   ]
  },
  {
   "cell_type": "markdown",
   "id": "0c6bcc18-1deb-4db5-b305-a9a1c61fa973",
   "metadata": {},
   "source": [
    "Since \"manufacturer\" is text-based, and has 42 unique values, I am going to encode using the same method I did with \"region\", which will use the the \"first\" frequency ranking method, to ensure that each value gets a unique number. The same idea applies as \"region\", where \"get_dummies\" might prevent ordinality, I am opting to maintain my frequency ranking, due to the vast amount of columns this would create.\n",
    "\n",
    "Same with \"region\", due to the frequency encoding, I need to create a dictionary that normalizes the values, so that when I apply it to the live data it will use the right values."
   ]
  },
  {
   "cell_type": "code",
   "execution_count": 186,
   "id": "3f19f7e0-c4c0-4b0f-be8f-35876777534e",
   "metadata": {
    "tags": []
   },
   "outputs": [],
   "source": [
    "manufacturer_freq_map = df['manufacturer'].value_counts().to_dict()"
   ]
  },
  {
   "cell_type": "code",
   "execution_count": 187,
   "id": "f849c120-5e4c-4f94-ae86-15d114ceb11b",
   "metadata": {},
   "outputs": [],
   "source": [
    "manufacturer_rank_map = pd.Series(manufacturer_freq_map).rank(method='first', ascending=False).to_dict()"
   ]
  },
  {
   "cell_type": "code",
   "execution_count": 188,
   "id": "f69cb739-fc7b-4dab-b764-9b07fba32002",
   "metadata": {},
   "outputs": [],
   "source": [
    "with open('manufacturer_rank_map.pkl', 'wb') as file:\n",
    "    pickle.dump(manufacturer_rank_map, file)"
   ]
  },
  {
   "cell_type": "code",
   "execution_count": 189,
   "id": "a536bea4-65c9-4ca9-b4bd-1e42d4e89bed",
   "metadata": {
    "tags": []
   },
   "outputs": [
    {
     "data": {
      "text/plain": [
       "22218    17.00\n",
       "420121   14.00\n",
       "13090     6.00\n",
       "Name: manufacturer_encoded, dtype: float64"
      ]
     },
     "execution_count": 189,
     "metadata": {},
     "output_type": "execute_result"
    }
   ],
   "source": [
    "df['manufacturer_encoded'] = df['manufacturer'].map(manufacturer_rank_map)\n",
    "df.manufacturer_encoded.sample(3)"
   ]
  },
  {
   "cell_type": "code",
   "execution_count": 190,
   "id": "4e57456e-7853-4d9e-84ec-d37d875f8515",
   "metadata": {
    "tags": []
   },
   "outputs": [],
   "source": [
    "df.drop(columns=['manufacturer'], inplace=True)"
   ]
  },
  {
   "cell_type": "code",
   "execution_count": 191,
   "id": "107c9801-9efd-4a1b-8718-04cd14c64cbc",
   "metadata": {
    "tags": []
   },
   "outputs": [
    {
     "name": "stdout",
     "output_type": "stream",
     "text": [
      "<class 'pandas.core.frame.DataFrame'>\n",
      "Index: 426780 entries, 0 to 426879\n",
      "Data columns (total 15 columns):\n",
      " #   Column                Non-Null Count   Dtype  \n",
      "---  ------                --------------   -----  \n",
      " 0   price                 426780 non-null  float64\n",
      " 1   condition             426780 non-null  object \n",
      " 2   cylinders             426780 non-null  int64  \n",
      " 3   fuel                  426780 non-null  object \n",
      " 4   odometer              426780 non-null  float64\n",
      " 5   title_status          426780 non-null  object \n",
      " 6   transmission          426780 non-null  object \n",
      " 7   drive                 426780 non-null  object \n",
      " 8   type                  426780 non-null  object \n",
      " 9   state                 426780 non-null  object \n",
      " 10  mileage               426780 non-null  object \n",
      " 11  age                   426780 non-null  int64  \n",
      " 12  luxury                426780 non-null  int64  \n",
      " 13  region_encoded        426780 non-null  float64\n",
      " 14  manufacturer_encoded  426780 non-null  float64\n",
      "dtypes: float64(4), int64(3), object(8)\n",
      "memory usage: 52.1+ MB\n"
     ]
    }
   ],
   "source": [
    "df.info()"
   ]
  },
  {
   "cell_type": "markdown",
   "id": "800e56c0-ffe9-4baf-8ac7-9a65369bbc2b",
   "metadata": {},
   "source": [
    "### \"Condition\" Encoding"
   ]
  },
  {
   "cell_type": "markdown",
   "id": "f2b349d5-f0f4-4bb6-a72c-763bac635c46",
   "metadata": {},
   "source": [
    "Since \"condition\" is an ordinal ranking, the best way to encode is using the ordinality-based encoding. So the higher the number, the better the quality. Since there are 6 values, I will be labelling the best condition (new) as 5, all the way down to the worst condition (salvage) as 0"
   ]
  },
  {
   "cell_type": "code",
   "execution_count": 192,
   "id": "597dc1c6-1fb5-4d3a-966c-62314ca5f826",
   "metadata": {
    "tags": []
   },
   "outputs": [
    {
     "data": {
      "text/plain": [
       "6"
      ]
     },
     "execution_count": 192,
     "metadata": {},
     "output_type": "execute_result"
    }
   ],
   "source": [
    "df.condition.nunique()"
   ]
  },
  {
   "cell_type": "code",
   "execution_count": 193,
   "id": "fd4a3d9d-4f42-43e8-b6ab-0ba7588baa8d",
   "metadata": {
    "tags": []
   },
   "outputs": [
    {
     "data": {
      "text/plain": [
       "condition\n",
       "excellent    210397\n",
       "good         186467\n",
       "like new      21177\n",
       "fair           6819\n",
       "new            1319\n",
       "salvage         601\n",
       "Name: count, dtype: int64"
      ]
     },
     "execution_count": 193,
     "metadata": {},
     "output_type": "execute_result"
    }
   ],
   "source": [
    "df.condition.value_counts()"
   ]
  },
  {
   "cell_type": "code",
   "execution_count": 194,
   "id": "92a42e69-4df3-40d8-ba9b-411de2e16932",
   "metadata": {
    "tags": []
   },
   "outputs": [],
   "source": [
    "condition_mapping = {\n",
    "    'new': 5,\n",
    "    'like new': 4,\n",
    "    'excellent': 3,\n",
    "    'good': 2,\n",
    "    'fair': 1,\n",
    "    'salvage': 0}"
   ]
  },
  {
   "cell_type": "code",
   "execution_count": 195,
   "id": "e58f3626-de19-46fa-a5e0-5e0bdbe3e19d",
   "metadata": {
    "tags": []
   },
   "outputs": [],
   "source": [
    "df['condition_encoded'] = df['condition'].map(condition_mapping)"
   ]
  },
  {
   "cell_type": "code",
   "execution_count": 196,
   "id": "a5a39301-d3e5-44be-8160-6121a0258fa8",
   "metadata": {
    "tags": []
   },
   "outputs": [
    {
     "data": {
      "text/plain": [
       "condition_encoded\n",
       "3    210397\n",
       "2    186467\n",
       "4     21177\n",
       "1      6819\n",
       "5      1319\n",
       "0       601\n",
       "Name: count, dtype: int64"
      ]
     },
     "execution_count": 196,
     "metadata": {},
     "output_type": "execute_result"
    }
   ],
   "source": [
    "df.condition_encoded.value_counts()"
   ]
  },
  {
   "cell_type": "code",
   "execution_count": 197,
   "id": "29605275-ca5a-4ef1-b50b-8eb5ddc09a22",
   "metadata": {
    "tags": []
   },
   "outputs": [],
   "source": [
    "df.drop(columns=['condition'], inplace=True)"
   ]
  },
  {
   "cell_type": "markdown",
   "id": "00c65285-c909-47ee-a5eb-13cb294151f7",
   "metadata": {
    "tags": []
   },
   "source": [
    "### \"Cylinders\" Encoding"
   ]
  },
  {
   "cell_type": "markdown",
   "id": "ba2e54f2-c75b-4c1a-8638-5de7f4074c20",
   "metadata": {},
   "source": [
    "\"Cylinders\" has already been encoded, with the integer representing the number of cylinders, and \"other\" as 0."
   ]
  },
  {
   "cell_type": "code",
   "execution_count": 198,
   "id": "5ce2fe2e-3157-437e-8203-7123e88578e2",
   "metadata": {
    "tags": []
   },
   "outputs": [
    {
     "data": {
      "text/plain": [
       "cylinders\n",
       "6     146220\n",
       "8     140959\n",
       "4     133332\n",
       "0       2499\n",
       "5       1739\n",
       "10      1209\n",
       "3        628\n",
       "12       194\n",
       "Name: count, dtype: int64"
      ]
     },
     "execution_count": 198,
     "metadata": {},
     "output_type": "execute_result"
    }
   ],
   "source": [
    "df.cylinders.value_counts()"
   ]
  },
  {
   "cell_type": "markdown",
   "id": "dba7c13b-de54-4b28-ba32-c0fd3da3c85d",
   "metadata": {
    "tags": []
   },
   "source": [
    "### \"Fuel\" Encoding"
   ]
  },
  {
   "cell_type": "markdown",
   "id": "4997f7c2-2d15-4854-8dfe-38ab867a7826",
   "metadata": {},
   "source": [
    "Since \"fuel\" only has 5 values, I am opting to encode using \"get_dummies\", which will create a boolean columns for each of the "
   ]
  },
  {
   "cell_type": "code",
   "execution_count": 199,
   "id": "7408ac63-d4fd-4365-9177-2d07f26ff0b9",
   "metadata": {
    "tags": []
   },
   "outputs": [
    {
     "data": {
      "text/plain": [
       "fuel\n",
       "gas         359137\n",
       "other        30722\n",
       "diesel       30055\n",
       "hybrid        5168\n",
       "electric      1698\n",
       "Name: count, dtype: int64"
      ]
     },
     "execution_count": 199,
     "metadata": {},
     "output_type": "execute_result"
    }
   ],
   "source": [
    "df.fuel.value_counts()"
   ]
  },
  {
   "cell_type": "code",
   "execution_count": 200,
   "id": "f48d183e-8a69-4c19-8fef-225099dc87ee",
   "metadata": {
    "tags": []
   },
   "outputs": [],
   "source": [
    "df = pd.get_dummies(df, columns=['fuel'], drop_first=True)"
   ]
  },
  {
   "cell_type": "code",
   "execution_count": 201,
   "id": "31927b29-dfa1-45f6-956e-267777b730bf",
   "metadata": {
    "tags": []
   },
   "outputs": [
    {
     "name": "stdout",
     "output_type": "stream",
     "text": [
      "<class 'pandas.core.frame.DataFrame'>\n",
      "Index: 426780 entries, 0 to 426879\n",
      "Data columns (total 18 columns):\n",
      " #   Column                Non-Null Count   Dtype  \n",
      "---  ------                --------------   -----  \n",
      " 0   price                 426780 non-null  float64\n",
      " 1   cylinders             426780 non-null  int64  \n",
      " 2   odometer              426780 non-null  float64\n",
      " 3   title_status          426780 non-null  object \n",
      " 4   transmission          426780 non-null  object \n",
      " 5   drive                 426780 non-null  object \n",
      " 6   type                  426780 non-null  object \n",
      " 7   state                 426780 non-null  object \n",
      " 8   mileage               426780 non-null  object \n",
      " 9   age                   426780 non-null  int64  \n",
      " 10  luxury                426780 non-null  int64  \n",
      " 11  region_encoded        426780 non-null  float64\n",
      " 12  manufacturer_encoded  426780 non-null  float64\n",
      " 13  condition_encoded     426780 non-null  int64  \n",
      " 14  fuel_electric         426780 non-null  bool   \n",
      " 15  fuel_gas              426780 non-null  bool   \n",
      " 16  fuel_hybrid           426780 non-null  bool   \n",
      " 17  fuel_other            426780 non-null  bool   \n",
      "dtypes: bool(4), float64(4), int64(4), object(6)\n",
      "memory usage: 50.5+ MB\n"
     ]
    }
   ],
   "source": [
    "df.info()"
   ]
  },
  {
   "cell_type": "code",
   "execution_count": 202,
   "id": "77ada5e4-2219-4efd-a44e-356c0733afc0",
   "metadata": {
    "tags": []
   },
   "outputs": [
    {
     "name": "stdout",
     "output_type": "stream",
     "text": [
      "<class 'pandas.core.frame.DataFrame'>\n",
      "Index: 426780 entries, 0 to 426879\n",
      "Data columns (total 18 columns):\n",
      " #   Column                Non-Null Count   Dtype  \n",
      "---  ------                --------------   -----  \n",
      " 0   price                 426780 non-null  float64\n",
      " 1   cylinders             426780 non-null  int64  \n",
      " 2   odometer              426780 non-null  float64\n",
      " 3   title_status          426780 non-null  object \n",
      " 4   transmission          426780 non-null  object \n",
      " 5   drive                 426780 non-null  object \n",
      " 6   type                  426780 non-null  object \n",
      " 7   state                 426780 non-null  object \n",
      " 8   mileage               426780 non-null  object \n",
      " 9   age                   426780 non-null  int64  \n",
      " 10  luxury                426780 non-null  int64  \n",
      " 11  region_encoded        426780 non-null  float64\n",
      " 12  manufacturer_encoded  426780 non-null  float64\n",
      " 13  condition_encoded     426780 non-null  int64  \n",
      " 14  fuel_electric         426780 non-null  bool   \n",
      " 15  fuel_gas              426780 non-null  bool   \n",
      " 16  fuel_hybrid           426780 non-null  bool   \n",
      " 17  fuel_other            426780 non-null  bool   \n",
      "dtypes: bool(4), float64(4), int64(4), object(6)\n",
      "memory usage: 50.5+ MB\n"
     ]
    }
   ],
   "source": [
    "df.info()"
   ]
  },
  {
   "cell_type": "markdown",
   "id": "ad08e466-7851-47ab-b9a5-dfcda0181f12",
   "metadata": {
    "tags": []
   },
   "source": [
    "### \"Odometer\" Encoding"
   ]
  },
  {
   "cell_type": "markdown",
   "id": "dfbc4fc4-3432-416d-a343-5d2d56319485",
   "metadata": {},
   "source": [
    "I am going to use the Standard Scaler to normalize the odometer, because \"odometer\" is a continuous value, and I want to represent all values around 0, which will assist the ML model, since scaling is easier for ML models to handle."
   ]
  },
  {
   "cell_type": "code",
   "execution_count": 203,
   "id": "3a010e17-ef18-48b5-ad0d-04caffbf466f",
   "metadata": {
    "tags": []
   },
   "outputs": [
    {
     "name": "stdout",
     "output_type": "stream",
     "text": [
      "<class 'pandas.core.series.Series'>\n",
      "Index: 426780 entries, 0 to 426879\n",
      "Series name: odometer\n",
      "Non-Null Count   Dtype  \n",
      "--------------   -----  \n",
      "426780 non-null  float64\n",
      "dtypes: float64(1)\n",
      "memory usage: 6.5 MB\n"
     ]
    }
   ],
   "source": [
    "df.odometer.info()"
   ]
  },
  {
   "cell_type": "code",
   "execution_count": 204,
   "id": "245972fe-d398-449c-b090-2ea24d36849b",
   "metadata": {
    "tags": []
   },
   "outputs": [
    {
     "data": {
      "text/plain": [
       "388441   86600.00\n",
       "14320    86600.00\n",
       "335521   86600.00\n",
       "Name: odometer, dtype: float64"
      ]
     },
     "execution_count": 204,
     "metadata": {},
     "output_type": "execute_result"
    }
   ],
   "source": [
    "df.odometer.sample(3)"
   ]
  },
  {
   "cell_type": "code",
   "execution_count": 205,
   "id": "f9b23eb1-f4f7-44d1-b23d-e959ac0e8059",
   "metadata": {
    "tags": []
   },
   "outputs": [],
   "source": [
    "scaler = StandardScaler()"
   ]
  },
  {
   "cell_type": "code",
   "execution_count": 206,
   "id": "77611956-18c6-429b-b086-1e140b65ad1c",
   "metadata": {
    "tags": []
   },
   "outputs": [],
   "source": [
    "df['odometer_encoded'] = scaler.fit_transform(df[['odometer']])"
   ]
  },
  {
   "cell_type": "code",
   "execution_count": 207,
   "id": "d242c52b-45c9-45aa-a188-07be1aa1ae49",
   "metadata": {
    "tags": []
   },
   "outputs": [
    {
     "data": {
      "text/plain": [
       "223301   0.70\n",
       "251732   0.70\n",
       "90949    0.70\n",
       "375187   0.70\n",
       "79772    0.70\n",
       "Name: odometer_encoded, dtype: float64"
      ]
     },
     "execution_count": 207,
     "metadata": {},
     "output_type": "execute_result"
    }
   ],
   "source": [
    "df.odometer_encoded.sample(5)"
   ]
  },
  {
   "cell_type": "code",
   "execution_count": 208,
   "id": "e508369a-69f4-47d8-9db9-383468bab835",
   "metadata": {
    "tags": []
   },
   "outputs": [],
   "source": [
    "df.drop(columns=['odometer'], inplace=True)"
   ]
  },
  {
   "cell_type": "code",
   "execution_count": 209,
   "id": "c44143af-8b37-4118-a3b4-86ae1a8596d2",
   "metadata": {
    "tags": []
   },
   "outputs": [
    {
     "name": "stdout",
     "output_type": "stream",
     "text": [
      "<class 'pandas.core.frame.DataFrame'>\n",
      "Index: 426780 entries, 0 to 426879\n",
      "Data columns (total 18 columns):\n",
      " #   Column                Non-Null Count   Dtype  \n",
      "---  ------                --------------   -----  \n",
      " 0   price                 426780 non-null  float64\n",
      " 1   cylinders             426780 non-null  int64  \n",
      " 2   title_status          426780 non-null  object \n",
      " 3   transmission          426780 non-null  object \n",
      " 4   drive                 426780 non-null  object \n",
      " 5   type                  426780 non-null  object \n",
      " 6   state                 426780 non-null  object \n",
      " 7   mileage               426780 non-null  object \n",
      " 8   age                   426780 non-null  int64  \n",
      " 9   luxury                426780 non-null  int64  \n",
      " 10  region_encoded        426780 non-null  float64\n",
      " 11  manufacturer_encoded  426780 non-null  float64\n",
      " 12  condition_encoded     426780 non-null  int64  \n",
      " 13  fuel_electric         426780 non-null  bool   \n",
      " 14  fuel_gas              426780 non-null  bool   \n",
      " 15  fuel_hybrid           426780 non-null  bool   \n",
      " 16  fuel_other            426780 non-null  bool   \n",
      " 17  odometer_encoded      426780 non-null  float64\n",
      "dtypes: bool(4), float64(4), int64(4), object(6)\n",
      "memory usage: 50.5+ MB\n"
     ]
    }
   ],
   "source": [
    "df.info()"
   ]
  },
  {
   "cell_type": "markdown",
   "id": "b94af75f-677b-46db-bb31-f2162e39eb2a",
   "metadata": {},
   "source": [
    "### \"Title Status\" Encoding"
   ]
  },
  {
   "cell_type": "markdown",
   "id": "7138bbc3-a8cf-4c44-a13b-6e7b9b42cb70",
   "metadata": {},
   "source": [
    "Just like the \"condition\" feature, \"title_status\" has values that can be viewed as ordinal (\"clean\" better than \"rebuilt\" better than \"parts only\". I think this could also be considered nominal, and get_dummies can be used. I am opting to take the ordinality route due to the nature of some statuses are certainly better than others. By making this choice, I recognize I am imparting personal bias into the data."
   ]
  },
  {
   "cell_type": "code",
   "execution_count": 210,
   "id": "f72d3fff-ecb1-4190-ae49-a6d79ad93470",
   "metadata": {
    "tags": []
   },
   "outputs": [
    {
     "data": {
      "text/plain": [
       "title_status\n",
       "clean         413262\n",
       "rebuilt         7217\n",
       "salvage         3867\n",
       "lien            1422\n",
       "missing          814\n",
       "parts only       198\n",
       "Name: count, dtype: int64"
      ]
     },
     "execution_count": 210,
     "metadata": {},
     "output_type": "execute_result"
    }
   ],
   "source": [
    "df.title_status.value_counts()"
   ]
  },
  {
   "cell_type": "code",
   "execution_count": 211,
   "id": "cc300a21-5bc6-40b9-bdec-04859a9a1d9c",
   "metadata": {
    "tags": []
   },
   "outputs": [],
   "source": [
    "title_status_mapping = {\n",
    "    'clean': 5,\n",
    "    'rebuilt': 4,\n",
    "    'salvage': 3,\n",
    "    'lien': 2,\n",
    "    'missing': 1,\n",
    "    'parts only': 0}"
   ]
  },
  {
   "cell_type": "code",
   "execution_count": 212,
   "id": "154f9690-bfd0-4628-88b3-512b8590159d",
   "metadata": {
    "tags": []
   },
   "outputs": [],
   "source": [
    "df['title_encoded'] = df['title_status'].map(title_status_mapping)"
   ]
  },
  {
   "cell_type": "code",
   "execution_count": 213,
   "id": "08cc559b-ec85-4e25-9bb1-1660f9b4994c",
   "metadata": {
    "tags": []
   },
   "outputs": [],
   "source": [
    "df.drop(columns=['title_status'], inplace=True)"
   ]
  },
  {
   "cell_type": "code",
   "execution_count": 214,
   "id": "b9c99166-bd17-47cf-8de9-29dce3bfcb10",
   "metadata": {
    "tags": []
   },
   "outputs": [
    {
     "name": "stdout",
     "output_type": "stream",
     "text": [
      "<class 'pandas.core.frame.DataFrame'>\n",
      "Index: 426780 entries, 0 to 426879\n",
      "Data columns (total 18 columns):\n",
      " #   Column                Non-Null Count   Dtype  \n",
      "---  ------                --------------   -----  \n",
      " 0   price                 426780 non-null  float64\n",
      " 1   cylinders             426780 non-null  int64  \n",
      " 2   transmission          426780 non-null  object \n",
      " 3   drive                 426780 non-null  object \n",
      " 4   type                  426780 non-null  object \n",
      " 5   state                 426780 non-null  object \n",
      " 6   mileage               426780 non-null  object \n",
      " 7   age                   426780 non-null  int64  \n",
      " 8   luxury                426780 non-null  int64  \n",
      " 9   region_encoded        426780 non-null  float64\n",
      " 10  manufacturer_encoded  426780 non-null  float64\n",
      " 11  condition_encoded     426780 non-null  int64  \n",
      " 12  fuel_electric         426780 non-null  bool   \n",
      " 13  fuel_gas              426780 non-null  bool   \n",
      " 14  fuel_hybrid           426780 non-null  bool   \n",
      " 15  fuel_other            426780 non-null  bool   \n",
      " 16  odometer_encoded      426780 non-null  float64\n",
      " 17  title_encoded         426780 non-null  int64  \n",
      "dtypes: bool(4), float64(4), int64(5), object(5)\n",
      "memory usage: 50.5+ MB\n"
     ]
    }
   ],
   "source": [
    "df.info()"
   ]
  },
  {
   "cell_type": "markdown",
   "id": "04603d6a-2394-4f2a-b1df-931302650ef1",
   "metadata": {
    "tags": []
   },
   "source": [
    "### \"Transmission\" Encoding"
   ]
  },
  {
   "cell_type": "markdown",
   "id": "46620d64-38ae-45b7-a733-e0cc37a24bd6",
   "metadata": {},
   "source": [
    "Since \"transmission\" only has 3 unique values and they are not ordinal, I am going to use get_dummies to create boolean columns for each transmission type."
   ]
  },
  {
   "cell_type": "code",
   "execution_count": 215,
   "id": "e24158df-d0b9-4368-8f48-54dc2969a141",
   "metadata": {
    "tags": []
   },
   "outputs": [
    {
     "data": {
      "text/plain": [
       "transmission\n",
       "automatic    339004\n",
       "other         62667\n",
       "manual        25109\n",
       "Name: count, dtype: int64"
      ]
     },
     "execution_count": 215,
     "metadata": {},
     "output_type": "execute_result"
    }
   ],
   "source": [
    "df.transmission.value_counts()"
   ]
  },
  {
   "cell_type": "code",
   "execution_count": 216,
   "id": "8514e65e-8990-4137-bdef-89d752a892c9",
   "metadata": {
    "tags": []
   },
   "outputs": [],
   "source": [
    "df = pd.get_dummies(df, columns=['transmission'], drop_first=True)"
   ]
  },
  {
   "cell_type": "code",
   "execution_count": 217,
   "id": "c48a9b84-b7a7-45cd-9800-e558c3ea426c",
   "metadata": {
    "tags": []
   },
   "outputs": [
    {
     "name": "stdout",
     "output_type": "stream",
     "text": [
      "<class 'pandas.core.frame.DataFrame'>\n",
      "Index: 426780 entries, 0 to 426879\n",
      "Data columns (total 19 columns):\n",
      " #   Column                Non-Null Count   Dtype  \n",
      "---  ------                --------------   -----  \n",
      " 0   price                 426780 non-null  float64\n",
      " 1   cylinders             426780 non-null  int64  \n",
      " 2   drive                 426780 non-null  object \n",
      " 3   type                  426780 non-null  object \n",
      " 4   state                 426780 non-null  object \n",
      " 5   mileage               426780 non-null  object \n",
      " 6   age                   426780 non-null  int64  \n",
      " 7   luxury                426780 non-null  int64  \n",
      " 8   region_encoded        426780 non-null  float64\n",
      " 9   manufacturer_encoded  426780 non-null  float64\n",
      " 10  condition_encoded     426780 non-null  int64  \n",
      " 11  fuel_electric         426780 non-null  bool   \n",
      " 12  fuel_gas              426780 non-null  bool   \n",
      " 13  fuel_hybrid           426780 non-null  bool   \n",
      " 14  fuel_other            426780 non-null  bool   \n",
      " 15  odometer_encoded      426780 non-null  float64\n",
      " 16  title_encoded         426780 non-null  int64  \n",
      " 17  transmission_manual   426780 non-null  bool   \n",
      " 18  transmission_other    426780 non-null  bool   \n",
      "dtypes: bool(6), float64(4), int64(5), object(4)\n",
      "memory usage: 48.0+ MB\n"
     ]
    }
   ],
   "source": [
    "df.info()"
   ]
  },
  {
   "cell_type": "markdown",
   "id": "2bec93c1-716b-4ac0-b0bc-02daa9b1e1a2",
   "metadata": {
    "tags": []
   },
   "source": [
    "### \"Drive\" Encoding"
   ]
  },
  {
   "cell_type": "markdown",
   "id": "3d78469a-1163-4787-b5ed-66ac75b3a77e",
   "metadata": {
    "tags": []
   },
   "source": [
    "Same as \"transmission\", \"drive\" has only 3 unique values, which are non-ordinal. So I will be using \"dummies\" to generate boolean values for each value for each entry."
   ]
  },
  {
   "cell_type": "code",
   "execution_count": 218,
   "id": "fe284652-06c8-47a7-8b8d-77a811fcb3ff",
   "metadata": {
    "tags": []
   },
   "outputs": [
    {
     "data": {
      "text/plain": [
       "drive\n",
       "4wd    190435\n",
       "fwd    167800\n",
       "rwd     68545\n",
       "Name: count, dtype: int64"
      ]
     },
     "execution_count": 218,
     "metadata": {},
     "output_type": "execute_result"
    }
   ],
   "source": [
    "df.drive.value_counts()"
   ]
  },
  {
   "cell_type": "code",
   "execution_count": 219,
   "id": "565681fb-d25f-481b-a73c-ade9b338daae",
   "metadata": {
    "tags": []
   },
   "outputs": [],
   "source": [
    "df = pd.get_dummies(df, columns=['drive'], drop_first=True)"
   ]
  },
  {
   "cell_type": "code",
   "execution_count": 220,
   "id": "33f15048-adab-4f75-91aa-54288757cdae",
   "metadata": {
    "tags": []
   },
   "outputs": [
    {
     "name": "stdout",
     "output_type": "stream",
     "text": [
      "<class 'pandas.core.frame.DataFrame'>\n",
      "Index: 426780 entries, 0 to 426879\n",
      "Data columns (total 20 columns):\n",
      " #   Column                Non-Null Count   Dtype  \n",
      "---  ------                --------------   -----  \n",
      " 0   price                 426780 non-null  float64\n",
      " 1   cylinders             426780 non-null  int64  \n",
      " 2   type                  426780 non-null  object \n",
      " 3   state                 426780 non-null  object \n",
      " 4   mileage               426780 non-null  object \n",
      " 5   age                   426780 non-null  int64  \n",
      " 6   luxury                426780 non-null  int64  \n",
      " 7   region_encoded        426780 non-null  float64\n",
      " 8   manufacturer_encoded  426780 non-null  float64\n",
      " 9   condition_encoded     426780 non-null  int64  \n",
      " 10  fuel_electric         426780 non-null  bool   \n",
      " 11  fuel_gas              426780 non-null  bool   \n",
      " 12  fuel_hybrid           426780 non-null  bool   \n",
      " 13  fuel_other            426780 non-null  bool   \n",
      " 14  odometer_encoded      426780 non-null  float64\n",
      " 15  title_encoded         426780 non-null  int64  \n",
      " 16  transmission_manual   426780 non-null  bool   \n",
      " 17  transmission_other    426780 non-null  bool   \n",
      " 18  drive_fwd             426780 non-null  bool   \n",
      " 19  drive_rwd             426780 non-null  bool   \n",
      "dtypes: bool(8), float64(4), int64(5), object(3)\n",
      "memory usage: 45.6+ MB\n"
     ]
    }
   ],
   "source": [
    "df.info()"
   ]
  },
  {
   "cell_type": "markdown",
   "id": "499cb299-5f47-438d-9590-3b40dda95469",
   "metadata": {},
   "source": [
    "### \"Type\" Encoding"
   ]
  },
  {
   "cell_type": "markdown",
   "id": "9d946f3e-ae63-4088-b41e-9ff18cb49f9c",
   "metadata": {},
   "source": [
    "Same as \"transmission\" and \"drive\", \"type\" doesn't have an unmanageable amount of unique values, which are non-ordinal. So I will be using \"dummies\" to generate boolean values for each value for each entry."
   ]
  },
  {
   "cell_type": "code",
   "execution_count": 221,
   "id": "d8be3d0c-f883-4a8b-bbf6-844091d9c2a4",
   "metadata": {
    "tags": []
   },
   "outputs": [
    {
     "data": {
      "text/plain": [
       "type\n",
       "sedan          113051\n",
       "SUV             99686\n",
       "pickup          79161\n",
       "truck           43464\n",
       "other           22147\n",
       "coupe           19199\n",
       "hatchback       17098\n",
       "wagon           10747\n",
       "van              8545\n",
       "convertible      7731\n",
       "mini-van         4825\n",
       "offroad           609\n",
       "bus               517\n",
       "Name: count, dtype: int64"
      ]
     },
     "execution_count": 221,
     "metadata": {},
     "output_type": "execute_result"
    }
   ],
   "source": [
    "df.type.value_counts()"
   ]
  },
  {
   "cell_type": "code",
   "execution_count": 222,
   "id": "cc8eafe6-e6e5-40ac-8dda-2109de5ce083",
   "metadata": {
    "tags": []
   },
   "outputs": [],
   "source": [
    "df = pd.get_dummies(df, columns=['type'], drop_first=True)"
   ]
  },
  {
   "cell_type": "markdown",
   "id": "93847bd0-904b-4284-9b78-7fee4a28c2af",
   "metadata": {},
   "source": [
    "### \"State\" Encoding"
   ]
  },
  {
   "cell_type": "markdown",
   "id": "c71d444f-a475-47c7-8244-b8644ad5b2cd",
   "metadata": {
    "tags": []
   },
   "source": [
    "Just like \"manufacturer\" and \"region\", \"state\" has many unique values (51) and I am opting to use the frequency ranking and creating a pkl file to store the values, which I can then use on my \"live\" data."
   ]
  },
  {
   "cell_type": "code",
   "execution_count": 223,
   "id": "850a71a9-aa7d-42f9-b5b6-e1d8d04bbdca",
   "metadata": {
    "tags": []
   },
   "outputs": [],
   "source": [
    "state_freq_map = df['state'].value_counts().to_dict()"
   ]
  },
  {
   "cell_type": "code",
   "execution_count": 224,
   "id": "83350bb0-bd64-4db9-b2bf-bd92f91296b0",
   "metadata": {
    "tags": []
   },
   "outputs": [],
   "source": [
    "state_rank_map = pd.Series(state_freq_map).rank(method='first', ascending=False).to_dict()"
   ]
  },
  {
   "cell_type": "code",
   "execution_count": 225,
   "id": "6e54bd9b-8a14-4a4b-b8dc-bcadbf74a31f",
   "metadata": {
    "tags": []
   },
   "outputs": [],
   "source": [
    "with open('state_rank_map.pkl', 'wb') as file:\n",
    "    pickle.dump(state_rank_map, file)"
   ]
  },
  {
   "cell_type": "code",
   "execution_count": 226,
   "id": "789ad55f-a52f-489c-b390-bb5edcb250bd",
   "metadata": {
    "tags": []
   },
   "outputs": [],
   "source": [
    "df['state_encoded'] = df['state'].map(state_rank_map)"
   ]
  },
  {
   "cell_type": "code",
   "execution_count": 227,
   "id": "dfb0a4b5-d090-4520-b537-6ecf12a92b54",
   "metadata": {
    "tags": []
   },
   "outputs": [
    {
     "data": {
      "text/plain": [
       "51"
      ]
     },
     "execution_count": 227,
     "metadata": {},
     "output_type": "execute_result"
    }
   ],
   "source": [
    "df.state_encoded.nunique()"
   ]
  },
  {
   "cell_type": "code",
   "execution_count": 228,
   "id": "9c235afb-46df-4612-a656-c48c22c8e7bb",
   "metadata": {
    "tags": []
   },
   "outputs": [],
   "source": [
    "df = df.drop(columns=\"state\")"
   ]
  },
  {
   "cell_type": "code",
   "execution_count": 229,
   "id": "aafff7f8-eddd-4ee2-8a51-e2b290e435f5",
   "metadata": {
    "tags": []
   },
   "outputs": [
    {
     "name": "stdout",
     "output_type": "stream",
     "text": [
      "<class 'pandas.core.frame.DataFrame'>\n",
      "Index: 426780 entries, 0 to 426879\n",
      "Data columns (total 31 columns):\n",
      " #   Column                Non-Null Count   Dtype  \n",
      "---  ------                --------------   -----  \n",
      " 0   price                 426780 non-null  float64\n",
      " 1   cylinders             426780 non-null  int64  \n",
      " 2   mileage               426780 non-null  object \n",
      " 3   age                   426780 non-null  int64  \n",
      " 4   luxury                426780 non-null  int64  \n",
      " 5   region_encoded        426780 non-null  float64\n",
      " 6   manufacturer_encoded  426780 non-null  float64\n",
      " 7   condition_encoded     426780 non-null  int64  \n",
      " 8   fuel_electric         426780 non-null  bool   \n",
      " 9   fuel_gas              426780 non-null  bool   \n",
      " 10  fuel_hybrid           426780 non-null  bool   \n",
      " 11  fuel_other            426780 non-null  bool   \n",
      " 12  odometer_encoded      426780 non-null  float64\n",
      " 13  title_encoded         426780 non-null  int64  \n",
      " 14  transmission_manual   426780 non-null  bool   \n",
      " 15  transmission_other    426780 non-null  bool   \n",
      " 16  drive_fwd             426780 non-null  bool   \n",
      " 17  drive_rwd             426780 non-null  bool   \n",
      " 18  type_bus              426780 non-null  bool   \n",
      " 19  type_convertible      426780 non-null  bool   \n",
      " 20  type_coupe            426780 non-null  bool   \n",
      " 21  type_hatchback        426780 non-null  bool   \n",
      " 22  type_mini-van         426780 non-null  bool   \n",
      " 23  type_offroad          426780 non-null  bool   \n",
      " 24  type_other            426780 non-null  bool   \n",
      " 25  type_pickup           426780 non-null  bool   \n",
      " 26  type_sedan            426780 non-null  bool   \n",
      " 27  type_truck            426780 non-null  bool   \n",
      " 28  type_van              426780 non-null  bool   \n",
      " 29  type_wagon            426780 non-null  bool   \n",
      " 30  state_encoded         426780 non-null  float64\n",
      "dtypes: bool(20), float64(5), int64(5), object(1)\n",
      "memory usage: 47.2+ MB\n"
     ]
    }
   ],
   "source": [
    "df.info()"
   ]
  },
  {
   "cell_type": "markdown",
   "id": "70933408-062d-429d-817c-a044d4ddb2bb",
   "metadata": {},
   "source": [
    "### \"Mileage\" Encoded"
   ]
  },
  {
   "cell_type": "markdown",
   "id": "798b65fa-f1d6-4b76-9f56-1c8697a1f5f2",
   "metadata": {
    "tags": []
   },
   "source": [
    "Since mileage is ordinal categories, I am going to use ordinality numbering."
   ]
  },
  {
   "cell_type": "code",
   "execution_count": 230,
   "id": "d4812c81-2f83-4491-bb4f-8c8c76b4c6de",
   "metadata": {
    "tags": []
   },
   "outputs": [
    {
     "data": {
      "text/plain": [
       "mileage\n",
       "low       154474\n",
       "medium    138917\n",
       "high      133389\n",
       "Name: count, dtype: int64"
      ]
     },
     "execution_count": 230,
     "metadata": {},
     "output_type": "execute_result"
    }
   ],
   "source": [
    "df.mileage.value_counts()"
   ]
  },
  {
   "cell_type": "code",
   "execution_count": 231,
   "id": "78b5a367-97e9-403d-b2a8-45e949736fd6",
   "metadata": {
    "tags": []
   },
   "outputs": [],
   "source": [
    "mileage_map = {'low': 0, 'medium': 1, 'high': 2}"
   ]
  },
  {
   "cell_type": "code",
   "execution_count": 232,
   "id": "2f97fc86-ad04-4c42-b8b8-eefa4dd752ab",
   "metadata": {
    "tags": []
   },
   "outputs": [],
   "source": [
    "df['mileage_encoded'] = df['mileage'].map(mileage_map)"
   ]
  },
  {
   "cell_type": "code",
   "execution_count": 233,
   "id": "712c5eed-658a-44db-b325-429ab30285f8",
   "metadata": {
    "tags": []
   },
   "outputs": [],
   "source": [
    "df = df.drop(columns='mileage')"
   ]
  },
  {
   "cell_type": "code",
   "execution_count": 234,
   "id": "4b57d9e5-9c2e-4cd2-b606-3680a428485c",
   "metadata": {
    "tags": []
   },
   "outputs": [
    {
     "name": "stdout",
     "output_type": "stream",
     "text": [
      "<class 'pandas.core.frame.DataFrame'>\n",
      "Index: 426780 entries, 0 to 426879\n",
      "Data columns (total 31 columns):\n",
      " #   Column                Non-Null Count   Dtype  \n",
      "---  ------                --------------   -----  \n",
      " 0   price                 426780 non-null  float64\n",
      " 1   cylinders             426780 non-null  int64  \n",
      " 2   age                   426780 non-null  int64  \n",
      " 3   luxury                426780 non-null  int64  \n",
      " 4   region_encoded        426780 non-null  float64\n",
      " 5   manufacturer_encoded  426780 non-null  float64\n",
      " 6   condition_encoded     426780 non-null  int64  \n",
      " 7   fuel_electric         426780 non-null  bool   \n",
      " 8   fuel_gas              426780 non-null  bool   \n",
      " 9   fuel_hybrid           426780 non-null  bool   \n",
      " 10  fuel_other            426780 non-null  bool   \n",
      " 11  odometer_encoded      426780 non-null  float64\n",
      " 12  title_encoded         426780 non-null  int64  \n",
      " 13  transmission_manual   426780 non-null  bool   \n",
      " 14  transmission_other    426780 non-null  bool   \n",
      " 15  drive_fwd             426780 non-null  bool   \n",
      " 16  drive_rwd             426780 non-null  bool   \n",
      " 17  type_bus              426780 non-null  bool   \n",
      " 18  type_convertible      426780 non-null  bool   \n",
      " 19  type_coupe            426780 non-null  bool   \n",
      " 20  type_hatchback        426780 non-null  bool   \n",
      " 21  type_mini-van         426780 non-null  bool   \n",
      " 22  type_offroad          426780 non-null  bool   \n",
      " 23  type_other            426780 non-null  bool   \n",
      " 24  type_pickup           426780 non-null  bool   \n",
      " 25  type_sedan            426780 non-null  bool   \n",
      " 26  type_truck            426780 non-null  bool   \n",
      " 27  type_van              426780 non-null  bool   \n",
      " 28  type_wagon            426780 non-null  bool   \n",
      " 29  state_encoded         426780 non-null  float64\n",
      " 30  mileage_encoded       426780 non-null  int64  \n",
      "dtypes: bool(20), float64(5), int64(6)\n",
      "memory usage: 47.2 MB\n"
     ]
    }
   ],
   "source": [
    "df.info()"
   ]
  },
  {
   "cell_type": "code",
   "execution_count": 235,
   "id": "a7292246-5084-4037-968a-4de6ae685290",
   "metadata": {
    "tags": []
   },
   "outputs": [
    {
     "data": {
      "text/html": [
       "<div>\n",
       "<style scoped>\n",
       "    .dataframe tbody tr th:only-of-type {\n",
       "        vertical-align: middle;\n",
       "    }\n",
       "\n",
       "    .dataframe tbody tr th {\n",
       "        vertical-align: top;\n",
       "    }\n",
       "\n",
       "    .dataframe thead th {\n",
       "        text-align: right;\n",
       "    }\n",
       "</style>\n",
       "<table border=\"1\" class=\"dataframe\">\n",
       "  <thead>\n",
       "    <tr style=\"text-align: right;\">\n",
       "      <th></th>\n",
       "      <th>price</th>\n",
       "      <th>cylinders</th>\n",
       "      <th>age</th>\n",
       "      <th>luxury</th>\n",
       "      <th>region_encoded</th>\n",
       "      <th>manufacturer_encoded</th>\n",
       "      <th>condition_encoded</th>\n",
       "      <th>fuel_electric</th>\n",
       "      <th>fuel_gas</th>\n",
       "      <th>fuel_hybrid</th>\n",
       "      <th>...</th>\n",
       "      <th>type_mini-van</th>\n",
       "      <th>type_offroad</th>\n",
       "      <th>type_other</th>\n",
       "      <th>type_pickup</th>\n",
       "      <th>type_sedan</th>\n",
       "      <th>type_truck</th>\n",
       "      <th>type_van</th>\n",
       "      <th>type_wagon</th>\n",
       "      <th>state_encoded</th>\n",
       "      <th>mileage_encoded</th>\n",
       "    </tr>\n",
       "  </thead>\n",
       "  <tbody>\n",
       "    <tr>\n",
       "      <th>0</th>\n",
       "      <td>6000.00</td>\n",
       "      <td>4</td>\n",
       "      <td>14</td>\n",
       "      <td>0</td>\n",
       "      <td>174.00</td>\n",
       "      <td>8.00</td>\n",
       "      <td>3</td>\n",
       "      <td>False</td>\n",
       "      <td>True</td>\n",
       "      <td>False</td>\n",
       "      <td>...</td>\n",
       "      <td>False</td>\n",
       "      <td>False</td>\n",
       "      <td>False</td>\n",
       "      <td>False</td>\n",
       "      <td>True</td>\n",
       "      <td>False</td>\n",
       "      <td>False</td>\n",
       "      <td>False</td>\n",
       "      <td>18.00</td>\n",
       "      <td>1</td>\n",
       "    </tr>\n",
       "  </tbody>\n",
       "</table>\n",
       "<p>1 rows × 31 columns</p>\n",
       "</div>"
      ],
      "text/plain": [
       "    price  cylinders  age  luxury  region_encoded  manufacturer_encoded  \\\n",
       "0 6000.00          4   14       0          174.00                  8.00   \n",
       "\n",
       "   condition_encoded  fuel_electric  fuel_gas  fuel_hybrid  ...  \\\n",
       "0                  3          False      True        False  ...   \n",
       "\n",
       "   type_mini-van  type_offroad  type_other  type_pickup  type_sedan  \\\n",
       "0          False         False       False        False        True   \n",
       "\n",
       "   type_truck  type_van  type_wagon  state_encoded  mileage_encoded  \n",
       "0       False     False       False          18.00                1  \n",
       "\n",
       "[1 rows x 31 columns]"
      ]
     },
     "execution_count": 235,
     "metadata": {},
     "output_type": "execute_result"
    }
   ],
   "source": [
    "df.head(1)"
   ]
  },
  {
   "cell_type": "code",
   "execution_count": 236,
   "id": "236233df-9ba3-48ec-835a-3cd251f54a95",
   "metadata": {
    "tags": []
   },
   "outputs": [
    {
     "name": "stdout",
     "output_type": "stream",
     "text": [
      "<class 'pandas.core.frame.DataFrame'>\n",
      "Index: 426780 entries, 0 to 426879\n",
      "Data columns (total 31 columns):\n",
      " #   Column                Non-Null Count   Dtype  \n",
      "---  ------                --------------   -----  \n",
      " 0   price                 426780 non-null  float64\n",
      " 1   cylinders             426780 non-null  int64  \n",
      " 2   age                   426780 non-null  int64  \n",
      " 3   luxury                426780 non-null  int64  \n",
      " 4   region_encoded        426780 non-null  float64\n",
      " 5   manufacturer_encoded  426780 non-null  float64\n",
      " 6   condition_encoded     426780 non-null  int64  \n",
      " 7   fuel_electric         426780 non-null  bool   \n",
      " 8   fuel_gas              426780 non-null  bool   \n",
      " 9   fuel_hybrid           426780 non-null  bool   \n",
      " 10  fuel_other            426780 non-null  bool   \n",
      " 11  odometer_encoded      426780 non-null  float64\n",
      " 12  title_encoded         426780 non-null  int64  \n",
      " 13  transmission_manual   426780 non-null  bool   \n",
      " 14  transmission_other    426780 non-null  bool   \n",
      " 15  drive_fwd             426780 non-null  bool   \n",
      " 16  drive_rwd             426780 non-null  bool   \n",
      " 17  type_bus              426780 non-null  bool   \n",
      " 18  type_convertible      426780 non-null  bool   \n",
      " 19  type_coupe            426780 non-null  bool   \n",
      " 20  type_hatchback        426780 non-null  bool   \n",
      " 21  type_mini-van         426780 non-null  bool   \n",
      " 22  type_offroad          426780 non-null  bool   \n",
      " 23  type_other            426780 non-null  bool   \n",
      " 24  type_pickup           426780 non-null  bool   \n",
      " 25  type_sedan            426780 non-null  bool   \n",
      " 26  type_truck            426780 non-null  bool   \n",
      " 27  type_van              426780 non-null  bool   \n",
      " 28  type_wagon            426780 non-null  bool   \n",
      " 29  state_encoded         426780 non-null  float64\n",
      " 30  mileage_encoded       426780 non-null  int64  \n",
      "dtypes: bool(20), float64(5), int64(6)\n",
      "memory usage: 47.2 MB\n"
     ]
    }
   ],
   "source": [
    "df.info()"
   ]
  },
  {
   "cell_type": "markdown",
   "id": "c9d6e1e6-df4e-44df-94e7-44363e44dce4",
   "metadata": {},
   "source": [
    "### Part 5, Section 4: Exporting Clean Data to PGAdmin"
   ]
  },
  {
   "cell_type": "markdown",
   "id": "3a271b4f-ef62-4b1f-8218-2f1ddd5c92c3",
   "metadata": {},
   "source": [
    "**Below:** I am creating a copy of the cleaned dataset into PgAdmin so that I can access it in different notebooks."
   ]
  },
  {
   "cell_type": "code",
   "execution_count": 237,
   "id": "0cc7c17a-4a4c-45d5-9c0f-00899a44d012",
   "metadata": {
    "tags": []
   },
   "outputs": [],
   "source": [
    "host = r'127.0.0.1' \n",
    "db = r'MSDS610' \n",
    "user = r'postgres' \n",
    "pw = r'postgres' \n",
    "port = r'5432'\n",
    "schema = r'cleaned'"
   ]
  },
  {
   "cell_type": "code",
   "execution_count": 238,
   "id": "2ee16bdd-ee27-4811-97fe-e74e74669620",
   "metadata": {
    "tags": []
   },
   "outputs": [],
   "source": [
    "db_conn = create_engine(\"postgresql://{}:{}@{}:{}/{}\".format(user, pw, host, port, db))"
   ]
  },
  {
   "cell_type": "code",
   "execution_count": 239,
   "id": "0b04d5b2-8486-4de9-be9a-3fe32153cf68",
   "metadata": {
    "tags": []
   },
   "outputs": [
    {
     "data": {
      "text/plain": [
       "\"SELECT tables.table_name FROM information_schema.tables WHERE table_schema = 'cleaned' ORDER BY 1;\""
      ]
     },
     "execution_count": 239,
     "metadata": {},
     "output_type": "execute_result"
    }
   ],
   "source": [
    "sql = \"SELECT tables.table_name FROM information_schema.tables WHERE table_schema = '\" + schema + \"' ORDER BY 1;\"\n",
    "sql"
   ]
  },
  {
   "cell_type": "code",
   "execution_count": 240,
   "id": "46ae6b3f-3db6-425d-9d79-3e4710b1d4bf",
   "metadata": {
    "tags": []
   },
   "outputs": [],
   "source": [
    "tbl_df = pd.read_sql(sql, db_conn, index_col=None)"
   ]
  },
  {
   "cell_type": "code",
   "execution_count": 241,
   "id": "da181935-088f-4610-9853-c622ad0c945a",
   "metadata": {
    "tags": []
   },
   "outputs": [],
   "source": [
    "table_name = r'vehicle_clean'"
   ]
  },
  {
   "cell_type": "code",
   "execution_count": 242,
   "id": "337e8010-efad-4524-b27b-d00de2f5aa1b",
   "metadata": {
    "tags": []
   },
   "outputs": [
    {
     "data": {
      "text/plain": [
       "426780"
      ]
     },
     "execution_count": 242,
     "metadata": {},
     "output_type": "execute_result"
    }
   ],
   "source": [
    "df.to_sql(table_name, con=db_conn, if_exists='replace', index=False, schema=schema, chunksize=1000, method='multi')"
   ]
  },
  {
   "cell_type": "markdown",
   "id": "e0143eae-0d7a-4857-a3af-8a72ca389ea4",
   "metadata": {},
   "source": [
    "![pgAdmin Screenshot](msds_610_final_project_clean_df_img.png)"
   ]
  }
 ],
 "metadata": {
  "kernelspec": {
   "display_name": "Python 3 (ipykernel)",
   "language": "python",
   "name": "python3"
  },
  "language_info": {
   "codemirror_mode": {
    "name": "ipython",
    "version": 3
   },
   "file_extension": ".py",
   "mimetype": "text/x-python",
   "name": "python",
   "nbconvert_exporter": "python",
   "pygments_lexer": "ipython3",
   "version": "3.11.5"
  }
 },
 "nbformat": 4,
 "nbformat_minor": 5
}
