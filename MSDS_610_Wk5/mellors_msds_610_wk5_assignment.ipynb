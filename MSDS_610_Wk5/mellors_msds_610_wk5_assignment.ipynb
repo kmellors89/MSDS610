{
 "cells": [
  {
   "cell_type": "markdown",
   "id": "79e0e8fc-0262-40f0-b272-215f322e4382",
   "metadata": {},
   "source": [
    "# Mellors MSDS 610 Week 5 Assignment"
   ]
  },
  {
   "cell_type": "markdown",
   "id": "4e5dd5e3-5717-45b4-b464-3d7f7097898a",
   "metadata": {},
   "source": [
    "## Load Libraries and Data "
   ]
  },
  {
   "cell_type": "code",
   "execution_count": 1,
   "id": "e75e0cb4-ef3e-49ff-8ef3-33e522c351b1",
   "metadata": {
    "tags": []
   },
   "outputs": [],
   "source": [
    "import pandas as pd\n",
    "import numpy as np\n",
    "from sqlalchemy import create_engine\n",
    "from sklearn.ensemble import RandomForestClassifier\n",
    "import statsmodels.api as sm\n",
    "from statsmodels.stats.outliers_influence import variance_inflation_factor\n",
    "from sklearn.feature_extraction.text import TfidfVectorizer\n",
    "from sklearn.model_selection import train_test_split\n",
    "from sklearn.metrics import accuracy_score, classification_report\n",
    "from scipy.sparse import hstack\n",
    "from imblearn.over_sampling import SMOTE\n",
    "import matplotlib.pyplot as plt"
   ]
  },
  {
   "cell_type": "code",
   "execution_count": 2,
   "id": "f9b5151b-6404-4821-b979-121d32256610",
   "metadata": {
    "tags": []
   },
   "outputs": [],
   "source": [
    "host = r'127.0.0.1' \n",
    "db = r'MSDS610' \n",
    "user = r'postgres' \n",
    "pw = r'postgres' \n",
    "port = r'5432'\n",
    "schema = r'clean'"
   ]
  },
  {
   "cell_type": "code",
   "execution_count": 3,
   "id": "8249dfaf-03a3-4708-886b-b6f9a3cea678",
   "metadata": {
    "tags": []
   },
   "outputs": [],
   "source": [
    "db_conn = create_engine(\"postgresql://{}:{}@{}:{}/{}\".format(user, pw, host, port, db))"
   ]
  },
  {
   "cell_type": "code",
   "execution_count": 4,
   "id": "1b084d8f-4176-4c3a-9cb4-ee59a2b29a07",
   "metadata": {
    "tags": []
   },
   "outputs": [],
   "source": [
    "table_name = r'movies_cleaned'\n",
    "schema = r'cleaned'"
   ]
  },
  {
   "cell_type": "code",
   "execution_count": 5,
   "id": "2af7f28e-3e96-43ca-a5ca-3b1d78414e99",
   "metadata": {
    "tags": []
   },
   "outputs": [],
   "source": [
    "df = pd.read_sql_table(table_name, db_conn, schema)"
   ]
  },
  {
   "cell_type": "code",
   "execution_count": 6,
   "id": "fdda7963-be61-4bc7-a622-a903f571cdfc",
   "metadata": {
    "tags": []
   },
   "outputs": [
    {
     "data": {
      "text/html": [
       "<div>\n",
       "<style scoped>\n",
       "    .dataframe tbody tr th:only-of-type {\n",
       "        vertical-align: middle;\n",
       "    }\n",
       "\n",
       "    .dataframe tbody tr th {\n",
       "        vertical-align: top;\n",
       "    }\n",
       "\n",
       "    .dataframe thead th {\n",
       "        text-align: right;\n",
       "    }\n",
       "</style>\n",
       "<table border=\"1\" class=\"dataframe\">\n",
       "  <thead>\n",
       "    <tr style=\"text-align: right;\">\n",
       "      <th></th>\n",
       "      <th>budget</th>\n",
       "      <th>genres</th>\n",
       "      <th>keywords</th>\n",
       "      <th>overview</th>\n",
       "      <th>popularity</th>\n",
       "      <th>revenue</th>\n",
       "      <th>tagline</th>\n",
       "      <th>title</th>\n",
       "      <th>vote_average</th>\n",
       "      <th>vote_count</th>\n",
       "      <th>clean_genres</th>\n",
       "      <th>clean_keywords</th>\n",
       "      <th>clean_tagline</th>\n",
       "      <th>clean_overview</th>\n",
       "      <th>profitable</th>\n",
       "    </tr>\n",
       "  </thead>\n",
       "  <tbody>\n",
       "    <tr>\n",
       "      <th>0</th>\n",
       "      <td>15000000</td>\n",
       "      <td>[{\"id\": 28, \"name\": \"Action\"}, {\"id\": 12, \"nam...</td>\n",
       "      <td>[{\"id\": 1463, \"name\": \"culture clash\"}, {\"id\":...</td>\n",
       "      <td>In the 22nd century, a paraplegic Marine is di...</td>\n",
       "      <td>150.437577</td>\n",
       "      <td>19170001</td>\n",
       "      <td>Enter the World of Pandora.</td>\n",
       "      <td>Avatar</td>\n",
       "      <td>7.2</td>\n",
       "      <td>11800</td>\n",
       "      <td>id name action id name adventure id name fanta...</td>\n",
       "      <td>id name culture clash id name future id name s...</td>\n",
       "      <td>enter the world of pandora</td>\n",
       "      <td>in the nd century a paraplegic marine is dispa...</td>\n",
       "      <td>0</td>\n",
       "    </tr>\n",
       "    <tr>\n",
       "      <th>1</th>\n",
       "      <td>15000000</td>\n",
       "      <td>[{\"id\": 12, \"name\": \"Adventure\"}, {\"id\": 14, \"...</td>\n",
       "      <td>[{\"id\": 270, \"name\": \"ocean\"}, {\"id\": 726, \"na...</td>\n",
       "      <td>Captain Barbossa, long believed to be dead, ha...</td>\n",
       "      <td>139.082615</td>\n",
       "      <td>19170001</td>\n",
       "      <td>At the end of the world, the adventure begins.</td>\n",
       "      <td>Pirates of the Caribbean: At World's End</td>\n",
       "      <td>6.9</td>\n",
       "      <td>4500</td>\n",
       "      <td>id name adventure id name fantasy id name action</td>\n",
       "      <td>id name ocean id name drug abuse id name exoti...</td>\n",
       "      <td>at the end of the world the adventure begin</td>\n",
       "      <td>captain barbossa long believed to be dead ha c...</td>\n",
       "      <td>0</td>\n",
       "    </tr>\n",
       "    <tr>\n",
       "      <th>2</th>\n",
       "      <td>15000000</td>\n",
       "      <td>[{\"id\": 28, \"name\": \"Action\"}, {\"id\": 12, \"nam...</td>\n",
       "      <td>[{\"id\": 470, \"name\": \"spy\"}, {\"id\": 818, \"name...</td>\n",
       "      <td>A cryptic message from Bond’s past sends him o...</td>\n",
       "      <td>107.376788</td>\n",
       "      <td>19170001</td>\n",
       "      <td>A Plan No One Escapes</td>\n",
       "      <td>Spectre</td>\n",
       "      <td>6.3</td>\n",
       "      <td>4466</td>\n",
       "      <td>id name action id name adventure id name crime</td>\n",
       "      <td>id name spy id name based on novel id name sec...</td>\n",
       "      <td>a plan no one escape</td>\n",
       "      <td>a cryptic message from bond past sends him on ...</td>\n",
       "      <td>0</td>\n",
       "    </tr>\n",
       "  </tbody>\n",
       "</table>\n",
       "</div>"
      ],
      "text/plain": [
       "     budget                                             genres  \\\n",
       "0  15000000  [{\"id\": 28, \"name\": \"Action\"}, {\"id\": 12, \"nam...   \n",
       "1  15000000  [{\"id\": 12, \"name\": \"Adventure\"}, {\"id\": 14, \"...   \n",
       "2  15000000  [{\"id\": 28, \"name\": \"Action\"}, {\"id\": 12, \"nam...   \n",
       "\n",
       "                                            keywords  \\\n",
       "0  [{\"id\": 1463, \"name\": \"culture clash\"}, {\"id\":...   \n",
       "1  [{\"id\": 270, \"name\": \"ocean\"}, {\"id\": 726, \"na...   \n",
       "2  [{\"id\": 470, \"name\": \"spy\"}, {\"id\": 818, \"name...   \n",
       "\n",
       "                                            overview  popularity   revenue  \\\n",
       "0  In the 22nd century, a paraplegic Marine is di...  150.437577  19170001   \n",
       "1  Captain Barbossa, long believed to be dead, ha...  139.082615  19170001   \n",
       "2  A cryptic message from Bond’s past sends him o...  107.376788  19170001   \n",
       "\n",
       "                                          tagline  \\\n",
       "0                     Enter the World of Pandora.   \n",
       "1  At the end of the world, the adventure begins.   \n",
       "2                           A Plan No One Escapes   \n",
       "\n",
       "                                      title  vote_average  vote_count  \\\n",
       "0                                    Avatar           7.2       11800   \n",
       "1  Pirates of the Caribbean: At World's End           6.9        4500   \n",
       "2                                   Spectre           6.3        4466   \n",
       "\n",
       "                                        clean_genres  \\\n",
       "0  id name action id name adventure id name fanta...   \n",
       "1   id name adventure id name fantasy id name action   \n",
       "2     id name action id name adventure id name crime   \n",
       "\n",
       "                                      clean_keywords  \\\n",
       "0  id name culture clash id name future id name s...   \n",
       "1  id name ocean id name drug abuse id name exoti...   \n",
       "2  id name spy id name based on novel id name sec...   \n",
       "\n",
       "                                 clean_tagline  \\\n",
       "0                   enter the world of pandora   \n",
       "1  at the end of the world the adventure begin   \n",
       "2                         a plan no one escape   \n",
       "\n",
       "                                      clean_overview  profitable  \n",
       "0  in the nd century a paraplegic marine is dispa...           0  \n",
       "1  captain barbossa long believed to be dead ha c...           0  \n",
       "2  a cryptic message from bond past sends him on ...           0  "
      ]
     },
     "execution_count": 6,
     "metadata": {},
     "output_type": "execute_result"
    }
   ],
   "source": [
    "df.head(3)"
   ]
  },
  {
   "cell_type": "code",
   "execution_count": 7,
   "id": "2ed9a50d-7580-48e1-8123-2183e071dad5",
   "metadata": {
    "tags": []
   },
   "outputs": [
    {
     "name": "stdout",
     "output_type": "stream",
     "text": [
      "<class 'pandas.core.frame.DataFrame'>\n",
      "RangeIndex: 4803 entries, 0 to 4802\n",
      "Data columns (total 15 columns):\n",
      " #   Column          Non-Null Count  Dtype  \n",
      "---  ------          --------------  -----  \n",
      " 0   budget          4803 non-null   int64  \n",
      " 1   genres          4803 non-null   object \n",
      " 2   keywords        4803 non-null   object \n",
      " 3   overview        4803 non-null   object \n",
      " 4   popularity      4803 non-null   float64\n",
      " 5   revenue         4803 non-null   int64  \n",
      " 6   tagline         4803 non-null   object \n",
      " 7   title           4803 non-null   object \n",
      " 8   vote_average    4803 non-null   float64\n",
      " 9   vote_count      4803 non-null   int64  \n",
      " 10  clean_genres    4803 non-null   object \n",
      " 11  clean_keywords  4803 non-null   object \n",
      " 12  clean_tagline   4803 non-null   object \n",
      " 13  clean_overview  4803 non-null   object \n",
      " 14  profitable      4803 non-null   int64  \n",
      "dtypes: float64(2), int64(4), object(9)\n",
      "memory usage: 563.0+ KB\n"
     ]
    }
   ],
   "source": [
    "df.info()"
   ]
  },
  {
   "cell_type": "code",
   "execution_count": 8,
   "id": "2fdece2a-2e49-477a-9f06-f049065fd29c",
   "metadata": {
    "tags": []
   },
   "outputs": [],
   "source": [
    "df['clean_genres'] = df['clean_genres'].str.replace('id name', '', regex=False).str.strip()\n",
    "df['clean_keywords'] = df['clean_keywords'].str.replace('id name', '', regex=False).str.strip()"
   ]
  },
  {
   "cell_type": "code",
   "execution_count": 9,
   "id": "9b6159b8-ef83-44c3-a11b-7f11ea335a90",
   "metadata": {
    "tags": []
   },
   "outputs": [
    {
     "data": {
      "text/html": [
       "<div>\n",
       "<style scoped>\n",
       "    .dataframe tbody tr th:only-of-type {\n",
       "        vertical-align: middle;\n",
       "    }\n",
       "\n",
       "    .dataframe tbody tr th {\n",
       "        vertical-align: top;\n",
       "    }\n",
       "\n",
       "    .dataframe thead th {\n",
       "        text-align: right;\n",
       "    }\n",
       "</style>\n",
       "<table border=\"1\" class=\"dataframe\">\n",
       "  <thead>\n",
       "    <tr style=\"text-align: right;\">\n",
       "      <th></th>\n",
       "      <th>budget</th>\n",
       "      <th>genres</th>\n",
       "      <th>keywords</th>\n",
       "      <th>overview</th>\n",
       "      <th>popularity</th>\n",
       "      <th>revenue</th>\n",
       "      <th>tagline</th>\n",
       "      <th>title</th>\n",
       "      <th>vote_average</th>\n",
       "      <th>vote_count</th>\n",
       "      <th>clean_genres</th>\n",
       "      <th>clean_keywords</th>\n",
       "      <th>clean_tagline</th>\n",
       "      <th>clean_overview</th>\n",
       "      <th>profitable</th>\n",
       "    </tr>\n",
       "  </thead>\n",
       "  <tbody>\n",
       "    <tr>\n",
       "      <th>0</th>\n",
       "      <td>15000000</td>\n",
       "      <td>[{\"id\": 28, \"name\": \"Action\"}, {\"id\": 12, \"nam...</td>\n",
       "      <td>[{\"id\": 1463, \"name\": \"culture clash\"}, {\"id\":...</td>\n",
       "      <td>In the 22nd century, a paraplegic Marine is di...</td>\n",
       "      <td>150.437577</td>\n",
       "      <td>19170001</td>\n",
       "      <td>Enter the World of Pandora.</td>\n",
       "      <td>Avatar</td>\n",
       "      <td>7.2</td>\n",
       "      <td>11800</td>\n",
       "      <td>action  adventure  fantasy  science fiction</td>\n",
       "      <td>culture clash  future  space war  space colony...</td>\n",
       "      <td>enter the world of pandora</td>\n",
       "      <td>in the nd century a paraplegic marine is dispa...</td>\n",
       "      <td>0</td>\n",
       "    </tr>\n",
       "  </tbody>\n",
       "</table>\n",
       "</div>"
      ],
      "text/plain": [
       "     budget                                             genres  \\\n",
       "0  15000000  [{\"id\": 28, \"name\": \"Action\"}, {\"id\": 12, \"nam...   \n",
       "\n",
       "                                            keywords  \\\n",
       "0  [{\"id\": 1463, \"name\": \"culture clash\"}, {\"id\":...   \n",
       "\n",
       "                                            overview  popularity   revenue  \\\n",
       "0  In the 22nd century, a paraplegic Marine is di...  150.437577  19170001   \n",
       "\n",
       "                       tagline   title  vote_average  vote_count  \\\n",
       "0  Enter the World of Pandora.  Avatar           7.2       11800   \n",
       "\n",
       "                                  clean_genres  \\\n",
       "0  action  adventure  fantasy  science fiction   \n",
       "\n",
       "                                      clean_keywords  \\\n",
       "0  culture clash  future  space war  space colony...   \n",
       "\n",
       "                clean_tagline  \\\n",
       "0  enter the world of pandora   \n",
       "\n",
       "                                      clean_overview  profitable  \n",
       "0  in the nd century a paraplegic marine is dispa...           0  "
      ]
     },
     "execution_count": 9,
     "metadata": {},
     "output_type": "execute_result"
    }
   ],
   "source": [
    "df.head(1)"
   ]
  },
  {
   "cell_type": "code",
   "execution_count": 10,
   "id": "f4468fbe-9286-477b-b049-d0fc7691452d",
   "metadata": {
    "tags": []
   },
   "outputs": [],
   "source": [
    "df = df.drop(columns = [\"genres\", \"keywords\", \"overview\", \"tagline\"])"
   ]
  },
  {
   "cell_type": "code",
   "execution_count": 11,
   "id": "bb293687-9f6a-4efd-a2a0-9850e18fa073",
   "metadata": {
    "tags": []
   },
   "outputs": [
    {
     "data": {
      "text/html": [
       "<div>\n",
       "<style scoped>\n",
       "    .dataframe tbody tr th:only-of-type {\n",
       "        vertical-align: middle;\n",
       "    }\n",
       "\n",
       "    .dataframe tbody tr th {\n",
       "        vertical-align: top;\n",
       "    }\n",
       "\n",
       "    .dataframe thead th {\n",
       "        text-align: right;\n",
       "    }\n",
       "</style>\n",
       "<table border=\"1\" class=\"dataframe\">\n",
       "  <thead>\n",
       "    <tr style=\"text-align: right;\">\n",
       "      <th></th>\n",
       "      <th>budget</th>\n",
       "      <th>popularity</th>\n",
       "      <th>revenue</th>\n",
       "      <th>title</th>\n",
       "      <th>vote_average</th>\n",
       "      <th>vote_count</th>\n",
       "      <th>clean_genres</th>\n",
       "      <th>clean_keywords</th>\n",
       "      <th>clean_tagline</th>\n",
       "      <th>clean_overview</th>\n",
       "      <th>profitable</th>\n",
       "    </tr>\n",
       "  </thead>\n",
       "  <tbody>\n",
       "    <tr>\n",
       "      <th>0</th>\n",
       "      <td>15000000</td>\n",
       "      <td>150.437577</td>\n",
       "      <td>19170001</td>\n",
       "      <td>Avatar</td>\n",
       "      <td>7.2</td>\n",
       "      <td>11800</td>\n",
       "      <td>action  adventure  fantasy  science fiction</td>\n",
       "      <td>culture clash  future  space war  space colony...</td>\n",
       "      <td>enter the world of pandora</td>\n",
       "      <td>in the nd century a paraplegic marine is dispa...</td>\n",
       "      <td>0</td>\n",
       "    </tr>\n",
       "  </tbody>\n",
       "</table>\n",
       "</div>"
      ],
      "text/plain": [
       "     budget  popularity   revenue   title  vote_average  vote_count  \\\n",
       "0  15000000  150.437577  19170001  Avatar           7.2       11800   \n",
       "\n",
       "                                  clean_genres  \\\n",
       "0  action  adventure  fantasy  science fiction   \n",
       "\n",
       "                                      clean_keywords  \\\n",
       "0  culture clash  future  space war  space colony...   \n",
       "\n",
       "                clean_tagline  \\\n",
       "0  enter the world of pandora   \n",
       "\n",
       "                                      clean_overview  profitable  \n",
       "0  in the nd century a paraplegic marine is dispa...           0  "
      ]
     },
     "execution_count": 11,
     "metadata": {},
     "output_type": "execute_result"
    }
   ],
   "source": [
    "df.head(1)"
   ]
  },
  {
   "cell_type": "code",
   "execution_count": 12,
   "id": "5f180af8-92f7-4b9f-86fd-7dcaed2858bf",
   "metadata": {
    "tags": []
   },
   "outputs": [
    {
     "name": "stdout",
     "output_type": "stream",
     "text": [
      "<class 'pandas.core.frame.DataFrame'>\n",
      "RangeIndex: 4803 entries, 0 to 4802\n",
      "Data columns (total 11 columns):\n",
      " #   Column          Non-Null Count  Dtype  \n",
      "---  ------          --------------  -----  \n",
      " 0   budget          4803 non-null   int64  \n",
      " 1   popularity      4803 non-null   float64\n",
      " 2   revenue         4803 non-null   int64  \n",
      " 3   title           4803 non-null   object \n",
      " 4   vote_average    4803 non-null   float64\n",
      " 5   vote_count      4803 non-null   int64  \n",
      " 6   clean_genres    4803 non-null   object \n",
      " 7   clean_keywords  4803 non-null   object \n",
      " 8   clean_tagline   4803 non-null   object \n",
      " 9   clean_overview  4803 non-null   object \n",
      " 10  profitable      4803 non-null   int64  \n",
      "dtypes: float64(2), int64(4), object(5)\n",
      "memory usage: 412.9+ KB\n"
     ]
    }
   ],
   "source": [
    "df.info()"
   ]
  },
  {
   "cell_type": "markdown",
   "id": "dbd5c5fb-17c8-4322-b237-fcb10662e87f",
   "metadata": {},
   "source": [
    "# Part 1: Analytical Question"
   ]
  },
  {
   "cell_type": "markdown",
   "id": "d53d4541-84e0-41dd-9748-17e05aa32e28",
   "metadata": {},
   "source": [
    "- **Analytical Question 1 (Statistical Determination):** Can I predict whether a movie will be successful based on finances, acclaim, and popularity?\n",
    "- **Analytical Question 2 (True ML):** Can I predict whether a movie will be worth funding based on its textual information (genres, overview, keywords, tagline)?"
   ]
  },
  {
   "cell_type": "markdown",
   "id": "9ad94cd9-2a16-480f-a15e-10790cafc507",
   "metadata": {},
   "source": [
    "# Part 2: New Features"
   ]
  },
  {
   "cell_type": "markdown",
   "id": "410a26ba-2130-4fbe-ab1d-8b2cd60c8880",
   "metadata": {},
   "source": [
    "## New Feature: Financial Success (Profitable)"
   ]
  },
  {
   "cell_type": "markdown",
   "id": "4772e0de-0169-4518-9405-ebb9947fbc6f",
   "metadata": {},
   "source": [
    "I had already created this feature during the clean up stage (Week 3), but I am including it here because it is a new feature and it is the target feature of my project."
   ]
  },
  {
   "cell_type": "markdown",
   "id": "16c2c66e-843a-4ca3-b887-09a0354d68ec",
   "metadata": {},
   "source": [
    "To create this feature I did research and found that a movie is considered to be profitable once it makes at least 2x the budget. For the purposes of my parameters, I set the threshold as profitable = 2.5x the budget. I had created this buy creating a function that states if the \"revenue\" was at least 2.5x the \"budget\", then it is considered profitable. For the purposes of classification, I created the responses in binary, where 1 = Profitable, and 0 = Not Profitable.\n",
    "\n",
    "**Feature Justification:** Since my goal is to find out if a movie is successful, I need to create a set of \"rules\" that define \"success\". As such, the first most important measurement of a film is was it profitable. As mentioned above, this feature measures if the movie made (revenue) atleast 2.5x the budget.\n",
    "\n",
    "**Below:** For consistency purposes, since I decided to create other measurements of success, I decided to rename the feature I created from \"profitable\" to \"financial_success\"."
   ]
  },
  {
   "cell_type": "code",
   "execution_count": 13,
   "id": "c8620118-9439-4984-bed4-6f6c60643d1a",
   "metadata": {
    "tags": []
   },
   "outputs": [],
   "source": [
    "df.rename(columns={\"profitable\": \"financial_success\"}, inplace=True)"
   ]
  },
  {
   "cell_type": "code",
   "execution_count": 14,
   "id": "545be748-46e0-463e-a33e-f341dc36ec9f",
   "metadata": {
    "tags": []
   },
   "outputs": [
    {
     "data": {
      "text/plain": [
       "financial_success\n",
       "0    2563\n",
       "1    2240\n",
       "Name: count, dtype: int64"
      ]
     },
     "execution_count": 14,
     "metadata": {},
     "output_type": "execute_result"
    }
   ],
   "source": [
    "df.financial_success.value_counts()"
   ]
  },
  {
   "cell_type": "markdown",
   "id": "4d4589a4-b936-479e-832f-1e1a2739889f",
   "metadata": {},
   "source": [
    "## New Feature: Cleaned Texts"
   ]
  },
  {
   "cell_type": "markdown",
   "id": "12bd3782-489f-49e1-a644-31f6c636d863",
   "metadata": {},
   "source": [
    "This was another set of features that I created when I did my clean up, which was to create clean text features. Given that the most important features for accomplished my goal are textbased, it was important to clean these up. I did this by lemmatizing and cleaning the text for features \"genres\", \"keywords\". \"overview\", and \"tagline\".\n",
    "\n",
    "**Feature Justification:** (I created these features during the clean up process). Since my analytical question is to see if predictions of success can be made strictly on the textual information, I had to make sure that I was using clean data, so during the cleaning of the dataset, I performed a text cleaning process."
   ]
  },
  {
   "cell_type": "code",
   "execution_count": 15,
   "id": "7fb671b7-13e1-4acc-9e24-5eb61a699127",
   "metadata": {
    "tags": []
   },
   "outputs": [
    {
     "data": {
      "text/plain": [
       "1233    london england  england  s  spirit  single mot...\n",
       "3356             undercover  mafia  mobster  crime family\n",
       "2186    alabama  martin luther king  president  black ...\n",
       "Name: clean_keywords, dtype: object"
      ]
     },
     "execution_count": 15,
     "metadata": {},
     "output_type": "execute_result"
    }
   ],
   "source": [
    "df.clean_keywords.sample(3)"
   ]
  },
  {
   "cell_type": "code",
   "execution_count": 16,
   "id": "d84b7467-8ad1-4187-8a92-a7b1f3e7ccfb",
   "metadata": {
    "tags": []
   },
   "outputs": [
    {
     "data": {
      "text/plain": [
       "919     in the wilderness of british columbia two hunt...\n",
       "3548    after the death of her father little voice or ...\n",
       "1670    secondhand lion follows the comedic adventure ...\n",
       "Name: clean_overview, dtype: object"
      ]
     },
     "execution_count": 16,
     "metadata": {},
     "output_type": "execute_result"
    }
   ],
   "source": [
    "df.clean_overview.sample(3)"
   ]
  },
  {
   "cell_type": "code",
   "execution_count": 17,
   "id": "ca971ab7-2406-405b-86ef-112ec139ba87",
   "metadata": {
    "tags": []
   },
   "outputs": [
    {
     "data": {
      "text/plain": [
       "3386                             comedy\n",
       "2791                     drama  romance\n",
       "3132    animation  drama  family  music\n",
       "Name: clean_genres, dtype: object"
      ]
     },
     "execution_count": 17,
     "metadata": {},
     "output_type": "execute_result"
    }
   ],
   "source": [
    "df.clean_genres.sample(3)"
   ]
  },
  {
   "cell_type": "code",
   "execution_count": 18,
   "id": "fba278cc-4001-440a-ae42-028b59c9d528",
   "metadata": {
    "tags": []
   },
   "outputs": [
    {
     "data": {
      "text/plain": [
       "2997            guess who just made number two\n",
       "1708    he ha minute to solve a murder his own\n",
       "558                                  back work\n",
       "Name: clean_tagline, dtype: object"
      ]
     },
     "execution_count": 18,
     "metadata": {},
     "output_type": "execute_result"
    }
   ],
   "source": [
    "df.clean_tagline.sample(3)"
   ]
  },
  {
   "cell_type": "markdown",
   "id": "02fd5377-1df0-46da-b422-70faadf74525",
   "metadata": {},
   "source": [
    "## New Feature: Critical Success (Critically Acclaimed)"
   ]
  },
  {
   "cell_type": "markdown",
   "id": "5d32e94b-5fd7-40d6-9043-45337b378c03",
   "metadata": {},
   "source": [
    "**Note:** Realistically, I would set my critical success thresholds higher in real-world application (i.e vote_average = 7.5 & vote_count = 5000), but this gave significant class imbalance (only ~60 movies met that requirement), so to ensure a more balanced class, I opted to lower my critical success thresholds - which now has a class imbalance of 4:1 (not successful : successful). \n",
    "\n",
    "**Feature Justification:** While I could judge a movie on its success strictly based off of its financial success, I decided to consider other ways in which I could measure success: so this included 3 types of success: financial success (above), critical success (here), and audience success (below). For critical success, I wanted to focus on my \"vote\" features. I wanted to specifically identify movies as critical success based on the number of votes and the vote rating. This, along with the other successes, will be used to create a \"success score\" that will then be used to to make recommender decisions (fund, manually assess, do not fund)."
   ]
  },
  {
   "cell_type": "code",
   "execution_count": 19,
   "id": "7e03973a-902a-411c-a78c-d2b228f89764",
   "metadata": {
    "tags": []
   },
   "outputs": [],
   "source": [
    "df[\"critical_success\"] = ((df[\"vote_average\"] >= 6.0) & (df[\"vote_count\"] > 500)).astype(int)"
   ]
  },
  {
   "cell_type": "code",
   "execution_count": 20,
   "id": "634ae253-2e76-438c-bd12-d0361126eae8",
   "metadata": {
    "tags": []
   },
   "outputs": [
    {
     "data": {
      "text/html": [
       "<div>\n",
       "<style scoped>\n",
       "    .dataframe tbody tr th:only-of-type {\n",
       "        vertical-align: middle;\n",
       "    }\n",
       "\n",
       "    .dataframe tbody tr th {\n",
       "        vertical-align: top;\n",
       "    }\n",
       "\n",
       "    .dataframe thead th {\n",
       "        text-align: right;\n",
       "    }\n",
       "</style>\n",
       "<table border=\"1\" class=\"dataframe\">\n",
       "  <thead>\n",
       "    <tr style=\"text-align: right;\">\n",
       "      <th></th>\n",
       "      <th>budget</th>\n",
       "      <th>popularity</th>\n",
       "      <th>revenue</th>\n",
       "      <th>title</th>\n",
       "      <th>vote_average</th>\n",
       "      <th>vote_count</th>\n",
       "      <th>clean_genres</th>\n",
       "      <th>clean_keywords</th>\n",
       "      <th>clean_tagline</th>\n",
       "      <th>clean_overview</th>\n",
       "      <th>financial_success</th>\n",
       "      <th>critical_success</th>\n",
       "    </tr>\n",
       "  </thead>\n",
       "  <tbody>\n",
       "    <tr>\n",
       "      <th>0</th>\n",
       "      <td>15000000</td>\n",
       "      <td>150.437577</td>\n",
       "      <td>19170001</td>\n",
       "      <td>Avatar</td>\n",
       "      <td>7.2</td>\n",
       "      <td>11800</td>\n",
       "      <td>action  adventure  fantasy  science fiction</td>\n",
       "      <td>culture clash  future  space war  space colony...</td>\n",
       "      <td>enter the world of pandora</td>\n",
       "      <td>in the nd century a paraplegic marine is dispa...</td>\n",
       "      <td>0</td>\n",
       "      <td>1</td>\n",
       "    </tr>\n",
       "    <tr>\n",
       "      <th>1</th>\n",
       "      <td>15000000</td>\n",
       "      <td>139.082615</td>\n",
       "      <td>19170001</td>\n",
       "      <td>Pirates of the Caribbean: At World's End</td>\n",
       "      <td>6.9</td>\n",
       "      <td>4500</td>\n",
       "      <td>adventure  fantasy  action</td>\n",
       "      <td>ocean  drug abuse  exotic island  east india t...</td>\n",
       "      <td>at the end of the world the adventure begin</td>\n",
       "      <td>captain barbossa long believed to be dead ha c...</td>\n",
       "      <td>0</td>\n",
       "      <td>1</td>\n",
       "    </tr>\n",
       "    <tr>\n",
       "      <th>2</th>\n",
       "      <td>15000000</td>\n",
       "      <td>107.376788</td>\n",
       "      <td>19170001</td>\n",
       "      <td>Spectre</td>\n",
       "      <td>6.3</td>\n",
       "      <td>4466</td>\n",
       "      <td>action  adventure  crime</td>\n",
       "      <td>spy  based on novel  secret agent  sequel  mi ...</td>\n",
       "      <td>a plan no one escape</td>\n",
       "      <td>a cryptic message from bond past sends him on ...</td>\n",
       "      <td>0</td>\n",
       "      <td>1</td>\n",
       "    </tr>\n",
       "  </tbody>\n",
       "</table>\n",
       "</div>"
      ],
      "text/plain": [
       "     budget  popularity   revenue                                     title  \\\n",
       "0  15000000  150.437577  19170001                                    Avatar   \n",
       "1  15000000  139.082615  19170001  Pirates of the Caribbean: At World's End   \n",
       "2  15000000  107.376788  19170001                                   Spectre   \n",
       "\n",
       "   vote_average  vote_count                                 clean_genres  \\\n",
       "0           7.2       11800  action  adventure  fantasy  science fiction   \n",
       "1           6.9        4500                   adventure  fantasy  action   \n",
       "2           6.3        4466                     action  adventure  crime   \n",
       "\n",
       "                                      clean_keywords  \\\n",
       "0  culture clash  future  space war  space colony...   \n",
       "1  ocean  drug abuse  exotic island  east india t...   \n",
       "2  spy  based on novel  secret agent  sequel  mi ...   \n",
       "\n",
       "                                 clean_tagline  \\\n",
       "0                   enter the world of pandora   \n",
       "1  at the end of the world the adventure begin   \n",
       "2                         a plan no one escape   \n",
       "\n",
       "                                      clean_overview  financial_success  \\\n",
       "0  in the nd century a paraplegic marine is dispa...                  0   \n",
       "1  captain barbossa long believed to be dead ha c...                  0   \n",
       "2  a cryptic message from bond past sends him on ...                  0   \n",
       "\n",
       "   critical_success  \n",
       "0                 1  \n",
       "1                 1  \n",
       "2                 1  "
      ]
     },
     "execution_count": 20,
     "metadata": {},
     "output_type": "execute_result"
    }
   ],
   "source": [
    "df.head(3)"
   ]
  },
  {
   "cell_type": "code",
   "execution_count": 21,
   "id": "371c5d4b-14d2-42ca-8bef-5bf0ddf4becf",
   "metadata": {
    "tags": []
   },
   "outputs": [
    {
     "data": {
      "text/plain": [
       "critical_success\n",
       "0    3528\n",
       "1    1275\n",
       "Name: count, dtype: int64"
      ]
     },
     "execution_count": 21,
     "metadata": {},
     "output_type": "execute_result"
    }
   ],
   "source": [
    "df.critical_success.value_counts()"
   ]
  },
  {
   "cell_type": "markdown",
   "id": "336857aa-11d7-497b-84ef-68e8c4c2262d",
   "metadata": {
    "tags": []
   },
   "source": [
    "## New Feature: Audience Success (Popularity) "
   ]
  },
  {
   "cell_type": "markdown",
   "id": "f6117958-9570-4675-8c36-2f13a0880560",
   "metadata": {},
   "source": [
    "**Note:**  Just like my \"critical_success\" feature, I would set my critical success thresholds higher in real-world application (i.e audience_success > 75), but this gave significant class imbalance, so to ensure a more balanced class, I opted to lower my critical success thresholds, so now it was closer to the \"critical_success\" with a 4:1 ratio\n",
    "\n",
    "**Feature Justification:** This is the third \"success\" feature that I am going to use to create a \"success score\". For this feature, I wanted to focus on the already existing \"popularity\" feature. I had decided to set the success as having a popularity score above \"35\" (see above on my justification on this parameter). \n",
    "\n",
    "So, all-in-all, I created 3 success measurements that I can use to create a \"success score\". All three of success measurements are in binary form, to make it easily help create the success score. \"financial success\" is a yes/no (1/0) on if the movie made at least 2.5x the budget, \"critical success\" is a yes/no (1/0) on if the movie scored atleast a 6.0 with over 500 votes, and the \"audience success\" is a yes/no (1/0) on if the popularity was above a 35. In real world application, I would hope for a much larger dataset that would allow me to create stricter parameters, but for this project, I just wanted to showcase that I knew how to set the parameters and to clarify that I understand how I would tune them in the real world."
   ]
  },
  {
   "cell_type": "code",
   "execution_count": 22,
   "id": "75ac4a39-16c1-4227-9f97-bb588dc5551a",
   "metadata": {
    "tags": []
   },
   "outputs": [],
   "source": [
    "df[\"audience_success\"] = (df[\"popularity\"] > 35).astype(int)"
   ]
  },
  {
   "cell_type": "code",
   "execution_count": 23,
   "id": "c500732b-81c5-4791-88ae-c0900ddfd07b",
   "metadata": {
    "tags": []
   },
   "outputs": [
    {
     "data": {
      "text/plain": [
       "audience_success\n",
       "0    3891\n",
       "1     912\n",
       "Name: count, dtype: int64"
      ]
     },
     "execution_count": 23,
     "metadata": {},
     "output_type": "execute_result"
    }
   ],
   "source": [
    "df.audience_success.value_counts()"
   ]
  },
  {
   "cell_type": "markdown",
   "id": "523d9401-6f05-46f0-ae92-eb34a15b69b0",
   "metadata": {},
   "source": [
    "## New Feature: Budget Score (Weighted)"
   ]
  },
  {
   "cell_type": "markdown",
   "id": "e6ad759e-3dde-4bad-8283-910e4583c933",
   "metadata": {},
   "source": [
    "**Feature Justification:** This feature I actually added after I had already attempted to create my \"success score\" and this is because when I was considering my successes and how they would effect the score - through weight - I realized that for the purpose of my final project goal, that profitibility (financial success) would be the most important (and had to have more weight than the other successes). As such, I found that there was an extremely high correlation between my success score and my financial success, to the point where the other successes didn't really matter at all. I made a number of adjustments, but then realized that unless I treated all successes equally, it would be hard to create a broader correlation among all successes. To address this, I considered additional features, and I opted to create a weighted addition to the score, which is this new feature \"budget score\". \n",
    "\n",
    "This feature helps with distribution of successes to determine overall success (\"worth funding\") by creating a fourth and independent feature. This feature adds another element to the \"success score\" by praising lower budget movies - by adding a higher number to the success score - for being a lower risk (less loss for the production company if the movie fails, but easier to hit the ROI) and penalizing higher budget films for being higher risk and likely harder to achieve ROI. In this sense, profitability is still the most important, but now the other successes and the budget of the film have a better correlation to success.\n",
    "\n",
    "**Note:** Much like the rest of this project, I did a lot of tuning and retuning. I opted to consider low budget films as under 10 million dollars and high budget films as over 50 million dollars. Additionally, I had to adjust and readjust the scores to try and find a good range to have films in all values."
   ]
  },
  {
   "cell_type": "code",
   "execution_count": 24,
   "id": "7d7b3e54-db11-4628-b6d4-dcff90bff2ee",
   "metadata": {
    "tags": []
   },
   "outputs": [],
   "source": [
    "def budget_score(budget):\n",
    "    if budget < 10000000:\n",
    "        return 1.00\n",
    "    elif budget < 50000000:\n",
    "        return 0.50\n",
    "    else:\n",
    "        return 0.25\n",
    "df[\"budget_score\"] = df.budget.apply(budget_score)"
   ]
  },
  {
   "cell_type": "markdown",
   "id": "8b962917-9f15-4d09-a0be-080523e8393b",
   "metadata": {},
   "source": [
    "**Score Breakdown:**\n",
    "\n",
    "- If Budget is < 10,000,000 dollars: Low Budget (Best ROI, Lowest Risk)\n",
    "- If Budget is between 10,000,001 - 49,999,999: Medium Budget (Balanced Risk)\n",
    "- If budget is >= 50,000,000: High Budget (High Risk)"
   ]
  },
  {
   "cell_type": "code",
   "execution_count": 25,
   "id": "170e1d61-4b63-48c6-b355-5ff0764198f4",
   "metadata": {
    "tags": []
   },
   "outputs": [
    {
     "data": {
      "text/plain": [
       "budget_score\n",
       "0.50    2084\n",
       "1.00    2049\n",
       "0.25     670\n",
       "Name: count, dtype: int64"
      ]
     },
     "execution_count": 25,
     "metadata": {},
     "output_type": "execute_result"
    }
   ],
   "source": [
    "df.budget_score.value_counts()"
   ]
  },
  {
   "cell_type": "markdown",
   "id": "fb447a9d-85b2-4d51-9032-7d474003fe49",
   "metadata": {},
   "source": [
    "## New Feature: Success Score"
   ]
  },
  {
   "cell_type": "markdown",
   "id": "f1ec65b3-50c4-47d3-8892-fa8a218018a4",
   "metadata": {},
   "source": [
    "This score uses a weighted system to generate a score (based off the binary scores of the 3 success types: financial, critical, and audience). However, since I am a film production company, and I am most interested in ROI, the financial success is the most important (meaning it needs to be weighted heavier than the other two) and then voting averages (critical success) and then audience success (popularity) would be the least, with the \"budget success\" helping to balance the utility of the three successes, so that profitability can still be the primary measurement without neglecting the rest of the important features. \n",
    "\n",
    "**Feature Justification:** This feature is very important for my goal to finding is a movie is successful (worth funding), it takes into consideration 4 features that can be used to intepret success: the financial return on the film, how many people voted and how the voted the film, how popular the film is online (how much engagement the film has), and the risk of ROI based on the budget. This is not the final step in determining success -  nor is it my target feature, but it has direct correlation to my target feature \"worth funding\". The project up to this point has just been creating features and parameters to measure success, but doesn't tell us if the movie is worth funding, yet.\n",
    "\n",
    "Like the other aspects of this project, I had to adjust and readjust the weighted scores until I was able to find a happy \"medium\" that would give me a good distribution (note: even after a bunch of adjustments, I still had one dominating score: 2.25 w/ 1600). I don't have a particular justification for the exact numbers I used, aside from the fact that I did want financial success to be weighted highest, with critical success (votes averages and scores) being second, and audience success (hype) to be third. I kept them all withing .25 of eachother so that there wasn't a huge leap in weights, since I want them all to be taken into consideration."
   ]
  },
  {
   "cell_type": "code",
   "execution_count": 26,
   "id": "97b2aa12-b943-4ac9-b39f-6bf2c342191f",
   "metadata": {
    "tags": []
   },
   "outputs": [],
   "source": [
    "df[\"success_score\"] = (\n",
    "    (1.25 * df[\"financial_success\"])+\n",
    "    (1.0 * df[\"critical_success\"]) +\n",
    "    (0.75 * df[\"audience_success\"])+\n",
    "    df[\"budget_score\"])"
   ]
  },
  {
   "cell_type": "code",
   "execution_count": 27,
   "id": "b897428a-e2a7-4c19-ab67-219ceceb6c18",
   "metadata": {
    "tags": []
   },
   "outputs": [
    {
     "data": {
      "text/html": [
       "<div>\n",
       "<style scoped>\n",
       "    .dataframe tbody tr th:only-of-type {\n",
       "        vertical-align: middle;\n",
       "    }\n",
       "\n",
       "    .dataframe tbody tr th {\n",
       "        vertical-align: top;\n",
       "    }\n",
       "\n",
       "    .dataframe thead th {\n",
       "        text-align: right;\n",
       "    }\n",
       "</style>\n",
       "<table border=\"1\" class=\"dataframe\">\n",
       "  <thead>\n",
       "    <tr style=\"text-align: right;\">\n",
       "      <th></th>\n",
       "      <th>budget</th>\n",
       "      <th>popularity</th>\n",
       "      <th>revenue</th>\n",
       "      <th>title</th>\n",
       "      <th>vote_average</th>\n",
       "      <th>vote_count</th>\n",
       "      <th>clean_genres</th>\n",
       "      <th>clean_keywords</th>\n",
       "      <th>clean_tagline</th>\n",
       "      <th>clean_overview</th>\n",
       "      <th>financial_success</th>\n",
       "      <th>critical_success</th>\n",
       "      <th>audience_success</th>\n",
       "      <th>budget_score</th>\n",
       "      <th>success_score</th>\n",
       "    </tr>\n",
       "  </thead>\n",
       "  <tbody>\n",
       "    <tr>\n",
       "      <th>0</th>\n",
       "      <td>15000000</td>\n",
       "      <td>150.437577</td>\n",
       "      <td>19170001</td>\n",
       "      <td>Avatar</td>\n",
       "      <td>7.2</td>\n",
       "      <td>11800</td>\n",
       "      <td>action  adventure  fantasy  science fiction</td>\n",
       "      <td>culture clash  future  space war  space colony...</td>\n",
       "      <td>enter the world of pandora</td>\n",
       "      <td>in the nd century a paraplegic marine is dispa...</td>\n",
       "      <td>0</td>\n",
       "      <td>1</td>\n",
       "      <td>1</td>\n",
       "      <td>0.5</td>\n",
       "      <td>2.25</td>\n",
       "    </tr>\n",
       "    <tr>\n",
       "      <th>1</th>\n",
       "      <td>15000000</td>\n",
       "      <td>139.082615</td>\n",
       "      <td>19170001</td>\n",
       "      <td>Pirates of the Caribbean: At World's End</td>\n",
       "      <td>6.9</td>\n",
       "      <td>4500</td>\n",
       "      <td>adventure  fantasy  action</td>\n",
       "      <td>ocean  drug abuse  exotic island  east india t...</td>\n",
       "      <td>at the end of the world the adventure begin</td>\n",
       "      <td>captain barbossa long believed to be dead ha c...</td>\n",
       "      <td>0</td>\n",
       "      <td>1</td>\n",
       "      <td>1</td>\n",
       "      <td>0.5</td>\n",
       "      <td>2.25</td>\n",
       "    </tr>\n",
       "    <tr>\n",
       "      <th>2</th>\n",
       "      <td>15000000</td>\n",
       "      <td>107.376788</td>\n",
       "      <td>19170001</td>\n",
       "      <td>Spectre</td>\n",
       "      <td>6.3</td>\n",
       "      <td>4466</td>\n",
       "      <td>action  adventure  crime</td>\n",
       "      <td>spy  based on novel  secret agent  sequel  mi ...</td>\n",
       "      <td>a plan no one escape</td>\n",
       "      <td>a cryptic message from bond past sends him on ...</td>\n",
       "      <td>0</td>\n",
       "      <td>1</td>\n",
       "      <td>1</td>\n",
       "      <td>0.5</td>\n",
       "      <td>2.25</td>\n",
       "    </tr>\n",
       "  </tbody>\n",
       "</table>\n",
       "</div>"
      ],
      "text/plain": [
       "     budget  popularity   revenue                                     title  \\\n",
       "0  15000000  150.437577  19170001                                    Avatar   \n",
       "1  15000000  139.082615  19170001  Pirates of the Caribbean: At World's End   \n",
       "2  15000000  107.376788  19170001                                   Spectre   \n",
       "\n",
       "   vote_average  vote_count                                 clean_genres  \\\n",
       "0           7.2       11800  action  adventure  fantasy  science fiction   \n",
       "1           6.9        4500                   adventure  fantasy  action   \n",
       "2           6.3        4466                     action  adventure  crime   \n",
       "\n",
       "                                      clean_keywords  \\\n",
       "0  culture clash  future  space war  space colony...   \n",
       "1  ocean  drug abuse  exotic island  east india t...   \n",
       "2  spy  based on novel  secret agent  sequel  mi ...   \n",
       "\n",
       "                                 clean_tagline  \\\n",
       "0                   enter the world of pandora   \n",
       "1  at the end of the world the adventure begin   \n",
       "2                         a plan no one escape   \n",
       "\n",
       "                                      clean_overview  financial_success  \\\n",
       "0  in the nd century a paraplegic marine is dispa...                  0   \n",
       "1  captain barbossa long believed to be dead ha c...                  0   \n",
       "2  a cryptic message from bond past sends him on ...                  0   \n",
       "\n",
       "   critical_success  audience_success  budget_score  success_score  \n",
       "0                 1                 1           0.5           2.25  \n",
       "1                 1                 1           0.5           2.25  \n",
       "2                 1                 1           0.5           2.25  "
      ]
     },
     "execution_count": 27,
     "metadata": {},
     "output_type": "execute_result"
    }
   ],
   "source": [
    "df.head(3)"
   ]
  },
  {
   "cell_type": "code",
   "execution_count": 28,
   "id": "4d0c8b46-b5fa-4cff-9a45-6bb26c49022b",
   "metadata": {
    "tags": []
   },
   "outputs": [
    {
     "data": {
      "text/plain": [
       "success_score\n",
       "4.00      79\n",
       "3.50     180\n",
       "3.25     124\n",
       "3.00       8\n",
       "2.75     173\n",
       "2.50      60\n",
       "2.25    1600\n",
       "2.00     171\n",
       "1.75     288\n",
       "1.50     189\n",
       "1.25     137\n",
       "1.00     587\n",
       "0.50     917\n",
       "0.25     290\n",
       "Name: count, dtype: int64"
      ]
     },
     "execution_count": 28,
     "metadata": {},
     "output_type": "execute_result"
    }
   ],
   "source": [
    "df.success_score.value_counts().sort_index(ascending=False)"
   ]
  },
  {
   "cell_type": "markdown",
   "id": "ad2b39fa-353b-42bd-900a-ffcad21fc2c4",
   "metadata": {
    "tags": []
   },
   "source": [
    "## New Feature 6: Worth Funding (Target)"
   ]
  },
  {
   "cell_type": "markdown",
   "id": "699013c0-c6c9-4fc2-9d5d-8253a94f5f1e",
   "metadata": {},
   "source": [
    "**Note:** I recognize that I could have just created a \"fund\" if \"profitable\" recommender system, but since I needed to create more features, and I wanted to include other aspects in the data frame in the recommender system, I have generated a weighted score that takes into consideration the budget, the profitability, the critical success, and the popularity into the recommendation system.\n",
    "\n",
    "**Feature Justification:** This feature predicts, based on my parameters, if a film would have been worth funding, based on the success scores. This is the most important feature for my recommender system, because it is my target feature. I want to be able to determine if a movie is worth funding (by \"success score\" thresholds) based on provided textual data about a film that wants to be produced. This is different than recommending a new proposal, because that would rely on textual information, but before I can make the textual recommender, I need to identify which types of movies that investing in would have been worthwhile. Once I know what movies were worth funding, I can then build a recommender system that compares the textual data of successful movies to the textual data of the known movies to make a funding recommendation.\n",
    "\n",
    "**Worth Funding Scoring**\n",
    "- 2: Worth Funding - \"Success Score >= 2.5\"\n",
    "- 1: Consider Funding (Manual Decision) - \"Success Score >= 2.0\"\n",
    "- 0: Not Worth Funding - \"Success Score < 2.0\"\n",
    "\n",
    "**Note:** Again, I adjusted the thresholds for this feature to get a more even class balance. In the real world, I would fund way fewer movies than I would reject, but I wanted to address class imbalance, given the size of my dataset (~4,800 entries). Additionally, in the real world I would want a much larger dataset: like in the 100s of thousands.\n",
    "\n",
    "**Below:** you can see the pearson correlation of the four variables to determine the \"success score\". As anticipated, with each lower level feature there is less, but still relevant, positive correlation. The financial success is still the highest determinate, as I wanted it to be. I decided to split the score as evenly as possible among the three \"worth funding\" recommender responses, to attempt to address class imbalance. The best I could come up with still had imbalance, but each category had an acceptable level of responses.\n",
    "\n",
    "**Personal Insight:** As I consider the success of my model and what I want it to accomplish, I am on the fence on if it would have been better to split the the recommendation into 2: fund or do not fund. I am opting to stick to the 3 responses - even though I would have a more even distribution of two - because I would imagine in the real world that there would be instances where the model wouldn't have enough information or have enough prediction power to address the ones that toe-the-line on whether or not to fund. "
   ]
  },
  {
   "cell_type": "code",
   "execution_count": 29,
   "id": "feeb786a-ee0b-4d7f-8275-05ce985053f1",
   "metadata": {
    "tags": []
   },
   "outputs": [
    {
     "name": "stdout",
     "output_type": "stream",
     "text": [
      "0.7585633201888466\n",
      "0.5378743133806207\n",
      "0.45572471909377277\n",
      "0.34784561595560654\n"
     ]
    }
   ],
   "source": [
    "print(df[\"financial_success\"].corr(df[\"success_score\"], method=\"pearson\"))\n",
    "print(df[\"critical_success\"].corr(df[\"success_score\"], method=\"pearson\"))\n",
    "print(df[\"audience_success\"].corr(df[\"success_score\"], method=\"pearson\"))\n",
    "print(df[\"budget_score\"].corr(df[\"success_score\"], method=\"pearson\"))"
   ]
  },
  {
   "cell_type": "code",
   "execution_count": 30,
   "id": "0ce18e78-f454-4694-b39b-b166a1bafd3f",
   "metadata": {
    "tags": []
   },
   "outputs": [],
   "source": [
    "def worth_funding(success_score):\n",
    "    if success_score >= 2.50:\n",
    "        return 2\n",
    "    elif success_score >= 2.00:\n",
    "        return 1\n",
    "    else:\n",
    "        return 0\n",
    "df[\"worth_funding\"] = df.success_score.apply(worth_funding)"
   ]
  },
  {
   "cell_type": "code",
   "execution_count": 31,
   "id": "dc997f99-19dc-426c-a246-7decfb60f3e6",
   "metadata": {
    "tags": []
   },
   "outputs": [
    {
     "data": {
      "text/html": [
       "<div>\n",
       "<style scoped>\n",
       "    .dataframe tbody tr th:only-of-type {\n",
       "        vertical-align: middle;\n",
       "    }\n",
       "\n",
       "    .dataframe tbody tr th {\n",
       "        vertical-align: top;\n",
       "    }\n",
       "\n",
       "    .dataframe thead th {\n",
       "        text-align: right;\n",
       "    }\n",
       "</style>\n",
       "<table border=\"1\" class=\"dataframe\">\n",
       "  <thead>\n",
       "    <tr style=\"text-align: right;\">\n",
       "      <th></th>\n",
       "      <th>budget</th>\n",
       "      <th>popularity</th>\n",
       "      <th>revenue</th>\n",
       "      <th>title</th>\n",
       "      <th>vote_average</th>\n",
       "      <th>vote_count</th>\n",
       "      <th>clean_genres</th>\n",
       "      <th>clean_keywords</th>\n",
       "      <th>clean_tagline</th>\n",
       "      <th>clean_overview</th>\n",
       "      <th>financial_success</th>\n",
       "      <th>critical_success</th>\n",
       "      <th>audience_success</th>\n",
       "      <th>budget_score</th>\n",
       "      <th>success_score</th>\n",
       "      <th>worth_funding</th>\n",
       "    </tr>\n",
       "  </thead>\n",
       "  <tbody>\n",
       "    <tr>\n",
       "      <th>527</th>\n",
       "      <td>0</td>\n",
       "      <td>20.632673</td>\n",
       "      <td>43312294</td>\n",
       "      <td>The Edge</td>\n",
       "      <td>6.7</td>\n",
       "      <td>349</td>\n",
       "      <td>action  adventure  drama</td>\n",
       "      <td>photographer  grizzly bear  wilderness  airpla...</td>\n",
       "      <td>they were fighting over a woman when the plane...</td>\n",
       "      <td>the plane carrying wealthy charles morse crash...</td>\n",
       "      <td>1</td>\n",
       "      <td>0</td>\n",
       "      <td>0</td>\n",
       "      <td>1.00</td>\n",
       "      <td>2.25</td>\n",
       "      <td>1</td>\n",
       "    </tr>\n",
       "    <tr>\n",
       "      <th>3623</th>\n",
       "      <td>5000000</td>\n",
       "      <td>20.326337</td>\n",
       "      <td>142817992</td>\n",
       "      <td>Paranormal Activity 4</td>\n",
       "      <td>5.2</td>\n",
       "      <td>563</td>\n",
       "      <td>horror</td>\n",
       "      <td>garage  poltergeist  webcam  imaginary friend ...</td>\n",
       "      <td>it closer than you think</td>\n",
       "      <td>it ha been five year since the disappearance o...</td>\n",
       "      <td>1</td>\n",
       "      <td>0</td>\n",
       "      <td>0</td>\n",
       "      <td>1.00</td>\n",
       "      <td>2.25</td>\n",
       "      <td>1</td>\n",
       "    </tr>\n",
       "    <tr>\n",
       "      <th>517</th>\n",
       "      <td>80000000</td>\n",
       "      <td>25.978555</td>\n",
       "      <td>123729176</td>\n",
       "      <td>The Time Machine</td>\n",
       "      <td>5.8</td>\n",
       "      <td>631</td>\n",
       "      <td>science fiction  adventure  action</td>\n",
       "      <td>future  time machine</td>\n",
       "      <td>the greatest adventure through all time</td>\n",
       "      <td>hoping to alter the event of the past a th cen...</td>\n",
       "      <td>0</td>\n",
       "      <td>0</td>\n",
       "      <td>0</td>\n",
       "      <td>0.25</td>\n",
       "      <td>0.25</td>\n",
       "      <td>0</td>\n",
       "    </tr>\n",
       "  </tbody>\n",
       "</table>\n",
       "</div>"
      ],
      "text/plain": [
       "        budget  popularity    revenue                  title  vote_average  \\\n",
       "527          0   20.632673   43312294               The Edge           6.7   \n",
       "3623   5000000   20.326337  142817992  Paranormal Activity 4           5.2   \n",
       "517   80000000   25.978555  123729176       The Time Machine           5.8   \n",
       "\n",
       "      vote_count                        clean_genres  \\\n",
       "527          349            action  adventure  drama   \n",
       "3623         563                              horror   \n",
       "517          631  science fiction  adventure  action   \n",
       "\n",
       "                                         clean_keywords  \\\n",
       "527   photographer  grizzly bear  wilderness  airpla...   \n",
       "3623  garage  poltergeist  webcam  imaginary friend ...   \n",
       "517                                future  time machine   \n",
       "\n",
       "                                          clean_tagline  \\\n",
       "527   they were fighting over a woman when the plane...   \n",
       "3623                           it closer than you think   \n",
       "517             the greatest adventure through all time   \n",
       "\n",
       "                                         clean_overview  financial_success  \\\n",
       "527   the plane carrying wealthy charles morse crash...                  1   \n",
       "3623  it ha been five year since the disappearance o...                  1   \n",
       "517   hoping to alter the event of the past a th cen...                  0   \n",
       "\n",
       "      critical_success  audience_success  budget_score  success_score  \\\n",
       "527                  0                 0          1.00           2.25   \n",
       "3623                 0                 0          1.00           2.25   \n",
       "517                  0                 0          0.25           0.25   \n",
       "\n",
       "      worth_funding  \n",
       "527               1  \n",
       "3623              1  \n",
       "517               0  "
      ]
     },
     "execution_count": 31,
     "metadata": {},
     "output_type": "execute_result"
    }
   ],
   "source": [
    "df.sample(3)"
   ]
  },
  {
   "cell_type": "code",
   "execution_count": 32,
   "id": "1aea4fd5-c130-42a3-afb6-c6a05a588584",
   "metadata": {
    "tags": []
   },
   "outputs": [
    {
     "data": {
      "text/plain": [
       "worth_funding\n",
       "2     624\n",
       "1    1771\n",
       "0    2408\n",
       "Name: count, dtype: int64"
      ]
     },
     "execution_count": 32,
     "metadata": {},
     "output_type": "execute_result"
    }
   ],
   "source": [
    "df.worth_funding.value_counts().sort_index(ascending=False)"
   ]
  },
  {
   "cell_type": "code",
   "execution_count": 33,
   "id": "c021f736-4d75-4b40-aeb1-110006009101",
   "metadata": {
    "tags": []
   },
   "outputs": [
    {
     "name": "stdout",
     "output_type": "stream",
     "text": [
      "0.9095587442595163\n"
     ]
    }
   ],
   "source": [
    "print(df[\"worth_funding\"].corr(df[\"success_score\"], method=\"pearson\"))"
   ]
  },
  {
   "cell_type": "markdown",
   "id": "c1346d5d-2481-4f0c-adb6-b6f36e31341b",
   "metadata": {},
   "source": [
    "# Part 3: Checking For Multicollinearity on \"Successes\": VIF"
   ]
  },
  {
   "cell_type": "markdown",
   "id": "ab1411f1-a2f4-4579-a323-652ab6cdff7f",
   "metadata": {},
   "source": [
    "**Task Justification:** Here I want to check the correlation, through collinearity, of the relationships between my important features and target. I want to check for multicollinearity, because I want to make sure that the features are independent of each other, there is the possibility that there can be too high of a correlation between the features that I would need to drop one so that it doesn't effect the determination of success. I thought that this was important to do because there is a reasonable possibility that there can be a correlation between critical success and audience success (more hype might mean more voting and scoring). \n",
    "\n",
    "**Results:** All of my features have VIF scores between (rounded) 2.0 to 2.4. Given that the closer to 1 the score is the least amount of collinearity exists, and that the higher it is (> 5.0) the more likely multicollinearity exists. These scores make me feel good, since they justify that the features are working independently of each other. "
   ]
  },
  {
   "cell_type": "code",
   "execution_count": 34,
   "id": "27d77592-2646-4d73-8750-0ec7b8b4f2a6",
   "metadata": {
    "tags": []
   },
   "outputs": [],
   "source": [
    "X_corr = df[[\"financial_success\", \"critical_success\", \"audience_success\", \"budget_score\"]]"
   ]
  },
  {
   "cell_type": "code",
   "execution_count": 35,
   "id": "f6616db0-5bbe-4c17-90ba-ec6d41e4d2d6",
   "metadata": {
    "tags": []
   },
   "outputs": [],
   "source": [
    "vif_data = pd.DataFrame()\n",
    "vif_data[\"Feature\"] = X_corr.columns\n",
    "vif_data[\"VIF\"] = [variance_inflation_factor(X_corr.values, i) for i in range(X_corr.shape[1])]"
   ]
  },
  {
   "cell_type": "code",
   "execution_count": 36,
   "id": "c1a5f877-1730-4ae6-8525-4bf626b5c6a0",
   "metadata": {
    "tags": []
   },
   "outputs": [
    {
     "name": "stdout",
     "output_type": "stream",
     "text": [
      "             Feature       VIF\n",
      "0  financial_success  2.351302\n",
      "1   critical_success  2.090426\n",
      "2   audience_success  1.967599\n",
      "3       budget_score  2.416434\n"
     ]
    }
   ],
   "source": [
    "print(vif_data)"
   ]
  },
  {
   "cell_type": "markdown",
   "id": "3d7d2712-5577-4cd5-9ed7-85bdc5337703",
   "metadata": {},
   "source": [
    "# Part 4: Random Forest ML: Predicting \"Success\" (Statistical)"
   ]
  },
  {
   "cell_type": "markdown",
   "id": "14ea9725-5d30-4c07-ae02-1baa0eec4c88",
   "metadata": {},
   "source": [
    "**Task Justification:** I am aware that this task is likely not one where ML is necessary, because all predictions can be made using statistical analysis (which, from the lecture, is not the type of analytical question we want to ask). But, because I built the features and I do have a target for them - and so I can practice my ML models - I opted to include this model and its analytical question: \"Can I predict whether a movie will be successful based on finances, acclaim, and popularity?\".\n",
    "\n",
    "Additionally, this is still an important model when you consider that part of my scenario is that new films will continue to be added to the dataset, where there success_scores will need to be determined so that they can help grow the dataset and provide additional data for future fund proposal requests.\n",
    "\n",
    "**Results:** As expected, the model performed with 100% accuracy, as it was able to determine the formulas used to predict the the \"success_score\". This ML model is likely unnecessary, but is a good example of why not every task needs to be done through ML. But, this would be a good AutoML to use to generate the \"success_scores\" for newly added films to the dataset.\n",
    "\n",
    "**Important Note:** In the next section, I do have a true ML scenario, where I test if a film is worth funding based on the textual information on the film (genres, overview, tagline, keywords)."
   ]
  },
  {
   "cell_type": "code",
   "execution_count": 37,
   "id": "9c3037ce-95b1-4a5e-a6d6-c0c870842898",
   "metadata": {
    "tags": []
   },
   "outputs": [],
   "source": [
    "X_stat = df[[\"financial_success\", \"critical_success\", \"audience_success\", \"budget_score\"]]\n",
    "y_stat = df[\"success_score\"].astype(int)"
   ]
  },
  {
   "cell_type": "code",
   "execution_count": 38,
   "id": "320169e4-f80b-47c7-a016-511b0871e544",
   "metadata": {
    "tags": []
   },
   "outputs": [],
   "source": [
    "X_train, X_test, y_train, y_test = train_test_split(X_stat, y_stat, test_size=0.2, random_state=4, stratify=y_stat)"
   ]
  },
  {
   "cell_type": "code",
   "execution_count": 39,
   "id": "0baf07d6-fd26-4ee7-8335-45025d8ab5d2",
   "metadata": {
    "tags": []
   },
   "outputs": [
    {
     "data": {
      "text/html": [
       "<style>#sk-container-id-1 {\n",
       "  /* Definition of color scheme common for light and dark mode */\n",
       "  --sklearn-color-text: black;\n",
       "  --sklearn-color-line: gray;\n",
       "  /* Definition of color scheme for unfitted estimators */\n",
       "  --sklearn-color-unfitted-level-0: #fff5e6;\n",
       "  --sklearn-color-unfitted-level-1: #f6e4d2;\n",
       "  --sklearn-color-unfitted-level-2: #ffe0b3;\n",
       "  --sklearn-color-unfitted-level-3: chocolate;\n",
       "  /* Definition of color scheme for fitted estimators */\n",
       "  --sklearn-color-fitted-level-0: #f0f8ff;\n",
       "  --sklearn-color-fitted-level-1: #d4ebff;\n",
       "  --sklearn-color-fitted-level-2: #b3dbfd;\n",
       "  --sklearn-color-fitted-level-3: cornflowerblue;\n",
       "\n",
       "  /* Specific color for light theme */\n",
       "  --sklearn-color-text-on-default-background: var(--sg-text-color, var(--theme-code-foreground, var(--jp-content-font-color1, black)));\n",
       "  --sklearn-color-background: var(--sg-background-color, var(--theme-background, var(--jp-layout-color0, white)));\n",
       "  --sklearn-color-border-box: var(--sg-text-color, var(--theme-code-foreground, var(--jp-content-font-color1, black)));\n",
       "  --sklearn-color-icon: #696969;\n",
       "\n",
       "  @media (prefers-color-scheme: dark) {\n",
       "    /* Redefinition of color scheme for dark theme */\n",
       "    --sklearn-color-text-on-default-background: var(--sg-text-color, var(--theme-code-foreground, var(--jp-content-font-color1, white)));\n",
       "    --sklearn-color-background: var(--sg-background-color, var(--theme-background, var(--jp-layout-color0, #111)));\n",
       "    --sklearn-color-border-box: var(--sg-text-color, var(--theme-code-foreground, var(--jp-content-font-color1, white)));\n",
       "    --sklearn-color-icon: #878787;\n",
       "  }\n",
       "}\n",
       "\n",
       "#sk-container-id-1 {\n",
       "  color: var(--sklearn-color-text);\n",
       "}\n",
       "\n",
       "#sk-container-id-1 pre {\n",
       "  padding: 0;\n",
       "}\n",
       "\n",
       "#sk-container-id-1 input.sk-hidden--visually {\n",
       "  border: 0;\n",
       "  clip: rect(1px 1px 1px 1px);\n",
       "  clip: rect(1px, 1px, 1px, 1px);\n",
       "  height: 1px;\n",
       "  margin: -1px;\n",
       "  overflow: hidden;\n",
       "  padding: 0;\n",
       "  position: absolute;\n",
       "  width: 1px;\n",
       "}\n",
       "\n",
       "#sk-container-id-1 div.sk-dashed-wrapped {\n",
       "  border: 1px dashed var(--sklearn-color-line);\n",
       "  margin: 0 0.4em 0.5em 0.4em;\n",
       "  box-sizing: border-box;\n",
       "  padding-bottom: 0.4em;\n",
       "  background-color: var(--sklearn-color-background);\n",
       "}\n",
       "\n",
       "#sk-container-id-1 div.sk-container {\n",
       "  /* jupyter's `normalize.less` sets `[hidden] { display: none; }`\n",
       "     but bootstrap.min.css set `[hidden] { display: none !important; }`\n",
       "     so we also need the `!important` here to be able to override the\n",
       "     default hidden behavior on the sphinx rendered scikit-learn.org.\n",
       "     See: https://github.com/scikit-learn/scikit-learn/issues/21755 */\n",
       "  display: inline-block !important;\n",
       "  position: relative;\n",
       "}\n",
       "\n",
       "#sk-container-id-1 div.sk-text-repr-fallback {\n",
       "  display: none;\n",
       "}\n",
       "\n",
       "div.sk-parallel-item,\n",
       "div.sk-serial,\n",
       "div.sk-item {\n",
       "  /* draw centered vertical line to link estimators */\n",
       "  background-image: linear-gradient(var(--sklearn-color-text-on-default-background), var(--sklearn-color-text-on-default-background));\n",
       "  background-size: 2px 100%;\n",
       "  background-repeat: no-repeat;\n",
       "  background-position: center center;\n",
       "}\n",
       "\n",
       "/* Parallel-specific style estimator block */\n",
       "\n",
       "#sk-container-id-1 div.sk-parallel-item::after {\n",
       "  content: \"\";\n",
       "  width: 100%;\n",
       "  border-bottom: 2px solid var(--sklearn-color-text-on-default-background);\n",
       "  flex-grow: 1;\n",
       "}\n",
       "\n",
       "#sk-container-id-1 div.sk-parallel {\n",
       "  display: flex;\n",
       "  align-items: stretch;\n",
       "  justify-content: center;\n",
       "  background-color: var(--sklearn-color-background);\n",
       "  position: relative;\n",
       "}\n",
       "\n",
       "#sk-container-id-1 div.sk-parallel-item {\n",
       "  display: flex;\n",
       "  flex-direction: column;\n",
       "}\n",
       "\n",
       "#sk-container-id-1 div.sk-parallel-item:first-child::after {\n",
       "  align-self: flex-end;\n",
       "  width: 50%;\n",
       "}\n",
       "\n",
       "#sk-container-id-1 div.sk-parallel-item:last-child::after {\n",
       "  align-self: flex-start;\n",
       "  width: 50%;\n",
       "}\n",
       "\n",
       "#sk-container-id-1 div.sk-parallel-item:only-child::after {\n",
       "  width: 0;\n",
       "}\n",
       "\n",
       "/* Serial-specific style estimator block */\n",
       "\n",
       "#sk-container-id-1 div.sk-serial {\n",
       "  display: flex;\n",
       "  flex-direction: column;\n",
       "  align-items: center;\n",
       "  background-color: var(--sklearn-color-background);\n",
       "  padding-right: 1em;\n",
       "  padding-left: 1em;\n",
       "}\n",
       "\n",
       "\n",
       "/* Toggleable style: style used for estimator/Pipeline/ColumnTransformer box that is\n",
       "clickable and can be expanded/collapsed.\n",
       "- Pipeline and ColumnTransformer use this feature and define the default style\n",
       "- Estimators will overwrite some part of the style using the `sk-estimator` class\n",
       "*/\n",
       "\n",
       "/* Pipeline and ColumnTransformer style (default) */\n",
       "\n",
       "#sk-container-id-1 div.sk-toggleable {\n",
       "  /* Default theme specific background. It is overwritten whether we have a\n",
       "  specific estimator or a Pipeline/ColumnTransformer */\n",
       "  background-color: var(--sklearn-color-background);\n",
       "}\n",
       "\n",
       "/* Toggleable label */\n",
       "#sk-container-id-1 label.sk-toggleable__label {\n",
       "  cursor: pointer;\n",
       "  display: block;\n",
       "  width: 100%;\n",
       "  margin-bottom: 0;\n",
       "  padding: 0.5em;\n",
       "  box-sizing: border-box;\n",
       "  text-align: center;\n",
       "}\n",
       "\n",
       "#sk-container-id-1 label.sk-toggleable__label-arrow:before {\n",
       "  /* Arrow on the left of the label */\n",
       "  content: \"▸\";\n",
       "  float: left;\n",
       "  margin-right: 0.25em;\n",
       "  color: var(--sklearn-color-icon);\n",
       "}\n",
       "\n",
       "#sk-container-id-1 label.sk-toggleable__label-arrow:hover:before {\n",
       "  color: var(--sklearn-color-text);\n",
       "}\n",
       "\n",
       "/* Toggleable content - dropdown */\n",
       "\n",
       "#sk-container-id-1 div.sk-toggleable__content {\n",
       "  max-height: 0;\n",
       "  max-width: 0;\n",
       "  overflow: hidden;\n",
       "  text-align: left;\n",
       "  /* unfitted */\n",
       "  background-color: var(--sklearn-color-unfitted-level-0);\n",
       "}\n",
       "\n",
       "#sk-container-id-1 div.sk-toggleable__content.fitted {\n",
       "  /* fitted */\n",
       "  background-color: var(--sklearn-color-fitted-level-0);\n",
       "}\n",
       "\n",
       "#sk-container-id-1 div.sk-toggleable__content pre {\n",
       "  margin: 0.2em;\n",
       "  border-radius: 0.25em;\n",
       "  color: var(--sklearn-color-text);\n",
       "  /* unfitted */\n",
       "  background-color: var(--sklearn-color-unfitted-level-0);\n",
       "}\n",
       "\n",
       "#sk-container-id-1 div.sk-toggleable__content.fitted pre {\n",
       "  /* unfitted */\n",
       "  background-color: var(--sklearn-color-fitted-level-0);\n",
       "}\n",
       "\n",
       "#sk-container-id-1 input.sk-toggleable__control:checked~div.sk-toggleable__content {\n",
       "  /* Expand drop-down */\n",
       "  max-height: 200px;\n",
       "  max-width: 100%;\n",
       "  overflow: auto;\n",
       "}\n",
       "\n",
       "#sk-container-id-1 input.sk-toggleable__control:checked~label.sk-toggleable__label-arrow:before {\n",
       "  content: \"▾\";\n",
       "}\n",
       "\n",
       "/* Pipeline/ColumnTransformer-specific style */\n",
       "\n",
       "#sk-container-id-1 div.sk-label input.sk-toggleable__control:checked~label.sk-toggleable__label {\n",
       "  color: var(--sklearn-color-text);\n",
       "  background-color: var(--sklearn-color-unfitted-level-2);\n",
       "}\n",
       "\n",
       "#sk-container-id-1 div.sk-label.fitted input.sk-toggleable__control:checked~label.sk-toggleable__label {\n",
       "  background-color: var(--sklearn-color-fitted-level-2);\n",
       "}\n",
       "\n",
       "/* Estimator-specific style */\n",
       "\n",
       "/* Colorize estimator box */\n",
       "#sk-container-id-1 div.sk-estimator input.sk-toggleable__control:checked~label.sk-toggleable__label {\n",
       "  /* unfitted */\n",
       "  background-color: var(--sklearn-color-unfitted-level-2);\n",
       "}\n",
       "\n",
       "#sk-container-id-1 div.sk-estimator.fitted input.sk-toggleable__control:checked~label.sk-toggleable__label {\n",
       "  /* fitted */\n",
       "  background-color: var(--sklearn-color-fitted-level-2);\n",
       "}\n",
       "\n",
       "#sk-container-id-1 div.sk-label label.sk-toggleable__label,\n",
       "#sk-container-id-1 div.sk-label label {\n",
       "  /* The background is the default theme color */\n",
       "  color: var(--sklearn-color-text-on-default-background);\n",
       "}\n",
       "\n",
       "/* On hover, darken the color of the background */\n",
       "#sk-container-id-1 div.sk-label:hover label.sk-toggleable__label {\n",
       "  color: var(--sklearn-color-text);\n",
       "  background-color: var(--sklearn-color-unfitted-level-2);\n",
       "}\n",
       "\n",
       "/* Label box, darken color on hover, fitted */\n",
       "#sk-container-id-1 div.sk-label.fitted:hover label.sk-toggleable__label.fitted {\n",
       "  color: var(--sklearn-color-text);\n",
       "  background-color: var(--sklearn-color-fitted-level-2);\n",
       "}\n",
       "\n",
       "/* Estimator label */\n",
       "\n",
       "#sk-container-id-1 div.sk-label label {\n",
       "  font-family: monospace;\n",
       "  font-weight: bold;\n",
       "  display: inline-block;\n",
       "  line-height: 1.2em;\n",
       "}\n",
       "\n",
       "#sk-container-id-1 div.sk-label-container {\n",
       "  text-align: center;\n",
       "}\n",
       "\n",
       "/* Estimator-specific */\n",
       "#sk-container-id-1 div.sk-estimator {\n",
       "  font-family: monospace;\n",
       "  border: 1px dotted var(--sklearn-color-border-box);\n",
       "  border-radius: 0.25em;\n",
       "  box-sizing: border-box;\n",
       "  margin-bottom: 0.5em;\n",
       "  /* unfitted */\n",
       "  background-color: var(--sklearn-color-unfitted-level-0);\n",
       "}\n",
       "\n",
       "#sk-container-id-1 div.sk-estimator.fitted {\n",
       "  /* fitted */\n",
       "  background-color: var(--sklearn-color-fitted-level-0);\n",
       "}\n",
       "\n",
       "/* on hover */\n",
       "#sk-container-id-1 div.sk-estimator:hover {\n",
       "  /* unfitted */\n",
       "  background-color: var(--sklearn-color-unfitted-level-2);\n",
       "}\n",
       "\n",
       "#sk-container-id-1 div.sk-estimator.fitted:hover {\n",
       "  /* fitted */\n",
       "  background-color: var(--sklearn-color-fitted-level-2);\n",
       "}\n",
       "\n",
       "/* Specification for estimator info (e.g. \"i\" and \"?\") */\n",
       "\n",
       "/* Common style for \"i\" and \"?\" */\n",
       "\n",
       ".sk-estimator-doc-link,\n",
       "a:link.sk-estimator-doc-link,\n",
       "a:visited.sk-estimator-doc-link {\n",
       "  float: right;\n",
       "  font-size: smaller;\n",
       "  line-height: 1em;\n",
       "  font-family: monospace;\n",
       "  background-color: var(--sklearn-color-background);\n",
       "  border-radius: 1em;\n",
       "  height: 1em;\n",
       "  width: 1em;\n",
       "  text-decoration: none !important;\n",
       "  margin-left: 1ex;\n",
       "  /* unfitted */\n",
       "  border: var(--sklearn-color-unfitted-level-1) 1pt solid;\n",
       "  color: var(--sklearn-color-unfitted-level-1);\n",
       "}\n",
       "\n",
       ".sk-estimator-doc-link.fitted,\n",
       "a:link.sk-estimator-doc-link.fitted,\n",
       "a:visited.sk-estimator-doc-link.fitted {\n",
       "  /* fitted */\n",
       "  border: var(--sklearn-color-fitted-level-1) 1pt solid;\n",
       "  color: var(--sklearn-color-fitted-level-1);\n",
       "}\n",
       "\n",
       "/* On hover */\n",
       "div.sk-estimator:hover .sk-estimator-doc-link:hover,\n",
       ".sk-estimator-doc-link:hover,\n",
       "div.sk-label-container:hover .sk-estimator-doc-link:hover,\n",
       ".sk-estimator-doc-link:hover {\n",
       "  /* unfitted */\n",
       "  background-color: var(--sklearn-color-unfitted-level-3);\n",
       "  color: var(--sklearn-color-background);\n",
       "  text-decoration: none;\n",
       "}\n",
       "\n",
       "div.sk-estimator.fitted:hover .sk-estimator-doc-link.fitted:hover,\n",
       ".sk-estimator-doc-link.fitted:hover,\n",
       "div.sk-label-container:hover .sk-estimator-doc-link.fitted:hover,\n",
       ".sk-estimator-doc-link.fitted:hover {\n",
       "  /* fitted */\n",
       "  background-color: var(--sklearn-color-fitted-level-3);\n",
       "  color: var(--sklearn-color-background);\n",
       "  text-decoration: none;\n",
       "}\n",
       "\n",
       "/* Span, style for the box shown on hovering the info icon */\n",
       ".sk-estimator-doc-link span {\n",
       "  display: none;\n",
       "  z-index: 9999;\n",
       "  position: relative;\n",
       "  font-weight: normal;\n",
       "  right: .2ex;\n",
       "  padding: .5ex;\n",
       "  margin: .5ex;\n",
       "  width: min-content;\n",
       "  min-width: 20ex;\n",
       "  max-width: 50ex;\n",
       "  color: var(--sklearn-color-text);\n",
       "  box-shadow: 2pt 2pt 4pt #999;\n",
       "  /* unfitted */\n",
       "  background: var(--sklearn-color-unfitted-level-0);\n",
       "  border: .5pt solid var(--sklearn-color-unfitted-level-3);\n",
       "}\n",
       "\n",
       ".sk-estimator-doc-link.fitted span {\n",
       "  /* fitted */\n",
       "  background: var(--sklearn-color-fitted-level-0);\n",
       "  border: var(--sklearn-color-fitted-level-3);\n",
       "}\n",
       "\n",
       ".sk-estimator-doc-link:hover span {\n",
       "  display: block;\n",
       "}\n",
       "\n",
       "/* \"?\"-specific style due to the `<a>` HTML tag */\n",
       "\n",
       "#sk-container-id-1 a.estimator_doc_link {\n",
       "  float: right;\n",
       "  font-size: 1rem;\n",
       "  line-height: 1em;\n",
       "  font-family: monospace;\n",
       "  background-color: var(--sklearn-color-background);\n",
       "  border-radius: 1rem;\n",
       "  height: 1rem;\n",
       "  width: 1rem;\n",
       "  text-decoration: none;\n",
       "  /* unfitted */\n",
       "  color: var(--sklearn-color-unfitted-level-1);\n",
       "  border: var(--sklearn-color-unfitted-level-1) 1pt solid;\n",
       "}\n",
       "\n",
       "#sk-container-id-1 a.estimator_doc_link.fitted {\n",
       "  /* fitted */\n",
       "  border: var(--sklearn-color-fitted-level-1) 1pt solid;\n",
       "  color: var(--sklearn-color-fitted-level-1);\n",
       "}\n",
       "\n",
       "/* On hover */\n",
       "#sk-container-id-1 a.estimator_doc_link:hover {\n",
       "  /* unfitted */\n",
       "  background-color: var(--sklearn-color-unfitted-level-3);\n",
       "  color: var(--sklearn-color-background);\n",
       "  text-decoration: none;\n",
       "}\n",
       "\n",
       "#sk-container-id-1 a.estimator_doc_link.fitted:hover {\n",
       "  /* fitted */\n",
       "  background-color: var(--sklearn-color-fitted-level-3);\n",
       "}\n",
       "</style><div id=\"sk-container-id-1\" class=\"sk-top-container\"><div class=\"sk-text-repr-fallback\"><pre>RandomForestClassifier(class_weight=&#x27;balanced&#x27;, n_estimators=500,\n",
       "                       random_state=4)</pre><b>In a Jupyter environment, please rerun this cell to show the HTML representation or trust the notebook. <br />On GitHub, the HTML representation is unable to render, please try loading this page with nbviewer.org.</b></div><div class=\"sk-container\" hidden><div class=\"sk-item\"><div class=\"sk-estimator fitted sk-toggleable\"><input class=\"sk-toggleable__control sk-hidden--visually\" id=\"sk-estimator-id-1\" type=\"checkbox\" checked><label for=\"sk-estimator-id-1\" class=\"sk-toggleable__label fitted sk-toggleable__label-arrow fitted\">&nbsp;&nbsp;RandomForestClassifier<a class=\"sk-estimator-doc-link fitted\" rel=\"noreferrer\" target=\"_blank\" href=\"https://scikit-learn.org/1.5/modules/generated/sklearn.ensemble.RandomForestClassifier.html\">?<span>Documentation for RandomForestClassifier</span></a><span class=\"sk-estimator-doc-link fitted\">i<span>Fitted</span></span></label><div class=\"sk-toggleable__content fitted\"><pre>RandomForestClassifier(class_weight=&#x27;balanced&#x27;, n_estimators=500,\n",
       "                       random_state=4)</pre></div> </div></div></div></div>"
      ],
      "text/plain": [
       "RandomForestClassifier(class_weight='balanced', n_estimators=500,\n",
       "                       random_state=4)"
      ]
     },
     "execution_count": 39,
     "metadata": {},
     "output_type": "execute_result"
    }
   ],
   "source": [
    "rf_stat = RandomForestClassifier(n_estimators=500, random_state=4, class_weight=\"balanced\")\n",
    "rf_stat.fit(X_train, y_train)"
   ]
  },
  {
   "cell_type": "code",
   "execution_count": 40,
   "id": "6be74b71-04d0-42c2-a873-a422101bd98b",
   "metadata": {
    "tags": []
   },
   "outputs": [],
   "source": [
    "y_pred = rf_stat.predict(X_test)"
   ]
  },
  {
   "cell_type": "code",
   "execution_count": 41,
   "id": "6d168c07-8506-4a36-85f2-c0f260626422",
   "metadata": {
    "tags": []
   },
   "outputs": [
    {
     "name": "stdout",
     "output_type": "stream",
     "text": [
      "Model Accuracy: 1.0\n"
     ]
    }
   ],
   "source": [
    "accuracy = accuracy_score(y_test, y_pred)\n",
    "print(\"Model Accuracy:\", accuracy)"
   ]
  },
  {
   "cell_type": "code",
   "execution_count": 42,
   "id": "4839207c-0c66-4d3a-ab5c-074bf0e78f37",
   "metadata": {
    "tags": []
   },
   "outputs": [
    {
     "name": "stdout",
     "output_type": "stream",
     "text": [
      "\n",
      "Classification Report:\n",
      "               precision    recall  f1-score   support\n",
      "\n",
      "           0       1.00      1.00      1.00       242\n",
      "           1       1.00      1.00      1.00       240\n",
      "           2       1.00      1.00      1.00       401\n",
      "           3       1.00      1.00      1.00        62\n",
      "           4       1.00      1.00      1.00        16\n",
      "\n",
      "    accuracy                           1.00       961\n",
      "   macro avg       1.00      1.00      1.00       961\n",
      "weighted avg       1.00      1.00      1.00       961\n",
      "\n"
     ]
    }
   ],
   "source": [
    "print(\"\\nClassification Report:\\n\", classification_report(y_test, y_pred))"
   ]
  },
  {
   "cell_type": "markdown",
   "id": "145165f3-b6b6-4943-846a-10be9e481fe3",
   "metadata": {},
   "source": [
    "# Part 5: Random Forest ML: Predict Worth Funding Based on Text (True ML)"
   ]
  },
  {
   "cell_type": "markdown",
   "id": "2a0dc253-bf1f-4d1a-8828-db198eb455e5",
   "metadata": {},
   "source": [
    "**Task Justification:** This is the process where I answer my analytical question 2 (my end-goal): Can I predict whether a movie will be worth funding based on its textual information (genres, overview, keywords, tagline)?\n",
    "\n",
    "To accomplish this task, I need to focus on the textual data and make sure I take the necessary steps to ensure that it is prepped for ML modelling and learning."
   ]
  },
  {
   "cell_type": "markdown",
   "id": "35fcac3e-d55e-4eba-800b-1e2fa21c1eb8",
   "metadata": {
    "tags": []
   },
   "source": [
    "## Vectorize The Text"
   ]
  },
  {
   "cell_type": "markdown",
   "id": "bb2ef927-2b9a-44d6-9cd6-7e61b22cf0ad",
   "metadata": {},
   "source": [
    "**Task Justification:** This is an important - and necessary - step in utilizing ML for text-based data. A Random Forest cannot process raw text, but requires it to be numerical. A vectorizer converts text into a numerical format. Additionally, it captures the importance of words. \n",
    "\n",
    "**Below:** Since I have 4 features that are text based, I had to vectorize each one. As a side note as I am writing this, I am now realizing that I shaould have propably combined all these into one document for each movie. Since I already wrote the code like this, I will combine them later."
   ]
  },
  {
   "cell_type": "code",
   "execution_count": 43,
   "id": "ca2c47ee-74f4-4de8-a6e7-66a93670a29c",
   "metadata": {
    "tags": []
   },
   "outputs": [],
   "source": [
    "vectorizer_genres = TfidfVectorizer(stop_words=\"english\", max_features=6000)\n",
    "X_genres = vectorizer_genres.fit_transform(df[\"clean_genres\"])\n",
    "\n",
    "vectorizer_keywords = TfidfVectorizer(stop_words=\"english\", max_features=6000)\n",
    "X_keywords = vectorizer_keywords.fit_transform(df[\"clean_keywords\"])\n",
    "\n",
    "vectorizer_tagline = TfidfVectorizer(stop_words=\"english\", max_features=6000)\n",
    "X_tagline = vectorizer_tagline.fit_transform(df[\"clean_tagline\"])\n",
    "\n",
    "vectorizer_overview = TfidfVectorizer(stop_words=\"english\", max_features=20000)\n",
    "X_overview = vectorizer_overview.fit_transform(df[\"clean_overview\"])"
   ]
  },
  {
   "cell_type": "markdown",
   "id": "10d0ffd5-58ad-4a3e-b351-b99999e5ef3c",
   "metadata": {},
   "source": [
    "## ML - SMOTE and Random Forest Classifier "
   ]
  },
  {
   "cell_type": "markdown",
   "id": "38cecd0e-7431-40f7-9678-f0248e1f150e",
   "metadata": {},
   "source": [
    "**Task Justification: SMOTE:** This was actually an addition after I ran my model, because my model had class disparity issues and was not at all predicting my minor class (2, do fund). To address this I had to apply a sampling method, since using the \"class_weight=\"balanced\"\" function in the RF also did not result in any predictions for the minor class. So, I decided to apply this SMOTE sampling technique to even the number of samples for each variable. To make sure that I wasn't causing overfitting issues due to the synthetic data, I made sure to only apply SMOTE to the training data, so that the testing data maintains all real-world data.\n",
    "\n",
    "**Task Justification: RF ML:** This is the ML model that does the prediction for my second Analytic Question: \"Can I predict whether a movie will be worth funding based on its textual information (genres, overview, keywords, tagline)?\", this is the \"meat and potatoes\" of the project. Since the predictions fall into 1 of 3 categories, I am using the Random Forest Classifier to make the predictions. I am making sure that I am using my resampled data - from SMOTE - to train on."
   ]
  },
  {
   "cell_type": "code",
   "execution_count": 44,
   "id": "592fafb2-e652-4e28-a8a0-62ea4170b63b",
   "metadata": {
    "tags": []
   },
   "outputs": [],
   "source": [
    "X_text = hstack([X_genres, X_keywords, X_tagline, X_overview])\n",
    "y = df[\"worth_funding\"]"
   ]
  },
  {
   "cell_type": "code",
   "execution_count": 45,
   "id": "6ea2d619-f8b6-4c9f-b443-ce59d22524da",
   "metadata": {},
   "outputs": [],
   "source": [
    "X_dense = X_text.toarray()  "
   ]
  },
  {
   "cell_type": "code",
   "execution_count": 46,
   "id": "598cf28f-a49b-4291-87da-17e39921ccd4",
   "metadata": {
    "tags": []
   },
   "outputs": [],
   "source": [
    "X_train, X_test, y_train, y_test = train_test_split(X_dense, y, test_size=0.2, random_state=4, stratify=y)"
   ]
  },
  {
   "cell_type": "code",
   "execution_count": 47,
   "id": "7a4dd64a-3e9d-432e-a31f-1754c4556d2c",
   "metadata": {
    "tags": []
   },
   "outputs": [],
   "source": [
    "sm = SMOTE(random_state=4)\n",
    "X_train_resampled, y_train_resampled = sm.fit_resample(X_train, y_train)"
   ]
  },
  {
   "cell_type": "code",
   "execution_count": 48,
   "id": "e14263ac-b956-4cb2-89b9-1d491c041731",
   "metadata": {
    "tags": []
   },
   "outputs": [
    {
     "data": {
      "text/html": [
       "<style>#sk-container-id-2 {\n",
       "  /* Definition of color scheme common for light and dark mode */\n",
       "  --sklearn-color-text: black;\n",
       "  --sklearn-color-line: gray;\n",
       "  /* Definition of color scheme for unfitted estimators */\n",
       "  --sklearn-color-unfitted-level-0: #fff5e6;\n",
       "  --sklearn-color-unfitted-level-1: #f6e4d2;\n",
       "  --sklearn-color-unfitted-level-2: #ffe0b3;\n",
       "  --sklearn-color-unfitted-level-3: chocolate;\n",
       "  /* Definition of color scheme for fitted estimators */\n",
       "  --sklearn-color-fitted-level-0: #f0f8ff;\n",
       "  --sklearn-color-fitted-level-1: #d4ebff;\n",
       "  --sklearn-color-fitted-level-2: #b3dbfd;\n",
       "  --sklearn-color-fitted-level-3: cornflowerblue;\n",
       "\n",
       "  /* Specific color for light theme */\n",
       "  --sklearn-color-text-on-default-background: var(--sg-text-color, var(--theme-code-foreground, var(--jp-content-font-color1, black)));\n",
       "  --sklearn-color-background: var(--sg-background-color, var(--theme-background, var(--jp-layout-color0, white)));\n",
       "  --sklearn-color-border-box: var(--sg-text-color, var(--theme-code-foreground, var(--jp-content-font-color1, black)));\n",
       "  --sklearn-color-icon: #696969;\n",
       "\n",
       "  @media (prefers-color-scheme: dark) {\n",
       "    /* Redefinition of color scheme for dark theme */\n",
       "    --sklearn-color-text-on-default-background: var(--sg-text-color, var(--theme-code-foreground, var(--jp-content-font-color1, white)));\n",
       "    --sklearn-color-background: var(--sg-background-color, var(--theme-background, var(--jp-layout-color0, #111)));\n",
       "    --sklearn-color-border-box: var(--sg-text-color, var(--theme-code-foreground, var(--jp-content-font-color1, white)));\n",
       "    --sklearn-color-icon: #878787;\n",
       "  }\n",
       "}\n",
       "\n",
       "#sk-container-id-2 {\n",
       "  color: var(--sklearn-color-text);\n",
       "}\n",
       "\n",
       "#sk-container-id-2 pre {\n",
       "  padding: 0;\n",
       "}\n",
       "\n",
       "#sk-container-id-2 input.sk-hidden--visually {\n",
       "  border: 0;\n",
       "  clip: rect(1px 1px 1px 1px);\n",
       "  clip: rect(1px, 1px, 1px, 1px);\n",
       "  height: 1px;\n",
       "  margin: -1px;\n",
       "  overflow: hidden;\n",
       "  padding: 0;\n",
       "  position: absolute;\n",
       "  width: 1px;\n",
       "}\n",
       "\n",
       "#sk-container-id-2 div.sk-dashed-wrapped {\n",
       "  border: 1px dashed var(--sklearn-color-line);\n",
       "  margin: 0 0.4em 0.5em 0.4em;\n",
       "  box-sizing: border-box;\n",
       "  padding-bottom: 0.4em;\n",
       "  background-color: var(--sklearn-color-background);\n",
       "}\n",
       "\n",
       "#sk-container-id-2 div.sk-container {\n",
       "  /* jupyter's `normalize.less` sets `[hidden] { display: none; }`\n",
       "     but bootstrap.min.css set `[hidden] { display: none !important; }`\n",
       "     so we also need the `!important` here to be able to override the\n",
       "     default hidden behavior on the sphinx rendered scikit-learn.org.\n",
       "     See: https://github.com/scikit-learn/scikit-learn/issues/21755 */\n",
       "  display: inline-block !important;\n",
       "  position: relative;\n",
       "}\n",
       "\n",
       "#sk-container-id-2 div.sk-text-repr-fallback {\n",
       "  display: none;\n",
       "}\n",
       "\n",
       "div.sk-parallel-item,\n",
       "div.sk-serial,\n",
       "div.sk-item {\n",
       "  /* draw centered vertical line to link estimators */\n",
       "  background-image: linear-gradient(var(--sklearn-color-text-on-default-background), var(--sklearn-color-text-on-default-background));\n",
       "  background-size: 2px 100%;\n",
       "  background-repeat: no-repeat;\n",
       "  background-position: center center;\n",
       "}\n",
       "\n",
       "/* Parallel-specific style estimator block */\n",
       "\n",
       "#sk-container-id-2 div.sk-parallel-item::after {\n",
       "  content: \"\";\n",
       "  width: 100%;\n",
       "  border-bottom: 2px solid var(--sklearn-color-text-on-default-background);\n",
       "  flex-grow: 1;\n",
       "}\n",
       "\n",
       "#sk-container-id-2 div.sk-parallel {\n",
       "  display: flex;\n",
       "  align-items: stretch;\n",
       "  justify-content: center;\n",
       "  background-color: var(--sklearn-color-background);\n",
       "  position: relative;\n",
       "}\n",
       "\n",
       "#sk-container-id-2 div.sk-parallel-item {\n",
       "  display: flex;\n",
       "  flex-direction: column;\n",
       "}\n",
       "\n",
       "#sk-container-id-2 div.sk-parallel-item:first-child::after {\n",
       "  align-self: flex-end;\n",
       "  width: 50%;\n",
       "}\n",
       "\n",
       "#sk-container-id-2 div.sk-parallel-item:last-child::after {\n",
       "  align-self: flex-start;\n",
       "  width: 50%;\n",
       "}\n",
       "\n",
       "#sk-container-id-2 div.sk-parallel-item:only-child::after {\n",
       "  width: 0;\n",
       "}\n",
       "\n",
       "/* Serial-specific style estimator block */\n",
       "\n",
       "#sk-container-id-2 div.sk-serial {\n",
       "  display: flex;\n",
       "  flex-direction: column;\n",
       "  align-items: center;\n",
       "  background-color: var(--sklearn-color-background);\n",
       "  padding-right: 1em;\n",
       "  padding-left: 1em;\n",
       "}\n",
       "\n",
       "\n",
       "/* Toggleable style: style used for estimator/Pipeline/ColumnTransformer box that is\n",
       "clickable and can be expanded/collapsed.\n",
       "- Pipeline and ColumnTransformer use this feature and define the default style\n",
       "- Estimators will overwrite some part of the style using the `sk-estimator` class\n",
       "*/\n",
       "\n",
       "/* Pipeline and ColumnTransformer style (default) */\n",
       "\n",
       "#sk-container-id-2 div.sk-toggleable {\n",
       "  /* Default theme specific background. It is overwritten whether we have a\n",
       "  specific estimator or a Pipeline/ColumnTransformer */\n",
       "  background-color: var(--sklearn-color-background);\n",
       "}\n",
       "\n",
       "/* Toggleable label */\n",
       "#sk-container-id-2 label.sk-toggleable__label {\n",
       "  cursor: pointer;\n",
       "  display: block;\n",
       "  width: 100%;\n",
       "  margin-bottom: 0;\n",
       "  padding: 0.5em;\n",
       "  box-sizing: border-box;\n",
       "  text-align: center;\n",
       "}\n",
       "\n",
       "#sk-container-id-2 label.sk-toggleable__label-arrow:before {\n",
       "  /* Arrow on the left of the label */\n",
       "  content: \"▸\";\n",
       "  float: left;\n",
       "  margin-right: 0.25em;\n",
       "  color: var(--sklearn-color-icon);\n",
       "}\n",
       "\n",
       "#sk-container-id-2 label.sk-toggleable__label-arrow:hover:before {\n",
       "  color: var(--sklearn-color-text);\n",
       "}\n",
       "\n",
       "/* Toggleable content - dropdown */\n",
       "\n",
       "#sk-container-id-2 div.sk-toggleable__content {\n",
       "  max-height: 0;\n",
       "  max-width: 0;\n",
       "  overflow: hidden;\n",
       "  text-align: left;\n",
       "  /* unfitted */\n",
       "  background-color: var(--sklearn-color-unfitted-level-0);\n",
       "}\n",
       "\n",
       "#sk-container-id-2 div.sk-toggleable__content.fitted {\n",
       "  /* fitted */\n",
       "  background-color: var(--sklearn-color-fitted-level-0);\n",
       "}\n",
       "\n",
       "#sk-container-id-2 div.sk-toggleable__content pre {\n",
       "  margin: 0.2em;\n",
       "  border-radius: 0.25em;\n",
       "  color: var(--sklearn-color-text);\n",
       "  /* unfitted */\n",
       "  background-color: var(--sklearn-color-unfitted-level-0);\n",
       "}\n",
       "\n",
       "#sk-container-id-2 div.sk-toggleable__content.fitted pre {\n",
       "  /* unfitted */\n",
       "  background-color: var(--sklearn-color-fitted-level-0);\n",
       "}\n",
       "\n",
       "#sk-container-id-2 input.sk-toggleable__control:checked~div.sk-toggleable__content {\n",
       "  /* Expand drop-down */\n",
       "  max-height: 200px;\n",
       "  max-width: 100%;\n",
       "  overflow: auto;\n",
       "}\n",
       "\n",
       "#sk-container-id-2 input.sk-toggleable__control:checked~label.sk-toggleable__label-arrow:before {\n",
       "  content: \"▾\";\n",
       "}\n",
       "\n",
       "/* Pipeline/ColumnTransformer-specific style */\n",
       "\n",
       "#sk-container-id-2 div.sk-label input.sk-toggleable__control:checked~label.sk-toggleable__label {\n",
       "  color: var(--sklearn-color-text);\n",
       "  background-color: var(--sklearn-color-unfitted-level-2);\n",
       "}\n",
       "\n",
       "#sk-container-id-2 div.sk-label.fitted input.sk-toggleable__control:checked~label.sk-toggleable__label {\n",
       "  background-color: var(--sklearn-color-fitted-level-2);\n",
       "}\n",
       "\n",
       "/* Estimator-specific style */\n",
       "\n",
       "/* Colorize estimator box */\n",
       "#sk-container-id-2 div.sk-estimator input.sk-toggleable__control:checked~label.sk-toggleable__label {\n",
       "  /* unfitted */\n",
       "  background-color: var(--sklearn-color-unfitted-level-2);\n",
       "}\n",
       "\n",
       "#sk-container-id-2 div.sk-estimator.fitted input.sk-toggleable__control:checked~label.sk-toggleable__label {\n",
       "  /* fitted */\n",
       "  background-color: var(--sklearn-color-fitted-level-2);\n",
       "}\n",
       "\n",
       "#sk-container-id-2 div.sk-label label.sk-toggleable__label,\n",
       "#sk-container-id-2 div.sk-label label {\n",
       "  /* The background is the default theme color */\n",
       "  color: var(--sklearn-color-text-on-default-background);\n",
       "}\n",
       "\n",
       "/* On hover, darken the color of the background */\n",
       "#sk-container-id-2 div.sk-label:hover label.sk-toggleable__label {\n",
       "  color: var(--sklearn-color-text);\n",
       "  background-color: var(--sklearn-color-unfitted-level-2);\n",
       "}\n",
       "\n",
       "/* Label box, darken color on hover, fitted */\n",
       "#sk-container-id-2 div.sk-label.fitted:hover label.sk-toggleable__label.fitted {\n",
       "  color: var(--sklearn-color-text);\n",
       "  background-color: var(--sklearn-color-fitted-level-2);\n",
       "}\n",
       "\n",
       "/* Estimator label */\n",
       "\n",
       "#sk-container-id-2 div.sk-label label {\n",
       "  font-family: monospace;\n",
       "  font-weight: bold;\n",
       "  display: inline-block;\n",
       "  line-height: 1.2em;\n",
       "}\n",
       "\n",
       "#sk-container-id-2 div.sk-label-container {\n",
       "  text-align: center;\n",
       "}\n",
       "\n",
       "/* Estimator-specific */\n",
       "#sk-container-id-2 div.sk-estimator {\n",
       "  font-family: monospace;\n",
       "  border: 1px dotted var(--sklearn-color-border-box);\n",
       "  border-radius: 0.25em;\n",
       "  box-sizing: border-box;\n",
       "  margin-bottom: 0.5em;\n",
       "  /* unfitted */\n",
       "  background-color: var(--sklearn-color-unfitted-level-0);\n",
       "}\n",
       "\n",
       "#sk-container-id-2 div.sk-estimator.fitted {\n",
       "  /* fitted */\n",
       "  background-color: var(--sklearn-color-fitted-level-0);\n",
       "}\n",
       "\n",
       "/* on hover */\n",
       "#sk-container-id-2 div.sk-estimator:hover {\n",
       "  /* unfitted */\n",
       "  background-color: var(--sklearn-color-unfitted-level-2);\n",
       "}\n",
       "\n",
       "#sk-container-id-2 div.sk-estimator.fitted:hover {\n",
       "  /* fitted */\n",
       "  background-color: var(--sklearn-color-fitted-level-2);\n",
       "}\n",
       "\n",
       "/* Specification for estimator info (e.g. \"i\" and \"?\") */\n",
       "\n",
       "/* Common style for \"i\" and \"?\" */\n",
       "\n",
       ".sk-estimator-doc-link,\n",
       "a:link.sk-estimator-doc-link,\n",
       "a:visited.sk-estimator-doc-link {\n",
       "  float: right;\n",
       "  font-size: smaller;\n",
       "  line-height: 1em;\n",
       "  font-family: monospace;\n",
       "  background-color: var(--sklearn-color-background);\n",
       "  border-radius: 1em;\n",
       "  height: 1em;\n",
       "  width: 1em;\n",
       "  text-decoration: none !important;\n",
       "  margin-left: 1ex;\n",
       "  /* unfitted */\n",
       "  border: var(--sklearn-color-unfitted-level-1) 1pt solid;\n",
       "  color: var(--sklearn-color-unfitted-level-1);\n",
       "}\n",
       "\n",
       ".sk-estimator-doc-link.fitted,\n",
       "a:link.sk-estimator-doc-link.fitted,\n",
       "a:visited.sk-estimator-doc-link.fitted {\n",
       "  /* fitted */\n",
       "  border: var(--sklearn-color-fitted-level-1) 1pt solid;\n",
       "  color: var(--sklearn-color-fitted-level-1);\n",
       "}\n",
       "\n",
       "/* On hover */\n",
       "div.sk-estimator:hover .sk-estimator-doc-link:hover,\n",
       ".sk-estimator-doc-link:hover,\n",
       "div.sk-label-container:hover .sk-estimator-doc-link:hover,\n",
       ".sk-estimator-doc-link:hover {\n",
       "  /* unfitted */\n",
       "  background-color: var(--sklearn-color-unfitted-level-3);\n",
       "  color: var(--sklearn-color-background);\n",
       "  text-decoration: none;\n",
       "}\n",
       "\n",
       "div.sk-estimator.fitted:hover .sk-estimator-doc-link.fitted:hover,\n",
       ".sk-estimator-doc-link.fitted:hover,\n",
       "div.sk-label-container:hover .sk-estimator-doc-link.fitted:hover,\n",
       ".sk-estimator-doc-link.fitted:hover {\n",
       "  /* fitted */\n",
       "  background-color: var(--sklearn-color-fitted-level-3);\n",
       "  color: var(--sklearn-color-background);\n",
       "  text-decoration: none;\n",
       "}\n",
       "\n",
       "/* Span, style for the box shown on hovering the info icon */\n",
       ".sk-estimator-doc-link span {\n",
       "  display: none;\n",
       "  z-index: 9999;\n",
       "  position: relative;\n",
       "  font-weight: normal;\n",
       "  right: .2ex;\n",
       "  padding: .5ex;\n",
       "  margin: .5ex;\n",
       "  width: min-content;\n",
       "  min-width: 20ex;\n",
       "  max-width: 50ex;\n",
       "  color: var(--sklearn-color-text);\n",
       "  box-shadow: 2pt 2pt 4pt #999;\n",
       "  /* unfitted */\n",
       "  background: var(--sklearn-color-unfitted-level-0);\n",
       "  border: .5pt solid var(--sklearn-color-unfitted-level-3);\n",
       "}\n",
       "\n",
       ".sk-estimator-doc-link.fitted span {\n",
       "  /* fitted */\n",
       "  background: var(--sklearn-color-fitted-level-0);\n",
       "  border: var(--sklearn-color-fitted-level-3);\n",
       "}\n",
       "\n",
       ".sk-estimator-doc-link:hover span {\n",
       "  display: block;\n",
       "}\n",
       "\n",
       "/* \"?\"-specific style due to the `<a>` HTML tag */\n",
       "\n",
       "#sk-container-id-2 a.estimator_doc_link {\n",
       "  float: right;\n",
       "  font-size: 1rem;\n",
       "  line-height: 1em;\n",
       "  font-family: monospace;\n",
       "  background-color: var(--sklearn-color-background);\n",
       "  border-radius: 1rem;\n",
       "  height: 1rem;\n",
       "  width: 1rem;\n",
       "  text-decoration: none;\n",
       "  /* unfitted */\n",
       "  color: var(--sklearn-color-unfitted-level-1);\n",
       "  border: var(--sklearn-color-unfitted-level-1) 1pt solid;\n",
       "}\n",
       "\n",
       "#sk-container-id-2 a.estimator_doc_link.fitted {\n",
       "  /* fitted */\n",
       "  border: var(--sklearn-color-fitted-level-1) 1pt solid;\n",
       "  color: var(--sklearn-color-fitted-level-1);\n",
       "}\n",
       "\n",
       "/* On hover */\n",
       "#sk-container-id-2 a.estimator_doc_link:hover {\n",
       "  /* unfitted */\n",
       "  background-color: var(--sklearn-color-unfitted-level-3);\n",
       "  color: var(--sklearn-color-background);\n",
       "  text-decoration: none;\n",
       "}\n",
       "\n",
       "#sk-container-id-2 a.estimator_doc_link.fitted:hover {\n",
       "  /* fitted */\n",
       "  background-color: var(--sklearn-color-fitted-level-3);\n",
       "}\n",
       "</style><div id=\"sk-container-id-2\" class=\"sk-top-container\"><div class=\"sk-text-repr-fallback\"><pre>RandomForestClassifier(class_weight=&#x27;balanced&#x27;, n_estimators=2000,\n",
       "                       random_state=4)</pre><b>In a Jupyter environment, please rerun this cell to show the HTML representation or trust the notebook. <br />On GitHub, the HTML representation is unable to render, please try loading this page with nbviewer.org.</b></div><div class=\"sk-container\" hidden><div class=\"sk-item\"><div class=\"sk-estimator fitted sk-toggleable\"><input class=\"sk-toggleable__control sk-hidden--visually\" id=\"sk-estimator-id-2\" type=\"checkbox\" checked><label for=\"sk-estimator-id-2\" class=\"sk-toggleable__label fitted sk-toggleable__label-arrow fitted\">&nbsp;&nbsp;RandomForestClassifier<a class=\"sk-estimator-doc-link fitted\" rel=\"noreferrer\" target=\"_blank\" href=\"https://scikit-learn.org/1.5/modules/generated/sklearn.ensemble.RandomForestClassifier.html\">?<span>Documentation for RandomForestClassifier</span></a><span class=\"sk-estimator-doc-link fitted\">i<span>Fitted</span></span></label><div class=\"sk-toggleable__content fitted\"><pre>RandomForestClassifier(class_weight=&#x27;balanced&#x27;, n_estimators=2000,\n",
       "                       random_state=4)</pre></div> </div></div></div></div>"
      ],
      "text/plain": [
       "RandomForestClassifier(class_weight='balanced', n_estimators=2000,\n",
       "                       random_state=4)"
      ]
     },
     "execution_count": 48,
     "metadata": {},
     "output_type": "execute_result"
    }
   ],
   "source": [
    "rf = RandomForestClassifier(n_estimators=2000, random_state=4,class_weight=\"balanced\")\n",
    "rf.fit(X_train_resampled, y_train_resampled)"
   ]
  },
  {
   "cell_type": "code",
   "execution_count": 49,
   "id": "32bf52ef-5366-4497-88a3-5233a232384d",
   "metadata": {
    "tags": []
   },
   "outputs": [],
   "source": [
    "y_pred = rf.predict(X_test)"
   ]
  },
  {
   "cell_type": "code",
   "execution_count": 50,
   "id": "bbec3bfa-a456-49cb-99ac-e0e434302c6d",
   "metadata": {
    "tags": []
   },
   "outputs": [
    {
     "name": "stdout",
     "output_type": "stream",
     "text": [
      "Model Accuracy: 0.5650364203954215\n",
      "\n",
      "Classification Report:\n",
      "               precision    recall  f1-score   support\n",
      "\n",
      "           0       0.55      0.86      0.67       482\n",
      "           1       0.61      0.36      0.45       354\n",
      "           2       0.50      0.02      0.03       125\n",
      "\n",
      "    accuracy                           0.57       961\n",
      "   macro avg       0.55      0.41      0.39       961\n",
      "weighted avg       0.57      0.57      0.51       961\n",
      "\n"
     ]
    }
   ],
   "source": [
    "accuracy = accuracy_score(y_test, y_pred)\n",
    "print(\"Model Accuracy:\", accuracy)\n",
    "print(\"\\nClassification Report:\\n\", classification_report(y_test, y_pred))"
   ]
  },
  {
   "cell_type": "markdown",
   "id": "a575929c-431e-4cf9-8dcd-ddb40d1dba42",
   "metadata": {},
   "source": [
    "**<u>RF Classification Report at Time of Reporting:</u>**\n",
    "\n",
    "**Model Accuracy:** 0.5650364203954215\n",
    "\n",
    "Classification Report:\n",
    "               precision    recall  f1-score   support\n",
    "\n",
    "           0       0.55      0.86      0.67       482\n",
    "           1       0.61      0.36      0.45       354\n",
    "           2       0.50      0.02      0.03       125\n",
    "\n",
    "    accuracy                           0.57       961\n",
    "   macro avg       0.55      0.41      0.39       961\n",
    "weighted avg       0.57      0.57      0.51       961\n",
    "   "
   ]
  },
  {
   "cell_type": "markdown",
   "id": "c64730a4-b188-46cd-a709-08a4c7349387",
   "metadata": {},
   "source": [
    "**Summary:** I developed an RF Classifier to see if a film could be determined to be worth funding based on text data alone. While I did build the model, addressed sampling issues, and raised my ML parameters to reasonably high levels, my model - after many, many runs - was barely able to perform better than a 3-sided cointoss, with a 57% accuracy rating. It performed the best at predicting \"do not fund\" (f1 = 0.67), and the worst at predicting \"do fund\" (0.03). This model did terrible at the specific task I was hoping to achieve, which - at the least - identify films worth investing in. \n",
    "\n",
    "At this point, I am not sure what to do. If I raise my parameters, I run the risk of running out of computational capacity or time commitment. I think that deep learning, like neural networks, would be better suited for this task. "
   ]
  },
  {
   "cell_type": "markdown",
   "id": "972b9f4b-5cf5-4c34-bc99-17a668deb46e",
   "metadata": {},
   "source": [
    "## Feature Importance 1 - Words"
   ]
  },
  {
   "cell_type": "markdown",
   "id": "cba45989-c0d4-4198-ac1a-948baf878bd3",
   "metadata": {},
   "source": [
    "**Task Justification:** I was interested to see what - if any - particular words had an effect on the classification decisions. To do this, I looked at all words, across all features, to find the top 10 most important words. "
   ]
  },
  {
   "cell_type": "code",
   "execution_count": 51,
   "id": "55284c92-ff85-43e9-895d-7b1475f43853",
   "metadata": {
    "tags": []
   },
   "outputs": [],
   "source": [
    "feature_importances = rf.feature_importances_"
   ]
  },
  {
   "cell_type": "code",
   "execution_count": 52,
   "id": "1d879c4e-c030-4cf4-b188-ecc7f0d7bfeb",
   "metadata": {
    "tags": []
   },
   "outputs": [],
   "source": [
    "top_features_idx = np.argsort(feature_importances)[-10:][::-1]"
   ]
  },
  {
   "cell_type": "code",
   "execution_count": 53,
   "id": "be749e0b-3025-4bfc-a04a-1657eeb8fd1d",
   "metadata": {
    "tags": []
   },
   "outputs": [],
   "source": [
    "feature_names = (\n",
    "    list(vectorizer_genres.get_feature_names_out()) +\n",
    "    list(vectorizer_keywords.get_feature_names_out()) +\n",
    "    list(vectorizer_tagline.get_feature_names_out()) +\n",
    "    list(vectorizer_overview.get_feature_names_out()))"
   ]
  },
  {
   "cell_type": "code",
   "execution_count": 54,
   "id": "a93ceeea-741c-4ebb-95fe-a8ab063360c3",
   "metadata": {
    "tags": []
   },
   "outputs": [],
   "source": [
    "top_feature_names = [feature_names[i] for i in top_features_idx]"
   ]
  },
  {
   "cell_type": "code",
   "execution_count": 55,
   "id": "07302818-15a3-4b20-911f-d5f455541b78",
   "metadata": {
    "tags": []
   },
   "outputs": [],
   "source": [
    "top_feature_importance = pd.DataFrame({\n",
    "    \"Feature\": top_feature_names,\n",
    "    \"Importance\": feature_importances[top_features_idx]})"
   ]
  },
  {
   "cell_type": "code",
   "execution_count": 56,
   "id": "d442cc12-9caa-4572-9e89-25d3fe345388",
   "metadata": {
    "tags": []
   },
   "outputs": [
    {
     "name": "stdout",
     "output_type": "stream",
     "text": [
      "    Feature  Importance\n",
      "0  included    0.014257\n",
      "1      life    0.003472\n",
      "2     drama    0.003207\n",
      "3    comedy    0.003057\n",
      "4     based    0.002796\n",
      "5    action    0.002638\n",
      "6  thriller    0.002596\n",
      "7       new    0.002558\n",
      "8        ha    0.002417\n",
      "9     young    0.002356\n"
     ]
    }
   ],
   "source": [
    "print(top_feature_importance)"
   ]
  },
  {
   "cell_type": "markdown",
   "id": "ec0903d5-1ba5-4f18-8f85-883dd9b06977",
   "metadata": {},
   "source": [
    "## Feature Importance 2 - Features"
   ]
  },
  {
   "cell_type": "markdown",
   "id": "874c8e83-1744-49e0-bda9-b70037913fab",
   "metadata": {},
   "source": [
    "**Task Justification:** Just like I was interested in seeing if any individual words had high impact on the predictive decision-making, I decided to see if the features themselves played any significant role in the decision making."
   ]
  },
  {
   "cell_type": "code",
   "execution_count": 57,
   "id": "e1b76ea3-f888-4d57-be62-1d93061010c9",
   "metadata": {
    "tags": []
   },
   "outputs": [],
   "source": [
    "num_features_genres = len(vectorizer_genres.get_feature_names_out())\n",
    "num_features_keywords = len(vectorizer_keywords.get_feature_names_out())\n",
    "num_features_tagline = len(vectorizer_tagline.get_feature_names_out())\n",
    "num_features_overview = len(vectorizer_overview.get_feature_names_out())"
   ]
  },
  {
   "cell_type": "code",
   "execution_count": 58,
   "id": "3022c238-1110-42b0-88c6-fb33fabfcc6c",
   "metadata": {
    "tags": []
   },
   "outputs": [],
   "source": [
    "importance_genres = np.sum(feature_importances[:num_features_genres])\n",
    "importance_keywords = np.sum(feature_importances[num_features_genres:num_features_genres + num_features_keywords])\n",
    "importance_tagline = np.sum(feature_importances[num_features_genres + num_features_keywords:num_features_genres + num_features_keywords + num_features_tagline])\n",
    "importance_overview = np.sum(feature_importances[num_features_genres + num_features_keywords + num_features_tagline:])"
   ]
  },
  {
   "cell_type": "code",
   "execution_count": 59,
   "id": "42d42ee2-eccc-4797-ae1f-80d3d1334c75",
   "metadata": {
    "tags": []
   },
   "outputs": [],
   "source": [
    "feature_importance_summary = pd.DataFrame({\n",
    "    \"Feature Category\": [\"Genres\", \"Keywords\", \"Tagline\", \"Overview\"],\n",
    "    \"Total Importance\": [importance_genres, importance_keywords, importance_tagline, importance_overview]})"
   ]
  },
  {
   "cell_type": "code",
   "execution_count": 60,
   "id": "31aa19c7-e460-474b-a6ed-3ec061bc92cf",
   "metadata": {
    "tags": []
   },
   "outputs": [
    {
     "name": "stdout",
     "output_type": "stream",
     "text": [
      "  Feature Category  Total Importance\n",
      "0           Genres          0.031981\n",
      "1         Keywords          0.294262\n",
      "2          Tagline          0.088429\n",
      "3         Overview          0.585329\n"
     ]
    }
   ],
   "source": [
    "print(feature_importance_summary)"
   ]
  },
  {
   "cell_type": "markdown",
   "id": "616b9745-d1d3-4f1e-89ae-1f556d6c9ec5",
   "metadata": {},
   "source": [
    "# Part 5: Summary"
   ]
  },
  {
   "cell_type": "markdown",
   "id": "d26122d9-5fe7-47aa-932b-47b55344008d",
   "metadata": {},
   "source": [
    "**Important Note:** I have included Markdown text in each section that provides more indepth information. \n",
    "\n",
    "For this assignment, I looked to answer 2 analytical questions: one of them was a statistics-based question (not the end goal) and the other was a Machine Learning analytics question. The questions were:\n",
    "\n",
    "- **Analytical Question 1 (Statistical Determination):** Can I predict whether a movie will be successful based on finances, acclaim, and popularity?\n",
    "- **Analytical Question 2 (True ML):** Can I predict whether a movie will be worth funding based on its textual information (genres, overview, keywords, tagline)?\n",
    "\n",
    "To answer both of these questions, I had to develop new features, where both questions relied on the other. To answer the first question, I had to develop a feature that measures the success of a film (which I called \"success_score\"). To be able to answer this first question, I had to develop \"rules\" that dictate how to measure a films success, and this is what produced my new features. To measure success, given the data available to me, I decided to measure success based on 4 factors (disregarding my \"clean text\" features, which was necessary text clean up to answer my second question). My four new features that would be necessary to measure my final two features (\"success_score\" and \"worth_funding\") and the \"rules\" I set for them are:\n",
    "\n",
    "- \"financial_success\": Profitability: Yes/No (1/0). 1 = the \"revenue\" of the movie was at least 2.5x the \"budget\" of the movie.\n",
    "- \"critical_success\": Voting Scores: Yes/No (1/0). 1 = the movie was rated at least \"6.0\" with over \"500\" votes.\n",
    "- \"audience_success\": Popularity: Yes/No (1/0). 1 = The movie's popularity is at least \"35\".\n",
    "- \"budget_score\": Reward for lower budget, penalty for higher budgets: Low/Medium/High (1.0/0.75/0.25). 1.0 = low budget, 0.25 = high budget\n",
    "\n",
    "**Note:** I explain in each section why I chose those parameters. In short, I had to find a happy medium given the small size of my data and a goal of finding as even of a class balance as I can. In real-world application I would hope for a much bigger dataset and would set tighter parameters.\n",
    "\n",
    "With the 4 new features to measure the success of a film, I had to decide how I would answer that question. Since I used binary for my \"successes\" and a float for my \"budget_score\", I thought that I would create a scoring equation that would measure the score, where the higher the score the more \"successes\" the film meets: with the highest score of \"4\" being that it met the qualifications for all 3 \"successes\" (1,1,1) and had a low budget (1); and the lowest score of \"0.25\" being that it did not meet any of the 3 \"successes\" (0,0,0) and had a high budget (0.25), with a mix of other scores in between. This \"success_score\" will be used to answer my 2nd analytical question. I also provided \"weighted\" values for the three \"successes\", because I wanted to make sure that \"financial_success\" was the highest considered \"success\", without it having a direct correlation between \"financial_success\" and \"success_score\".\n",
    "\n",
    "After I created my \"success\" features and \"success_score\" I created a RF model to test if it could predict the \"success_score\", since the success score is just an statistical equation, I wanted to see if the RF model would be able to interpret the equation and show that it could implement it successfully. It did, as anticipated, score a perfect 100% accuracy -- as expected because this is a statistical analytical question. \n",
    "\n",
    "Now that I have created my \"success_score\" I can now answer my second analytical question (the end-goal) that requires ML intervention. To do this, I created another feature called \"worth_funding\" that divided up the \"success_scores\" (from high to low) into 3 sections: \"fund\" (2), \"manual decision\" (1), \"do not fund\"(0). With this new \"worth_funding\" I wanted to test to see if a movie is worth funding (successful) based off the text-based information (overview, tagline, keywords, genres). I had to address class imbalance, due to a very low number of films listed as \"fund\", so I used SMOTE. I also continually raised my parameters to allow for more computation, leading to longer processing times, and unfortunately, the model barely performed better than a guess, with a 56% accuracy, and did terrible at predicting \"fund\" (2), which is not acceptable, because, at a minimum, I would want the model to predict movies worth funding the best. I would not recommend this model. And, I am not sure what I could do to improve it - other than what I did to address sampling and parameter tuning. There is a possibility that I messed something up or that this kind of recommender system is better suited for a different model, like deep learning. \n",
    "\n",
    "As a side note: I created a copy of this and notebook and decided to run the RF model, but this time with only 2 balanced \"worth_funding\" variables\" \"fund\", \"do not fund\" and ran the model again, and while it did perform better than this model, it still only did 60% accuracy with f-scores of 0.64 and 0.55. So, the issue is not the likely class distribution, but rather something else either related to how I processed the data or this is not a preferred model for this analytical question.\n",
    "\n",
    "To evaluate the performance of my model I did run a Classification Report to look at the statistics (discussed above) and looked at Most Important Feature: Words and Most Important Feature: Features. Noting that my model barely did better than guessing, I still wanted to showcase my ability to look at these performance matrices. For the most important words I looked at the top 10 words that had the highest correlation to \"worth_funding\" decisions, and found that all the words had weak correlation, with the top word being \"included\" with a score of \"0.014\" (closer to 1 the more important it is). The most important words had very little impact on decisionmaking. After that I did the most important features, which had these scores:\n",
    "\n",
    "- Genres: 0.031981\n",
    "- Keywords: 0.294262\n",
    "- Tagline: 0.088429\n",
    "- Overview: 0.585329\n",
    "\n",
    "This tells us that \"Overview\" (58.5%) was the highest predicator for prediction and \"Keywords\" was second with 29.4%. \"Genre\" (3.2%) and \"Tagline\" (8.8%) had very little effect on successful predictions.\n",
    "\n",
    "**Verdict:** I would not recommend this system for practical use, while the statistics and feature engineering went well (and I actually enjoyed), the model performed poorly (barely above a guess) for actually determining if a film is worth funding based on text data. This might be better suited for a different type of model."
   ]
  },
  {
   "cell_type": "code",
   "execution_count": null,
   "id": "a5b4fdcf-4985-415d-95fd-9e91a095154b",
   "metadata": {},
   "outputs": [],
   "source": []
  }
 ],
 "metadata": {
  "kernelspec": {
   "display_name": "Python 3 (ipykernel)",
   "language": "python",
   "name": "python3"
  },
  "language_info": {
   "codemirror_mode": {
    "name": "ipython",
    "version": 3
   },
   "file_extension": ".py",
   "mimetype": "text/x-python",
   "name": "python",
   "nbconvert_exporter": "python",
   "pygments_lexer": "ipython3",
   "version": "3.11.5"
  }
 },
 "nbformat": 4,
 "nbformat_minor": 5
}
