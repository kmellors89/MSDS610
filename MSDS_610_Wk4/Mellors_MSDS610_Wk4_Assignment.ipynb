{
 "cells": [
  {
   "cell_type": "markdown",
   "id": "d4fa80f4-909a-4cbb-b4f8-95dbddfcb5b8",
   "metadata": {},
   "source": [
    "# Mellors MSDS 610 Week 4 Assignment"
   ]
  },
  {
   "cell_type": "markdown",
   "id": "3caa6f30",
   "metadata": {},
   "source": [
    "<img align=\"right\" style=\"padding-left:50px;\" src=\"figures_wk4/data_cleaning.png\" width=350><br>\n",
    "### User Bias in Data Cleaning\n",
    "For your homework assignment this week, we will explore how our treatment of our data can impact the quality of our results.\n",
    "\n",
    "**Dataset:**\n",
    "The data is a Salary Survey from AskAManager.org. It’s US-centric-ish but does allow for a range of country inputs.\n",
    "\n",
    "A list of the corresponding survey questions can be found [here](https://www.askamanager.org/2021/04/how-much-money-do-you-make-4.html).\n",
    "\n",
    " "
   ]
  },
  {
   "cell_type": "code",
   "execution_count": 1,
   "id": "50e411bc",
   "metadata": {},
   "outputs": [],
   "source": [
    "import pandas as pd\n",
    "import matplotlib.pyplot as plt\n",
    "from scipy import stats"
   ]
  },
  {
   "cell_type": "code",
   "execution_count": 2,
   "id": "f788dc66-47f7-47ad-9b8f-9d1c27803d09",
   "metadata": {
    "tags": []
   },
   "outputs": [],
   "source": [
    "pd.set_option('display.float_format', '{:.0f}'.format) "
   ]
  },
  {
   "cell_type": "code",
   "execution_count": 3,
   "id": "960098db-5807-4f89-85b4-be34e2a80484",
   "metadata": {},
   "outputs": [],
   "source": [
    "df= pd.read_csv('survey_data.csv')"
   ]
  },
  {
   "cell_type": "code",
   "execution_count": 4,
   "id": "7bb64b9a-0236-4153-9dc1-560c873d2a92",
   "metadata": {},
   "outputs": [
    {
     "name": "stdout",
     "output_type": "stream",
     "text": [
      "<class 'pandas.core.frame.DataFrame'>\n",
      "RangeIndex: 28108 entries, 0 to 28107\n",
      "Data columns (total 18 columns):\n",
      " #   Column     Non-Null Count  Dtype  \n",
      "---  ------     --------------  -----  \n",
      " 0   timestamp  28108 non-null  object \n",
      " 1   q1         28108 non-null  object \n",
      " 2   q2         28033 non-null  object \n",
      " 3   q3         28107 non-null  object \n",
      " 4   q4         7273 non-null   object \n",
      " 5   q5         28108 non-null  object \n",
      " 6   q6         20793 non-null  float64\n",
      " 7   q7         28108 non-null  object \n",
      " 8   q8         211 non-null    object \n",
      " 9   q9         3047 non-null   object \n",
      " 10  q10        28108 non-null  object \n",
      " 11  q11        23074 non-null  object \n",
      " 12  q12        28026 non-null  object \n",
      " 13  q13        28108 non-null  object \n",
      " 14  q14        28108 non-null  object \n",
      " 15  q15        27885 non-null  object \n",
      " 16  q16        27937 non-null  object \n",
      " 17  q17        27931 non-null  object \n",
      "dtypes: float64(1), object(17)\n",
      "memory usage: 3.9+ MB\n"
     ]
    }
   ],
   "source": [
    "df.info()"
   ]
  },
  {
   "cell_type": "code",
   "execution_count": 5,
   "id": "59804474-eb37-41f7-b958-1c604a24586d",
   "metadata": {},
   "outputs": [
    {
     "data": {
      "text/html": [
       "<div>\n",
       "<style scoped>\n",
       "    .dataframe tbody tr th:only-of-type {\n",
       "        vertical-align: middle;\n",
       "    }\n",
       "\n",
       "    .dataframe tbody tr th {\n",
       "        vertical-align: top;\n",
       "    }\n",
       "\n",
       "    .dataframe thead th {\n",
       "        text-align: right;\n",
       "    }\n",
       "</style>\n",
       "<table border=\"1\" class=\"dataframe\">\n",
       "  <thead>\n",
       "    <tr style=\"text-align: right;\">\n",
       "      <th></th>\n",
       "      <th>timestamp</th>\n",
       "      <th>q1</th>\n",
       "      <th>q2</th>\n",
       "      <th>q3</th>\n",
       "      <th>q4</th>\n",
       "      <th>q5</th>\n",
       "      <th>q6</th>\n",
       "      <th>q7</th>\n",
       "      <th>q8</th>\n",
       "      <th>q9</th>\n",
       "      <th>q10</th>\n",
       "      <th>q11</th>\n",
       "      <th>q12</th>\n",
       "      <th>q13</th>\n",
       "      <th>q14</th>\n",
       "      <th>q15</th>\n",
       "      <th>q16</th>\n",
       "      <th>q17</th>\n",
       "    </tr>\n",
       "  </thead>\n",
       "  <tbody>\n",
       "    <tr>\n",
       "      <th>0</th>\n",
       "      <td>4/27/2021 11:02:10</td>\n",
       "      <td>25-34</td>\n",
       "      <td>Education (Higher Education)</td>\n",
       "      <td>Research and Instruction Librarian</td>\n",
       "      <td>NaN</td>\n",
       "      <td>55,000</td>\n",
       "      <td>0</td>\n",
       "      <td>USD</td>\n",
       "      <td>NaN</td>\n",
       "      <td>NaN</td>\n",
       "      <td>United States</td>\n",
       "      <td>Massachusetts</td>\n",
       "      <td>Boston</td>\n",
       "      <td>5-7 years</td>\n",
       "      <td>5-7 years</td>\n",
       "      <td>Master's degree</td>\n",
       "      <td>Woman</td>\n",
       "      <td>White</td>\n",
       "    </tr>\n",
       "    <tr>\n",
       "      <th>1</th>\n",
       "      <td>4/27/2021 11:02:22</td>\n",
       "      <td>25-34</td>\n",
       "      <td>Computing or Tech</td>\n",
       "      <td>Change &amp; Internal Communications Manager</td>\n",
       "      <td>NaN</td>\n",
       "      <td>54,600</td>\n",
       "      <td>4000</td>\n",
       "      <td>GBP</td>\n",
       "      <td>NaN</td>\n",
       "      <td>NaN</td>\n",
       "      <td>United Kingdom</td>\n",
       "      <td>NaN</td>\n",
       "      <td>Cambridge</td>\n",
       "      <td>8 - 10 years</td>\n",
       "      <td>5-7 years</td>\n",
       "      <td>College degree</td>\n",
       "      <td>Non-binary</td>\n",
       "      <td>White</td>\n",
       "    </tr>\n",
       "    <tr>\n",
       "      <th>2</th>\n",
       "      <td>4/27/2021 11:02:38</td>\n",
       "      <td>25-34</td>\n",
       "      <td>Accounting, Banking &amp; Finance</td>\n",
       "      <td>Marketing Specialist</td>\n",
       "      <td>NaN</td>\n",
       "      <td>34,000</td>\n",
       "      <td>NaN</td>\n",
       "      <td>USD</td>\n",
       "      <td>NaN</td>\n",
       "      <td>NaN</td>\n",
       "      <td>US</td>\n",
       "      <td>Tennessee</td>\n",
       "      <td>Chattanooga</td>\n",
       "      <td>2 - 4 years</td>\n",
       "      <td>2 - 4 years</td>\n",
       "      <td>College degree</td>\n",
       "      <td>Woman</td>\n",
       "      <td>White</td>\n",
       "    </tr>\n",
       "    <tr>\n",
       "      <th>3</th>\n",
       "      <td>4/27/2021 11:02:41</td>\n",
       "      <td>25-34</td>\n",
       "      <td>Nonprofits</td>\n",
       "      <td>Program Manager</td>\n",
       "      <td>NaN</td>\n",
       "      <td>62,000</td>\n",
       "      <td>3000</td>\n",
       "      <td>USD</td>\n",
       "      <td>NaN</td>\n",
       "      <td>NaN</td>\n",
       "      <td>USA</td>\n",
       "      <td>Wisconsin</td>\n",
       "      <td>Milwaukee</td>\n",
       "      <td>8 - 10 years</td>\n",
       "      <td>5-7 years</td>\n",
       "      <td>College degree</td>\n",
       "      <td>Woman</td>\n",
       "      <td>White</td>\n",
       "    </tr>\n",
       "    <tr>\n",
       "      <th>4</th>\n",
       "      <td>4/27/2021 11:02:42</td>\n",
       "      <td>25-34</td>\n",
       "      <td>Accounting, Banking &amp; Finance</td>\n",
       "      <td>Accounting Manager</td>\n",
       "      <td>NaN</td>\n",
       "      <td>60,000</td>\n",
       "      <td>7000</td>\n",
       "      <td>USD</td>\n",
       "      <td>NaN</td>\n",
       "      <td>NaN</td>\n",
       "      <td>US</td>\n",
       "      <td>South Carolina</td>\n",
       "      <td>Greenville</td>\n",
       "      <td>8 - 10 years</td>\n",
       "      <td>5-7 years</td>\n",
       "      <td>College degree</td>\n",
       "      <td>Woman</td>\n",
       "      <td>White</td>\n",
       "    </tr>\n",
       "  </tbody>\n",
       "</table>\n",
       "</div>"
      ],
      "text/plain": [
       "            timestamp     q1                             q2  \\\n",
       "0  4/27/2021 11:02:10  25-34   Education (Higher Education)   \n",
       "1  4/27/2021 11:02:22  25-34              Computing or Tech   \n",
       "2  4/27/2021 11:02:38  25-34  Accounting, Banking & Finance   \n",
       "3  4/27/2021 11:02:41  25-34                     Nonprofits   \n",
       "4  4/27/2021 11:02:42  25-34  Accounting, Banking & Finance   \n",
       "\n",
       "                                         q3   q4      q5   q6   q7   q8   q9  \\\n",
       "0        Research and Instruction Librarian  NaN  55,000    0  USD  NaN  NaN   \n",
       "1  Change & Internal Communications Manager  NaN  54,600 4000  GBP  NaN  NaN   \n",
       "2                      Marketing Specialist  NaN  34,000  NaN  USD  NaN  NaN   \n",
       "3                           Program Manager  NaN  62,000 3000  USD  NaN  NaN   \n",
       "4                        Accounting Manager  NaN  60,000 7000  USD  NaN  NaN   \n",
       "\n",
       "              q10             q11          q12           q13          q14  \\\n",
       "0   United States   Massachusetts       Boston     5-7 years    5-7 years   \n",
       "1  United Kingdom             NaN    Cambridge  8 - 10 years    5-7 years   \n",
       "2              US       Tennessee  Chattanooga   2 - 4 years  2 - 4 years   \n",
       "3             USA       Wisconsin    Milwaukee  8 - 10 years    5-7 years   \n",
       "4              US  South Carolina   Greenville  8 - 10 years    5-7 years   \n",
       "\n",
       "               q15         q16    q17  \n",
       "0  Master's degree       Woman  White  \n",
       "1   College degree  Non-binary  White  \n",
       "2   College degree       Woman  White  \n",
       "3   College degree       Woman  White  \n",
       "4   College degree       Woman  White  "
      ]
     },
     "execution_count": 5,
     "metadata": {},
     "output_type": "execute_result"
    }
   ],
   "source": [
    "df.head()"
   ]
  },
  {
   "cell_type": "markdown",
   "id": "c1ce58c7-0e14-4426-a4b7-96805ea64bbb",
   "metadata": {},
   "source": [
    "### Assignment\n",
    "Your goal for this assignment is to observe how your data treatment during the cleaning process can skew or bias the dataset.\n",
    "\n",
    "Before diving right in, stop and read through the questions associated with the dataset. As you can see, they are either free-form text entries or categorical selections. Knowing this, perform some exploratory data analysis (EDA) to investigate the \"state\" of the dataset.\n",
    "\n",
    "[Add as many code cell below here as needs]\n"
   ]
  },
  {
   "cell_type": "markdown",
   "id": "f7450b47-794e-4a83-8867-8cf598988195",
   "metadata": {
    "tags": []
   },
   "source": [
    "# Part 1: Column Names"
   ]
  },
  {
   "cell_type": "code",
   "execution_count": 6,
   "id": "195c94e9-f800-4a2d-a341-ec29c79a81fb",
   "metadata": {
    "tags": []
   },
   "outputs": [],
   "source": [
    "df.columns = [\"timestamp\",\n",
    "              \"q1_age\",\n",
    "              \"q2_industry\",\n",
    "              \"q3_title\",\n",
    "              \"q4_job_summary\",\n",
    "              \"q5_salary\",\n",
    "              \"q6_addtl_funds\",\n",
    "              \"q7_currency\",\n",
    "              \"q8_addtl_currency_type\",\n",
    "              \"q9_addtl_income_context\",\n",
    "              \"q10_country\",\n",
    "              \"q11_us_state\",\n",
    "              \"q12_city\",\n",
    "              \"q13_work_exp_yrs\",\n",
    "              \"q14_field_exp_yrs\",\n",
    "              \"q15_education\",\n",
    "              \"q16_gender\",\n",
    "              \"q17_race\"]"
   ]
  },
  {
   "cell_type": "code",
   "execution_count": 7,
   "id": "9e0a712f-15ba-4a9d-8f0c-0f7a396bd0aa",
   "metadata": {
    "tags": []
   },
   "outputs": [
    {
     "name": "stdout",
     "output_type": "stream",
     "text": [
      "<class 'pandas.core.frame.DataFrame'>\n",
      "RangeIndex: 28108 entries, 0 to 28107\n",
      "Data columns (total 18 columns):\n",
      " #   Column                   Non-Null Count  Dtype  \n",
      "---  ------                   --------------  -----  \n",
      " 0   timestamp                28108 non-null  object \n",
      " 1   q1_age                   28108 non-null  object \n",
      " 2   q2_industry              28033 non-null  object \n",
      " 3   q3_title                 28107 non-null  object \n",
      " 4   q4_job_summary           7273 non-null   object \n",
      " 5   q5_salary                28108 non-null  object \n",
      " 6   q6_addtl_funds           20793 non-null  float64\n",
      " 7   q7_currency              28108 non-null  object \n",
      " 8   q8_addtl_currency_type   211 non-null    object \n",
      " 9   q9_addtl_income_context  3047 non-null   object \n",
      " 10  q10_country              28108 non-null  object \n",
      " 11  q11_us_state             23074 non-null  object \n",
      " 12  q12_city                 28026 non-null  object \n",
      " 13  q13_work_exp_yrs         28108 non-null  object \n",
      " 14  q14_field_exp_yrs        28108 non-null  object \n",
      " 15  q15_education            27885 non-null  object \n",
      " 16  q16_gender               27937 non-null  object \n",
      " 17  q17_race                 27931 non-null  object \n",
      "dtypes: float64(1), object(17)\n",
      "memory usage: 3.9+ MB\n"
     ]
    }
   ],
   "source": [
    "df.info()"
   ]
  },
  {
   "cell_type": "markdown",
   "id": "253f8f5f-ce5c-43e1-aea2-9589768f35d1",
   "metadata": {},
   "source": [
    "# PART 2: EDA"
   ]
  },
  {
   "cell_type": "markdown",
   "id": "03f47425-bf72-41fa-b539-c8a11c3488c1",
   "metadata": {},
   "source": [
    "### Q1 - Age: EDA"
   ]
  },
  {
   "cell_type": "code",
   "execution_count": 8,
   "id": "aeca3433-b9ec-4cf9-8d18-f5970599b160",
   "metadata": {
    "tags": []
   },
   "outputs": [
    {
     "data": {
      "text/plain": [
       "q1_age\n",
       "25-34         12668\n",
       "35-44          9908\n",
       "45-54          3193\n",
       "18-24          1236\n",
       "55-64           994\n",
       "65 or over       95\n",
       "under 18         14\n",
       "Name: count, dtype: int64"
      ]
     },
     "execution_count": 8,
     "metadata": {},
     "output_type": "execute_result"
    }
   ],
   "source": [
    "df.q1_age.value_counts()"
   ]
  },
  {
   "cell_type": "code",
   "execution_count": 9,
   "id": "acdd5eb7-2a96-4182-bd54-d7edc78581de",
   "metadata": {
    "tags": []
   },
   "outputs": [
    {
     "data": {
      "text/plain": [
       "<AxesSubplot: xlabel='q1_age'>"
      ]
     },
     "execution_count": 9,
     "metadata": {},
     "output_type": "execute_result"
    },
    {
     "data": {
      "image/png": "[encoded data removed]",
      "text/plain": [
       "<Figure size 640x480 with 1 Axes>"
      ]
     },
     "metadata": {},
     "output_type": "display_data"
    }
   ],
   "source": [
    "df.q1_age.value_counts().plot(kind='bar')"
   ]
  },
  {
   "cell_type": "code",
   "execution_count": 10,
   "id": "4136a30a-be8f-4321-9c03-53e981c663ce",
   "metadata": {
    "tags": []
   },
   "outputs": [
    {
     "data": {
      "text/plain": [
       "count     28108\n",
       "unique        7\n",
       "top       25-34\n",
       "freq      12668\n",
       "Name: q1_age, dtype: object"
      ]
     },
     "execution_count": 10,
     "metadata": {},
     "output_type": "execute_result"
    }
   ],
   "source": [
    "df.q1_age.describe()"
   ]
  },
  {
   "cell_type": "markdown",
   "id": "15ecb605-1bb5-4d88-b79b-5003de8fc5a0",
   "metadata": {},
   "source": [
    "**Notes:** \n",
    "- No missing data\n",
    "- Uneven class distribution \n",
    "- data in buckets\n",
    "- All answers within the buckets - no outliers"
   ]
  },
  {
   "cell_type": "markdown",
   "id": "e41ac9b8-e92a-407e-a741-54345360c262",
   "metadata": {},
   "source": [
    "### Q2 - Industry: EDA"
   ]
  },
  {
   "cell_type": "code",
   "execution_count": 11,
   "id": "d578286a-11e4-4bc3-81e0-5c8824e28545",
   "metadata": {
    "tags": []
   },
   "outputs": [
    {
     "data": {
      "text/plain": [
       "count                 28033\n",
       "unique                 1220\n",
       "top       Computing or Tech\n",
       "freq                   4711\n",
       "Name: q2_industry, dtype: object"
      ]
     },
     "execution_count": 11,
     "metadata": {},
     "output_type": "execute_result"
    }
   ],
   "source": [
    "df.q2_industry.describe()"
   ]
  },
  {
   "cell_type": "code",
   "execution_count": 12,
   "id": "58063e6d-53a5-4e09-bff5-a5a5ccc83972",
   "metadata": {
    "tags": []
   },
   "outputs": [
    {
     "data": {
      "text/plain": [
       "75"
      ]
     },
     "execution_count": 12,
     "metadata": {},
     "output_type": "execute_result"
    }
   ],
   "source": [
    "df.q2_industry.isnull().sum()"
   ]
  },
  {
   "cell_type": "code",
   "execution_count": 13,
   "id": "d711d280-ca49-4bfb-aea6-67d1c6f7d880",
   "metadata": {
    "tags": []
   },
   "outputs": [
    {
     "data": {
      "text/plain": [
       "q2_industry\n",
       "Computing or Tech                          4711\n",
       "Education (Higher Education)               2466\n",
       "Nonprofits                                 2420\n",
       "Health care                                1899\n",
       "Government and Public Administration       1893\n",
       "                                           ... \n",
       "Gaming (Gambling)                             1\n",
       "Regulatory Affairs- nutraceuticals            1\n",
       "Manufacturing : corporate admin support       1\n",
       "Real Estate Investment Support                1\n",
       "Social networks                               1\n",
       "Name: count, Length: 1220, dtype: int64"
      ]
     },
     "execution_count": 13,
     "metadata": {},
     "output_type": "execute_result"
    }
   ],
   "source": [
    "df.q2_industry.value_counts()"
   ]
  },
  {
   "cell_type": "markdown",
   "id": "2eaf5696-f42d-4b9f-a991-020c2912340f",
   "metadata": {},
   "source": [
    "**Notes**\n",
    "\n",
    "- 75 missing values\n",
    "- 1220 Unique responses\n",
    "- (Possible): Consider combining some responses? Too Long"
   ]
  },
  {
   "cell_type": "markdown",
   "id": "5ccab62f-2e45-4e52-9e7a-d5b2f405f6a7",
   "metadata": {},
   "source": [
    "### Q3 - Title: EDA"
   ]
  },
  {
   "cell_type": "code",
   "execution_count": 14,
   "id": "f1d0f33c-cf31-464e-9fde-aae7b119ee25",
   "metadata": {
    "tags": []
   },
   "outputs": [
    {
     "data": {
      "text/plain": [
       "1"
      ]
     },
     "execution_count": 14,
     "metadata": {},
     "output_type": "execute_result"
    }
   ],
   "source": [
    "df.q3_title.isnull().sum()"
   ]
  },
  {
   "cell_type": "code",
   "execution_count": 15,
   "id": "e8d1aad8-f2c7-4f8d-8c84-44c010935516",
   "metadata": {
    "tags": []
   },
   "outputs": [
    {
     "data": {
      "text/plain": [
       "count                 28107\n",
       "unique                14377\n",
       "top       Software Engineer\n",
       "freq                    286\n",
       "Name: q3_title, dtype: object"
      ]
     },
     "execution_count": 15,
     "metadata": {},
     "output_type": "execute_result"
    }
   ],
   "source": [
    "df.q3_title.describe()"
   ]
  },
  {
   "cell_type": "code",
   "execution_count": 16,
   "id": "d0b89067-30f9-4f98-b509-3573d85d63f0",
   "metadata": {
    "tags": []
   },
   "outputs": [
    {
     "data": {
      "text/plain": [
       "3264                              Family Therapist\n",
       "20972                                HR Generalist\n",
       "17668                            Program Assistant\n",
       "4988                          Supply Chain Manager\n",
       "21606                              Product Manager\n",
       "20009                  Paralegal, Trusts & Estates\n",
       "414      Senior employee communications specialist\n",
       "8626                      Senior Software Engineer\n",
       "16124                                  Electrician\n",
       "21971                                     DC Admin\n",
       "7944                             Library Associate\n",
       "5772                                        Lawyer\n",
       "21045           Associate Director/Program Officer\n",
       "10935                      Public Affairs Officer \n",
       "25494                      Solid waste technician \n",
       "Name: q3_title, dtype: object"
      ]
     },
     "execution_count": 16,
     "metadata": {},
     "output_type": "execute_result"
    }
   ],
   "source": [
    "df.q3_title.sample(15)"
   ]
  },
  {
   "cell_type": "markdown",
   "id": "683a8354-a288-4333-b2ae-9a7ee13d0729",
   "metadata": {},
   "source": [
    "**Notes:**\n",
    "- One missing value: consider filling in based on similar features.\n",
    "- Unique Values = 14337 / 28107\n",
    "- Likely not a very valuable column due to unique count.\n",
    "- Related to \"Industry\" column\n"
   ]
  },
  {
   "cell_type": "markdown",
   "id": "deeb831a-e8f2-4fa5-97d0-ba5dd132038f",
   "metadata": {},
   "source": [
    "### Q4 - Job Summary: EDA"
   ]
  },
  {
   "cell_type": "code",
   "execution_count": 17,
   "id": "37922dba-5141-4f42-80e9-75936229784c",
   "metadata": {
    "tags": []
   },
   "outputs": [
    {
     "data": {
      "text/plain": [
       "20835"
      ]
     },
     "execution_count": 17,
     "metadata": {},
     "output_type": "execute_result"
    }
   ],
   "source": [
    "df.q4_job_summary.isnull().sum()"
   ]
  },
  {
   "cell_type": "code",
   "execution_count": 18,
   "id": "fccaaba1-9ada-4282-8f91-75567a687083",
   "metadata": {
    "tags": []
   },
   "outputs": [
    {
     "data": {
      "text/plain": [
       "23961            Project Manager for commercial furniture \n",
       "4858                    Enterprise level customer service \n",
       "5243     I run a program to build the technology and pr...\n",
       "2252                 Senior level attorney but non-partner\n",
       "1109      I work in Finance for an educational institution\n",
       "10880                             For a research institute\n",
       "15504                                       Federal Agency\n",
       "5976     This job is B2B customer service in a call cen...\n",
       "10544                                   Operations manager\n",
       "5896                                             Doctorate\n",
       "Name: q4_job_summary, dtype: object"
      ]
     },
     "execution_count": 18,
     "metadata": {},
     "output_type": "execute_result"
    }
   ],
   "source": [
    "df.q4_job_summary.dropna().sample(10)"
   ]
  },
  {
   "cell_type": "markdown",
   "id": "9e37e5e8-4093-4709-b849-c2ff425cff66",
   "metadata": {},
   "source": [
    "**Notes:**\n",
    "- 20835 NULL values, very little valuable data\n",
    "- Impossible/improbable to clean"
   ]
  },
  {
   "cell_type": "markdown",
   "id": "1bb51fde-1b48-4e5c-812a-48681b6ab8e2",
   "metadata": {
    "tags": []
   },
   "source": [
    "### Q5 - Salary: EDA"
   ]
  },
  {
   "cell_type": "code",
   "execution_count": 19,
   "id": "28e2041c-4df8-4b69-b830-19b3025dd1ce",
   "metadata": {
    "tags": []
   },
   "outputs": [
    {
     "data": {
      "text/plain": [
       "0"
      ]
     },
     "execution_count": 19,
     "metadata": {},
     "output_type": "execute_result"
    }
   ],
   "source": [
    "df.q5_salary.isnull().sum()"
   ]
  },
  {
   "cell_type": "code",
   "execution_count": 20,
   "id": "fa00f8f7-6118-495f-87b1-52a6fff85d1e",
   "metadata": {
    "tags": []
   },
   "outputs": [
    {
     "name": "stdout",
     "output_type": "stream",
     "text": [
      "<class 'pandas.core.series.Series'>\n",
      "RangeIndex: 28108 entries, 0 to 28107\n",
      "Series name: q5_salary\n",
      "Non-Null Count  Dtype \n",
      "--------------  ----- \n",
      "28108 non-null  object\n",
      "dtypes: object(1)\n",
      "memory usage: 219.7+ KB\n"
     ]
    }
   ],
   "source": [
    "df.q5_salary.info()"
   ]
  },
  {
   "cell_type": "code",
   "execution_count": 21,
   "id": "e9d5f30c-c3a4-4ccf-bb6a-2f58c2acac2d",
   "metadata": {
    "tags": []
   },
   "outputs": [
    {
     "data": {
      "text/plain": [
       "count      28108\n",
       "unique      4319\n",
       "top       60,000\n",
       "freq         430\n",
       "Name: q5_salary, dtype: object"
      ]
     },
     "execution_count": 21,
     "metadata": {},
     "output_type": "execute_result"
    }
   ],
   "source": [
    "df.q5_salary.describe()"
   ]
  },
  {
   "cell_type": "markdown",
   "id": "d682bccc-1dc3-4c71-8579-200bd649a80a",
   "metadata": {},
   "source": [
    "**Notes:**\n",
    "\n",
    "- No NULLs\n",
    "- Labeled as object (likely due to commas): remove symbols and change to float or in64 (for outliers)\n",
    "- Consider creating buckets due to the large \"unique\" count\n",
    "- Consider Corr Matrix for relational features. \n",
    "- Consider looking for outliers after changing Dtype"
   ]
  },
  {
   "cell_type": "markdown",
   "id": "2418da94-4f1a-4449-9796-3e063732609b",
   "metadata": {
    "tags": []
   },
   "source": [
    "### Q6 - Additional Funds (addtl_funds): EDA"
   ]
  },
  {
   "cell_type": "code",
   "execution_count": 22,
   "id": "ef591dfa-5977-4f62-9026-5e530cabcce6",
   "metadata": {
    "tags": []
   },
   "outputs": [
    {
     "data": {
      "text/plain": [
       "7315"
      ]
     },
     "execution_count": 22,
     "metadata": {},
     "output_type": "execute_result"
    }
   ],
   "source": [
    "df.q6_addtl_funds.isnull().sum()"
   ]
  },
  {
   "cell_type": "code",
   "execution_count": 23,
   "id": "b2ae61bb-da3b-4dcc-8621-6071218e3295",
   "metadata": {
    "tags": []
   },
   "outputs": [
    {
     "data": {
      "text/plain": [
       "count       20793\n",
       "mean        18245\n",
       "std        833625\n",
       "min             0\n",
       "25%             0\n",
       "50%          2000\n",
       "75%         10000\n",
       "max     120000000\n",
       "Name: q6_addtl_funds, dtype: float64"
      ]
     },
     "execution_count": 23,
     "metadata": {},
     "output_type": "execute_result"
    }
   ],
   "source": [
    "df.q6_addtl_funds.describe()"
   ]
  },
  {
   "cell_type": "code",
   "execution_count": 24,
   "id": "7a2eb622-5a1e-461f-9a95-f57455fb554c",
   "metadata": {
    "tags": []
   },
   "outputs": [
    {
     "data": {
      "image/png": "[encoded data removed]",
      "text/plain": [
       "<Figure size 640x480 with 1 Axes>"
      ]
     },
     "metadata": {},
     "output_type": "display_data"
    }
   ],
   "source": [
    "plt.boxplot(df.q6_addtl_funds.dropna())\n",
    "plt.title(\"Additional Funds ($)\")\n",
    "plt.ylabel(\"Values\")\n",
    "plt.show()"
   ]
  },
  {
   "cell_type": "markdown",
   "id": "9732ea71-da11-4f28-8fd6-b23404940188",
   "metadata": {},
   "source": [
    "**Notes:**\n",
    "\n",
    "- 7315 NULLs\n",
    "- float type: good\n",
    "- Consider changing NULLs to \"0\" or median\n",
    "- 1 possible outlier: 120,000,000 (compare to similar titles/industry and currency type); impute\n",
    "- Consider new feature: \"total_compensation\" (salary + additional funds)"
   ]
  },
  {
   "cell_type": "markdown",
   "id": "58f174dc-596c-4038-9e2c-a43875f0c081",
   "metadata": {},
   "source": [
    "### Q7 - Currency Type (currency): EDA"
   ]
  },
  {
   "cell_type": "code",
   "execution_count": 25,
   "id": "562f41f9-a410-44c4-b547-604f439ae073",
   "metadata": {
    "tags": []
   },
   "outputs": [
    {
     "data": {
      "text/plain": [
       "0"
      ]
     },
     "execution_count": 25,
     "metadata": {},
     "output_type": "execute_result"
    }
   ],
   "source": [
    "df.q7_currency.isnull().sum()"
   ]
  },
  {
   "cell_type": "code",
   "execution_count": 26,
   "id": "8a6d632c-0751-47e4-ba29-bfc10b312565",
   "metadata": {
    "tags": []
   },
   "outputs": [
    {
     "data": {
      "text/plain": [
       "q7_currency\n",
       "USD        23410\n",
       "CAD         1675\n",
       "GBP         1592\n",
       "EUR          646\n",
       "AUD/NZD      504\n",
       "Other        164\n",
       "CHF           37\n",
       "SEK           37\n",
       "JPY           23\n",
       "ZAR           16\n",
       "HKD            4\n",
       "Name: count, dtype: int64"
      ]
     },
     "execution_count": 26,
     "metadata": {},
     "output_type": "execute_result"
    }
   ],
   "source": [
    "df.q7_currency.value_counts()"
   ]
  },
  {
   "cell_type": "code",
   "execution_count": 27,
   "id": "b6b19e82-261e-4714-a9a4-14ae55c21c2b",
   "metadata": {
    "tags": []
   },
   "outputs": [
    {
     "data": {
      "text/plain": [
       "<AxesSubplot: xlabel='q7_currency'>"
      ]
     },
     "execution_count": 27,
     "metadata": {},
     "output_type": "execute_result"
    },
    {
     "data": {
      "image/png": "[encoded data removed]",
      "text/plain": [
       "<Figure size 640x480 with 1 Axes>"
      ]
     },
     "metadata": {},
     "output_type": "display_data"
    }
   ],
   "source": [
    "df.q7_currency.value_counts().plot(kind=\"bar\")"
   ]
  },
  {
   "cell_type": "markdown",
   "id": "53ef3c2f-ca37-435b-b856-a4aca43392f3",
   "metadata": {
    "tags": []
   },
   "source": [
    "**Notes:**\n",
    "\n",
    "- No NULLs\n",
    "- Datatype = int64 | good\n",
    "- Class disparity, otherwise clean\n",
    "- Compare \"other\" to feature: addtl_currency_type"
   ]
  },
  {
   "cell_type": "markdown",
   "id": "6d379148-6b34-4352-99d0-8dee57f03169",
   "metadata": {},
   "source": [
    "### Q8 - Additional Currency Types (addtl_currency_type): EDA"
   ]
  },
  {
   "cell_type": "code",
   "execution_count": 28,
   "id": "4451f603-88aa-49d6-abda-3c4ae4c668d8",
   "metadata": {
    "tags": []
   },
   "outputs": [
    {
     "data": {
      "text/plain": [
       "27897"
      ]
     },
     "execution_count": 28,
     "metadata": {},
     "output_type": "execute_result"
    }
   ],
   "source": [
    "df.q8_addtl_currency_type.isna().sum()"
   ]
  },
  {
   "cell_type": "code",
   "execution_count": 29,
   "id": "b82319df-7ccb-41c4-8823-e0d80e5a5c79",
   "metadata": {
    "tags": []
   },
   "outputs": [
    {
     "data": {
      "text/plain": [
       "211"
      ]
     },
     "execution_count": 29,
     "metadata": {},
     "output_type": "execute_result"
    }
   ],
   "source": [
    "df.q8_addtl_currency_type.notna().sum()"
   ]
  },
  {
   "cell_type": "code",
   "execution_count": 30,
   "id": "619fef3d-ccb2-4850-a2ad-d38333ea028f",
   "metadata": {
    "tags": []
   },
   "outputs": [
    {
     "data": {
      "text/plain": [
       "q8_addtl_currency_type\n",
       "INR                                       11\n",
       "SGD                                       11\n",
       "USD                                       11\n",
       "NOK                                       10\n",
       "DKK                                        8\n",
       "                                          ..\n",
       "US Dollar                                  1\n",
       "AUD & NZD are not the same currency...     1\n",
       "55,000                                     1\n",
       "ILS/NIS                                    1\n",
       "TZS                                        1\n",
       "Name: count, Length: 124, dtype: int64"
      ]
     },
     "execution_count": 30,
     "metadata": {},
     "output_type": "execute_result"
    }
   ],
   "source": [
    "df.q8_addtl_currency_type.value_counts()"
   ]
  },
  {
   "cell_type": "markdown",
   "id": "ed7dd5f1-d94b-40a1-b41c-79e9b168b94c",
   "metadata": {},
   "source": [
    "**Notes:**\n",
    "- 27,897 missing values - low importance, likely directly related to \"currency\".\n",
    "- Contains options that can be reclassified in \"currency\" (i.e. \"US Dollar\" = \"USD\")\n",
    "- Contains text \"AUD & NZD are not the same...\"\n",
    "- Contains currency amount (i.e. 55,000)\n",
    "- Consider looking at \"like\" types (\"currency\") and change\n",
    "- Consider merging \"addtl_currency_types\" with \"currency\""
   ]
  },
  {
   "cell_type": "markdown",
   "id": "5853c311-076a-4e8f-835c-042da5db36f8",
   "metadata": {},
   "source": [
    "### Q9 - Additional Income Context (addtl_income_context): EDA"
   ]
  },
  {
   "cell_type": "code",
   "execution_count": 31,
   "id": "9e771951-74f2-4589-a92f-de3d855dfd88",
   "metadata": {
    "tags": []
   },
   "outputs": [
    {
     "data": {
      "text/plain": [
       "count       3047\n",
       "unique      2983\n",
       "top       Hourly\n",
       "freq           4\n",
       "Name: q9_addtl_income_context, dtype: object"
      ]
     },
     "execution_count": 31,
     "metadata": {},
     "output_type": "execute_result"
    }
   ],
   "source": [
    "df.q9_addtl_income_context.describe()"
   ]
  },
  {
   "cell_type": "code",
   "execution_count": 32,
   "id": "21e54fc7-2d7e-43c8-b80c-d03a8adbabe1",
   "metadata": {
    "tags": []
   },
   "outputs": [
    {
     "data": {
      "text/plain": [
       "q9_addtl_income_context\n",
       "Hourly                                                                                                 4\n",
       "Bonus not guaranteed                                                                                   3\n",
       "Stock                                                                                                  3\n",
       "10 month employee                                                                                      3\n",
       "Before tax                                                                                             3\n",
       "                                                                                                      ..\n",
       "My income is salaried but weekly hourly expectations are 55-60 hours per week.                         1\n",
       "I only work part time, so my actual take-home pay is closer to $40k/year.                              1\n",
       "Additional compensation is calculated as % of my annual salary based on the company annual results     1\n",
       "I'm paid minimum wage for my province                                                                  1\n",
       "full time pharmacist and superintendent                                                                1\n",
       "Name: count, Length: 2983, dtype: int64"
      ]
     },
     "execution_count": 32,
     "metadata": {},
     "output_type": "execute_result"
    }
   ],
   "source": [
    "df.q9_addtl_income_context.value_counts()"
   ]
  },
  {
   "cell_type": "code",
   "execution_count": 33,
   "id": "e5f9709f-8040-49e8-9145-7f9b74193652",
   "metadata": {
    "tags": []
   },
   "outputs": [
    {
     "data": {
      "text/plain": [
       "25061"
      ]
     },
     "execution_count": 33,
     "metadata": {},
     "output_type": "execute_result"
    }
   ],
   "source": [
    "df.q9_addtl_income_context.isna().sum()"
   ]
  },
  {
   "cell_type": "markdown",
   "id": "53629a1a-f53a-469c-8284-f4f706596143",
   "metadata": {},
   "source": [
    "**Notes:**\n",
    "\n",
    "- text based\n",
    "- 25,061 NULL values, low value feature\n",
    "- Consider dropping, cleaning impossible/improbable"
   ]
  },
  {
   "cell_type": "markdown",
   "id": "c91ceca9-3c60-4744-9e68-205740aa51d0",
   "metadata": {},
   "source": [
    "### Q10 - Country: EDA"
   ]
  },
  {
   "cell_type": "code",
   "execution_count": 34,
   "id": "1a2dcb48-f85b-4796-af93-34d55c1778d6",
   "metadata": {
    "tags": []
   },
   "outputs": [
    {
     "data": {
      "text/plain": [
       "0"
      ]
     },
     "execution_count": 34,
     "metadata": {},
     "output_type": "execute_result"
    }
   ],
   "source": [
    "df.q10_country.isna().sum()"
   ]
  },
  {
   "cell_type": "code",
   "execution_count": 35,
   "id": "e1829a9f-2b90-4065-ad47-5c294a966bd7",
   "metadata": {
    "tags": []
   },
   "outputs": [
    {
     "data": {
      "text/plain": [
       "q10_country\n",
       "United States      9004\n",
       "USA                7946\n",
       "US                 2612\n",
       "Canada             1572\n",
       "United States       668\n",
       "                   ... \n",
       "IS                    1\n",
       "United Kingdomk       1\n",
       " New Zealand          1\n",
       "Cuba                  1\n",
       "Česká republika       1\n",
       "Name: count, Length: 382, dtype: int64"
      ]
     },
     "execution_count": 35,
     "metadata": {},
     "output_type": "execute_result"
    }
   ],
   "source": [
    "df.q10_country.value_counts()"
   ]
  },
  {
   "cell_type": "markdown",
   "id": "908e0d01-449a-4624-82a4-236ba1c222c6",
   "metadata": {},
   "source": [
    "**Notes:**\n",
    "\n",
    "- No NULLs\n",
    "- 382 unique values\n",
    "- Synonomous values (i.e. United States, US, USA)\n",
    "- Consider combining synonomous values\n",
    "- Class imbalance (United States = majority class)"
   ]
  },
  {
   "cell_type": "markdown",
   "id": "5b050191-1556-44ce-8c00-49b7a065cde3",
   "metadata": {},
   "source": [
    "### Q11 - State (us_state): EDA"
   ]
  },
  {
   "cell_type": "code",
   "execution_count": 36,
   "id": "7ff25b0c-60a4-4dd9-9a70-1ddc727ef50a",
   "metadata": {
    "tags": []
   },
   "outputs": [
    {
     "data": {
      "text/plain": [
       "6934     North Carolina\n",
       "1928                NaN\n",
       "20296           Wyoming\n",
       "24949               NaN\n",
       "817          California\n",
       "20390           Georgia\n",
       "17362               NaN\n",
       "15761               NaN\n",
       "348       Massachusetts\n",
       "17974          Michigan\n",
       "Name: q11_us_state, dtype: object"
      ]
     },
     "execution_count": 36,
     "metadata": {},
     "output_type": "execute_result"
    }
   ],
   "source": [
    "df.q11_us_state.sample(10)"
   ]
  },
  {
   "cell_type": "code",
   "execution_count": 37,
   "id": "a33df20d-7714-45fe-9ce5-fe64ca4d5573",
   "metadata": {
    "tags": []
   },
   "outputs": [
    {
     "data": {
      "text/plain": [
       "5034"
      ]
     },
     "execution_count": 37,
     "metadata": {},
     "output_type": "execute_result"
    }
   ],
   "source": [
    "df.q11_us_state.isna().sum()"
   ]
  },
  {
   "cell_type": "code",
   "execution_count": 38,
   "id": "021338f3-18c1-4f82-9c41-3920aae6d5f3",
   "metadata": {
    "tags": []
   },
   "outputs": [
    {
     "data": {
      "text/plain": [
       "q11_us_state\n",
       "California                                 2611\n",
       "New York                                   2174\n",
       "Massachusetts                              1522\n",
       "Texas                                      1269\n",
       "Illinois                                   1213\n",
       "                                           ... \n",
       "Alaska, Idaho, Oregon, Utah, Washington       1\n",
       "Arizona, California, Nevada, Texas            1\n",
       "Illinois, Kentucky                            1\n",
       "Illinois, Wisconsin                           1\n",
       "Florida, Georgia                              1\n",
       "Name: count, Length: 137, dtype: int64"
      ]
     },
     "execution_count": 38,
     "metadata": {},
     "output_type": "execute_result"
    }
   ],
   "source": [
    "df.q11_us_state.value_counts()"
   ]
  },
  {
   "cell_type": "markdown",
   "id": "5aed1e82-fe0a-463c-86ee-d0ec2a5bbbdb",
   "metadata": {},
   "source": [
    "**Notes:**\n",
    "\n",
    "- 5,034 NAs - likely related to non-US countries (check against 'country'/'city')\n",
    "- 137 unique values \n",
    "- Consider reducing multiple listed states to one state - first listed\n",
    "- Consider filling NAs with \"Not Applicable\""
   ]
  },
  {
   "cell_type": "markdown",
   "id": "ff8ac658-20e3-4d83-9386-89d8538704bc",
   "metadata": {},
   "source": [
    "### Q12 - City : EDA"
   ]
  },
  {
   "cell_type": "code",
   "execution_count": 39,
   "id": "c1346ef8-28e0-4f67-8371-024e032a9843",
   "metadata": {
    "tags": []
   },
   "outputs": [
    {
     "data": {
      "text/plain": [
       "q12_city\n",
       "Boston                   772\n",
       "Chicago                  752\n",
       "New York                 711\n",
       "Seattle                  691\n",
       "London                   576\n",
       "                        ... \n",
       "Ethel                      1\n",
       "Concord, CA                1\n",
       "charlottesville            1\n",
       "A major Canadian city      1\n",
       "Dar es Salaam              1\n",
       "Name: count, Length: 4841, dtype: int64"
      ]
     },
     "execution_count": 39,
     "metadata": {},
     "output_type": "execute_result"
    }
   ],
   "source": [
    "df.q12_city.value_counts()"
   ]
  },
  {
   "cell_type": "code",
   "execution_count": 40,
   "id": "6932304c-b68d-4154-ae79-03068f3dcee9",
   "metadata": {
    "tags": []
   },
   "outputs": [
    {
     "data": {
      "text/plain": [
       "82"
      ]
     },
     "execution_count": 40,
     "metadata": {},
     "output_type": "execute_result"
    }
   ],
   "source": [
    "df.q12_city.isna().sum()"
   ]
  },
  {
   "cell_type": "code",
   "execution_count": 41,
   "id": "bc920c71-6486-4f02-9873-c9e682b842fd",
   "metadata": {
    "tags": []
   },
   "outputs": [
    {
     "data": {
      "text/plain": [
       "10503          Monterey\n",
       "26369           Mission\n",
       "22989            London\n",
       "15080          New York\n",
       "27064         vancouver\n",
       "22316    Loudoun County\n",
       "26695           Atlanta\n",
       "19306          New York\n",
       "22156        Brookfield\n",
       "7811             Boston\n",
       "372              Denver\n",
       "20103        Sacramento\n",
       "15645           Chicago\n",
       "12247     North Andover\n",
       "27367           Atlanta\n",
       "Name: q12_city, dtype: object"
      ]
     },
     "execution_count": 41,
     "metadata": {},
     "output_type": "execute_result"
    }
   ],
   "source": [
    "df.q12_city.sample(15)"
   ]
  },
  {
   "cell_type": "markdown",
   "id": "52fbbda0-3845-40e4-baed-353ac6f7a439",
   "metadata": {},
   "source": [
    "**Note:**\n",
    "- 82 NULLs - consider \"Not Applicable\" or compare to \"state\"\n",
    "- 4,841 unique entries\n",
    "- Consider looking for text strings and replace"
   ]
  },
  {
   "cell_type": "markdown",
   "id": "bf982023-5480-4b79-9192-8e934cfa93a9",
   "metadata": {},
   "source": [
    "### Q13 - Years of Work Experience (work_exp_yrs) : EDA"
   ]
  },
  {
   "cell_type": "code",
   "execution_count": 42,
   "id": "92289596-2ec4-46fa-b84c-5661c9dc6869",
   "metadata": {
    "tags": []
   },
   "outputs": [
    {
     "data": {
      "text/plain": [
       "0"
      ]
     },
     "execution_count": 42,
     "metadata": {},
     "output_type": "execute_result"
    }
   ],
   "source": [
    "df.q13_work_exp_yrs.isna().sum()"
   ]
  },
  {
   "cell_type": "code",
   "execution_count": 43,
   "id": "6bf2ed46-54ce-4685-afb5-62d1c672fdc3",
   "metadata": {
    "tags": []
   },
   "outputs": [
    {
     "data": {
      "text/plain": [
       "8"
      ]
     },
     "execution_count": 43,
     "metadata": {},
     "output_type": "execute_result"
    }
   ],
   "source": [
    "df.q13_work_exp_yrs.nunique()"
   ]
  },
  {
   "cell_type": "code",
   "execution_count": 44,
   "id": "1fdebad2-461b-495a-aea5-f535af969ce6",
   "metadata": {
    "tags": []
   },
   "outputs": [
    {
     "data": {
      "text/plain": [
       "q13_work_exp_yrs\n",
       "11 - 20 years       9630\n",
       "8 - 10 years        5381\n",
       "5-7 years           4886\n",
       "21 - 30 years       3645\n",
       "2 - 4 years         3038\n",
       "31 - 40 years        870\n",
       "1 year or less       533\n",
       "41 years or more     125\n",
       "Name: count, dtype: int64"
      ]
     },
     "execution_count": 44,
     "metadata": {},
     "output_type": "execute_result"
    }
   ],
   "source": [
    "df.q13_work_exp_yrs.value_counts()"
   ]
  },
  {
   "cell_type": "code",
   "execution_count": 45,
   "id": "fc96ca65-cd03-487f-866e-d1be421555ef",
   "metadata": {
    "tags": []
   },
   "outputs": [
    {
     "data": {
      "text/plain": [
       "<AxesSubplot: xlabel='q13_work_exp_yrs'>"
      ]
     },
     "execution_count": 45,
     "metadata": {},
     "output_type": "execute_result"
    },
    {
     "data": {
      "image/png": "[encoded data removed]",
      "text/plain": [
       "<Figure size 640x480 with 1 Axes>"
      ]
     },
     "metadata": {},
     "output_type": "display_data"
    }
   ],
   "source": [
    "df.q13_work_exp_yrs.value_counts().plot(kind=\"bar\")"
   ]
  },
  {
   "cell_type": "code",
   "execution_count": 46,
   "id": "d046440e-8bbf-4cde-94de-17b0e6481f2d",
   "metadata": {
    "tags": []
   },
   "outputs": [
    {
     "data": {
      "text/plain": [
       "count             28108\n",
       "unique                8\n",
       "top       11 - 20 years\n",
       "freq               9630\n",
       "Name: q13_work_exp_yrs, dtype: object"
      ]
     },
     "execution_count": 46,
     "metadata": {},
     "output_type": "execute_result"
    }
   ],
   "source": [
    "df.q13_work_exp_yrs.describe()"
   ]
  },
  {
   "cell_type": "markdown",
   "id": "522008a9-7918-45cd-bb97-0e74d213b5c3",
   "metadata": {
    "tags": []
   },
   "source": [
    "**Notes:**\n",
    "- No NULLs\n",
    "- All options fall into one of 8 buckets.\n",
    "- \"41 or more years\" possible outlier, due to few results, but still good data\n",
    "- Consider smaller buckets, else: No recommendations/considerations\n",
    "- Likely related to salary feature"
   ]
  },
  {
   "cell_type": "markdown",
   "id": "98768743-607b-40d0-a3b4-2fc900fcadd8",
   "metadata": {},
   "source": [
    "### Q14 - Years of Experience in Current Field (field_exp_yrs)"
   ]
  },
  {
   "cell_type": "code",
   "execution_count": 47,
   "id": "4d510d95-a662-43af-8092-5208964a6f9b",
   "metadata": {
    "tags": []
   },
   "outputs": [
    {
     "data": {
      "text/plain": [
       "0"
      ]
     },
     "execution_count": 47,
     "metadata": {},
     "output_type": "execute_result"
    }
   ],
   "source": [
    "df.q14_field_exp_yrs.isna().sum()"
   ]
  },
  {
   "cell_type": "code",
   "execution_count": 48,
   "id": "f8f0a9ea-4c39-4308-b41c-ac2fe6faf42d",
   "metadata": {
    "tags": []
   },
   "outputs": [
    {
     "data": {
      "text/plain": [
       "8"
      ]
     },
     "execution_count": 48,
     "metadata": {},
     "output_type": "execute_result"
    }
   ],
   "source": [
    "df.q14_field_exp_yrs.nunique()"
   ]
  },
  {
   "cell_type": "code",
   "execution_count": 49,
   "id": "f306bb6f-e0e6-4210-8f67-f7ed0a69429f",
   "metadata": {
    "tags": []
   },
   "outputs": [
    {
     "data": {
      "text/plain": [
       "q14_field_exp_yrs\n",
       "11 - 20 years       6542\n",
       "5-7 years           6524\n",
       "2 - 4 years         6263\n",
       "8 - 10 years        4984\n",
       "21 - 30 years       1870\n",
       "1 year or less      1500\n",
       "31 - 40 years        384\n",
       "41 years or more      41\n",
       "Name: count, dtype: int64"
      ]
     },
     "execution_count": 49,
     "metadata": {},
     "output_type": "execute_result"
    }
   ],
   "source": [
    "df.q14_field_exp_yrs.value_counts()"
   ]
  },
  {
   "cell_type": "code",
   "execution_count": 50,
   "id": "ac96e9f2-88d1-4219-8536-60dda189c7fa",
   "metadata": {
    "tags": []
   },
   "outputs": [
    {
     "data": {
      "text/plain": [
       "<AxesSubplot: xlabel='q14_field_exp_yrs'>"
      ]
     },
     "execution_count": 50,
     "metadata": {},
     "output_type": "execute_result"
    },
    {
     "data": {
      "image/png": "[encoded data removed]",
      "text/plain": [
       "<Figure size 640x480 with 1 Axes>"
      ]
     },
     "metadata": {},
     "output_type": "display_data"
    }
   ],
   "source": [
    "df.q14_field_exp_yrs.value_counts().plot(kind=\"bar\")"
   ]
  },
  {
   "cell_type": "code",
   "execution_count": 51,
   "id": "08c67c2f-2cfe-4210-9099-2b677c53a223",
   "metadata": {
    "tags": []
   },
   "outputs": [
    {
     "data": {
      "text/plain": [
       "count             28108\n",
       "unique                8\n",
       "top       11 - 20 years\n",
       "freq               6542\n",
       "Name: q14_field_exp_yrs, dtype: object"
      ]
     },
     "execution_count": 51,
     "metadata": {},
     "output_type": "execute_result"
    }
   ],
   "source": [
    "df.q14_field_exp_yrs.describe()"
   ]
  },
  {
   "cell_type": "markdown",
   "id": "d7d40fc6-4669-4f2f-94cc-af1161cbc788",
   "metadata": {},
   "source": [
    "**Notes:**\n",
    "\n",
    "- No NULLs\n",
    "- 11-20 years majority counts (6,540)\n",
    "- All inputs fall into oneof 8 buckets\n",
    "- \"41 or more years\" possible outlier, due to few results, but still good data\n",
    "- Consider smaller buckets, else: No recommendations/considerations"
   ]
  },
  {
   "cell_type": "markdown",
   "id": "edb28969-8aaa-4872-9862-885c8285faba",
   "metadata": {},
   "source": [
    "### Q15 - Education : EDA"
   ]
  },
  {
   "cell_type": "code",
   "execution_count": 52,
   "id": "4cd789b6-6ecd-4000-a097-b6333cc4d29d",
   "metadata": {
    "tags": []
   },
   "outputs": [
    {
     "data": {
      "text/plain": [
       "223"
      ]
     },
     "execution_count": 52,
     "metadata": {},
     "output_type": "execute_result"
    }
   ],
   "source": [
    "df.q15_education.isna().sum()"
   ]
  },
  {
   "cell_type": "code",
   "execution_count": 53,
   "id": "ae1a1daa-c0f9-4ce0-824a-c5458cd688b4",
   "metadata": {
    "tags": []
   },
   "outputs": [
    {
     "data": {
      "text/plain": [
       "6"
      ]
     },
     "execution_count": 53,
     "metadata": {},
     "output_type": "execute_result"
    }
   ],
   "source": [
    "df.q15_education.nunique()"
   ]
  },
  {
   "cell_type": "code",
   "execution_count": 54,
   "id": "0c8c36ff-f3d4-468e-a302-5ce73f08268a",
   "metadata": {
    "tags": []
   },
   "outputs": [
    {
     "data": {
      "text/plain": [
       "q15_education\n",
       "College degree                        13536\n",
       "Master's degree                        8879\n",
       "Some college                           2075\n",
       "PhD                                    1427\n",
       "Professional degree (MD, JD, etc.)     1325\n",
       "High School                             643\n",
       "Name: count, dtype: int64"
      ]
     },
     "execution_count": 54,
     "metadata": {},
     "output_type": "execute_result"
    }
   ],
   "source": [
    "df.q15_education.value_counts()"
   ]
  },
  {
   "cell_type": "markdown",
   "id": "fc300648-5b6a-4d20-8636-a065ee378db0",
   "metadata": {},
   "source": [
    "**Notes:**\n",
    "\n",
    "- 223 NULLs - Consider adding \"Not Applicable\" or average degree for industry\n",
    "- 6 unique identifiers"
   ]
  },
  {
   "cell_type": "markdown",
   "id": "bf341133-a27b-4a43-a15c-e2de8628b952",
   "metadata": {
    "tags": []
   },
   "source": [
    "### Q16 - Gender: EDA"
   ]
  },
  {
   "cell_type": "code",
   "execution_count": 55,
   "id": "b8c8333f-14ca-4556-b742-0f3238dd6542",
   "metadata": {
    "tags": []
   },
   "outputs": [
    {
     "data": {
      "text/plain": [
       "171"
      ]
     },
     "execution_count": 55,
     "metadata": {},
     "output_type": "execute_result"
    }
   ],
   "source": [
    "df.q16_gender.isna().sum()"
   ]
  },
  {
   "cell_type": "code",
   "execution_count": 56,
   "id": "b6003024-7ae3-4ef2-b15a-5071a11047aa",
   "metadata": {
    "tags": []
   },
   "outputs": [
    {
     "data": {
      "text/plain": [
       "5"
      ]
     },
     "execution_count": 56,
     "metadata": {},
     "output_type": "execute_result"
    }
   ],
   "source": [
    "df.q16_gender.nunique()"
   ]
  },
  {
   "cell_type": "code",
   "execution_count": 57,
   "id": "0074fb37-abf8-4e8e-9e43-8607ccebdda7",
   "metadata": {
    "tags": []
   },
   "outputs": [
    {
     "data": {
      "text/plain": [
       "q16_gender\n",
       "Woman                            21389\n",
       "Man                               5502\n",
       "Non-binary                         747\n",
       "Other or prefer not to answer      298\n",
       "Prefer not to answer                 1\n",
       "Name: count, dtype: int64"
      ]
     },
     "execution_count": 57,
     "metadata": {},
     "output_type": "execute_result"
    }
   ],
   "source": [
    "df.q16_gender.value_counts()"
   ]
  },
  {
   "cell_type": "markdown",
   "id": "1181ba11-c2f0-4fcf-9e27-1bc20625699f",
   "metadata": {},
   "source": [
    "**Notes:**\n",
    "- 171 NULLs\n",
    "- 5 responses, 2 = Other or Prefer Not to answer\n",
    "- Consider reducing options (combine \"non-binary\" and \"other or prefer not to answer\")\n",
    "- Reclassify  \"prefer not to answer\" - not a legitimate response on survey.\n",
    "- Add NULLs to Prefer not to answer\n",
    "- Class imbalance (majority = Woman)"
   ]
  },
  {
   "cell_type": "markdown",
   "id": "72858967-8a69-4527-bba7-15455f2d5fef",
   "metadata": {},
   "source": [
    "### Q17 Race: EDA"
   ]
  },
  {
   "cell_type": "code",
   "execution_count": 58,
   "id": "d700137e-8afe-464a-86b9-975ea19b67d8",
   "metadata": {
    "tags": []
   },
   "outputs": [
    {
     "data": {
      "text/plain": [
       "177"
      ]
     },
     "execution_count": 58,
     "metadata": {},
     "output_type": "execute_result"
    }
   ],
   "source": [
    "df.q17_race.isna().sum()"
   ]
  },
  {
   "cell_type": "code",
   "execution_count": 59,
   "id": "0b267b7b-630f-4c3f-a76d-93d30aa5613c",
   "metadata": {
    "tags": []
   },
   "outputs": [
    {
     "data": {
      "text/plain": [
       "51"
      ]
     },
     "execution_count": 59,
     "metadata": {},
     "output_type": "execute_result"
    }
   ],
   "source": [
    "df.q17_race.nunique()"
   ]
  },
  {
   "cell_type": "code",
   "execution_count": 60,
   "id": "9645aefd-6fd3-41bc-ab94-3d4c5c98bea0",
   "metadata": {
    "tags": []
   },
   "outputs": [
    {
     "data": {
      "text/plain": [
       "q17_race\n",
       "White                                                                                                                                                                                                                           23235\n",
       "Asian or Asian American                                                                                                                                                                                                          1410\n",
       "Black or African American                                                                                                                                                                                                         694\n",
       "Another option not listed here or prefer not to answer                                                                                                                                                                            625\n",
       "Hispanic, Latino, or Spanish origin                                                                                                                                                                                               605\n",
       "Hispanic, Latino, or Spanish origin, White                                                                                                                                                                                        385\n",
       "Asian or Asian American, White                                                                                                                                                                                                    343\n",
       "Black or African American, White                                                                                                                                                                                                  123\n",
       "Middle Eastern or Northern African, White                                                                                                                                                                                          83\n",
       "Middle Eastern or Northern African                                                                                                                                                                                                 71\n",
       "Native American or Alaska Native, White                                                                                                                                                                                            68\n",
       "White, Another option not listed here or prefer not to answer                                                                                                                                                                      65\n",
       "Native American or Alaska Native                                                                                                                                                                                                   43\n",
       "Black or African American, Hispanic, Latino, or Spanish origin                                                                                                                                                                     28\n",
       "Asian or Asian American, Hispanic, Latino, or Spanish origin                                                                                                                                                                       14\n",
       "Asian or Asian American, Hispanic, Latino, or Spanish origin, White                                                                                                                                                                14\n",
       "Black or African American, Hispanic, Latino, or Spanish origin, White                                                                                                                                                              11\n",
       "Asian or Asian American, Another option not listed here or prefer not to answer                                                                                                                                                    11\n",
       "Hispanic, Latino, or Spanish origin, Native American or Alaska Native                                                                                                                                                              10\n",
       "Hispanic, Latino, or Spanish origin, Native American or Alaska Native, White                                                                                                                                                       10\n",
       "Asian or Asian American, Black or African American                                                                                                                                                                                  9\n",
       "Asian or Asian American, Middle Eastern or Northern African                                                                                                                                                                         7\n",
       "Asian or Asian American, Black or African American, White                                                                                                                                                                           6\n",
       "Black or African American, Native American or Alaska Native, White                                                                                                                                                                  6\n",
       "Asian or Asian American, White, Another option not listed here or prefer not to answer                                                                                                                                              6\n",
       "Hispanic, Latino, or Spanish origin, Another option not listed here or prefer not to answer                                                                                                                                         6\n",
       "Hispanic, Latino, or Spanish origin, Middle Eastern or Northern African, White                                                                                                                                                      5\n",
       "Black or African American, Middle Eastern or Northern African, White                                                                                                                                                                5\n",
       "Asian or Asian American, Native American or Alaska Native, White                                                                                                                                                                    4\n",
       "Black or African American, Hispanic, Latino, or Spanish origin, Native American or Alaska Native, White                                                                                                                             3\n",
       "Black or African American, Another option not listed here or prefer not to answer                                                                                                                                                   2\n",
       "Black or African American, Middle Eastern or Northern African                                                                                                                                                                       2\n",
       "Native American or Alaska Native, White, Another option not listed here or prefer not to answer                                                                                                                                     2\n",
       "Hispanic, Latino, or Spanish origin, Middle Eastern or Northern African                                                                                                                                                             2\n",
       "Middle Eastern or Northern African, White, Another option not listed here or prefer not to answer                                                                                                                                   2\n",
       "Black or African American, Native American or Alaska Native                                                                                                                                                                         1\n",
       "Asian or Asian American, Black or African American, Hispanic, Latino, or Spanish origin, Middle Eastern or Northern African, Native American or Alaska Native, White, Another option not listed here or prefer not to answer        1\n",
       "Asian or Asian American, Hispanic, Latino, or Spanish origin, White, Another option not listed here or prefer not to answer                                                                                                         1\n",
       "Asian or Asian American, Hispanic, Latino, or Spanish origin, Another option not listed here or prefer not to answer                                                                                                                1\n",
       "Middle Eastern or Northern African, Native American or Alaska Native                                                                                                                                                                1\n",
       "Asian or Asian American, Native American or Alaska Native                                                                                                                                                                           1\n",
       "Hispanic, Latino, or Spanish origin, Native American or Alaska Native, Another option not listed here or prefer not to answer                                                                                                       1\n",
       "Middle Eastern or Northern African, Native American or Alaska Native, White                                                                                                                                                         1\n",
       "Asian or Asian American, Middle Eastern or Northern African, White                                                                                                                                                                  1\n",
       "Native American or Alaska Native, Another option not listed here or prefer not to answer                                                                                                                                            1\n",
       "Asian or Asian American, Black or African American, Native American or Alaska Native, White                                                                                                                                         1\n",
       "Asian or Asian American, Black or African American, Hispanic, Latino, or Spanish origin                                                                                                                                             1\n",
       "Hispanic, Latino, or Spanish origin, White, Another option not listed here or prefer not to answer                                                                                                                                  1\n",
       "Black or African American, Middle Eastern or Northern African, Native American or Alaska Native, White                                                                                                                              1\n",
       "Asian or Asian American, Hispanic, Latino, or Spanish origin, Native American or Alaska Native, White                                                                                                                               1\n",
       "Asian or Asian American, Black or African American, Hispanic, Latino, or Spanish origin, Native American or Alaska Native                                                                                                           1\n",
       "Name: count, dtype: int64"
      ]
     },
     "execution_count": 60,
     "metadata": {},
     "output_type": "execute_result"
    }
   ],
   "source": [
    "df.q17_race.value_counts()"
   ]
  },
  {
   "cell_type": "markdown",
   "id": "45fb80c8-d571-4593-9f44-4b6764f97c60",
   "metadata": {},
   "source": [
    "**Notes:**\n",
    "- 177 NULLs\n",
    "- 51 unique values (survey only has 7 options, users selected multiple options)\n",
    "- Consider adding NULLs to \"Another option not...\" \n",
    "- Consider reclassifying multiples to the single first entry or new feature \"mixed race\"\n",
    "- Class imbalance: (majority = White)"
   ]
  },
  {
   "cell_type": "markdown",
   "id": "e65daa25-9af6-41af-bd78-0753d58fe8a5",
   "metadata": {
    "tags": []
   },
   "source": [
    "## EDA SUMMARY"
   ]
  },
  {
   "cell_type": "markdown",
   "id": "7a848f6e-a0e2-43a2-90fa-76821daed60c",
   "metadata": {},
   "source": [
    "**Question:** How would you describe the \"state\" of this dataset? Be specific and detailed in your answer. (Think paragraphs rather than sentences).\n",
    "\n",
    "Overall, I think the dataset is quite informative, with some notable exceptions to usefulness and value. Additionally, most of the columns weren't missing any data, which meant that all participants chose to answer must of the questions in full. There was as some exception to this, especially with features like \"state\" and \"q4_job_summary\" where the thousands of entries were missing. There were very few that only had a small handful of missing values (under 10), with the majority of them missing hundreds of entries. For the ones that were missing the majority of the data, I classified them as low value columns - meaning that they provide little insight and imputing would be difficult (such as q4_job_summary). Others, like \"q11_us_state\" had over 5,000 missing values, but that could be attributed to the fact that not all participants reside in the U.S. For some of the ones that are missing a couple hundred, I could impute them based on their mean responses or based on relevant features, for instance, I could impute the missing \"q15_education\" with the most common degree in the respective fields (and go even deeper by the most relevant degree for the amount of years of experfience in the field). Other missing fields could actually be easily reclassified, for instance, in \"q16_gender\" all the NULLs can be reclassified to the already existing option of \"other or prefer not to say\". each feature with NULLs is going to be handled differently, since imputing something like the \"mean\" wouldn't work for all, nor would it make sense.\n",
    "\n",
    "Other than noting the NULLs, there was 1 notable outlier (outside of real-world outliers, like very few participants having over 40 yrs experience) in the additional income, where the individual listed 120,000,000 in additional income - not impossible, just unlikely - so this will need to be imputed. Dicussing real-world outliers, such as years of work experience, this can skew the data (or underrepresent a particular group), so I am considering making smaller buckets for certain categories to make a more even distributed category. Additionally, there were a few questions where the responses had synonomous answers (i.e. country: \"United States\", \"US\", \"U.S.\"). These synononyms can skew the data and need to be reclassified so that there is only one representation for all synonyms of a particular catergory. There are also some features I labeled as low value, and I think should be considered for dropping (i.e. title: too many unique values; additional income context: to few entries). Along with considering dropping columns, there was a tleast one isntance where I thought a new feature should be added: \"total compensation\", which would be a sum of the salary and additional funds (I think this is a better representation of someone's networth). As far as the dataset is concerned, there are definitely \"messy\" aspects, but was surprisingly more thorough in results than I would have anticipated for an online survey. "
   ]
  },
  {
   "cell_type": "markdown",
   "id": "320e3606-db07-41fa-a6b1-f31c3b6ffbde",
   "metadata": {},
   "source": [
    "# Part 3: The Plan"
   ]
  },
  {
   "cell_type": "markdown",
   "id": "6cdfa01e-9eb1-4dcd-a5c0-a42e4b3b53a9",
   "metadata": {},
   "source": [
    "Now, it is time to plan how you will clean up the dataset. You **are not** allowed to use any machine learning technique to clean the data. (No SMOTE! No machine learning! Or anything like that!)\n",
    "\n",
    "**Question:** Based on your EDA above, detail how you would clean up this dataset. \n",
    "Things to consider: (This is not an exhaustive list)\n",
    "- Are there columns that can't be effectively cleaned? If so, why?\n",
    "- Are there columns that genuinely won't have a data value?\n",
    "- Does it make sense to segment the dataset based on specific columns when determining how to handle the missing values?\n",
    "- Are outliers a factor in this dataset?\n",
    "\n",
    "Remember preserving as much of the data as possible is the goal. That means dropping rows with a missing value somewhere might not be the best idea.\n",
    "\n",
    "**How I am going to clean the data:**\n",
    "\n",
    "As I did some EDA on each column and took notes on considerations when cleaning the data, I am going to follow the same format and work on each column (if necessary, as I already identified some columns I thought that were thoroughly clean) and clean it up the best I can, either through imputing, research, or correlation. Additionally, I will drop columns that are of informationally low value and reduce unique values when necessary. I have listed above all my considerations, but this a break down of each feature and what I am going to consider for each (and I will do them chronologically, manipulating other features as I go, if necessary).\n",
    "\n",
    " **timestamp**  \n",
    " - No data manipulation needed.\n",
    " \n",
    " **q1_age**\n",
    " - No data manipulation, EDA provided evidence nothing further was needed\n",
    " \n",
    " **q2_industry**  \n",
    " - Fill in the NULLs (75), fill in with generic text (75 entries in the dataset is small, so I don't think it will sway the data).\n",
    " - No other manipulations identified\n",
    " \n",
    " **q3_title**  \n",
    " - Fill in the 1 NULL, by looking at similar columns \n",
    " - No other manipulations identified\n",
    " \n",
    " **q4_job_summary**   \n",
    " - Drop this column because of very few responses and I believe the information is of low value.  \n",
    " \n",
    " \n",
    " **q5_salary**  \n",
    " - There is outliers, will look into how to address them, if not US currency, doing the currency exchange, \n",
    "         if U.S. imputing for similar industry, titles, field experience, etc.\n",
    " - Convert to numbers, because they are floats (with commas)\n",
    " \n",
    " \n",
    " **q6_addtl_fund**  \n",
    " - Fill in NULLs with \"0\", since I can assume that if they have none to add, that they have none to list\n",
    " - Impute outliers the same as with salary\n",
    " \n",
    " **q7_currency**  \n",
    " - Look for synonymous (or repeat) currency types and convert, the goal is to reduce unique values to the fewest necessary currency types\n",
    " \n",
    " **q8_addtl_currency_type**   \n",
    " - This had very few responses, and could be low value, given the number of unique values. However, I am opting to clean this one up\n",
    " - Look for synonymous (or repeat) currency types and convert.\n",
    " - Fill NULLs with generic text (i.e. \"Not Relevant\")\n",
    "  \n",
    " **q9_addtl_income_context**   \n",
    " - Drop this column because of very few responses and I believe the information is of low value.  \n",
    " \n",
    " **q10_country**  \n",
    " - No NULLs to handle\n",
    " - Look for synonymous (or repeat) currency types and convert, the goal is to reduce unique values to the fewest necessary currency types.\n",
    "\n",
    " **q11_us_state**  \n",
    " - There is alot of NULLs (5,034), so I am opting to add generic text (i.e. \"Not Relevant\") to handle the amount\n",
    " - Check that all of the Non-Null options match one or more of the U.S. states.\n",
    " \n",
    " **q12_city**   \n",
    " - There are 82 NULLs, I am opting to use generic text, as this low of a number I don't feel like will sway the data. Individual line items can be addressed if needed during data analysis.\n",
    " - Check that the cities all make sense.\n",
    " \n",
    "**q13_work_exp_yrs**   \n",
    "- Initial EDA confirmed that I don't feel the need for any data manipulation for this column.\n",
    "\n",
    "**q14_field_exp_yrs**\n",
    "- Initial EDA confirmed that I don't feel the need for any data manipulation for this column.\n",
    "\n",
    "**q15_education** \n",
    "- Fill in the NULLs with \"like\" education, based on industry, salary, years of experience, etc.\n",
    "\n",
    "**q16_gender** \n",
    "- Reduce the options to the survey options (there are 5 values in the dataset, but only 4 options on the survey)\n",
    "- Add NULLs to the \"Other or prefer not to answer\" value, as not answering is the same as preferring not to answer.\n",
    "\n",
    "**q17_race**   \n",
    "- Add NULLs to the \"Another option not listed here or prefer not to answer\" value\n",
    "- Combine mixed answers to a new value called \"Mixed Race\" for better representation of underrepresented mixed race folks.\n",
    "\n",
    "**Note:** I have also provided additional notes in my implementation phase, for a deeper understanding of what I was doing and my thought process. I may decide, as I am doing my manipulation, to detour from what is listed based on new findings or other factors."
   ]
  },
  {
   "cell_type": "markdown",
   "id": "ca688475-573d-4cd7-b29a-fecf53ff6976",
   "metadata": {},
   "source": [
    "# Part 4: Implementation"
   ]
  },
  {
   "cell_type": "markdown",
   "id": "a286a2a7-a6b6-4f77-9e46-1f5e9602bb03",
   "metadata": {},
   "source": [
    "Based on the plan the you described above, go ahead and clean up the dataset.\n",
    "\n",
    "[Add as many code cell below here as needs]"
   ]
  },
  {
   "cell_type": "markdown",
   "id": "cdf4ae23-46b9-4639-90c7-5cda7431ebd6",
   "metadata": {},
   "source": [
    "### Q2 - Industry: Clean Up"
   ]
  },
  {
   "cell_type": "markdown",
   "id": "39debacf-f6ba-4776-92b0-9274ab5a7649",
   "metadata": {},
   "source": [
    "I am opting to fill in the missing values (75) for industry because each one is unique and it would be very time consuming to go through and try to determine each one. Also, since there is only 75 missing values, I don't feel that the data would be skewed by having a \"No Response\" given the data frame has over 28,000 entries.\n",
    "\n",
    "- Personal Bias: by choosing to use filler text, as opposed to researching each NULL by hand, I am adding a personal bias."
   ]
  },
  {
   "cell_type": "code",
   "execution_count": 61,
   "id": "946ff093-ac39-45c2-847e-f911f006c8d2",
   "metadata": {
    "tags": []
   },
   "outputs": [],
   "source": [
    "df.q2_industry = df.q2_industry.fillna(\"No Response\")"
   ]
  },
  {
   "cell_type": "code",
   "execution_count": 62,
   "id": "f3eff573-795e-41ca-80b7-83a4173f9dc9",
   "metadata": {
    "tags": []
   },
   "outputs": [
    {
     "data": {
      "text/plain": [
       "0"
      ]
     },
     "execution_count": 62,
     "metadata": {},
     "output_type": "execute_result"
    }
   ],
   "source": [
    "df.q2_industry.isnull().sum()"
   ]
  },
  {
   "cell_type": "markdown",
   "id": "d0736ee2-6c97-455a-97ca-1a196d78c46e",
   "metadata": {},
   "source": [
    "### Q3 - Title: Clean Up"
   ]
  },
  {
   "cell_type": "markdown",
   "id": "3edfdfbf-d3ca-473d-83ab-ad7ba143d8ce",
   "metadata": {},
   "source": [
    "There is only one missing value, and even though the title feature has quite a few unique values, I am going to attempt to find a close contender so that I can come up with an educated assessment. Much like the industry feature, the low amount of NAs (1) means that even if I put filler text it likely wouldn't skew the data. But, I want to see if I can come up with something more than filler - since it is only 1 NA.\n",
    "\n",
    "the one NAN for title is a student (according to their \"q2_industry\" response). So I am going to relable their title as \"student\""
   ]
  },
  {
   "cell_type": "code",
   "execution_count": 63,
   "id": "b38b8c40-63f5-441c-8a21-5daf70f98ccc",
   "metadata": {
    "tags": []
   },
   "outputs": [
    {
     "data": {
      "text/html": [
       "<div>\n",
       "<style scoped>\n",
       "    .dataframe tbody tr th:only-of-type {\n",
       "        vertical-align: middle;\n",
       "    }\n",
       "\n",
       "    .dataframe tbody tr th {\n",
       "        vertical-align: top;\n",
       "    }\n",
       "\n",
       "    .dataframe thead th {\n",
       "        text-align: right;\n",
       "    }\n",
       "</style>\n",
       "<table border=\"1\" class=\"dataframe\">\n",
       "  <thead>\n",
       "    <tr style=\"text-align: right;\">\n",
       "      <th></th>\n",
       "      <th>timestamp</th>\n",
       "      <th>q1_age</th>\n",
       "      <th>q2_industry</th>\n",
       "      <th>q3_title</th>\n",
       "      <th>q4_job_summary</th>\n",
       "      <th>q5_salary</th>\n",
       "      <th>q6_addtl_funds</th>\n",
       "      <th>q7_currency</th>\n",
       "      <th>q8_addtl_currency_type</th>\n",
       "      <th>q9_addtl_income_context</th>\n",
       "      <th>q10_country</th>\n",
       "      <th>q11_us_state</th>\n",
       "      <th>q12_city</th>\n",
       "      <th>q13_work_exp_yrs</th>\n",
       "      <th>q14_field_exp_yrs</th>\n",
       "      <th>q15_education</th>\n",
       "      <th>q16_gender</th>\n",
       "      <th>q17_race</th>\n",
       "    </tr>\n",
       "  </thead>\n",
       "  <tbody>\n",
       "    <tr>\n",
       "      <th>27996</th>\n",
       "      <td>11/29/2023 19:59:34</td>\n",
       "      <td>18-24</td>\n",
       "      <td>I'm currently a student and don't have a job</td>\n",
       "      <td>NaN</td>\n",
       "      <td>I don't have one right now</td>\n",
       "      <td>0</td>\n",
       "      <td>0</td>\n",
       "      <td>USD</td>\n",
       "      <td>NaN</td>\n",
       "      <td>There is no income right now</td>\n",
       "      <td>U.S.A</td>\n",
       "      <td>Pennsylvania</td>\n",
       "      <td>NaN</td>\n",
       "      <td>2 - 4 years</td>\n",
       "      <td>2 - 4 years</td>\n",
       "      <td>Some college</td>\n",
       "      <td>Man</td>\n",
       "      <td>Black or African American</td>\n",
       "    </tr>\n",
       "  </tbody>\n",
       "</table>\n",
       "</div>"
      ],
      "text/plain": [
       "                 timestamp q1_age  \\\n",
       "27996  11/29/2023 19:59:34  18-24   \n",
       "\n",
       "                                        q2_industry q3_title  \\\n",
       "27996  I'm currently a student and don't have a job      NaN   \n",
       "\n",
       "                   q4_job_summary q5_salary  q6_addtl_funds q7_currency  \\\n",
       "27996  I don't have one right now         0               0         USD   \n",
       "\n",
       "      q8_addtl_currency_type       q9_addtl_income_context q10_country  \\\n",
       "27996                    NaN  There is no income right now       U.S.A   \n",
       "\n",
       "       q11_us_state q12_city q13_work_exp_yrs q14_field_exp_yrs q15_education  \\\n",
       "27996  Pennsylvania      NaN      2 - 4 years       2 - 4 years  Some college   \n",
       "\n",
       "      q16_gender                   q17_race  \n",
       "27996        Man  Black or African American  "
      ]
     },
     "execution_count": 63,
     "metadata": {},
     "output_type": "execute_result"
    }
   ],
   "source": [
    "df[df.q3_title.isna()]"
   ]
  },
  {
   "cell_type": "code",
   "execution_count": 64,
   "id": "53862c94-f1a5-40f8-84fb-f83339981c11",
   "metadata": {
    "tags": []
   },
   "outputs": [],
   "source": [
    "df.q3_title = df.q3_title.fillna(\"student\")"
   ]
  },
  {
   "cell_type": "code",
   "execution_count": 65,
   "id": "a712fa92-f720-475a-a5f2-0171b83bacb7",
   "metadata": {
    "tags": []
   },
   "outputs": [
    {
     "data": {
      "text/plain": [
       "0"
      ]
     },
     "execution_count": 65,
     "metadata": {},
     "output_type": "execute_result"
    }
   ],
   "source": [
    "df.q3_title.isnull().sum()"
   ]
  },
  {
   "cell_type": "markdown",
   "id": "aaa64e3b-8716-493c-b6f6-35d0f67f23b1",
   "metadata": {},
   "source": [
    "### Q4 - Job Summary: Clean Up"
   ]
  },
  {
   "cell_type": "markdown",
   "id": "99eaf7bc-dfe8-4fb2-b3c8-701940beaf15",
   "metadata": {},
   "source": [
    "This field is for text strings and is missing over 20,800 out of a 28,108 data set. I am opting to treat this field as of low informational value. As such, and due to the fact that the vast majority of participants skipped this feature, I am opting to delete the feature."
   ]
  },
  {
   "cell_type": "code",
   "execution_count": 66,
   "id": "5f24ecd3-ded2-4efb-bb65-e232e449aa98",
   "metadata": {
    "tags": []
   },
   "outputs": [
    {
     "data": {
      "text/plain": [
       "20835"
      ]
     },
     "execution_count": 66,
     "metadata": {},
     "output_type": "execute_result"
    }
   ],
   "source": [
    "df.q4_job_summary.isnull().sum()"
   ]
  },
  {
   "cell_type": "code",
   "execution_count": 67,
   "id": "5e44b3cf-7885-42c4-9cbc-26113e9f0c22",
   "metadata": {
    "tags": []
   },
   "outputs": [],
   "source": [
    "df.drop(columns=['q4_job_summary'], inplace=True)"
   ]
  },
  {
   "cell_type": "code",
   "execution_count": 68,
   "id": "9598ca62-a761-44d4-ab55-f3f0a4b36a87",
   "metadata": {
    "tags": []
   },
   "outputs": [
    {
     "name": "stdout",
     "output_type": "stream",
     "text": [
      "<class 'pandas.core.frame.DataFrame'>\n",
      "RangeIndex: 28108 entries, 0 to 28107\n",
      "Data columns (total 17 columns):\n",
      " #   Column                   Non-Null Count  Dtype  \n",
      "---  ------                   --------------  -----  \n",
      " 0   timestamp                28108 non-null  object \n",
      " 1   q1_age                   28108 non-null  object \n",
      " 2   q2_industry              28108 non-null  object \n",
      " 3   q3_title                 28108 non-null  object \n",
      " 4   q5_salary                28108 non-null  object \n",
      " 5   q6_addtl_funds           20793 non-null  float64\n",
      " 6   q7_currency              28108 non-null  object \n",
      " 7   q8_addtl_currency_type   211 non-null    object \n",
      " 8   q9_addtl_income_context  3047 non-null   object \n",
      " 9   q10_country              28108 non-null  object \n",
      " 10  q11_us_state             23074 non-null  object \n",
      " 11  q12_city                 28026 non-null  object \n",
      " 12  q13_work_exp_yrs         28108 non-null  object \n",
      " 13  q14_field_exp_yrs        28108 non-null  object \n",
      " 14  q15_education            27885 non-null  object \n",
      " 15  q16_gender               27937 non-null  object \n",
      " 16  q17_race                 27931 non-null  object \n",
      "dtypes: float64(1), object(16)\n",
      "memory usage: 3.6+ MB\n"
     ]
    }
   ],
   "source": [
    "df.info()"
   ]
  },
  {
   "cell_type": "markdown",
   "id": "90c36bd5-46bb-4ac2-a448-248930b29b89",
   "metadata": {},
   "source": [
    "### Q5 - Salary: Clean Up"
   ]
  },
  {
   "cell_type": "markdown",
   "id": "0aa5f268-1041-46e7-9d33-a47f6ae82e4b",
   "metadata": {},
   "source": [
    "There is one notable outlier where the salary was listed as 6,000,070,000. To resolve this, I am going to isolate the participant who listed this salary and I am going to look for any similar industry/titles to figure out a good salary to impute this one to.\n",
    "\n",
    "After looking into similar titles, I found one other entry with the same exact title, \"Investment Banking Analyst\" in the same field. The other one listed had a salary of 100,000 U.S. dollars, so I did a conversion (USD to CAD, since the outlier was in CAD) and got ~$143,000 CAD and I set that as the new salary for the outlier. After resolving this outlier another one appeared - So I did a list in descending order to look for more possible outliers.\n",
    "\n",
    "Upon additional EDA, the top salaries (outliers) are in a foriegn currency (IDR - Indonesian Rupiah, COP - Colombian Peso). These foriegn currencies have a very high exchange rate - for instance the IDR is 16,289 rupiahs to 1 U.S. dollar, so an IDR of 870,000,000 is equal to 53,405 U.S. dollars. Additionally, the respondee had a title of \"Regional Operations & Training Manager\" and was over 55 years old, so it could be reasonable that this individual was being honest and they just are a real-world example of an outlier. Since the top salaries are really high and doing each one by hand would be too time consuming, I am opting to reclassify the highest one - which is a true outlier, even for the currency type (IDR).\n",
    "\n",
    "My recommendation would be that if salary is the goal for the data analytics, to seperate the dataset based on  the currency type. Without the numbers being converted based on currency exchange, the salaries are not a great reflection without the other relevant features. To really clean up the data, it would require going through every instance that isn't a us dollar and doing each conversion by hand.\n",
    "\n",
    "- Personal Bias: By not manually changing every non U.S. dollar to a U.S. dollar, I am adding bias by knowing that the currency are not all the same currency type."
   ]
  },
  {
   "cell_type": "code",
   "execution_count": 69,
   "id": "fcf781ba-c513-4533-81ef-e60376e989e4",
   "metadata": {
    "tags": []
   },
   "outputs": [
    {
     "data": {
      "text/plain": [
       "count      28108\n",
       "unique      4319\n",
       "top       60,000\n",
       "freq         430\n",
       "Name: q5_salary, dtype: object"
      ]
     },
     "execution_count": 69,
     "metadata": {},
     "output_type": "execute_result"
    }
   ],
   "source": [
    "df.q5_salary.describe()"
   ]
  },
  {
   "cell_type": "code",
   "execution_count": 70,
   "id": "dc312ed4-9e71-4574-ac02-be6c7af0665a",
   "metadata": {
    "tags": []
   },
   "outputs": [
    {
     "data": {
      "text/plain": [
       "q5_salary\n",
       "60,000    430\n",
       "80,000    406\n",
       "70,000    402\n",
       "65,000    400\n",
       "75,000    383\n",
       "         ... \n",
       "69,888      1\n",
       "97,129      1\n",
       "83,600      1\n",
       "52,260      1\n",
       "279000      1\n",
       "Name: count, Length: 4319, dtype: int64"
      ]
     },
     "execution_count": 70,
     "metadata": {},
     "output_type": "execute_result"
    }
   ],
   "source": [
    "df.q5_salary.value_counts()"
   ]
  },
  {
   "cell_type": "code",
   "execution_count": 71,
   "id": "82fd4824-5fbf-4b76-8dff-4cda9e625452",
   "metadata": {
    "tags": []
   },
   "outputs": [],
   "source": [
    "df.q5_salary = pd.to_numeric(df['q5_salary'].str.replace(r'[\\$,]', '', regex=True))"
   ]
  },
  {
   "cell_type": "code",
   "execution_count": 72,
   "id": "adb6fc92-963d-4711-b4d1-6849962aa472",
   "metadata": {
    "tags": []
   },
   "outputs": [
    {
     "data": {
      "text/plain": [
       "q5_salary\n",
       "60000       591\n",
       "70000       571\n",
       "65000       563\n",
       "80000       560\n",
       "75000       544\n",
       "           ... \n",
       "207500        1\n",
       "79612         1\n",
       "264000        1\n",
       "58635         1\n",
       "24000000      1\n",
       "Name: count, Length: 3671, dtype: int64"
      ]
     },
     "execution_count": 72,
     "metadata": {},
     "output_type": "execute_result"
    }
   ],
   "source": [
    "df.q5_salary.value_counts()"
   ]
  },
  {
   "cell_type": "code",
   "execution_count": 73,
   "id": "4e130edf-65c6-46fa-93e3-c27bf4d9fb16",
   "metadata": {
    "tags": []
   },
   "outputs": [
    {
     "data": {
      "text/plain": [
       "3671"
      ]
     },
     "execution_count": 73,
     "metadata": {},
     "output_type": "execute_result"
    }
   ],
   "source": [
    "df.q5_salary.nunique()"
   ]
  },
  {
   "cell_type": "code",
   "execution_count": 74,
   "id": "7adc6920-585d-4968-a4ad-31436a4f7a44",
   "metadata": {
    "tags": []
   },
   "outputs": [
    {
     "data": {
      "text/plain": [
       "count        28108\n",
       "mean        361932\n",
       "std       36193377\n",
       "min              0\n",
       "25%          54000\n",
       "50%          75000\n",
       "75%         109827\n",
       "max     6000070000\n",
       "Name: q5_salary, dtype: float64"
      ]
     },
     "execution_count": 74,
     "metadata": {},
     "output_type": "execute_result"
    }
   ],
   "source": [
    "df.q5_salary.describe()"
   ]
  },
  {
   "cell_type": "code",
   "execution_count": 75,
   "id": "989449ef-3891-4b22-aea9-d54ae241e7c9",
   "metadata": {
    "tags": []
   },
   "outputs": [
    {
     "data": {
      "image/png": "[encoded data removed]",
      "text/plain": [
       "<Figure size 640x480 with 1 Axes>"
      ]
     },
     "metadata": {},
     "output_type": "display_data"
    }
   ],
   "source": [
    "plt.boxplot(df.q5_salary.dropna())\n",
    "plt.title(\"Salary ($)\")\n",
    "plt.ylabel(\"Values\")\n",
    "plt.show()"
   ]
  },
  {
   "cell_type": "code",
   "execution_count": 76,
   "id": "a95b1a50-f6c5-49c8-82b3-ad72ff38cdd3",
   "metadata": {
    "tags": []
   },
   "outputs": [
    {
     "data": {
      "text/html": [
       "<div>\n",
       "<style scoped>\n",
       "    .dataframe tbody tr th:only-of-type {\n",
       "        vertical-align: middle;\n",
       "    }\n",
       "\n",
       "    .dataframe tbody tr th {\n",
       "        vertical-align: top;\n",
       "    }\n",
       "\n",
       "    .dataframe thead th {\n",
       "        text-align: right;\n",
       "    }\n",
       "</style>\n",
       "<table border=\"1\" class=\"dataframe\">\n",
       "  <thead>\n",
       "    <tr style=\"text-align: right;\">\n",
       "      <th></th>\n",
       "      <th>timestamp</th>\n",
       "      <th>q1_age</th>\n",
       "      <th>q2_industry</th>\n",
       "      <th>q3_title</th>\n",
       "      <th>q5_salary</th>\n",
       "      <th>q6_addtl_funds</th>\n",
       "      <th>q7_currency</th>\n",
       "      <th>q8_addtl_currency_type</th>\n",
       "      <th>q9_addtl_income_context</th>\n",
       "      <th>q10_country</th>\n",
       "      <th>q11_us_state</th>\n",
       "      <th>q12_city</th>\n",
       "      <th>q13_work_exp_yrs</th>\n",
       "      <th>q14_field_exp_yrs</th>\n",
       "      <th>q15_education</th>\n",
       "      <th>q16_gender</th>\n",
       "      <th>q17_race</th>\n",
       "    </tr>\n",
       "  </thead>\n",
       "  <tbody>\n",
       "    <tr>\n",
       "      <th>28055</th>\n",
       "      <td>7/12/2024 18:25:27</td>\n",
       "      <td>18-24</td>\n",
       "      <td>Accounting, Banking &amp; Finance</td>\n",
       "      <td>Investment Banking Analyst</td>\n",
       "      <td>6000070000</td>\n",
       "      <td>NaN</td>\n",
       "      <td>CAD</td>\n",
       "      <td>NaN</td>\n",
       "      <td>NaN</td>\n",
       "      <td>Canada</td>\n",
       "      <td>NaN</td>\n",
       "      <td>Toronto</td>\n",
       "      <td>2 - 4 years</td>\n",
       "      <td>1 year or less</td>\n",
       "      <td>College degree</td>\n",
       "      <td>Woman</td>\n",
       "      <td>Black or African American</td>\n",
       "    </tr>\n",
       "  </tbody>\n",
       "</table>\n",
       "</div>"
      ],
      "text/plain": [
       "                timestamp q1_age                    q2_industry  \\\n",
       "28055  7/12/2024 18:25:27  18-24  Accounting, Banking & Finance   \n",
       "\n",
       "                         q3_title   q5_salary  q6_addtl_funds q7_currency  \\\n",
       "28055  Investment Banking Analyst  6000070000             NaN         CAD   \n",
       "\n",
       "      q8_addtl_currency_type q9_addtl_income_context q10_country q11_us_state  \\\n",
       "28055                    NaN                     NaN      Canada          NaN   \n",
       "\n",
       "      q12_city q13_work_exp_yrs q14_field_exp_yrs   q15_education q16_gender  \\\n",
       "28055  Toronto      2 - 4 years    1 year or less  College degree      Woman   \n",
       "\n",
       "                        q17_race  \n",
       "28055  Black or African American  "
      ]
     },
     "execution_count": 76,
     "metadata": {},
     "output_type": "execute_result"
    }
   ],
   "source": [
    "df[df['q5_salary'] == 6000070000]"
   ]
  },
  {
   "cell_type": "code",
   "execution_count": 77,
   "id": "55b20676-6fff-4a6c-8aa6-ee48657037b1",
   "metadata": {
    "tags": []
   },
   "outputs": [
    {
     "data": {
      "text/html": [
       "<div>\n",
       "<style scoped>\n",
       "    .dataframe tbody tr th:only-of-type {\n",
       "        vertical-align: middle;\n",
       "    }\n",
       "\n",
       "    .dataframe tbody tr th {\n",
       "        vertical-align: top;\n",
       "    }\n",
       "\n",
       "    .dataframe thead th {\n",
       "        text-align: right;\n",
       "    }\n",
       "</style>\n",
       "<table border=\"1\" class=\"dataframe\">\n",
       "  <thead>\n",
       "    <tr style=\"text-align: right;\">\n",
       "      <th></th>\n",
       "      <th>timestamp</th>\n",
       "      <th>q1_age</th>\n",
       "      <th>q2_industry</th>\n",
       "      <th>q3_title</th>\n",
       "      <th>q5_salary</th>\n",
       "      <th>q6_addtl_funds</th>\n",
       "      <th>q7_currency</th>\n",
       "      <th>q8_addtl_currency_type</th>\n",
       "      <th>q9_addtl_income_context</th>\n",
       "      <th>q10_country</th>\n",
       "      <th>q11_us_state</th>\n",
       "      <th>q12_city</th>\n",
       "      <th>q13_work_exp_yrs</th>\n",
       "      <th>q14_field_exp_yrs</th>\n",
       "      <th>q15_education</th>\n",
       "      <th>q16_gender</th>\n",
       "      <th>q17_race</th>\n",
       "    </tr>\n",
       "  </thead>\n",
       "  <tbody>\n",
       "    <tr>\n",
       "      <th>18665</th>\n",
       "      <td>4/29/2021 1:40:03</td>\n",
       "      <td>25-34</td>\n",
       "      <td>Accounting, Banking &amp; Finance</td>\n",
       "      <td>Investment Banking Analyst</td>\n",
       "      <td>100000</td>\n",
       "      <td>44000</td>\n",
       "      <td>USD</td>\n",
       "      <td>NaN</td>\n",
       "      <td>Bonus is 20-100% of salary</td>\n",
       "      <td>U.S.</td>\n",
       "      <td>Texas</td>\n",
       "      <td>Houston</td>\n",
       "      <td>2 - 4 years</td>\n",
       "      <td>2 - 4 years</td>\n",
       "      <td>College degree</td>\n",
       "      <td>Woman</td>\n",
       "      <td>White</td>\n",
       "    </tr>\n",
       "    <tr>\n",
       "      <th>28055</th>\n",
       "      <td>7/12/2024 18:25:27</td>\n",
       "      <td>18-24</td>\n",
       "      <td>Accounting, Banking &amp; Finance</td>\n",
       "      <td>Investment Banking Analyst</td>\n",
       "      <td>6000070000</td>\n",
       "      <td>NaN</td>\n",
       "      <td>CAD</td>\n",
       "      <td>NaN</td>\n",
       "      <td>NaN</td>\n",
       "      <td>Canada</td>\n",
       "      <td>NaN</td>\n",
       "      <td>Toronto</td>\n",
       "      <td>2 - 4 years</td>\n",
       "      <td>1 year or less</td>\n",
       "      <td>College degree</td>\n",
       "      <td>Woman</td>\n",
       "      <td>Black or African American</td>\n",
       "    </tr>\n",
       "  </tbody>\n",
       "</table>\n",
       "</div>"
      ],
      "text/plain": [
       "                timestamp q1_age                    q2_industry  \\\n",
       "18665   4/29/2021 1:40:03  25-34  Accounting, Banking & Finance   \n",
       "28055  7/12/2024 18:25:27  18-24  Accounting, Banking & Finance   \n",
       "\n",
       "                         q3_title   q5_salary  q6_addtl_funds q7_currency  \\\n",
       "18665  Investment Banking Analyst      100000           44000         USD   \n",
       "28055  Investment Banking Analyst  6000070000             NaN         CAD   \n",
       "\n",
       "      q8_addtl_currency_type     q9_addtl_income_context q10_country  \\\n",
       "18665                    NaN  Bonus is 20-100% of salary        U.S.   \n",
       "28055                    NaN                         NaN      Canada   \n",
       "\n",
       "      q11_us_state q12_city q13_work_exp_yrs q14_field_exp_yrs  \\\n",
       "18665        Texas  Houston      2 - 4 years       2 - 4 years   \n",
       "28055          NaN  Toronto      2 - 4 years    1 year or less   \n",
       "\n",
       "        q15_education q16_gender                   q17_race  \n",
       "18665  College degree      Woman                      White  \n",
       "28055  College degree      Woman  Black or African American  "
      ]
     },
     "execution_count": 77,
     "metadata": {},
     "output_type": "execute_result"
    }
   ],
   "source": [
    "df[df['q3_title'] == 'Investment Banking Analyst']"
   ]
  },
  {
   "cell_type": "code",
   "execution_count": 78,
   "id": "91658e15-98f4-4236-b573-8e6270713020",
   "metadata": {
    "tags": []
   },
   "outputs": [],
   "source": [
    "df.loc[df.q5_salary == 6000070000, 'q5_salary'] = 143000"
   ]
  },
  {
   "cell_type": "code",
   "execution_count": 79,
   "id": "11f75183-2622-4b89-ab59-83a55e556ae7",
   "metadata": {
    "tags": []
   },
   "outputs": [
    {
     "data": {
      "text/plain": [
       "count       28108\n",
       "mean       148473\n",
       "std       5405540\n",
       "min             0\n",
       "25%         54000\n",
       "50%         75000\n",
       "75%        109827\n",
       "max     870000000\n",
       "Name: q5_salary, dtype: float64"
      ]
     },
     "execution_count": 79,
     "metadata": {},
     "output_type": "execute_result"
    }
   ],
   "source": [
    "df.q5_salary.describe()"
   ]
  },
  {
   "cell_type": "code",
   "execution_count": 80,
   "id": "407b0f97-f5ca-4eb0-91e0-22dd7fc45c24",
   "metadata": {
    "tags": []
   },
   "outputs": [
    {
     "data": {
      "image/png": "[encoded data removed]",
      "text/plain": [
       "<Figure size 640x480 with 1 Axes>"
      ]
     },
     "metadata": {},
     "output_type": "display_data"
    }
   ],
   "source": [
    "plt.boxplot(df.q5_salary.dropna())\n",
    "plt.title(\"Salary ($)\")\n",
    "plt.ylabel(\"Values\")\n",
    "plt.show()"
   ]
  },
  {
   "cell_type": "code",
   "execution_count": 81,
   "id": "738531ff-2c7c-4cdc-89c2-be130156ab47",
   "metadata": {
    "tags": []
   },
   "outputs": [
    {
     "data": {
      "text/html": [
       "<div>\n",
       "<style scoped>\n",
       "    .dataframe tbody tr th:only-of-type {\n",
       "        vertical-align: middle;\n",
       "    }\n",
       "\n",
       "    .dataframe tbody tr th {\n",
       "        vertical-align: top;\n",
       "    }\n",
       "\n",
       "    .dataframe thead th {\n",
       "        text-align: right;\n",
       "    }\n",
       "</style>\n",
       "<table border=\"1\" class=\"dataframe\">\n",
       "  <thead>\n",
       "    <tr style=\"text-align: right;\">\n",
       "      <th></th>\n",
       "      <th>timestamp</th>\n",
       "      <th>q1_age</th>\n",
       "      <th>q2_industry</th>\n",
       "      <th>q3_title</th>\n",
       "      <th>q5_salary</th>\n",
       "      <th>q6_addtl_funds</th>\n",
       "      <th>q7_currency</th>\n",
       "      <th>q8_addtl_currency_type</th>\n",
       "      <th>q9_addtl_income_context</th>\n",
       "      <th>q10_country</th>\n",
       "      <th>q11_us_state</th>\n",
       "      <th>q12_city</th>\n",
       "      <th>q13_work_exp_yrs</th>\n",
       "      <th>q14_field_exp_yrs</th>\n",
       "      <th>q15_education</th>\n",
       "      <th>q16_gender</th>\n",
       "      <th>q17_race</th>\n",
       "    </tr>\n",
       "  </thead>\n",
       "  <tbody>\n",
       "    <tr>\n",
       "      <th>11454</th>\n",
       "      <td>4/28/2021 1:31:57</td>\n",
       "      <td>55-64</td>\n",
       "      <td>Education (Higher Education)</td>\n",
       "      <td>Regional Operations &amp; Training Manager</td>\n",
       "      <td>870000000</td>\n",
       "      <td>120000000</td>\n",
       "      <td>Other</td>\n",
       "      <td>IDR</td>\n",
       "      <td>NaN</td>\n",
       "      <td>Indonesia</td>\n",
       "      <td>NaN</td>\n",
       "      <td>Jakarta</td>\n",
       "      <td>21 - 30 years</td>\n",
       "      <td>11 - 20 years</td>\n",
       "      <td>College degree</td>\n",
       "      <td>Woman</td>\n",
       "      <td>White</td>\n",
       "    </tr>\n",
       "    <tr>\n",
       "      <th>18984</th>\n",
       "      <td>4/29/2021 6:19:32</td>\n",
       "      <td>25-34</td>\n",
       "      <td>Education (Higher Education)</td>\n",
       "      <td>Researcher</td>\n",
       "      <td>180000000</td>\n",
       "      <td>NaN</td>\n",
       "      <td>Other</td>\n",
       "      <td>IDR</td>\n",
       "      <td>NaN</td>\n",
       "      <td>Indonesia</td>\n",
       "      <td>NaN</td>\n",
       "      <td>Bandung</td>\n",
       "      <td>5-7 years</td>\n",
       "      <td>2 - 4 years</td>\n",
       "      <td>PhD</td>\n",
       "      <td>Man</td>\n",
       "      <td>Asian or Asian American</td>\n",
       "    </tr>\n",
       "    <tr>\n",
       "      <th>27902</th>\n",
       "      <td>11/15/2022 18:24:41</td>\n",
       "      <td>35-44</td>\n",
       "      <td>No Response</td>\n",
       "      <td>Senior IT Consultant</td>\n",
       "      <td>120000000</td>\n",
       "      <td>NaN</td>\n",
       "      <td>Other</td>\n",
       "      <td>COP</td>\n",
       "      <td>NaN</td>\n",
       "      <td>Colombia</td>\n",
       "      <td>NaN</td>\n",
       "      <td>Bogota</td>\n",
       "      <td>11 - 20 years</td>\n",
       "      <td>8 - 10 years</td>\n",
       "      <td>College degree</td>\n",
       "      <td>Man</td>\n",
       "      <td>Hispanic, Latino, or Spanish origin</td>\n",
       "    </tr>\n",
       "    <tr>\n",
       "      <th>3605</th>\n",
       "      <td>4/27/2021 12:11:17</td>\n",
       "      <td>25-34</td>\n",
       "      <td>Utilities &amp; Telecommunications</td>\n",
       "      <td>Operations Manager</td>\n",
       "      <td>102000000</td>\n",
       "      <td>NaN</td>\n",
       "      <td>USD</td>\n",
       "      <td>COP</td>\n",
       "      <td>Colombian peso - converting to usd it seems lo...</td>\n",
       "      <td>Colombia</td>\n",
       "      <td>NaN</td>\n",
       "      <td>Bogota</td>\n",
       "      <td>8 - 10 years</td>\n",
       "      <td>1 year or less</td>\n",
       "      <td>Some college</td>\n",
       "      <td>Man</td>\n",
       "      <td>Hispanic, Latino, or Spanish origin</td>\n",
       "    </tr>\n",
       "    <tr>\n",
       "      <th>23490</th>\n",
       "      <td>5/3/2021 4:17:58</td>\n",
       "      <td>35-44</td>\n",
       "      <td>Law</td>\n",
       "      <td>Legal Editor</td>\n",
       "      <td>43800000</td>\n",
       "      <td>150000</td>\n",
       "      <td>Other</td>\n",
       "      <td>KRW</td>\n",
       "      <td>The bonuses I receive are in the form of gift ...</td>\n",
       "      <td>South Korea</td>\n",
       "      <td>NaN</td>\n",
       "      <td>Seoul</td>\n",
       "      <td>5-7 years</td>\n",
       "      <td>5-7 years</td>\n",
       "      <td>Master's degree</td>\n",
       "      <td>Woman</td>\n",
       "      <td>White</td>\n",
       "    </tr>\n",
       "    <tr>\n",
       "      <th>...</th>\n",
       "      <td>...</td>\n",
       "      <td>...</td>\n",
       "      <td>...</td>\n",
       "      <td>...</td>\n",
       "      <td>...</td>\n",
       "      <td>...</td>\n",
       "      <td>...</td>\n",
       "      <td>...</td>\n",
       "      <td>...</td>\n",
       "      <td>...</td>\n",
       "      <td>...</td>\n",
       "      <td>...</td>\n",
       "      <td>...</td>\n",
       "      <td>...</td>\n",
       "      <td>...</td>\n",
       "      <td>...</td>\n",
       "      <td>...</td>\n",
       "    </tr>\n",
       "    <tr>\n",
       "      <th>13537</th>\n",
       "      <td>4/28/2021 13:01:52</td>\n",
       "      <td>25-34</td>\n",
       "      <td>Education (Primary/Secondary)</td>\n",
       "      <td>Student teacher</td>\n",
       "      <td>0</td>\n",
       "      <td>0</td>\n",
       "      <td>USD</td>\n",
       "      <td>NaN</td>\n",
       "      <td>Student teaching is usually unpaid</td>\n",
       "      <td>USA</td>\n",
       "      <td>Connecticut</td>\n",
       "      <td>New. Haven</td>\n",
       "      <td>2 - 4 years</td>\n",
       "      <td>2 - 4 years</td>\n",
       "      <td>Master's degree</td>\n",
       "      <td>Woman</td>\n",
       "      <td>Middle Eastern or Northern African, White</td>\n",
       "    </tr>\n",
       "    <tr>\n",
       "      <th>8739</th>\n",
       "      <td>4/27/2021 16:34:56</td>\n",
       "      <td>35-44</td>\n",
       "      <td>Stay-at-home parent</td>\n",
       "      <td>\"mum\" ;)</td>\n",
       "      <td>0</td>\n",
       "      <td>0</td>\n",
       "      <td>USD</td>\n",
       "      <td>NaN</td>\n",
       "      <td>NaN</td>\n",
       "      <td>US</td>\n",
       "      <td>Kentucky</td>\n",
       "      <td>Louisville</td>\n",
       "      <td>21 - 30 years</td>\n",
       "      <td>8 - 10 years</td>\n",
       "      <td>Master's degree</td>\n",
       "      <td>Woman</td>\n",
       "      <td>White</td>\n",
       "    </tr>\n",
       "    <tr>\n",
       "      <th>27829</th>\n",
       "      <td>6/13/2022 4:47:22</td>\n",
       "      <td>25-34</td>\n",
       "      <td>Homemaker</td>\n",
       "      <td>Homemaker</td>\n",
       "      <td>0</td>\n",
       "      <td>0</td>\n",
       "      <td>USD</td>\n",
       "      <td>NaN</td>\n",
       "      <td>NaN</td>\n",
       "      <td>United States</td>\n",
       "      <td>California</td>\n",
       "      <td>Morgan Hill</td>\n",
       "      <td>5-7 years</td>\n",
       "      <td>2 - 4 years</td>\n",
       "      <td>College degree</td>\n",
       "      <td>Woman</td>\n",
       "      <td>White</td>\n",
       "    </tr>\n",
       "    <tr>\n",
       "      <th>28020</th>\n",
       "      <td>3/19/2024 17:40:39</td>\n",
       "      <td>25-34</td>\n",
       "      <td>Student</td>\n",
       "      <td>Student</td>\n",
       "      <td>0</td>\n",
       "      <td>0</td>\n",
       "      <td>USD</td>\n",
       "      <td>NaN</td>\n",
       "      <td>NaN</td>\n",
       "      <td>US</td>\n",
       "      <td>Illinois</td>\n",
       "      <td>NaN</td>\n",
       "      <td>1 year or less</td>\n",
       "      <td>1 year or less</td>\n",
       "      <td>College degree</td>\n",
       "      <td>Other or prefer not to answer</td>\n",
       "      <td>White</td>\n",
       "    </tr>\n",
       "    <tr>\n",
       "      <th>28015</th>\n",
       "      <td>2/22/2024 7:27:47</td>\n",
       "      <td>18-24</td>\n",
       "      <td>Computing or Tech</td>\n",
       "      <td>Intern</td>\n",
       "      <td>0</td>\n",
       "      <td>0</td>\n",
       "      <td>GBP</td>\n",
       "      <td>hhv</td>\n",
       "      <td>hvhv</td>\n",
       "      <td>ibdia</td>\n",
       "      <td>NaN</td>\n",
       "      <td>pubw</td>\n",
       "      <td>1 year or less</td>\n",
       "      <td>1 year or less</td>\n",
       "      <td>NaN</td>\n",
       "      <td>Woman</td>\n",
       "      <td>Black or African American</td>\n",
       "    </tr>\n",
       "  </tbody>\n",
       "</table>\n",
       "<p>28108 rows × 17 columns</p>\n",
       "</div>"
      ],
      "text/plain": [
       "                 timestamp q1_age                     q2_industry  \\\n",
       "11454    4/28/2021 1:31:57  55-64    Education (Higher Education)   \n",
       "18984    4/29/2021 6:19:32  25-34    Education (Higher Education)   \n",
       "27902  11/15/2022 18:24:41  35-44                     No Response   \n",
       "3605    4/27/2021 12:11:17  25-34  Utilities & Telecommunications   \n",
       "23490     5/3/2021 4:17:58  35-44                             Law   \n",
       "...                    ...    ...                             ...   \n",
       "13537   4/28/2021 13:01:52  25-34   Education (Primary/Secondary)   \n",
       "8739    4/27/2021 16:34:56  35-44             Stay-at-home parent   \n",
       "27829    6/13/2022 4:47:22  25-34                       Homemaker   \n",
       "28020   3/19/2024 17:40:39  25-34                        Student    \n",
       "28015    2/22/2024 7:27:47  18-24               Computing or Tech   \n",
       "\n",
       "                                      q3_title  q5_salary  q6_addtl_funds  \\\n",
       "11454  Regional Operations & Training Manager   870000000       120000000   \n",
       "18984                               Researcher  180000000             NaN   \n",
       "27902                     Senior IT Consultant  120000000             NaN   \n",
       "3605                        Operations Manager  102000000             NaN   \n",
       "23490                             Legal Editor   43800000          150000   \n",
       "...                                        ...        ...             ...   \n",
       "13537                          Student teacher          0               0   \n",
       "8739                                  \"mum\" ;)          0               0   \n",
       "27829                               Homemaker           0               0   \n",
       "28020                                 Student           0               0   \n",
       "28015                                   Intern          0               0   \n",
       "\n",
       "      q7_currency q8_addtl_currency_type  \\\n",
       "11454       Other                   IDR    \n",
       "18984       Other                    IDR   \n",
       "27902       Other                    COP   \n",
       "3605          USD                    COP   \n",
       "23490       Other                    KRW   \n",
       "...           ...                    ...   \n",
       "13537         USD                    NaN   \n",
       "8739          USD                    NaN   \n",
       "27829         USD                    NaN   \n",
       "28020         USD                    NaN   \n",
       "28015         GBP                    hhv   \n",
       "\n",
       "                                 q9_addtl_income_context    q10_country  \\\n",
       "11454                                                NaN      Indonesia   \n",
       "18984                                                NaN      Indonesia   \n",
       "27902                                                NaN       Colombia   \n",
       "3605   Colombian peso - converting to usd it seems lo...       Colombia   \n",
       "23490  The bonuses I receive are in the form of gift ...    South Korea   \n",
       "...                                                  ...            ...   \n",
       "13537                Student teaching is usually unpaid             USA   \n",
       "8739                                                 NaN             US   \n",
       "27829                                                NaN  United States   \n",
       "28020                                                NaN             US   \n",
       "28015                                               hvhv          ibdia   \n",
       "\n",
       "      q11_us_state     q12_city q13_work_exp_yrs q14_field_exp_yrs  \\\n",
       "11454          NaN     Jakarta     21 - 30 years     11 - 20 years   \n",
       "18984          NaN      Bandung        5-7 years       2 - 4 years   \n",
       "27902          NaN       Bogota    11 - 20 years      8 - 10 years   \n",
       "3605           NaN       Bogota     8 - 10 years    1 year or less   \n",
       "23490          NaN        Seoul        5-7 years         5-7 years   \n",
       "...            ...          ...              ...               ...   \n",
       "13537  Connecticut   New. Haven      2 - 4 years       2 - 4 years   \n",
       "8739      Kentucky   Louisville    21 - 30 years      8 - 10 years   \n",
       "27829   California  Morgan Hill        5-7 years       2 - 4 years   \n",
       "28020     Illinois          NaN   1 year or less    1 year or less   \n",
       "28015          NaN         pubw   1 year or less    1 year or less   \n",
       "\n",
       "         q15_education                     q16_gender  \\\n",
       "11454   College degree                          Woman   \n",
       "18984              PhD                            Man   \n",
       "27902   College degree                            Man   \n",
       "3605      Some college                            Man   \n",
       "23490  Master's degree                          Woman   \n",
       "...                ...                            ...   \n",
       "13537  Master's degree                          Woman   \n",
       "8739   Master's degree                          Woman   \n",
       "27829   College degree                          Woman   \n",
       "28020   College degree  Other or prefer not to answer   \n",
       "28015              NaN                          Woman   \n",
       "\n",
       "                                        q17_race  \n",
       "11454                                      White  \n",
       "18984                    Asian or Asian American  \n",
       "27902        Hispanic, Latino, or Spanish origin  \n",
       "3605         Hispanic, Latino, or Spanish origin  \n",
       "23490                                      White  \n",
       "...                                          ...  \n",
       "13537  Middle Eastern or Northern African, White  \n",
       "8739                                       White  \n",
       "27829                                      White  \n",
       "28020                                      White  \n",
       "28015                  Black or African American  \n",
       "\n",
       "[28108 rows x 17 columns]"
      ]
     },
     "execution_count": 81,
     "metadata": {},
     "output_type": "execute_result"
    }
   ],
   "source": [
    "df.sort_values(by='q5_salary', ascending=False)"
   ]
  },
  {
   "cell_type": "code",
   "execution_count": 82,
   "id": "b6e7791a-2612-434d-a5b9-ed4f5a3fc166",
   "metadata": {
    "tags": []
   },
   "outputs": [],
   "source": [
    "df.loc[df.q5_salary == 870000000, 'q5_salary'] = 53404"
   ]
  },
  {
   "cell_type": "code",
   "execution_count": 83,
   "id": "43ee0053-e66e-4572-91c6-06afffcac802",
   "metadata": {
    "tags": []
   },
   "outputs": [],
   "source": [
    "df.loc[df.q5_salary == 53404, 'q7_currency'] = \"USD\""
   ]
  },
  {
   "cell_type": "code",
   "execution_count": 84,
   "id": "4cac95a4-dd7b-4460-bee9-3e46ae781069",
   "metadata": {
    "tags": []
   },
   "outputs": [
    {
     "data": {
      "text/plain": [
       "count       28108\n",
       "mean       117522\n",
       "std       1516200\n",
       "min             0\n",
       "25%         54000\n",
       "50%         75000\n",
       "75%        109717\n",
       "max     180000000\n",
       "Name: q5_salary, dtype: float64"
      ]
     },
     "execution_count": 84,
     "metadata": {},
     "output_type": "execute_result"
    }
   ],
   "source": [
    "df.q5_salary.describe()"
   ]
  },
  {
   "cell_type": "code",
   "execution_count": 85,
   "id": "5f4079ae-ac33-4729-a22b-02f3059e3f11",
   "metadata": {
    "tags": []
   },
   "outputs": [
    {
     "data": {
      "image/png": "[encoded data removed]",
      "text/plain": [
       "<Figure size 640x480 with 1 Axes>"
      ]
     },
     "metadata": {},
     "output_type": "display_data"
    }
   ],
   "source": [
    "plt.boxplot(df.q5_salary.dropna())\n",
    "plt.title(\"Salary ($)\")\n",
    "plt.ylabel(\"Values\")\n",
    "plt.show()"
   ]
  },
  {
   "cell_type": "markdown",
   "id": "44641b27-42e5-4cb3-9e5f-a27274929a8c",
   "metadata": {},
   "source": [
    "# Q6 - Additional Funds: Clean Up"
   ]
  },
  {
   "cell_type": "markdown",
   "id": "fd227796-e024-4e80-b589-c2bcce9a446e",
   "metadata": {},
   "source": [
    "There is one notable outlier, and it looks like it was one of the same ones from the salary. So I am going to do the same thing and convert their additional funds into USD (I already changed the currency type for it). Addiitonally, due to alot of NANs, I am going to fill them with 0, as I imagine that they do not have additional funds to add."
   ]
  },
  {
   "cell_type": "code",
   "execution_count": 86,
   "id": "cd7ee21a-0371-4b8c-afe3-c90a88a21799",
   "metadata": {
    "tags": []
   },
   "outputs": [
    {
     "data": {
      "text/plain": [
       "7315"
      ]
     },
     "execution_count": 86,
     "metadata": {},
     "output_type": "execute_result"
    }
   ],
   "source": [
    "df.q6_addtl_funds.isnull().sum()"
   ]
  },
  {
   "cell_type": "code",
   "execution_count": 87,
   "id": "4aabb85a-ded4-4758-8421-2b6e44ed35d2",
   "metadata": {
    "tags": []
   },
   "outputs": [],
   "source": [
    "df.q6_addtl_funds = df.q6_addtl_funds.fillna(0)"
   ]
  },
  {
   "cell_type": "code",
   "execution_count": 88,
   "id": "ee226920-2738-434e-9448-db349b0310ae",
   "metadata": {
    "tags": []
   },
   "outputs": [
    {
     "data": {
      "text/plain": [
       "0"
      ]
     },
     "execution_count": 88,
     "metadata": {},
     "output_type": "execute_result"
    }
   ],
   "source": [
    "df.q6_addtl_funds.isnull().sum()"
   ]
  },
  {
   "cell_type": "code",
   "execution_count": 89,
   "id": "2998e222-f5c7-41ea-a3ac-96ca0ff81f58",
   "metadata": {
    "tags": []
   },
   "outputs": [
    {
     "data": {
      "image/png": "[encoded data removed]",
      "text/plain": [
       "<Figure size 640x480 with 1 Axes>"
      ]
     },
     "metadata": {},
     "output_type": "display_data"
    }
   ],
   "source": [
    "plt.boxplot(df.q6_addtl_funds.dropna())\n",
    "plt.title(\"Additional Funds ($)\")\n",
    "plt.ylabel(\"Values\")\n",
    "plt.show()"
   ]
  },
  {
   "cell_type": "code",
   "execution_count": 90,
   "id": "dbba7cc0-7dc0-4cbe-8a1b-4fd5defe276e",
   "metadata": {
    "tags": []
   },
   "outputs": [
    {
     "data": {
      "text/plain": [
       "count       28108\n",
       "mean        13497\n",
       "std        717032\n",
       "min             0\n",
       "25%             0\n",
       "50%             0\n",
       "75%          5000\n",
       "max     120000000\n",
       "Name: q6_addtl_funds, dtype: float64"
      ]
     },
     "execution_count": 90,
     "metadata": {},
     "output_type": "execute_result"
    }
   ],
   "source": [
    "df.q6_addtl_funds.describe()"
   ]
  },
  {
   "cell_type": "code",
   "execution_count": 91,
   "id": "0ce54816-0ca4-44b5-893b-b5aaf106afa6",
   "metadata": {
    "tags": []
   },
   "outputs": [
    {
     "data": {
      "text/html": [
       "<div>\n",
       "<style scoped>\n",
       "    .dataframe tbody tr th:only-of-type {\n",
       "        vertical-align: middle;\n",
       "    }\n",
       "\n",
       "    .dataframe tbody tr th {\n",
       "        vertical-align: top;\n",
       "    }\n",
       "\n",
       "    .dataframe thead th {\n",
       "        text-align: right;\n",
       "    }\n",
       "</style>\n",
       "<table border=\"1\" class=\"dataframe\">\n",
       "  <thead>\n",
       "    <tr style=\"text-align: right;\">\n",
       "      <th></th>\n",
       "      <th>timestamp</th>\n",
       "      <th>q1_age</th>\n",
       "      <th>q2_industry</th>\n",
       "      <th>q3_title</th>\n",
       "      <th>q5_salary</th>\n",
       "      <th>q6_addtl_funds</th>\n",
       "      <th>q7_currency</th>\n",
       "      <th>q8_addtl_currency_type</th>\n",
       "      <th>q9_addtl_income_context</th>\n",
       "      <th>q10_country</th>\n",
       "      <th>q11_us_state</th>\n",
       "      <th>q12_city</th>\n",
       "      <th>q13_work_exp_yrs</th>\n",
       "      <th>q14_field_exp_yrs</th>\n",
       "      <th>q15_education</th>\n",
       "      <th>q16_gender</th>\n",
       "      <th>q17_race</th>\n",
       "    </tr>\n",
       "  </thead>\n",
       "  <tbody>\n",
       "    <tr>\n",
       "      <th>11454</th>\n",
       "      <td>4/28/2021 1:31:57</td>\n",
       "      <td>55-64</td>\n",
       "      <td>Education (Higher Education)</td>\n",
       "      <td>Regional Operations &amp; Training Manager</td>\n",
       "      <td>53404</td>\n",
       "      <td>120000000</td>\n",
       "      <td>USD</td>\n",
       "      <td>IDR</td>\n",
       "      <td>NaN</td>\n",
       "      <td>Indonesia</td>\n",
       "      <td>NaN</td>\n",
       "      <td>Jakarta</td>\n",
       "      <td>21 - 30 years</td>\n",
       "      <td>11 - 20 years</td>\n",
       "      <td>College degree</td>\n",
       "      <td>Woman</td>\n",
       "      <td>White</td>\n",
       "    </tr>\n",
       "  </tbody>\n",
       "</table>\n",
       "</div>"
      ],
      "text/plain": [
       "               timestamp q1_age                   q2_industry  \\\n",
       "11454  4/28/2021 1:31:57  55-64  Education (Higher Education)   \n",
       "\n",
       "                                      q3_title  q5_salary  q6_addtl_funds  \\\n",
       "11454  Regional Operations & Training Manager       53404       120000000   \n",
       "\n",
       "      q7_currency q8_addtl_currency_type q9_addtl_income_context q10_country  \\\n",
       "11454         USD                   IDR                      NaN   Indonesia   \n",
       "\n",
       "      q11_us_state  q12_city q13_work_exp_yrs q14_field_exp_yrs  \\\n",
       "11454          NaN  Jakarta     21 - 30 years     11 - 20 years   \n",
       "\n",
       "        q15_education q16_gender q17_race  \n",
       "11454  College degree      Woman    White  "
      ]
     },
     "execution_count": 91,
     "metadata": {},
     "output_type": "execute_result"
    }
   ],
   "source": [
    "df[df['q6_addtl_funds'] == 120000000]"
   ]
  },
  {
   "cell_type": "code",
   "execution_count": 92,
   "id": "a888d63d-ad75-4545-991a-65f9c17d1752",
   "metadata": {
    "tags": []
   },
   "outputs": [],
   "source": [
    "df.loc[df.q6_addtl_funds == 120000000, 'q6_addtl_funds'] = 7368"
   ]
  },
  {
   "cell_type": "code",
   "execution_count": 93,
   "id": "fbc36812-8175-4476-997e-d4bdad6fef2c",
   "metadata": {
    "tags": []
   },
   "outputs": [
    {
     "data": {
      "image/png": "[encoded data removed]",
      "text/plain": [
       "<Figure size 640x480 with 1 Axes>"
      ]
     },
     "metadata": {},
     "output_type": "display_data"
    }
   ],
   "source": [
    "plt.boxplot(df.q6_addtl_funds.dropna())\n",
    "plt.title(\"Additional Funds ($)\")\n",
    "plt.ylabel(\"Values\")\n",
    "plt.show()"
   ]
  },
  {
   "cell_type": "markdown",
   "id": "3c10be72-a666-4df4-8a42-9f36cc527246",
   "metadata": {},
   "source": [
    "### Q8 - Currency Types: Clean Up"
   ]
  },
  {
   "cell_type": "markdown",
   "id": "cf34e4b4-8fb1-4873-847e-47cb0a96d6e4",
   "metadata": {},
   "source": [
    "There are a number of strings of text and multiple of the same currencies. I am going to go through and try to reduce them to the minimum amount of currency types as needed. I am going to go one-by-one and look up currency ISO codes to reclassify the ones I need to.\n",
    "\n",
    "After doing the above, I was able to reduce the number of unique values from 124 to 42 -- all currency types. I also filled in the NANs with \"Not Applicable\"."
   ]
  },
  {
   "cell_type": "code",
   "execution_count": 94,
   "id": "14076c49-0805-4bc4-9fbe-d46334076ce4",
   "metadata": {
    "tags": []
   },
   "outputs": [
    {
     "data": {
      "text/plain": [
       "27897"
      ]
     },
     "execution_count": 94,
     "metadata": {},
     "output_type": "execute_result"
    }
   ],
   "source": [
    "df.q8_addtl_currency_type.isnull().sum()"
   ]
  },
  {
   "cell_type": "code",
   "execution_count": 95,
   "id": "ba21d159-a2b0-47ba-91dc-333f4697f8ca",
   "metadata": {
    "tags": []
   },
   "outputs": [],
   "source": [
    "df.q8_addtl_currency_type = df.q8_addtl_currency_type.fillna(\"Not Applicable\")"
   ]
  },
  {
   "cell_type": "code",
   "execution_count": 96,
   "id": "6027982c-5a32-49e6-8eb2-6279e9fcb681",
   "metadata": {
    "tags": []
   },
   "outputs": [
    {
     "data": {
      "text/plain": [
       "0"
      ]
     },
     "execution_count": 96,
     "metadata": {},
     "output_type": "execute_result"
    }
   ],
   "source": [
    "df.q8_addtl_currency_type.isnull().sum()"
   ]
  },
  {
   "cell_type": "code",
   "execution_count": 97,
   "id": "be47890e-fe5b-47fb-9059-15a117d4a035",
   "metadata": {
    "tags": []
   },
   "outputs": [
    {
     "data": {
      "text/plain": [
       "count              28108\n",
       "unique               125\n",
       "top       Not Applicable\n",
       "freq               27897\n",
       "Name: q8_addtl_currency_type, dtype: object"
      ]
     },
     "execution_count": 97,
     "metadata": {},
     "output_type": "execute_result"
    }
   ],
   "source": [
    "df.q8_addtl_currency_type.describe()"
   ]
  },
  {
   "cell_type": "code",
   "execution_count": 98,
   "id": "34a375aa-472e-4abd-b6d1-c47c60595ec4",
   "metadata": {
    "tags": []
   },
   "outputs": [
    {
     "data": {
      "text/plain": [
       "q8_addtl_currency_type\n",
       "Not Applicable                            27897\n",
       "SGD                                          11\n",
       "USD                                          11\n",
       "INR                                          11\n",
       "NOK                                          10\n",
       "                                          ...  \n",
       "AUD & NZD are not the same currency...        1\n",
       "55,000                                        1\n",
       "ILS/NIS                                       1\n",
       "Norwegian kroner (NOK)                        1\n",
       "TZS                                           1\n",
       "Name: count, Length: 125, dtype: int64"
      ]
     },
     "execution_count": 98,
     "metadata": {},
     "output_type": "execute_result"
    }
   ],
   "source": [
    "df.q8_addtl_currency_type.value_counts()"
   ]
  },
  {
   "cell_type": "code",
   "execution_count": 99,
   "id": "0a943c8f-e93e-47e2-8ea3-920ddd8be5cc",
   "metadata": {
    "tags": []
   },
   "outputs": [
    {
     "data": {
      "text/plain": [
       "array(['Not Applicable', 'INR', 'Peso Argentino', '$76,302.34',\n",
       "       'My bonus is based on performance up to 10% of salary',\n",
       "       'I work for an online state university, managing admissions data. Not direct tech support. ',\n",
       "       '0', 'MYR', 'CHF', 'KWD', 'NOK', 'Na ', 'USD', 'BR$', 'SEK',\n",
       "       'Base plus Commission ', 'canadian', 'Dkk', 'EUR', 'COP', 'TTD',\n",
       "       'Indian rupees', 'BRL (R$)', 'Mexican pesos', 'CZK', 'GBP', 'DKK',\n",
       "       'Bdt', 'RSU / equity', 'ZAR', 'Additonal = Bonus plus stock',\n",
       "       'American Dollars', 'Php', 'PLN (Polish zloty)',\n",
       "       'Overtime (about 5 hours a week) and bonus', 'czech crowns',\n",
       "       'Stock ', 'TRY', 'Norwegian kroner (NOK)', 'CNY', 'ILS/NIS',\n",
       "       '55,000', 'AUD & NZD are not the same currency...', 'US Dollar',\n",
       "       'Canadian ', 'AUD', 'BRL', 'NIS (new Israeli shekel)', '-',\n",
       "       'RMB (chinese yuan)', 'Taiwanese dollars',\n",
       "       \"AUD and NZD aren't the same currency, and have absolutely nothing to do with each other :(\",\n",
       "       'NZD', 'Philippine Peso', 'SGD', 'KRW (Korean Won)', 'Czk', 'THB',\n",
       "       'IDR ', 'Sgd', 'Nok', 'ILS (Shekel)',\n",
       "       '6000 in stock grants annually', 'DKK ', 'China RMB',\n",
       "       'AUD Australian ', 'LKR', 'Polish Złoty', 'Philippine peso (PHP)',\n",
       "       'Australian Dollars ', 'PHP',\n",
       "       'Many non-salary benefits - travel, free healthcare for self, very low for family, non-taxable housing allowance ',\n",
       "       'Equity',\n",
       "       'It’s marketed as £22000 but we get paid pro-rats, so no pay for the school holidays.',\n",
       "       'additional compensation is for overtime (i am paid hourly) so it varies. i have included an estimate',\n",
       "       'ARS', 'Argentinian peso (ARS)', 'Israeli Shekels', 'ILS', 'MXN',\n",
       "       'PhP (Philippine Peso)',\n",
       "       'Converted mine into USD for your easyness', 'PLN', 'KRW', 'SAR',\n",
       "       'RM', 'IDR', 'Argentine Peso', 'Philippine Pesos', 'Ils', 'Rs',\n",
       "       'INR (Indian Rupee)', 'NTD', 'Danish Kroner', 'CAD', 'Korean Won ',\n",
       "       'dkk', 'Euro', 'SGD ', 'Mexican Pesos', 'THAI  BAHT',\n",
       "       'Option to get 2x or 1.5x if taking on a weekend day in the summer',\n",
       "       'Thai Baht ', '47000', 'na', 'Canadian', 'N/a',\n",
       "       'up to 12% annual bonus', 'croatian kuna', 'PLN (Zwoty)', '5',\n",
       "       'Rupees', 'Singapore Dollara', 'NGN', 'pkr', 'Zar', '1',\n",
       "       'ekignkfb', 'hhv', 'rice', 'HKD', 'ff', 'other', 'Rupees ', 'TZS'],\n",
       "      dtype=object)"
      ]
     },
     "execution_count": 99,
     "metadata": {},
     "output_type": "execute_result"
    }
   ],
   "source": [
    "df.q8_addtl_currency_type.unique()"
   ]
  },
  {
   "cell_type": "code",
   "execution_count": 100,
   "id": "01b356bc-c3f1-40df-98ab-bf018d8d3005",
   "metadata": {
    "tags": []
   },
   "outputs": [],
   "source": [
    "df.loc[df.q8_addtl_currency_type == '$76,302.34', 'q8_addtl_currency_type'] = \"Not Applicable\"\n",
    "df.loc[df.q8_addtl_currency_type == 'My bonus is based on performance up to 10% of salary', 'q8_addtl_currency_type'] = \"Not Applicable\"\n",
    "df.loc[df.q8_addtl_currency_type == 'I work for an online state university, managing admissions data. Not direct tech support. ', 'q8_addtl_currency_type'] = \"Not Applicable\"\n",
    "df.loc[df.q8_addtl_currency_type == '0', 'q8_addtl_currency_type'] = \"Not Applicable\"\n",
    "df.loc[df.q8_addtl_currency_type == 'Na ', 'q8_addtl_currency_type'] = \"Not Applicable\"\n",
    "df.loc[df.q8_addtl_currency_type == 'Base plus Commission ', 'q8_addtl_currency_type'] = \"Not Applicable\"\n",
    "df.loc[df.q8_addtl_currency_type == 'Additonal = Bonus plus stock', 'q8_addtl_currency_type'] = \"Not Applicable\"\n",
    "df.loc[df.q8_addtl_currency_type == 'USD', 'q8_addtl_currency_type'] = \"Not Applicable\"\n",
    "df.loc[df.q8_addtl_currency_type == 'American Dollars', 'q8_addtl_currency_type'] = \"Not Applicable\"\n",
    "df.loc[df.q8_addtl_currency_type == 'Overtime (about 5 hours a week) and bonus', 'q8_addtl_currency_type'] = \"Not Applicable\"\n",
    "df.loc[df.q8_addtl_currency_type == '55,000', 'q8_addtl_currency_type'] = \"Not Applicable\"\n",
    "df.loc[df.q8_addtl_currency_type == 'AUD & NZD are not the same currency...', 'q8_addtl_currency_type'] = \"Not Applicable\"\n",
    "df.loc[df.q8_addtl_currency_type == 'US Dollar', 'q8_addtl_currency_type'] = \"Not Applicable\"\n",
    "df.loc[df.q8_addtl_currency_type == 'Canadian ', 'q8_addtl_currency_type'] = \"Not Applicable\"\n",
    "df.loc[df.q8_addtl_currency_type == \"AUD and NZD aren't the same currency, and have absolutely nothing to do with each other :(\", 'q8_addtl_currency_type'] = \"Not Applicable\"\n",
    "df.loc[df.q8_addtl_currency_type == '6000 in stock grants annually', 'q8_addtl_currency_type'] = \"Not Applicable\"\n",
    "df.loc[df.q8_addtl_currency_type == 'Many non-salary benefits - travel, free healthcare for self, very low for family, non-taxable housing allowance ', 'q8_addtl_currency_type'] = \"Not Applicable\"\n",
    "df.loc[df.q8_addtl_currency_type == 'It’s marketed as £22000 but we get paid pro-rats, so no pay for the school holidays.', 'q8_addtl_currency_type'] = \"Not Applicable\"\n",
    "df.loc[df.q8_addtl_currency_type == 'additional compensation is for overtime (i am paid hourly) so it varies. i have included an estimate', 'q8_addtl_currency_type'] = \"Not Applicable\"\n",
    "df.loc[df.q8_addtl_currency_type == 'Argentinian peso (ARS)', 'q8_addtl_currency_type'] = \"ARS\"\n",
    "df.loc[df.q8_addtl_currency_type == 'Converted mine into USD for your easyness', 'q8_addtl_currency_type'] = \"Not Applicable\"\n",
    "df.loc[df.q8_addtl_currency_type == 'Option to get 2x or 1.5x if taking on a weekend day in the summer', 'q8_addtl_currency_type'] = \"Not Applicable\"\n",
    "df.loc[df.q8_addtl_currency_type == '47000', 'q8_addtl_currency_type'] = \"Not Applicable\"\n",
    "df.loc[df.q8_addtl_currency_type == 'na', 'q8_addtl_currency_type'] = \"Not Applicable\"\n",
    "df.loc[df.q8_addtl_currency_type == 'Canadian', 'q8_addtl_currency_type'] = \"Not Applicable\"\n",
    "df.loc[df.q8_addtl_currency_type == 'N/a', 'q8_addtl_currency_type'] = \"Not Applicable\"\n",
    "df.loc[df.q8_addtl_currency_type == 'up to 12% annual bonus', 'q8_addtl_currency_type'] = \"Not Applicable\"\n",
    "df.loc[df.q8_addtl_currency_type == '5', 'q8_addtl_currency_type'] = \"Not Applicable\"\n",
    "df.loc[df.q8_addtl_currency_type == '1', 'q8_addtl_currency_type'] = \"Not Applicable\"\n",
    "df.loc[df.q8_addtl_currency_type == 'ekignkfb', 'q8_addtl_currency_type'] = \"Not Applicable\"\n",
    "df.loc[df.q8_addtl_currency_type == 'hhv', 'q8_addtl_currency_type'] = \"Not Applicable\"\n",
    "df.loc[df.q8_addtl_currency_type == 'rice', 'q8_addtl_currency_type'] = \"Not Applicable\"\n",
    "df.loc[df.q8_addtl_currency_type == 'other', 'q8_addtl_currency_type'] = \"Not Applicable\"\n",
    "df.loc[df.q8_addtl_currency_type == 'canadian', 'q8_addtl_currency_type'] = \"Not Applicable\"\n",
    "df.loc[df.q8_addtl_currency_type == 'Norwegian kroner (NOK)', 'q8_addtl_currency_type'] = \"NOK\"\n",
    "df.loc[df.q8_addtl_currency_type == '-', 'q8_addtl_currency_type'] = \"Not Applicable\"\n",
    "df.loc[df.q8_addtl_currency_type == 'NIS (new Israeli shekel)', 'q8_addtl_currency_type'] = \"NIS\"\n",
    "df.loc[df.q8_addtl_currency_type == 'ILS/NIS', 'q8_addtl_currency_type'] = \"NIS\"\n",
    "df.loc[df.q8_addtl_currency_type == 'AUD Australian ', 'q8_addtl_currency_type'] = \"Not Applicable\"\n",
    "df.loc[df.q8_addtl_currency_type == 'Australian Dollars ', 'q8_addtl_currency_type'] = \"Not Applicable\"\n",
    "df.loc[df.q8_addtl_currency_type == 'Dkk', 'q8_addtl_currency_type'] = \"DKK\"\n",
    "df.loc[df.q8_addtl_currency_type == 'Nok', 'q8_addtl_currency_type'] = \"NOK\"\n",
    "df.loc[df.q8_addtl_currency_type == 'BR$', 'q8_addtl_currency_type'] = \"BRL\"\n",
    "df.loc[df.q8_addtl_currency_type == 'BRL (R$)', 'q8_addtl_currency_type'] = \"BRL\"\n",
    "df.loc[df.q8_addtl_currency_type == 'Peso Argentino', 'q8_addtl_currency_type'] = \"ARS\"\n",
    "df.loc[df.q8_addtl_currency_type == 'Indian rupees', 'q8_addtl_currency_type'] = \"INR\"\n",
    "df.loc[df.q8_addtl_currency_type == 'Mexican pesos', 'q8_addtl_currency_type'] = \"MXN\"\n",
    "df.loc[df.q8_addtl_currency_type == 'Bdt', 'q8_addtl_currency_type'] = \"BDT\"\n",
    "df.loc[df.q8_addtl_currency_type == 'RSU / equity', 'q8_addtl_currency_type'] = \"RSU\"\n",
    "df.loc[df.q8_addtl_currency_type == 'Php', 'q8_addtl_currency_type'] = \"PHP\"\n",
    "df.loc[df.q8_addtl_currency_type == 'PLN (Polish zloty)', 'q8_addtl_currency_type'] = \"PLN\"\n",
    "df.loc[df.q8_addtl_currency_type == 'czech crowns', 'q8_addtl_currency_type'] = \"CZK\"\n",
    "df.loc[df.q8_addtl_currency_type == 'Stock ', 'q8_addtl_currency_type'] = \"Not Applicable\"\n",
    "df.loc[df.q8_addtl_currency_type == 'RMB (chinese yuan)', 'q8_addtl_currency_type'] = \"RMB\"\n",
    "df.loc[df.q8_addtl_currency_type == 'Taiwanese dollars', 'q8_addtl_currency_type'] = \"TWD\"\n",
    "df.loc[df.q8_addtl_currency_type == 'Philippine Peso', 'q8_addtl_currency_type'] = \"PHP\"\n",
    "df.loc[df.q8_addtl_currency_type == 'KRW (Korean Won)', 'q8_addtl_currency_type'] = \"KRW\"\n",
    "df.loc[df.q8_addtl_currency_type == 'Czk', 'q8_addtl_currency_type'] = \"CZK\"\n",
    "df.loc[df.q8_addtl_currency_type == 'Czk', 'q8_addtl_currency_type'] = \"CZK\"\n",
    "df.loc[df.q8_addtl_currency_type == 'sgd', 'q8_addtl_currency_type'] = \"SGD\"\n",
    "df.loc[df.q8_addtl_currency_type == 'Sgd', 'q8_addtl_currency_type'] = \"SGD\"\n",
    "df.loc[df.q8_addtl_currency_type == 'ILS (Shekel)', 'q8_addtl_currency_type'] = \"ILS\"\n",
    "df.loc[df.q8_addtl_currency_type == 'DKK ', 'q8_addtl_currency_type'] = \"DKK\"\n",
    "df.loc[df.q8_addtl_currency_type == 'Polish Złoty', 'q8_addtl_currency_type'] = \"PLN\"\n",
    "df.loc[df.q8_addtl_currency_type == 'Philippine peso (PHP)', 'q8_addtl_currency_type'] = \"PHP\"\n",
    "df.loc[df.q8_addtl_currency_type == 'PhP (Philippine Peso)', 'q8_addtl_currency_type'] = \"PHP\"\n",
    "df.loc[df.q8_addtl_currency_type == 'Philippine Pesos', 'q8_addtl_currency_type'] = \"PHP\"\n",
    "df.loc[df.q8_addtl_currency_type == 'China RMB', 'q8_addtl_currency_type'] = \"RMB\"\n",
    "df.loc[df.q8_addtl_currency_type == 'Equity', 'q8_addtl_currency_type'] = \"Not Applicable\"\n",
    "df.loc[df.q8_addtl_currency_type == 'Israeli Shekels', 'q8_addtl_currency_type'] = \"ILS\"\n",
    "df.loc[df.q8_addtl_currency_type == 'RM', 'q8_addtl_currency_type'] = \"MYR\"\n",
    "df.loc[df.q8_addtl_currency_type == 'Argentine Peso', 'q8_addtl_currency_type'] = \"ARS\"\n",
    "df.loc[df.q8_addtl_currency_type == 'Ils', 'q8_addtl_currency_type'] = \"ILS\"\n",
    "df.loc[df.q8_addtl_currency_type == 'Ils', 'q8_addtl_currency_type'] = \"ILS\"\n",
    "df.loc[df.q8_addtl_currency_type == 'Rs', 'q8_addtl_currency_type'] = \"INR\"\n",
    "df.loc[df.q8_addtl_currency_type == 'IDR ', 'q8_addtl_currency_type'] = \"IDR\"\n",
    "df.loc[df.q8_addtl_currency_type == 'Danish Kroner', 'q8_addtl_currency_type'] = \"DKK\"\n",
    "df.loc[df.q8_addtl_currency_type == 'INR (Indian Rupee)', 'q8_addtl_currency_type'] = \"INR\"\n",
    "df.loc[df.q8_addtl_currency_type == 'CAD', 'q8_addtl_currency_type'] = \"Not Applicable\"\n",
    "df.loc[df.q8_addtl_currency_type == 'AUD', 'q8_addtl_currency_type'] = \"Not Applicable\"\n",
    "df.loc[df.q8_addtl_currency_type == 'Korean Won', 'q8_addtl_currency_type'] = \"KRW\"\n",
    "df.loc[df.q8_addtl_currency_type == 'dkk', 'q8_addtl_currency_type'] = \"DKK\"\n",
    "df.loc[df.q8_addtl_currency_type == 'Euro', 'q8_addtl_currency_type'] = \"EUR\"\n",
    "df.loc[df.q8_addtl_currency_type == 'Mexican Pesos', 'q8_addtl_currency_type'] = \"MXN\"\n",
    "df.loc[df.q8_addtl_currency_type == 'THAI  BAHT', 'q8_addtl_currency_type'] = \"THB\"\n",
    "df.loc[df.q8_addtl_currency_type == 'Thai Baht ', 'q8_addtl_currency_type'] = \"THB\"\n",
    "df.loc[df.q8_addtl_currency_type == 'croatian kuna', 'q8_addtl_currency_type'] = \"HRK\"\n",
    "df.loc[df.q8_addtl_currency_type == 'PLN (Zwoty)', 'q8_addtl_currency_type'] = \"PLN\"\n",
    "df.loc[df.q8_addtl_currency_type == 'Rupees', 'q8_addtl_currency_type'] = \"INR\"\n",
    "df.loc[df.q8_addtl_currency_type == 'Rupees ', 'q8_addtl_currency_type'] = \"INR\"\n",
    "df.loc[df.q8_addtl_currency_type == 'Singapore Dollara', 'q8_addtl_currency_type'] = \"SGD\"\n",
    "df.loc[df.q8_addtl_currency_type == 'pkr', 'q8_addtl_currency_type'] = \"PKR\"\n",
    "df.loc[df.q8_addtl_currency_type == 'Zar', 'q8_addtl_currency_type'] = \"ZAR\"\n",
    "df.loc[df.q8_addtl_currency_type == 'ff', 'q8_addtl_currency_type'] = \"FRF\"\n",
    "df.loc[df.q8_addtl_currency_type == 'Korean Won ', 'q8_addtl_currency_type'] = \"KRW\""
   ]
  },
  {
   "cell_type": "code",
   "execution_count": 101,
   "id": "2929d4e6-bac8-4b65-8837-2492012a438e",
   "metadata": {
    "tags": []
   },
   "outputs": [
    {
     "data": {
      "text/plain": [
       "array(['Not Applicable', 'INR', 'ARS', 'MYR', 'CHF', 'KWD', 'NOK', 'BRL',\n",
       "       'SEK', 'DKK', 'EUR', 'COP', 'TTD', 'MXN', 'CZK', 'GBP', 'BDT',\n",
       "       'RSU', 'ZAR', 'PHP', 'PLN', 'TRY', 'CNY', 'NIS', 'RMB', 'TWD',\n",
       "       'NZD', 'SGD', 'KRW', 'THB', 'IDR', 'ILS', 'LKR', 'SAR', 'NTD',\n",
       "       'SGD ', 'HRK', 'NGN', 'PKR', 'HKD', 'FRF', 'TZS'], dtype=object)"
      ]
     },
     "execution_count": 101,
     "metadata": {},
     "output_type": "execute_result"
    }
   ],
   "source": [
    "df.q8_addtl_currency_type.unique()"
   ]
  },
  {
   "cell_type": "code",
   "execution_count": 102,
   "id": "ecc5c5d2-a7f0-46d0-b7ad-451322e18618",
   "metadata": {
    "tags": []
   },
   "outputs": [
    {
     "data": {
      "text/plain": [
       "42"
      ]
     },
     "execution_count": 102,
     "metadata": {},
     "output_type": "execute_result"
    }
   ],
   "source": [
    "df.q8_addtl_currency_type.nunique()"
   ]
  },
  {
   "cell_type": "markdown",
   "id": "2ec34185-9f48-46dc-82a3-a44d7f9b3d92",
   "metadata": {},
   "source": [
    "### Q9 - Additional Income Context: Clean Up"
   ]
  },
  {
   "cell_type": "markdown",
   "id": "27c61722-a59c-4f25-9018-962b568260fd",
   "metadata": {},
   "source": [
    "This quedstion has 25,061 NULLs out of ~28,000 entries. The entries are also strings of text that just have explanations on the addiitonal income, with 2,983 unique values out of 3,047 count. Due to the enormity of the NULLs and the number of unique values given the count, I consider this feature to be of low value, so I am opting to drop it."
   ]
  },
  {
   "cell_type": "code",
   "execution_count": 103,
   "id": "588b088a-4092-423d-9687-d869bae0c644",
   "metadata": {
    "tags": []
   },
   "outputs": [
    {
     "data": {
      "text/plain": [
       "count       3047\n",
       "unique      2983\n",
       "top       Hourly\n",
       "freq           4\n",
       "Name: q9_addtl_income_context, dtype: object"
      ]
     },
     "execution_count": 103,
     "metadata": {},
     "output_type": "execute_result"
    }
   ],
   "source": [
    "df.q9_addtl_income_context.describe()"
   ]
  },
  {
   "cell_type": "code",
   "execution_count": 104,
   "id": "923127eb-5c50-454d-a74a-1891e1b7df6a",
   "metadata": {
    "tags": []
   },
   "outputs": [
    {
     "data": {
      "text/plain": [
       "25061"
      ]
     },
     "execution_count": 104,
     "metadata": {},
     "output_type": "execute_result"
    }
   ],
   "source": [
    "df.q9_addtl_income_context.isna().sum()"
   ]
  },
  {
   "cell_type": "code",
   "execution_count": 105,
   "id": "8b89a251-c95f-4100-a3e7-1bad2103ce74",
   "metadata": {
    "tags": []
   },
   "outputs": [
    {
     "data": {
      "text/plain": [
       "18289      Annual performance bonus approx. 5-7% of salary\n",
       "2700     Additional monetary compensation is an estimat...\n",
       "10070                                     Crappy benefits \n",
       "12373    I get paid for overtime, so that can boost the...\n",
       "7056              stock options are given, not listed here\n",
       "24425    Some OT and a performance bonus of two percent...\n",
       "4782     I am hourly, and I work part time only during ...\n",
       "10675                 It really varies by year and month. \n",
       "7799     Salaries in my industry in my country are not ...\n",
       "22072                                           Nonprofit \n",
       "Name: q9_addtl_income_context, dtype: object"
      ]
     },
     "execution_count": 105,
     "metadata": {},
     "output_type": "execute_result"
    }
   ],
   "source": [
    "df.q9_addtl_income_context.dropna().sample(10)"
   ]
  },
  {
   "cell_type": "code",
   "execution_count": 106,
   "id": "8bc98cec-7122-49dd-babe-22607773f265",
   "metadata": {
    "tags": []
   },
   "outputs": [],
   "source": [
    "df = df.drop(columns=['q9_addtl_income_context'])"
   ]
  },
  {
   "cell_type": "code",
   "execution_count": 107,
   "id": "1d594fe5-2501-4f68-a455-54734ce0042e",
   "metadata": {
    "tags": []
   },
   "outputs": [
    {
     "name": "stdout",
     "output_type": "stream",
     "text": [
      "<class 'pandas.core.frame.DataFrame'>\n",
      "RangeIndex: 28108 entries, 0 to 28107\n",
      "Data columns (total 16 columns):\n",
      " #   Column                  Non-Null Count  Dtype  \n",
      "---  ------                  --------------  -----  \n",
      " 0   timestamp               28108 non-null  object \n",
      " 1   q1_age                  28108 non-null  object \n",
      " 2   q2_industry             28108 non-null  object \n",
      " 3   q3_title                28108 non-null  object \n",
      " 4   q5_salary               28108 non-null  int64  \n",
      " 5   q6_addtl_funds          28108 non-null  float64\n",
      " 6   q7_currency             28108 non-null  object \n",
      " 7   q8_addtl_currency_type  28108 non-null  object \n",
      " 8   q10_country             28108 non-null  object \n",
      " 9   q11_us_state            23074 non-null  object \n",
      " 10  q12_city                28026 non-null  object \n",
      " 11  q13_work_exp_yrs        28108 non-null  object \n",
      " 12  q14_field_exp_yrs       28108 non-null  object \n",
      " 13  q15_education           27885 non-null  object \n",
      " 14  q16_gender              27937 non-null  object \n",
      " 15  q17_race                27931 non-null  object \n",
      "dtypes: float64(1), int64(1), object(14)\n",
      "memory usage: 3.4+ MB\n"
     ]
    }
   ],
   "source": [
    "df.info()"
   ]
  },
  {
   "cell_type": "markdown",
   "id": "3c68139d-9bf6-4988-970d-110c71968f49",
   "metadata": {},
   "source": [
    "### Q10 - Country: Clean Up"
   ]
  },
  {
   "cell_type": "markdown",
   "id": "694cdaea-74b1-4af4-86f9-515199306c9e",
   "metadata": {},
   "source": [
    "There was 382 unique countries, there are a number of synonyms, so I will be manually be changing them to reduce them as much as possible.\n",
    "\n",
    "After changing them I was able to reduce it from 382 to 105."
   ]
  },
  {
   "cell_type": "code",
   "execution_count": 108,
   "id": "fb761293-75da-4b76-8526-f66b83f0b591",
   "metadata": {
    "tags": []
   },
   "outputs": [
    {
     "data": {
      "text/plain": [
       "0"
      ]
     },
     "execution_count": 108,
     "metadata": {},
     "output_type": "execute_result"
    }
   ],
   "source": [
    "df.q10_country.isna().sum()"
   ]
  },
  {
   "cell_type": "code",
   "execution_count": 109,
   "id": "bb280045-6dc9-42b2-bb74-9803157cbca1",
   "metadata": {
    "tags": []
   },
   "outputs": [
    {
     "data": {
      "text/plain": [
       "count             28108\n",
       "unique              382\n",
       "top       United States\n",
       "freq               9004\n",
       "Name: q10_country, dtype: object"
      ]
     },
     "execution_count": 109,
     "metadata": {},
     "output_type": "execute_result"
    }
   ],
   "source": [
    "df.q10_country.describe()"
   ]
  },
  {
   "cell_type": "code",
   "execution_count": 110,
   "id": "9169b46e-d3d7-42b3-99b4-824d15787d1c",
   "metadata": {
    "tags": []
   },
   "outputs": [
    {
     "data": {
      "text/plain": [
       "array(['United States', 'United Kingdom', 'US', 'USA', 'Canada',\n",
       "       'United Kingdom ', 'usa', 'UK', 'Scotland ', 'U.S.',\n",
       "       'United States ', 'The Netherlands', 'Australia ', 'Spain', 'us',\n",
       "       'Usa', 'England', 'finland', 'United States of America', 'France',\n",
       "       'United states', 'Scotland', 'USA ', 'United states ', 'Germany',\n",
       "       'UK ', 'united states', 'Ireland', 'India', 'Australia', 'Uk',\n",
       "       'United States of America ', 'U.S. ', 'canada', 'Canada ', 'U.S>',\n",
       "       'ISA', 'Argentina', 'Great Britain ', 'US ', 'United State',\n",
       "       'U.S.A', 'Denmark', 'U.S.A.', 'America', 'Netherlands',\n",
       "       'netherlands', 'England ', 'united states of america', 'Ireland ',\n",
       "       'Switzerland', 'Netherlands ', 'Bermuda', 'Us',\n",
       "       'The United States', 'United State of America', 'Germany ',\n",
       "       'Malaysia', 'Mexico ', 'United Stated', 'South Africa ', 'Belgium',\n",
       "       'Northern Ireland', 'u.s.', 'South Africa', 'UNITED STATES',\n",
       "       'united States', 'Sweden', 'Hong Kong', 'Kuwait', 'Norway',\n",
       "       'Sri lanka', 'Contracts', 'USA-- Virgin Islands', 'United Statws',\n",
       "       'England/UK', 'U.S',\n",
       "       \"We don't get raises, we get quarterly bonuses, but they periodically asses income in the area you work, so I got a raise because a 3rd party assessment showed I was paid too little for the area we were located\",\n",
       "       'Unites States ', 'Usa ', 'U.S.A. ', 'England, UK.', 'Greece',\n",
       "       'Japan', 'U. S. ', 'Britain ', 'United Sates', 'Japan ', 'Austria',\n",
       "       'Brazil', 'Canada, Ottawa, ontario', 'Global', 'Sweden ',\n",
       "       'United States of American ', 'FRANCE', 'Uniited States',\n",
       "       'United Kingdom (England)',\n",
       "       'Worldwide (based in US but short term trips aroudn the world)',\n",
       "       'CANADA ', 'Canadw', 'Hungary', 'Luxembourg',\n",
       "       'United Sates of America', 'ireland',\n",
       "       'United States (I work from home and my clients are all over the US/Canada/PR',\n",
       "       'Colombia', 'CANADA', 'Unted States', 'germany', 'United Statesp',\n",
       "       'United Stattes', 'United Statea', 'United Kingdom.', 'Mexico',\n",
       "       'New Zealand', 'Trinidad and Tobago', 'Unites States',\n",
       "       'United Statees', 'United kingdom', 'Cayman Islands',\n",
       "       'UNited States', 'Can',\n",
       "       'I am located in Canada but I work for a company in the US',\n",
       "       'United kingdom ', 'Uniyed states', 'Uniyes States',\n",
       "       'United States of Americas', 'U.A.', 'Czech republic', 'Czechia',\n",
       "       'Latvia', 'Finland', 'U. S.', 'Puerto Rico', 'US of A', 'Rwanda',\n",
       "       'United States of america ', 'United Arab Emirates ',\n",
       "       'Bangladesh ', 'Spain ', 'U.K. ', 'Romania', 'U.SA',\n",
       "       'United Kindom', 'United Status', 'New Zealand ',\n",
       "       'Currently finance', ' U.S.', 'Serbia', 'Philippines', 'Russia ',\n",
       "       'Poland', 'UXZ', 'czech republic', 'England, UK', 'Turkey',\n",
       "       'Canda', 'Puerto Rico ', 'Canada and USA', 'Catalonia',\n",
       "       '$2,175.84/year is deducted for benefits', 'uk', 'France ',\n",
       "       'Italy (South)', 'Jersey, Channel islands', 'Uk ', 'China',\n",
       "       'Virginia', 'Afghanistan', 'Israel', 'U.s.', 'Great Britain',\n",
       "       'U.s.a.', 'USS', 'Denmark ', 'Uniteed States',\n",
       "       'New Zealand Aotearoa', 'U.K.', 'Hartford',\n",
       "       'Japan, US Gov position', 'Csnada', 'United Stares', 'New zealand',\n",
       "       'Mainland China', 'I.S.', 'UK (Northern Ireland)',\n",
       "       'UK for U.S. company', ' US', 'Unites states ', 'NZ', 'Us ',\n",
       "       'Hong Kong ', 'Taiwan', 'Canad', 'Unite States', 'australia',\n",
       "       'The US', 'united states ', 'The Netherlands ', 'Cambodia',\n",
       "       'United states of America ', 'Vietnam', 'Remote', 'Singapore',\n",
       "       'South Korea', 'Czech Republic ', 'Thailand', 'Bangladesh',\n",
       "       'Lithuania', 'Eritrea', 'Indonesia', 'Singapore ',\n",
       "       'For the United States government, but posted overseas', 'IS',\n",
       "       'Switzerland ', 'United Kingdomk', 'Italy', ' New Zealand', 'Cuba',\n",
       "       'Slovenia', 'Australi', \"Cote d'Ivoire\", 'united kingdom',\n",
       "       'From Romania, but for an US based company', 'Somalia',\n",
       "       'Wales (United Kingdom)', 'England, Gb', 'Czech Republic',\n",
       "       'UnitedStates', 'Sri Lanka', 'spain', 'Danmark',\n",
       "       'U.K. (northern England)', 'U.K', 'NL', 'the Netherlands',\n",
       "       'Nederland', 'Slovakia', 'United States of america', 'Portugal ',\n",
       "       'England, United Kingdom', 'Sierra Leone', 'Englang',\n",
       "       'United statew', 'UAE', 'Belgium ',\n",
       "       'bonus based on meeting yearly goals set w/ my supervisor',\n",
       "       'International ', 'The Bahamas ', 'Wales',\n",
       "       \"I earn commission on sales. If I meet quota, I'm guaranteed another 16k min. Last year i earned an additional 27k. It's not uncommon for people in my space to earn 100k+ after commission. \",\n",
       "       'Costa Rica', ' United States', 'United Statues', 'Untied States',\n",
       "       'USA (company is based in a US territory, I work remote)', 'Chile',\n",
       "       'denmark', 'UK (England)', 'UK, remote', 'Scotland, UK', 'USAB',\n",
       "       'Unitied States', 'Norway ', 'Qatar', 'United Sttes',\n",
       "       'Remote (philippines)', 'Brazil ', 'Unites kingdom ',\n",
       "       'South africa', 'Portugal', 'united stated',\n",
       "       'United States Of America', 'Nigeria', 'Panamá',\n",
       "       'Northern Ireland ', 'england', 'SWITZERLAND',\n",
       "       'Austria, but I work remotely for a Dutch/British company',\n",
       "       \"I work for an US based company but I'm from Argentina.\",\n",
       "       'I was brought in on this salary to help with the EHR and very quickly was promoted to current position but compensation was not altered. ',\n",
       "       'Uniter Statez', 'U. S ', 'Congo', 'United states of America',\n",
       "       'Uruguay', 'Pakistan', 'Brasil', 'USA tomorrow ', 'United Stateds',\n",
       "       'n/a (remote from wherever I want)', 'singapore',\n",
       "       'US govt employee overseas, country withheld', 'usa ', 'Malaysia ',\n",
       "       'Uganda', 'Malta', 'Saudi Arabia', 'Bulgaria', 'Estonia',\n",
       "       'Morocco', 'new zealand', 'Africa', 'Ecuador', 'Zimbabwe', 'Ghana',\n",
       "       'San Francisco', 'Usat', '🇺🇸 ', 'Luxemburg', 'Unitef Stated', 'UA',\n",
       "       'Wales, UK', 'United Stares ', 'Croatia ',\n",
       "       'England, United Kingdom ', 'United STates', 'USaa', 'uSA',\n",
       "       'South Korea ', 'The netherlands', 'Ukraine ', 'america',\n",
       "       'switzerland', 'United States- Puerto Rico',\n",
       "       'From New Zealand but on projects across APAC', 'Y', 'United y',\n",
       "       'Wales (UK)', 'Isle of Man', 'Northern Ireland, United Kingdom',\n",
       "       'europe', 'California ',\n",
       "       'UK, but for globally fully remote company', 'Australian ',\n",
       "       'México', 'Jamaica', 'uS', 'USD', 'the netherlands',\n",
       "       \"USA, but for foreign gov't\", 'japan', 'Kenya', 'Jordan',\n",
       "       'United Statss', 'ARGENTINA BUT MY ORG IS IN THAILAND',\n",
       "       'United states of america', 'UsA',\n",
       "       'I work for a UAE-based organization, though I am personally in the US.',\n",
       "       'United  States', 'france', 'Aotearoa New Zealand', 'na', 'Policy',\n",
       "       'Cyprus', 'hong konh', 'United States is America', 'Liechtenstein',\n",
       "       'Company in Germany. I work from Pakistan.', 'croatia', 'Canadá',\n",
       "       'ENGLAND', 'United States of American', 'U.S.A ', 'INDIA',\n",
       "       'Bosnia and Herzegovina', 'NIGERIA', 'Poland ', 'pakistan',\n",
       "       'Nigeria ', 'London', 'ss', 'dbfemf', 'ibdia', 'LOUTRELAND',\n",
       "       'philippines', 'ff', 'Myanmar', 'Burma', 'india', 'Tanzania',\n",
       "       'Česká republika'], dtype=object)"
      ]
     },
     "execution_count": 110,
     "metadata": {},
     "output_type": "execute_result"
    }
   ],
   "source": [
    "df.q10_country.unique()"
   ]
  },
  {
   "cell_type": "code",
   "execution_count": 111,
   "id": "15b54bd6-59e2-46b1-86f3-5b379b89a8c9",
   "metadata": {
    "tags": []
   },
   "outputs": [],
   "source": [
    "df.loc[df.q10_country == 'United States', 'q10_country'] = \"USA\"\n",
    "df.loc[df.q10_country == 'US', 'q10_country'] = \"USA\"\n",
    "df.loc[df.q10_country == 'usa', 'q10_country'] = \"USA\"\n",
    "df.loc[df.q10_country == 'U.S.', 'q10_country'] = \"USA\"\n",
    "df.loc[df.q10_country == 'United States ', 'q10_country'] = \"USA\"\n",
    "df.loc[df.q10_country == 'us', 'q10_country'] = \"USA\"\n",
    "df.loc[df.q10_country == 'Usa', 'q10_country'] = \"USA\"\n",
    "df.loc[df.q10_country == 'United States of America', 'q10_country'] = \"USA\"\n",
    "df.loc[df.q10_country == 'United states', 'q10_country'] = \"USA\"\n",
    "df.loc[df.q10_country == 'USA ', 'q10_country'] = \"USA\"\n",
    "df.loc[df.q10_country == 'United states ', 'q10_country'] = \"USA\"\n",
    "df.loc[df.q10_country == 'united states', 'q10_country'] = \"USA\"\n",
    "df.loc[df.q10_country == 'United States of America ', 'q10_country'] = \"USA\"\n",
    "df.loc[df.q10_country == 'U.S. ', 'q10_country'] = \"USA\"\n",
    "df.loc[df.q10_country == 'U.S>', 'q10_country'] = \"USA\"\n",
    "df.loc[df.q10_country == 'US ', 'q10_country'] = \"USA\"\n",
    "df.loc[df.q10_country == 'U.S.A', 'q10_country'] = \"USA\"\n",
    "df.loc[df.q10_country == 'U.S.A.', 'q10_country'] = \"USA\"\n",
    "df.loc[df.q10_country == 'America', 'q10_country'] = \"USA\"\n",
    "df.loc[df.q10_country == 'united states of america', 'q10_country'] = \"USA\"\n",
    "df.loc[df.q10_country == 'Us', 'q10_country'] = \"USA\"\n",
    "df.loc[df.q10_country == 'The United States', 'q10_country'] = \"USA\"\n",
    "df.loc[df.q10_country == 'United State of America', 'q10_country'] = \"USA\"\n",
    "df.loc[df.q10_country == 'United Stated', 'q10_country'] = \"USA\"\n",
    "df.loc[df.q10_country == 'u.s.', 'q10_country'] = \"USA\"\n",
    "df.loc[df.q10_country == 'UNITED STATES', 'q10_country'] = \"USA\"\n",
    "df.loc[df.q10_country == 'united States', 'q10_country'] = \"USA\"\n",
    "df.loc[df.q10_country == 'USA-- Virgin Islands', 'q10_country'] = \"USA\"\n",
    "df.loc[df.q10_country == 'United Statws', 'q10_country'] = \"USA\"\n",
    "df.loc[df.q10_country == 'U.S', 'q10_country'] = \"USA\"\n",
    "df.loc[df.q10_country == 'Unites States ', 'q10_country'] = \"USA\"\n",
    "df.loc[df.q10_country == 'Usa ', 'q10_country'] = \"USA\"\n",
    "df.loc[df.q10_country == 'U.S.A. ', 'q10_country'] = \"USA\"\n",
    "df.loc[df.q10_country == 'U. S. ', 'q10_country'] = \"USA\"\n",
    "df.loc[df.q10_country == 'United Sates', 'q10_country'] = \"USA\"\n",
    "df.loc[df.q10_country == 'United States of American ', 'q10_country'] = \"USA\"\n",
    "df.loc[df.q10_country == 'Uniited States', 'q10_country'] = \"USA\"\n",
    "df.loc[df.q10_country == 'Worldwide (based in US but short term trips aroudn the world)', 'q10_country'] = \"USA\"\n",
    "df.loc[df.q10_country == 'United Sates of America', 'q10_country'] = \"USA\"\n",
    "df.loc[df.q10_country == 'United States (I work from home and my clients are all over the US/Canada/PR', 'q10_country'] = \"USA\"\n",
    "df.loc[df.q10_country == 'Unted States', 'q10_country'] = \"USA\"\n",
    "df.loc[df.q10_country == 'United Statesp', 'q10_country'] = \"USA\"\n",
    "df.loc[df.q10_country == 'United Stattes', 'q10_country'] = \"USA\"\n",
    "df.loc[df.q10_country == 'United Statea', 'q10_country'] = \"USA\"\n",
    "df.loc[df.q10_country == 'United Statees', 'q10_country'] = \"USA\"\n",
    "df.loc[df.q10_country == 'Unites States', 'q10_country'] = \"USA\"\n",
    "df.loc[df.q10_country == 'UNited States', 'q10_country'] = \"USA\"\n",
    "df.loc[df.q10_country == 'Uniyed states', 'q10_country'] = \"USA\"\n",
    "df.loc[df.q10_country == 'Uniyes States', 'q10_country'] = \"USA\"\n",
    "df.loc[df.q10_country == 'United States of Americas', 'q10_country'] = \"USA\"\n",
    "df.loc[df.q10_country == 'U.A.', 'q10_country'] = \"USA\"\n",
    "df.loc[df.q10_country == 'U. S.', 'q10_country'] = \"USA\"\n",
    "df.loc[df.q10_country == 'US of A', 'q10_country'] = \"USA\"\n",
    "df.loc[df.q10_country == 'United States of america ', 'q10_country'] = \"USA\"\n",
    "df.loc[df.q10_country == 'U.s.a.', 'q10_country'] = \"USA\"\n",
    "df.loc[df.q10_country == 'USS', 'q10_country'] = \"USA\"\n",
    "df.loc[df.q10_country == 'United Status', 'q10_country'] = \"USA\"\n",
    "df.loc[df.q10_country == 'U.SA', 'q10_country'] = \"USA\"\n",
    "df.loc[df.q10_country == 'Uniteed States', 'q10_country'] = \"USA\"\n",
    "df.loc[df.q10_country == 'United Stares', 'q10_country'] = \"USA\"\n",
    "df.loc[df.q10_country == ' US', 'q10_country'] = \"USA\"\n",
    "df.loc[df.q10_country == ' U.S.', 'q10_country'] = \"USA\"\n",
    "df.loc[df.q10_country == 'Unites states ', 'q10_country'] = \"USA\"\n",
    "df.loc[df.q10_country == 'U.s.', 'q10_country'] = \"USA\"\n",
    "df.loc[df.q10_country == 'Us ', 'q10_country'] = \"USA\"\n",
    "df.loc[df.q10_country == 'For the United States government, but posted overseas', 'q10_country'] = \"USA\"\n",
    "df.loc[df.q10_country == 'UnitedStates', 'q10_country'] = \"USA\"\n",
    "df.loc[df.q10_country == 'The US', 'q10_country'] = \"USA\"\n",
    "df.loc[df.q10_country == 'united states ', 'q10_country'] = \"USA\"\n",
    "df.loc[df.q10_country == 'Unite States', 'q10_country'] = \"USA\"\n",
    "df.loc[df.q10_country == 'United states of America ', 'q10_country'] = \"USA\"\n",
    "df.loc[df.q10_country == 'United States of america', 'q10_country'] = \"USA\"\n",
    "df.loc[df.q10_country == 'United statew', 'q10_country'] = \"USA\"\n",
    "df.loc[df.q10_country == ' United States', 'q10_country'] = \"USA\"\n",
    "df.loc[df.q10_country == 'United Statues', 'q10_country'] = \"USA\"\n",
    "df.loc[df.q10_country == 'Untied States', 'q10_country'] = \"USA\"\n",
    "df.loc[df.q10_country == 'USA (company is based in a US territory, I work remote)', 'q10_country'] = \"USA\"\n",
    "df.loc[df.q10_country == 'USAB', 'q10_country'] = \"USA\"\n",
    "df.loc[df.q10_country == 'United Sttes', 'q10_country'] = \"USA\"\n",
    "df.loc[df.q10_country == 'united stated', 'q10_country'] = \"USA\"\n",
    "df.loc[df.q10_country == 'Uniter Statez', 'q10_country'] = \"USA\"\n",
    "df.loc[df.q10_country == 'U. S ', 'q10_country'] = \"USA\"\n",
    "df.loc[df.q10_country == 'United states of America', 'q10_country'] = \"USA\"\n",
    "df.loc[df.q10_country == 'USA tomorrow ', 'q10_country'] = \"USA\"\n",
    "df.loc[df.q10_country == 'United Stateds', 'q10_country'] = \"USA\"\n",
    "df.loc[df.q10_country == 'usa ', 'q10_country'] = \"USA\"\n",
    "df.loc[df.q10_country == 'Usat', 'q10_country'] = \"USA\"\n",
    "df.loc[df.q10_country == '🇺🇸 ', 'q10_country'] = \"USA\"\n",
    "df.loc[df.q10_country == 'Unitef Stated', 'q10_country'] = \"USA\"\n",
    "df.loc[df.q10_country == 'UA', 'q10_country'] = \"USA\"\n",
    "df.loc[df.q10_country == 'United Stares ', 'q10_country'] = \"USA\"\n",
    "df.loc[df.q10_country == 'United STates', 'q10_country'] = \"USA\"\n",
    "df.loc[df.q10_country == 'USaa', 'q10_country'] = \"USA\"\n",
    "df.loc[df.q10_country == 'uSA', 'q10_country'] = \"USA\"\n",
    "df.loc[df.q10_country == 'america', 'q10_country'] = \"USA\"\n",
    "df.loc[df.q10_country == 'United States- Puerto Rico', 'q10_country'] = \"USA\"\n",
    "df.loc[df.q10_country == 'California ', 'q10_country'] = \"USA\"\n",
    "df.loc[df.q10_country == 'uS', 'q10_country'] = \"USA\"\n",
    "df.loc[df.q10_country == 'USD', 'q10_country'] = \"USA\"\n",
    "df.loc[df.q10_country == \"USA, but for foreign gov't\", 'q10_country'] = \"USA\"\n",
    "df.loc[df.q10_country == 'United Statss', 'q10_country'] = \"USA\"\n",
    "df.loc[df.q10_country == 'United states of america', 'q10_country'] = \"USA\"\n",
    "df.loc[df.q10_country == 'UsA', 'q10_country'] = \"USA\"\n",
    "df.loc[df.q10_country == 'I work for a UAE-based organization, though I am personally in the US.', 'q10_country'] = \"USA\"\n",
    "df.loc[df.q10_country == 'United States is America', 'q10_country'] = \"USA\"\n",
    "df.loc[df.q10_country == 'United  States', 'q10_country'] = \"USA\"\n",
    "df.loc[df.q10_country == 'Puerto Rico', 'q10_country'] = \"USA\"\n",
    "df.loc[df.q10_country == 'ISA', 'q10_country'] = \"USA\"\n",
    "df.loc[df.q10_country == 'Puerto Rico ', 'q10_country'] = \"USA\"\n",
    "df.loc[df.q10_country == 'US Gov position', 'q10_country'] = \"USA\"\n",
    "df.loc[df.q10_country == 'Unitied States', 'q10_country'] = \"USA\"\n",
    "df.loc[df.q10_country == 'US govt employee overseas, country withheld', 'q10_country'] = \"USA\"\n",
    "df.loc[df.q10_country == 'United States Of America', 'q10_country'] = \"USA\"\n",
    "df.loc[df.q10_country == \"I work for an US based company but I'm from Argentina.\", 'q10_country'] = \"USA\"\n",
    "df.loc[df.q10_country == \"San Francisco\", 'q10_country'] = \"USA\"\n",
    "df.loc[df.q10_country == \"United States of American\", 'q10_country'] = \"USA\"\n",
    "df.loc[df.q10_country == \"U.S.A \", 'q10_country'] = \"USA\"\n",
    "df.loc[df.q10_country == \"Virginia\", 'q10_country'] = \"USA\"\n",
    "df.loc[df.q10_country == \"United y\", 'q10_country'] = \"USA\"\n",
    "df.loc[df.q10_country == \"Hartford\", 'q10_country'] = \"USA\"\n",
    "\n",
    "\n",
    "\n",
    "\n",
    "df.loc[df.q10_country == 'United Kingdom', 'q10_country'] = \"UK\"\n",
    "df.loc[df.q10_country == 'United Kingdom ', 'q10_country'] = \"UK\"\n",
    "df.loc[df.q10_country == 'Uk', 'q10_country'] = \"UK\"\n",
    "df.loc[df.q10_country == 'UK ', 'q10_country'] = \"UK\"\n",
    "df.loc[df.q10_country == 'England', 'q10_country'] = \"UK\"\n",
    "df.loc[df.q10_country == 'Great Britain ', 'q10_country'] = \"UK\"\n",
    "df.loc[df.q10_country == 'England ', 'q10_country'] = \"UK\"\n",
    "df.loc[df.q10_country == 'Northern Ireland', 'q10_country'] = \"UK\"\n",
    "df.loc[df.q10_country == 'England/UK', 'q10_country'] = \"UK\"\n",
    "df.loc[df.q10_country == 'England, UK.', 'q10_country'] = \"UK\"\n",
    "df.loc[df.q10_country == 'Britain ', 'q10_country'] = \"UK\"\n",
    "df.loc[df.q10_country == 'United Kingdom (England)', 'q10_country'] = \"UK\"\n",
    "df.loc[df.q10_country == 'United Kingdom.', 'q10_country'] = \"UK\"\n",
    "df.loc[df.q10_country == 'United kingdom', 'q10_country'] = \"UK\"\n",
    "df.loc[df.q10_country == 'United kingdom ', 'q10_country'] = \"UK\"\n",
    "df.loc[df.q10_country == 'U.K. ', 'q10_country'] = \"UK\"\n",
    "df.loc[df.q10_country == 'United Kindom', 'q10_country'] = \"UK\"\n",
    "df.loc[df.q10_country == 'England, UK', 'q10_country'] = \"UK\"\n",
    "df.loc[df.q10_country == 'uk', 'q10_country'] = \"UK\"\n",
    "df.loc[df.q10_country == 'Great Britain', 'q10_country'] = \"UK\"\n",
    "df.loc[df.q10_country == 'U.K.', 'q10_country'] = \"UK\"\n",
    "df.loc[df.q10_country == 'UK (Northern Ireland)', 'q10_country'] = \"UK\"\n",
    "df.loc[df.q10_country == 'U.K', 'q10_country'] = \"UK\"\n",
    "df.loc[df.q10_country == 'England, United Kingdom', 'q10_country'] = \"UK\"\n",
    "df.loc[df.q10_country == 'UK for U.S. company', 'q10_country'] = \"UK\"\n",
    "df.loc[df.q10_country == 'United Kingdomk', 'q10_country'] = \"UK\"\n",
    "df.loc[df.q10_country == 'united kingdom', 'q10_country'] = \"UK\"\n",
    "df.loc[df.q10_country == 'Wales (United Kingdom)', 'q10_country'] = \"UK\"\n",
    "df.loc[df.q10_country == 'England, Gb', 'q10_country'] = \"UK\"\n",
    "df.loc[df.q10_country == 'U.K. (northern England)', 'q10_country'] = \"UK\"\n",
    "df.loc[df.q10_country == 'Wales', 'q10_country'] = \"UK\"\n",
    "df.loc[df.q10_country == 'UK (England)', 'q10_country'] = \"UK\"\n",
    "df.loc[df.q10_country == 'UK, remote', 'q10_country'] = \"UK\"\n",
    "df.loc[df.q10_country == 'Englang', 'q10_country'] = \"UK\"\n",
    "df.loc[df.q10_country == 'Scotland, UK', 'q10_country'] = \"UK\"\n",
    "df.loc[df.q10_country == 'Unites kingdom ', 'q10_country'] = \"UK\"\n",
    "df.loc[df.q10_country == 'Northern Ireland ', 'q10_country'] = \"UK\"\n",
    "df.loc[df.q10_country == 'england', 'q10_country'] = \"UK\"\n",
    "df.loc[df.q10_country == 'Wales, UK', 'q10_country'] = \"UK\"\n",
    "df.loc[df.q10_country == 'England, United Kingdom ', 'q10_country'] = \"UK\"\n",
    "df.loc[df.q10_country == 'Wales (UK)', 'q10_country'] = \"UK\"\n",
    "df.loc[df.q10_country == 'Northern Ireland, United Kingdom', 'q10_country'] = \"UK\"\n",
    "df.loc[df.q10_country == 'europe', 'q10_country'] = \"UK\"\n",
    "df.loc[df.q10_country == 'UK, but for globally fully remote company', 'q10_country'] = \"UK\"\n",
    "df.loc[df.q10_country == 'ENGLAND', 'q10_country'] = \"UK\"\n",
    "df.loc[df.q10_country == 'UK ', 'q10_country'] = \"UK\"\n",
    "df.loc[df.q10_country == 'UK ', 'q10_country'] = \"UK\"\n",
    "df.loc[df.q10_country == 'Uk ', 'q10_country'] = \"UK\"\n",
    "df.loc[df.q10_country == 'Scotland', 'q10_country'] = \"UK\"\n",
    "df.loc[df.q10_country == 'Scotland ', 'q10_country'] = \"UK\"\n",
    "df.loc[df.q10_country == 'London', 'q10_country'] = \"UK\"\n",
    "\n",
    "\n",
    "df.loc[df.q10_country == 'canada', 'q10_country'] = \"Canada\"\n",
    "df.loc[df.q10_country == 'Canada ', 'q10_country'] = \"Canada\"\n",
    "df.loc[df.q10_country == 'Canada, Ottawa, ontario', 'q10_country'] = \"Canada\"\n",
    "df.loc[df.q10_country == 'CANADA ', 'q10_country'] = \"Canada\"\n",
    "df.loc[df.q10_country == 'Canadw', 'q10_country'] = \"Canada\"\n",
    "df.loc[df.q10_country == 'CANADA', 'q10_country'] = \"Canada\"\n",
    "df.loc[df.q10_country == 'Can', 'q10_country'] = \"Canada\"\n",
    "df.loc[df.q10_country == 'I am located in Canada but I work for a company in the US', 'q10_country'] = \"Canada\"\n",
    "df.loc[df.q10_country == 'Canda', 'q10_country'] = \"Canada\"\n",
    "df.loc[df.q10_country == 'Canada and USA', 'q10_country'] = \"Canada\"\n",
    "df.loc[df.q10_country == 'Csnada', 'q10_country'] = \"Canada\"\n",
    "df.loc[df.q10_country == 'Canad', 'q10_country'] = \"Canada\"\n",
    "df.loc[df.q10_country == 'Canadá', 'q10_country'] = \"Canada\"\n",
    "\n",
    "df.loc[df.q10_country == 'The Netherlands', 'q10_country'] = \"Netherlands\"\n",
    "df.loc[df.q10_country == 'The Netherlands ', 'q10_country'] = \"Netherlands\"\n",
    "df.loc[df.q10_country == 'the Netherlands', 'q10_country'] = \"Netherlands\"\n",
    "df.loc[df.q10_country == 'The netherlands', 'q10_country'] = \"Netherlands\"\n",
    "df.loc[df.q10_country == 'netherlands', 'q10_country'] = \"Netherlands\"\n",
    "df.loc[df.q10_country == 'Nederland', 'q10_country'] = \"Netherlands\"\n",
    "df.loc[df.q10_country == 'Netherlands ', 'q10_country'] = \"Netherlands\"\n",
    "df.loc[df.q10_country == 'NL', 'q10_country'] = \"Netherlands\"\n",
    "df.loc[df.q10_country == 'the netherlands', 'q10_country'] = \"Netherlands\"\n",
    "\n",
    "df.loc[df.q10_country == 'New Zealand', 'q10_country'] = \"NZ\"\n",
    "df.loc[df.q10_country == 'New Zealand Aotearoa', 'q10_country'] = \"NZ\"\n",
    "df.loc[df.q10_country == 'New zealand', 'q10_country'] = \"NZ\"\n",
    "df.loc[df.q10_country == ' New Zealand', 'q10_country'] = \"NZ\"\n",
    "df.loc[df.q10_country == 'From New Zealand but on projects across APAC', 'q10_country'] = \"NZ\"\n",
    "df.loc[df.q10_country == 'Aotearoa New Zealand', 'q10_country'] = \"NZ\"\n",
    "df.loc[df.q10_country == 'new zealand', 'q10_country'] = \"NZ\"\n",
    "\n",
    "df.loc[df.q10_country == 'Australia ', 'q10_country'] = \"AUS\"\n",
    "df.loc[df.q10_country == 'Australia', 'q10_country'] = \"AUS\"\n",
    "df.loc[df.q10_country == 'australia', 'q10_country'] = \"AUS\"\n",
    "df.loc[df.q10_country == 'Australi', 'q10_country'] = \"AUS\"\n",
    "df.loc[df.q10_country == 'Australian ', 'q10_country'] = \"AUS\"\n",
    "\n",
    "df.loc[df.q10_country == 'Spain ', 'q10_country'] = \"Spain\"\n",
    "df.loc[df.q10_country == 'spain', 'q10_country'] = \"Spain\"\n",
    "\n",
    "df.loc[df.q10_country == 'finland', 'q10_country'] = \"Finland\"\n",
    "\n",
    "df.loc[df.q10_country == 'FRANCE', 'q10_country'] = \"France\"\n",
    "df.loc[df.q10_country == 'France ', 'q10_country'] = \"France\"\n",
    "df.loc[df.q10_country == 'france', 'q10_country'] = \"France\"\n",
    "\n",
    "df.loc[df.q10_country == 'Germany ', 'q10_country'] = \"Germany\"\n",
    "df.loc[df.q10_country == 'germany', 'q10_country'] = \"Germany\"\n",
    "\n",
    "df.loc[df.q10_country == 'Ireland ', 'q10_country'] = \"Ireland\"\n",
    "df.loc[df.q10_country == 'ireland', 'q10_country'] = \"Ireland\"\n",
    "\n",
    "df.loc[df.q10_country == 'INDIA', 'q10_country'] = \"India\"\n",
    "df.loc[df.q10_country == 'india', 'q10_country'] = \"India\"\n",
    "df.loc[df.q10_country == 'ibdia', 'q10_country'] = \"India\"\n",
    "\n",
    "df.loc[df.q10_country == 'Japan ', 'q10_country'] = \"Japan\"\n",
    "df.loc[df.q10_country == 'Japan, US Gov position', 'q10_country'] = \"Japan\"\n",
    "df.loc[df.q10_country == 'japan', 'q10_country'] = \"Japan\"\n",
    "\n",
    "\n",
    "df.loc[df.q10_country == 'ARGENTINA BUT MY ORG IS IN THAILAND', 'q10_country'] = \"Argentina\"\n",
    "\n",
    "df.loc[df.q10_country == 'Denmark ', 'q10_country'] = \"Denmark\"\n",
    "df.loc[df.q10_country == 'denmark', 'q10_country'] = \"Denmark\"\n",
    "df.loc[df.q10_country == 'Danmark', 'q10_country'] = \"Denmark\"\n",
    "\n",
    "df.loc[df.q10_country == 'Switzerland ', 'q10_country'] = \"Switzerland\"\n",
    "df.loc[df.q10_country == 'SWITZERLAND', 'q10_country'] = \"Switzerland\"\n",
    "df.loc[df.q10_country == 'switzerland', 'q10_country'] = \"Switzerland\"\n",
    "\n",
    "df.loc[df.q10_country == 'Mexico ', 'q10_country'] = \"Mexico\"\n",
    "\n",
    "df.loc[df.q10_country == 'South Africa ', 'q10_country'] = \"Africa\"\n",
    "df.loc[df.q10_country == 'South Africa', 'q10_country'] = \"Africa\"\n",
    "df.loc[df.q10_country == 'South africa', 'q10_country'] = \"Africa\"\n",
    "df.loc[df.q10_country == 'Kenya', 'q10_country'] = \"Africa\"\n",
    "\n",
    "\n",
    "df.loc[df.q10_country == 'Sweden ', 'q10_country'] = \"Sweden\"\n",
    "\n",
    "df.loc[df.q10_country == 'Hong Kong', 'q10_country'] = \"China\"\n",
    "df.loc[df.q10_country == 'Hong Kong ', 'q10_country'] = \"China\"\n",
    "df.loc[df.q10_country == 'hong konh', 'q10_country'] = \"China\"\n",
    "df.loc[df.q10_country == 'hong konh', 'q10_country'] = \"China\"\n",
    "df.loc[df.q10_country == 'hong konh', 'q10_country'] = \"China\"\n",
    "df.loc[df.q10_country == 'Mainland China', 'q10_country'] = \"China\"\n",
    "\n",
    "df.loc[df.q10_country == 'Czech republic', 'q10_country'] = \"Czech Republic\"\n",
    "df.loc[df.q10_country == 'Czechia', 'q10_country'] = \"Czech Republic\"\n",
    "df.loc[df.q10_country == 'czech republic', 'q10_country'] = \"Czech Republic\"\n",
    "df.loc[df.q10_country == 'Czech Republic ', 'q10_country'] = \"Czech Republic\"\n",
    "df.loc[df.q10_country == 'Czech Republic', 'q10_country'] = \"Czech Republic\"\n",
    "df.loc[df.q10_country == 'Česká republika', 'q10_country'] = \"Czech Republic\"\n",
    "\n",
    "df.loc[df.q10_country == \"We don't get raises, we get quarterly bonuses, but they periodically asses income in the area you work, so I got a raise because a 3rd party assessment showed I was paid too little for the area we were located\", 'q10_country'] = \"Unknown\"\n",
    "df.loc[df.q10_country == \"I earn commission on sales. If I meet quota, I'm guaranteed another 16k min. Last year i earned an additional 27k. It's not uncommon for people in my space to earn 100k+ after commission. \", 'q10_country'] = \"Unknown\"\n",
    "df.loc[df.q10_country == \"$2,175.84/year is deducted for benefits\", 'q10_country'] = \"Unknown\"\n",
    "df.loc[df.q10_country == \"bonus based on meeting yearly goals set w/ my supervisor\", 'q10_country'] = \"Unknown\"\n",
    "df.loc[df.q10_country == \"I was brought in on this salary to help with the EHR and very quickly was promoted to current position but compensation was not altered. \", 'q10_country'] = \"Unknown\"\n",
    "df.loc[df.q10_country == \"Contracts\", 'q10_country'] = \"Unknown\"\n",
    "df.loc[df.q10_country == \"Currently finance\", 'q10_country'] = \"Unknown\"\n",
    "df.loc[df.q10_country == \"na\", 'q10_country'] = \"Unknown\"\n",
    "df.loc[df.q10_country == \"Y\", 'q10_country'] = \"Unknown\"\n",
    "df.loc[df.q10_country == \"ss\", 'q10_country'] = \"Unknown\"\n",
    "df.loc[df.q10_country == \"dbfemf\", 'q10_country'] = \"Unknown\"\n",
    "df.loc[df.q10_country == \"ff\", 'q10_country'] = \"Unknown\"\n",
    "df.loc[df.q10_country == \"Policy\", 'q10_country'] = \"Unknown\"\n",
    "df.loc[df.q10_country == \"LOUTRELAND\", 'q10_country'] = \"Unknown\"\n",
    "\n",
    "df.loc[df.q10_country == 'United Arab Emirates ', 'q10_country'] = \"UAE\"\n",
    "\n",
    "df.loc[df.q10_country == 'Company in Germany. I work from Pakistan.', 'q10_country'] = \"Pakistan\"\n",
    "df.loc[df.q10_country == 'pakistan', 'q10_country'] = \"Pakistan\"\n",
    "\n",
    "df.loc[df.q10_country == 'From Romania, but for an US based company', 'q10_country'] = \"Romania\"\n",
    "\n",
    "df.loc[df.q10_country == 'Remote (philippines)', 'q10_country'] = \"Remote\"\n",
    "df.loc[df.q10_country == 'Austria, but I work remotely for a Dutch/British company', 'q10_country'] = \"Remote\"\n",
    "df.loc[df.q10_country == 'n/a (remote from wherever I want)', 'q10_country'] = \"Remote\"\n",
    "df.loc[df.q10_country == 'Global', 'q10_country'] = \"Remote\"\n",
    "df.loc[df.q10_country == 'International ', 'q10_country'] = \"Remote\"\n",
    "\n",
    "df.loc[df.q10_country == 'Sri lanka', 'q10_country'] = \"Sri Lanka\"\n",
    "\n",
    "df.loc[df.q10_country == 'Croatia ', 'q10_country'] = \"Croatia\"\n",
    "df.loc[df.q10_country == 'croatia', 'q10_country'] = \"Croatia\"\n",
    "\n",
    "df.loc[df.q10_country == 'I.S.', 'q10_country'] = \"Iceland\"\n",
    "df.loc[df.q10_country == 'IS', 'q10_country'] = \"Iceland\"\n",
    "\n",
    "df.loc[df.q10_country == 'Norway ', 'q10_country'] = \"Norway\"\n",
    "\n",
    "df.loc[df.q10_country == 'philippines', 'q10_country'] = \"Philippines\"\n",
    "\n",
    "df.loc[df.q10_country == 'Russia ', 'q10_country'] = \"Russia\"\n",
    "\n",
    "df.loc[df.q10_country == 'Italy (South)', 'q10_country'] = \"Italy\"\n",
    "\n",
    "df.loc[df.q10_country == 'The Bahamas ', 'q10_country'] = \"The Bahamas\"\n",
    "\n",
    "df.loc[df.q10_country == 'México', 'q10_country'] = \"Mexico\"\n",
    "\n",
    "df.loc[df.q10_country == 'Bangladesh ', 'q10_country'] = \"Bangladesh\"\n",
    "\n",
    "df.loc[df.q10_country == 'Singapore ', 'q10_country'] = \"Singapore\"\n",
    "df.loc[df.q10_country == 'singapore', 'q10_country'] = \"Singapore\"\n",
    "\n",
    "df.loc[df.q10_country == 'Brazil ', 'q10_country'] = \"Brazil\"\n",
    "df.loc[df.q10_country == 'Brasil', 'q10_country'] = \"Brazil\"\n",
    "\n",
    "df.loc[df.q10_country == 'NIGERIA', 'q10_country'] = \"Nigeria\"\n",
    "df.loc[df.q10_country == 'Nigeria ', 'q10_country'] = \"Nigeria\"\n",
    "\n",
    "df.loc[df.q10_country == 'Ukraine ', 'q10_country'] = \"Ukraine\"\n"
   ]
  },
  {
   "cell_type": "code",
   "execution_count": 112,
   "id": "8d872082-5984-49b4-8b0f-56f971df70cf",
   "metadata": {
    "tags": []
   },
   "outputs": [
    {
     "data": {
      "text/plain": [
       "array(['USA', 'UK', 'Canada', 'Netherlands', 'AUS', 'Spain', 'Finland',\n",
       "       'France', 'Germany', 'Ireland', 'India', 'Argentina',\n",
       "       'United State', 'Denmark', 'Switzerland', 'Bermuda', 'Malaysia',\n",
       "       'Mexico', 'Africa', 'Belgium', 'Sweden', 'China', 'Kuwait',\n",
       "       'Norway', 'Sri Lanka', 'Unknown', 'Greece', 'Japan', 'Austria',\n",
       "       'Brazil', 'Remote', 'Hungary', 'Luxembourg', 'Colombia', 'NZ',\n",
       "       'Trinidad and Tobago', 'Cayman Islands', 'Czech Republic',\n",
       "       'Latvia', 'Rwanda', 'UAE', 'Bangladesh', 'Romania', 'New Zealand ',\n",
       "       'Serbia', 'Philippines', 'Russia', 'Poland', 'UXZ', 'Turkey',\n",
       "       'Catalonia', 'Italy', 'Jersey, Channel islands', 'Afghanistan',\n",
       "       'Israel', 'Iceland', 'Taiwan', 'Cambodia', 'Vietnam', 'Singapore',\n",
       "       'South Korea', 'Thailand', 'Lithuania', 'Eritrea', 'Indonesia',\n",
       "       'Cuba', 'Slovenia', \"Cote d'Ivoire\", 'Somalia', 'Slovakia',\n",
       "       'Portugal ', 'Sierra Leone', 'Belgium ', 'The Bahamas',\n",
       "       'Costa Rica', 'Chile', 'Qatar', 'Portugal', 'Nigeria', 'Panamá',\n",
       "       'Congo', 'Uruguay', 'Pakistan', 'Malaysia ', 'Uganda', 'Malta',\n",
       "       'Saudi Arabia', 'Bulgaria', 'Estonia', 'Morocco', 'Ecuador',\n",
       "       'Zimbabwe', 'Ghana', 'Luxemburg', 'Croatia', 'South Korea ',\n",
       "       'Ukraine', 'Isle of Man', 'Jamaica', 'Jordan', 'Cyprus',\n",
       "       'Liechtenstein', 'Bosnia and Herzegovina', 'Poland ', 'Myanmar',\n",
       "       'Burma', 'Tanzania'], dtype=object)"
      ]
     },
     "execution_count": 112,
     "metadata": {},
     "output_type": "execute_result"
    }
   ],
   "source": [
    "df.q10_country.unique()"
   ]
  },
  {
   "cell_type": "code",
   "execution_count": 113,
   "id": "6022df27-f6d0-4861-875b-536b79286d1c",
   "metadata": {
    "tags": []
   },
   "outputs": [
    {
     "data": {
      "text/plain": [
       "107"
      ]
     },
     "execution_count": 113,
     "metadata": {},
     "output_type": "execute_result"
    }
   ],
   "source": [
    "df.q10_country.nunique()"
   ]
  },
  {
   "cell_type": "markdown",
   "id": "62f566cb-f760-41e8-a274-dd1e66588dc5",
   "metadata": {},
   "source": [
    "### Q11 - US State: Clean Up"
   ]
  },
  {
   "cell_type": "code",
   "execution_count": 114,
   "id": "d09ef15f-14e3-4421-93c1-90f42fe86e6e",
   "metadata": {
    "tags": []
   },
   "outputs": [
    {
     "data": {
      "text/plain": [
       "5034"
      ]
     },
     "execution_count": 114,
     "metadata": {},
     "output_type": "execute_result"
    }
   ],
   "source": [
    "df.q11_us_state.isna().sum()"
   ]
  },
  {
   "cell_type": "code",
   "execution_count": 115,
   "id": "7b112be7-54ff-4eb6-b353-c848731e01ac",
   "metadata": {
    "tags": []
   },
   "outputs": [],
   "source": [
    "df.q11_us_state = df.q11_us_state.fillna(\"Not Relevant\")"
   ]
  },
  {
   "cell_type": "code",
   "execution_count": 116,
   "id": "98129bc8-e115-4bf7-a3cb-b448a9572112",
   "metadata": {
    "tags": []
   },
   "outputs": [
    {
     "data": {
      "text/plain": [
       "0"
      ]
     },
     "execution_count": 116,
     "metadata": {},
     "output_type": "execute_result"
    }
   ],
   "source": [
    "df.q11_us_state.isna().sum()"
   ]
  },
  {
   "cell_type": "code",
   "execution_count": 117,
   "id": "751baaa8-1c52-4126-ba26-b71abac57d8a",
   "metadata": {
    "tags": []
   },
   "outputs": [
    {
     "data": {
      "text/plain": [
       "count            28108\n",
       "unique             138\n",
       "top       Not Relevant\n",
       "freq              5034\n",
       "Name: q11_us_state, dtype: object"
      ]
     },
     "execution_count": 117,
     "metadata": {},
     "output_type": "execute_result"
    }
   ],
   "source": [
    "df.q11_us_state.describe()"
   ]
  },
  {
   "cell_type": "code",
   "execution_count": 118,
   "id": "6aa2c222-806e-4e2e-9d03-4650bacfd05d",
   "metadata": {
    "tags": []
   },
   "outputs": [
    {
     "data": {
      "text/plain": [
       "array(['Massachusetts', 'Not Relevant', 'Tennessee', 'Wisconsin',\n",
       "       'South Carolina', 'New Hampshire', 'Arizona', 'Missouri',\n",
       "       'Florida', 'Pennsylvania', 'Michigan', 'Minnesota', 'Illinois',\n",
       "       'California', 'Georgia', 'Ohio', 'District of Columbia',\n",
       "       'Maryland', 'Texas', 'Virginia', 'North Carolina', 'New York',\n",
       "       'New Jersey', 'Rhode Island', 'Colorado', 'Oregon', 'Washington',\n",
       "       'Indiana', 'Iowa', 'Nebraska', 'Oklahoma', 'Maine', 'Connecticut',\n",
       "       'South Dakota', 'West Virginia', 'Idaho', 'Louisiana', 'Montana',\n",
       "       'Kentucky', 'North Dakota', 'Kansas', 'Vermont', 'Arkansas',\n",
       "       'Alabama', 'Nevada', 'Delaware', 'New Mexico', 'Hawaii', 'Utah',\n",
       "       'Mississippi', 'Kentucky, Ohio', 'District of Columbia, Virginia',\n",
       "       'District of Columbia, Maryland', 'Alaska', 'Arizona, Washington',\n",
       "       'Georgia, New York', 'California, Colorado', 'California, Oregon',\n",
       "       'District of Columbia, Maryland, Pennsylvania, Virginia',\n",
       "       'Arizona, California', 'North Carolina, Utah', 'Wyoming',\n",
       "       'Ohio, Wyoming', 'Georgia, Tennessee', 'Massachusetts, Oregon',\n",
       "       'Alabama, Montana', 'Alabama, District of Columbia',\n",
       "       'California, Pennsylvania', 'New Jersey, Pennsylvania',\n",
       "       'Georgia, Washington', 'Alaska, Maryland',\n",
       "       'Michigan, South Carolina', 'Massachusetts, Rhode Island',\n",
       "       'Georgia, Minnesota', 'Colorado, Nevada',\n",
       "       'Maine, Massachusetts, New Hampshire, North Carolina',\n",
       "       'Alabama, Minnesota, Nevada', 'New Jersey, New York',\n",
       "       'Arizona, Utah', 'Alabama, Kansas', 'California, Oklahoma',\n",
       "       'Illinois, Wisconsin', 'Illinois, Kentucky',\n",
       "       'Arizona, California, Nevada, Texas',\n",
       "       'Alaska, Idaho, Oregon, Utah, Washington',\n",
       "       'Massachusetts, Pennsylvania', 'Nevada, Oregon',\n",
       "       'New Jersey, Virginia', 'Montana, Wyoming',\n",
       "       'Colorado, Massachusetts',\n",
       "       'District of Columbia, Maryland, Virginia',\n",
       "       'Massachusetts, Vermont', 'Massachusetts, New Hampshire',\n",
       "       'Arkansas, Iowa, Massachusetts, Ohio, Wyoming', 'New York, Texas',\n",
       "       'California, Montana', 'Iowa, Utah, Vermont', 'Texas, Virginia',\n",
       "       'Utah, Vermont', 'Arkansas, Illinois', 'Georgia, Massachusetts',\n",
       "       'Maryland, Virginia', 'Florida, Georgia, South Carolina',\n",
       "       'Arkansas, Idaho, Kansas, Louisiana, Michigan, Mississippi, Nevada, New York, South Carolina, Tennessee, Washington',\n",
       "       'California, Texas', 'Indiana, Ohio', 'Ohio, Washington',\n",
       "       'Kansas, Missouri', 'Colorado, Illinois',\n",
       "       'Arizona, Hawaii, Illinois, Michigan, Utah, Wyoming',\n",
       "       'California, New Jersey', 'Louisiana, Washington',\n",
       "       'Maryland, New York', 'District of Columbia, Washington',\n",
       "       'Delaware, Pennsylvania', 'Illinois, North Carolina',\n",
       "       'Indiana, Massachusetts', 'Florida, New Hampshire, Wisconsin',\n",
       "       'Pennsylvania, Rhode Island', 'New York, Oregon, Vermont',\n",
       "       'Iowa, Nebraska', 'California, New York', 'Arizona, New York',\n",
       "       'California, District of Columbia, Illinois, Iowa, Maryland, Minnesota',\n",
       "       'Oregon, Washington', 'New York, Virginia',\n",
       "       'Mississippi, Missouri', 'California, Maryland',\n",
       "       'California, Illinois, Massachusetts, North Carolina, South Carolina, Virginia',\n",
       "       'Alabama, California', 'Michigan, Texas, Washington',\n",
       "       'Alabama, Oregon', 'Alabama, Alaska, Arizona',\n",
       "       'Alabama, South Carolina',\n",
       "       'Colorado, Delaware, New Jersey, West Virginia, Wyoming',\n",
       "       'Utah, Wisconsin', 'Delaware, Louisiana', 'Florida, Georgia'],\n",
       "      dtype=object)"
      ]
     },
     "execution_count": 118,
     "metadata": {},
     "output_type": "execute_result"
    }
   ],
   "source": [
    "df.q11_us_state.unique()"
   ]
  },
  {
   "cell_type": "markdown",
   "id": "baf02357-d2bb-4668-af90-8d66063f3e3e",
   "metadata": {},
   "source": [
    "### Q12 - City: Clean Up"
   ]
  },
  {
   "cell_type": "code",
   "execution_count": 119,
   "id": "b957fa02-41d6-41ca-b125-71c3f5217aa9",
   "metadata": {
    "tags": []
   },
   "outputs": [
    {
     "data": {
      "text/plain": [
       "count      28026\n",
       "unique      4841\n",
       "top       Boston\n",
       "freq         772\n",
       "Name: q12_city, dtype: object"
      ]
     },
     "execution_count": 119,
     "metadata": {},
     "output_type": "execute_result"
    }
   ],
   "source": [
    "df.q12_city.describe()"
   ]
  },
  {
   "cell_type": "code",
   "execution_count": 120,
   "id": "d9b9adde-816c-47ac-babc-aab60c940a8b",
   "metadata": {
    "tags": []
   },
   "outputs": [
    {
     "data": {
      "text/plain": [
       "q12_city\n",
       "Boston                   772\n",
       "Chicago                  752\n",
       "New York                 711\n",
       "Seattle                  691\n",
       "London                   576\n",
       "                        ... \n",
       "Ethel                      1\n",
       "Concord, CA                1\n",
       "charlottesville            1\n",
       "A major Canadian city      1\n",
       "Dar es Salaam              1\n",
       "Name: count, Length: 4841, dtype: int64"
      ]
     },
     "execution_count": 120,
     "metadata": {},
     "output_type": "execute_result"
    }
   ],
   "source": [
    "df.q12_city.value_counts()"
   ]
  },
  {
   "cell_type": "code",
   "execution_count": 121,
   "id": "2caa3e13-cc1a-4dd0-9b1a-2eee022461b7",
   "metadata": {
    "tags": []
   },
   "outputs": [
    {
     "data": {
      "text/plain": [
       "82"
      ]
     },
     "execution_count": 121,
     "metadata": {},
     "output_type": "execute_result"
    }
   ],
   "source": [
    "df.q12_city.isna().sum()"
   ]
  },
  {
   "cell_type": "code",
   "execution_count": 122,
   "id": "12102e54-0143-4cf8-92a9-25161816b512",
   "metadata": {
    "tags": []
   },
   "outputs": [],
   "source": [
    "df.q12_city = df.q12_city.fillna(\"Not Answered\")"
   ]
  },
  {
   "cell_type": "code",
   "execution_count": 123,
   "id": "34f0c3e9-749d-4741-8b5a-5469667e8943",
   "metadata": {
    "tags": []
   },
   "outputs": [
    {
     "data": {
      "text/plain": [
       "0"
      ]
     },
     "execution_count": 123,
     "metadata": {},
     "output_type": "execute_result"
    }
   ],
   "source": [
    "df.q12_city.isna().sum()"
   ]
  },
  {
   "cell_type": "markdown",
   "id": "313cf2bc-2e0f-4358-b6db-6e3aba9050fe",
   "metadata": {},
   "source": [
    "### Q15 - Education: Clean Up"
   ]
  },
  {
   "cell_type": "markdown",
   "id": "0ef4b57c-3b0b-4102-9168-44ab6ab643d4",
   "metadata": {},
   "source": [
    "All of the responses fell within the six given values, aside from the NULLs. For the NULLs, I am going to assign them based on industry, salary, and years within the field, I am going to use a groupby and lambda function to do this. I am going set it so that if the function is unbale ot find a best education to put it under \"High School\" as it is the least amount of education (and least represented), and the number of NULLs is onl 223. \n",
    "\n",
    "After doing this, there is no more NULLs and there were less than 100 that were unknown (initially labeled the lambda \"unknown\", to see the amount (92) and then changed it to \"High School\", given this low amount I feel like it was a good tradeoff given the amount of time it would have taken to do it by hand (like fixing the countries).\n",
    "\n",
    "By assigning the unknowns as High School, I am putting a personal bias by opting for a one-size fits all, rather than individually assessing."
   ]
  },
  {
   "cell_type": "code",
   "execution_count": 124,
   "id": "2a3c40fb-6b4d-4338-8fae-38ade7e0f9b2",
   "metadata": {
    "tags": []
   },
   "outputs": [
    {
     "name": "stdout",
     "output_type": "stream",
     "text": [
      "<class 'pandas.core.frame.DataFrame'>\n",
      "RangeIndex: 28108 entries, 0 to 28107\n",
      "Data columns (total 16 columns):\n",
      " #   Column                  Non-Null Count  Dtype  \n",
      "---  ------                  --------------  -----  \n",
      " 0   timestamp               28108 non-null  object \n",
      " 1   q1_age                  28108 non-null  object \n",
      " 2   q2_industry             28108 non-null  object \n",
      " 3   q3_title                28108 non-null  object \n",
      " 4   q5_salary               28108 non-null  int64  \n",
      " 5   q6_addtl_funds          28108 non-null  float64\n",
      " 6   q7_currency             28108 non-null  object \n",
      " 7   q8_addtl_currency_type  28108 non-null  object \n",
      " 8   q10_country             28108 non-null  object \n",
      " 9   q11_us_state            28108 non-null  object \n",
      " 10  q12_city                28108 non-null  object \n",
      " 11  q13_work_exp_yrs        28108 non-null  object \n",
      " 12  q14_field_exp_yrs       28108 non-null  object \n",
      " 13  q15_education           27885 non-null  object \n",
      " 14  q16_gender              27937 non-null  object \n",
      " 15  q17_race                27931 non-null  object \n",
      "dtypes: float64(1), int64(1), object(14)\n",
      "memory usage: 3.4+ MB\n"
     ]
    }
   ],
   "source": [
    "df.info()"
   ]
  },
  {
   "cell_type": "code",
   "execution_count": 125,
   "id": "1bf43c42-f4be-4656-8d4e-5cdd99738838",
   "metadata": {
    "tags": []
   },
   "outputs": [
    {
     "data": {
      "text/plain": [
       "count              27885\n",
       "unique                 6\n",
       "top       College degree\n",
       "freq               13536\n",
       "Name: q15_education, dtype: object"
      ]
     },
     "execution_count": 125,
     "metadata": {},
     "output_type": "execute_result"
    }
   ],
   "source": [
    "df.q15_education.describe()"
   ]
  },
  {
   "cell_type": "code",
   "execution_count": 126,
   "id": "38cd2a22-7a2e-4e47-bb7b-d2e13497dec9",
   "metadata": {
    "tags": []
   },
   "outputs": [
    {
     "data": {
      "text/plain": [
       "q15_education\n",
       "College degree                        13536\n",
       "Master's degree                        8879\n",
       "Some college                           2075\n",
       "PhD                                    1427\n",
       "Professional degree (MD, JD, etc.)     1325\n",
       "High School                             643\n",
       "Name: count, dtype: int64"
      ]
     },
     "execution_count": 126,
     "metadata": {},
     "output_type": "execute_result"
    }
   ],
   "source": [
    "df.q15_education.value_counts()"
   ]
  },
  {
   "cell_type": "code",
   "execution_count": 127,
   "id": "cebc1286-e8cc-4ca3-bf3d-897dddbb7f69",
   "metadata": {
    "tags": []
   },
   "outputs": [
    {
     "data": {
      "text/plain": [
       "223"
      ]
     },
     "execution_count": 127,
     "metadata": {},
     "output_type": "execute_result"
    }
   ],
   "source": [
    "df.q15_education.isna().sum()"
   ]
  },
  {
   "cell_type": "code",
   "execution_count": 128,
   "id": "cf4ef9ee-e7cf-4abb-a96d-a84b28a317e5",
   "metadata": {
    "tags": []
   },
   "outputs": [],
   "source": [
    "df.q15_education = df.groupby(['q2_industry', 'q5_salary', 'q14_field_exp_yrs'])['q15_education'].transform(lambda x: x.fillna(x.mode()[0] if not x.mode().empty else 'High School'))"
   ]
  },
  {
   "cell_type": "code",
   "execution_count": 129,
   "id": "d6b4b7a6-bc9b-407b-a664-1add40c4acf6",
   "metadata": {
    "tags": []
   },
   "outputs": [
    {
     "data": {
      "text/plain": [
       "0"
      ]
     },
     "execution_count": 129,
     "metadata": {},
     "output_type": "execute_result"
    }
   ],
   "source": [
    "df.q15_education.isna().sum()"
   ]
  },
  {
   "cell_type": "code",
   "execution_count": 130,
   "id": "bedb8812-73bb-4a20-a426-2813e4ec09b1",
   "metadata": {
    "tags": []
   },
   "outputs": [
    {
     "data": {
      "text/plain": [
       "q15_education\n",
       "College degree                        13615\n",
       "Master's degree                        8913\n",
       "Some college                           2075\n",
       "PhD                                    1431\n",
       "Professional degree (MD, JD, etc.)     1335\n",
       "High School                             739\n",
       "Name: count, dtype: int64"
      ]
     },
     "execution_count": 130,
     "metadata": {},
     "output_type": "execute_result"
    }
   ],
   "source": [
    "df.q15_education.value_counts()"
   ]
  },
  {
   "cell_type": "markdown",
   "id": "e2a4e89e-b1e1-426f-9f27-d6a21ae4284f",
   "metadata": {
    "tags": []
   },
   "source": [
    "### Q16 - Gender: Clean Up"
   ]
  },
  {
   "cell_type": "markdown",
   "id": "da57d493-b4f7-4d1c-80f2-716b738f2081",
   "metadata": {},
   "source": [
    "I am going to try to reduce the number of unique values, I notice that there is a fifth option in the dataset that doesn't exist in the form (which has four options), so I am going to reclassify the fifth option (\"Prefer not to answer\") into the option: \"Other or prefer not to answer\". I was also considering reducing the \"Non-binary\" into the \"Other or prefer not to answer\", but I am opting to keep them seperate as I don't want to create a dataset that has gender erasure. \n",
    "\n",
    "For the NULLs I am going add them to the \"Other or prefer not to answer\" feature, as that would make sense they preferred not to answer."
   ]
  },
  {
   "cell_type": "code",
   "execution_count": 132,
   "id": "baf13c47-ea9d-45fc-ac2f-76378c589c8c",
   "metadata": {
    "tags": []
   },
   "outputs": [
    {
     "data": {
      "text/plain": [
       "count     27937\n",
       "unique        5\n",
       "top       Woman\n",
       "freq      21389\n",
       "Name: q16_gender, dtype: object"
      ]
     },
     "execution_count": 132,
     "metadata": {},
     "output_type": "execute_result"
    }
   ],
   "source": [
    "df.q16_gender.describe()"
   ]
  },
  {
   "cell_type": "code",
   "execution_count": 133,
   "id": "63b5c095-1eb7-4b12-9381-edd1316d1fa4",
   "metadata": {
    "tags": []
   },
   "outputs": [
    {
     "data": {
      "text/plain": [
       "q16_gender\n",
       "Woman                            21389\n",
       "Man                               5502\n",
       "Non-binary                         747\n",
       "Other or prefer not to answer      298\n",
       "Prefer not to answer                 1\n",
       "Name: count, dtype: int64"
      ]
     },
     "execution_count": 133,
     "metadata": {},
     "output_type": "execute_result"
    }
   ],
   "source": [
    "df.q16_gender.value_counts()"
   ]
  },
  {
   "cell_type": "code",
   "execution_count": 134,
   "id": "ef8d6e9b-9d83-4d70-95e5-e45d070485ea",
   "metadata": {
    "tags": []
   },
   "outputs": [],
   "source": [
    "df.loc[df.q16_gender == 'Prefer not to answer', 'q16_gender'] = \"Other or prefer not to answer\""
   ]
  },
  {
   "cell_type": "code",
   "execution_count": 135,
   "id": "21ed5f73-f576-4650-9e38-30695ed75a9d",
   "metadata": {
    "tags": []
   },
   "outputs": [
    {
     "data": {
      "text/plain": [
       "q16_gender\n",
       "Woman                            21389\n",
       "Man                               5502\n",
       "Non-binary                         747\n",
       "Other or prefer not to answer      299\n",
       "Name: count, dtype: int64"
      ]
     },
     "execution_count": 135,
     "metadata": {},
     "output_type": "execute_result"
    }
   ],
   "source": [
    "df.q16_gender.value_counts()"
   ]
  },
  {
   "cell_type": "code",
   "execution_count": 136,
   "id": "1103db26-b1d8-4a07-95ce-84e1de1936ab",
   "metadata": {
    "tags": []
   },
   "outputs": [],
   "source": [
    "df.q16_gender = df.q16_gender.fillna(\"Other or prefer not to answer\")"
   ]
  },
  {
   "cell_type": "code",
   "execution_count": 137,
   "id": "81afd64f-91b4-4f2f-b61c-4206d33c4b2d",
   "metadata": {
    "tags": []
   },
   "outputs": [
    {
     "data": {
      "text/plain": [
       "q16_gender\n",
       "Woman                            21389\n",
       "Man                               5502\n",
       "Non-binary                         747\n",
       "Other or prefer not to answer      470\n",
       "Name: count, dtype: int64"
      ]
     },
     "execution_count": 137,
     "metadata": {},
     "output_type": "execute_result"
    }
   ],
   "source": [
    "df.q16_gender.value_counts()"
   ]
  },
  {
   "cell_type": "markdown",
   "id": "0cec350d-fc87-48c0-9ded-11cff0c60416",
   "metadata": {
    "tags": []
   },
   "source": [
    "### Q17 - Race: Clean Up"
   ]
  },
  {
   "cell_type": "code",
   "execution_count": null,
   "id": "fdb7e161-0214-4400-9e14-86a632875534",
   "metadata": {},
   "outputs": [],
   "source": []
  },
  {
   "cell_type": "code",
   "execution_count": 139,
   "id": "967cc01b-0093-4330-bd18-59a7763609c3",
   "metadata": {
    "tags": []
   },
   "outputs": [
    {
     "data": {
      "text/plain": [
       "count     27931\n",
       "unique       51\n",
       "top       White\n",
       "freq      23235\n",
       "Name: q17_race, dtype: object"
      ]
     },
     "execution_count": 139,
     "metadata": {},
     "output_type": "execute_result"
    }
   ],
   "source": [
    "df.q17_race.describe()"
   ]
  },
  {
   "cell_type": "code",
   "execution_count": 140,
   "id": "30485b0b-5de9-4344-9642-c45180e3c997",
   "metadata": {
    "tags": []
   },
   "outputs": [
    {
     "data": {
      "text/plain": [
       "array(['White', 'Hispanic, Latino, or Spanish origin, White',\n",
       "       'Asian or Asian American, White', 'Asian or Asian American',\n",
       "       'Another option not listed here or prefer not to answer',\n",
       "       'Hispanic, Latino, or Spanish origin',\n",
       "       'Middle Eastern or Northern African',\n",
       "       'Hispanic, Latino, or Spanish origin, Middle Eastern or Northern African, White',\n",
       "       'Black or African American', 'Black or African American, White',\n",
       "       nan,\n",
       "       'Black or African American, Hispanic, Latino, or Spanish origin, White',\n",
       "       'Native American or Alaska Native',\n",
       "       'Native American or Alaska Native, White',\n",
       "       'Hispanic, Latino, or Spanish origin, Another option not listed here or prefer not to answer',\n",
       "       'Black or African American, Middle Eastern or Northern African, Native American or Alaska Native, White',\n",
       "       'White, Another option not listed here or prefer not to answer',\n",
       "       'Black or African American, Native American or Alaska Native, White',\n",
       "       'Asian or Asian American, Another option not listed here or prefer not to answer',\n",
       "       'Middle Eastern or Northern African, White',\n",
       "       'Asian or Asian American, Black or African American, White',\n",
       "       'Black or African American, Hispanic, Latino, or Spanish origin',\n",
       "       'Asian or Asian American, Black or African American',\n",
       "       'Asian or Asian American, Hispanic, Latino, or Spanish origin, White',\n",
       "       'Native American or Alaska Native, White, Another option not listed here or prefer not to answer',\n",
       "       'Asian or Asian American, Hispanic, Latino, or Spanish origin',\n",
       "       'Asian or Asian American, Native American or Alaska Native, White',\n",
       "       'Hispanic, Latino, or Spanish origin, Native American or Alaska Native',\n",
       "       'Black or African American, Middle Eastern or Northern African, White',\n",
       "       'Black or African American, Hispanic, Latino, or Spanish origin, Native American or Alaska Native, White',\n",
       "       'Black or African American, Another option not listed here or prefer not to answer',\n",
       "       'Native American or Alaska Native, Another option not listed here or prefer not to answer',\n",
       "       'Asian or Asian American, White, Another option not listed here or prefer not to answer',\n",
       "       'Asian or Asian American, Middle Eastern or Northern African',\n",
       "       'Asian or Asian American, Hispanic, Latino, or Spanish origin, Native American or Alaska Native, White',\n",
       "       'Hispanic, Latino, or Spanish origin, Middle Eastern or Northern African',\n",
       "       'Hispanic, Latino, or Spanish origin, Native American or Alaska Native, White',\n",
       "       'Middle Eastern or Northern African, White, Another option not listed here or prefer not to answer',\n",
       "       'Hispanic, Latino, or Spanish origin, White, Another option not listed here or prefer not to answer',\n",
       "       'Asian or Asian American, Black or African American, Hispanic, Latino, or Spanish origin',\n",
       "       'Asian or Asian American, Black or African American, Native American or Alaska Native, White',\n",
       "       'Middle Eastern or Northern African, Native American or Alaska Native, White',\n",
       "       'Asian or Asian American, Middle Eastern or Northern African, White',\n",
       "       'Black or African American, Middle Eastern or Northern African',\n",
       "       'Hispanic, Latino, or Spanish origin, Native American or Alaska Native, Another option not listed here or prefer not to answer',\n",
       "       'Asian or Asian American, Native American or Alaska Native',\n",
       "       'Middle Eastern or Northern African, Native American or Alaska Native',\n",
       "       'Asian or Asian American, Hispanic, Latino, or Spanish origin, Another option not listed here or prefer not to answer',\n",
       "       'Asian or Asian American, Hispanic, Latino, or Spanish origin, White, Another option not listed here or prefer not to answer',\n",
       "       'Asian or Asian American, Black or African American, Hispanic, Latino, or Spanish origin, Middle Eastern or Northern African, Native American or Alaska Native, White, Another option not listed here or prefer not to answer',\n",
       "       'Black or African American, Native American or Alaska Native',\n",
       "       'Asian or Asian American, Black or African American, Hispanic, Latino, or Spanish origin, Native American or Alaska Native'],\n",
       "      dtype=object)"
      ]
     },
     "execution_count": 140,
     "metadata": {},
     "output_type": "execute_result"
    }
   ],
   "source": [
    "df.q17_race.unique()"
   ]
  },
  {
   "cell_type": "code",
   "execution_count": 141,
   "id": "8f8068b6-5a2b-4643-8f67-3e1e6bae0dde",
   "metadata": {
    "tags": []
   },
   "outputs": [
    {
     "data": {
      "text/plain": [
       "177"
      ]
     },
     "execution_count": 141,
     "metadata": {},
     "output_type": "execute_result"
    }
   ],
   "source": [
    "df.q17_race.isna().sum()"
   ]
  },
  {
   "cell_type": "code",
   "execution_count": 142,
   "id": "27173c82-2220-47e2-89eb-4537c9eceba7",
   "metadata": {
    "tags": []
   },
   "outputs": [],
   "source": [
    "df.q17_race = df.q17_race.fillna(\"Another option not listed here or prefer not to answer\")"
   ]
  },
  {
   "cell_type": "code",
   "execution_count": 144,
   "id": "75a0f30e-fe40-4324-94c8-e6cd4a602ca3",
   "metadata": {
    "tags": []
   },
   "outputs": [
    {
     "data": {
      "text/plain": [
       "0"
      ]
     },
     "execution_count": 144,
     "metadata": {},
     "output_type": "execute_result"
    }
   ],
   "source": [
    "df.q17_race.isna().sum()"
   ]
  },
  {
   "cell_type": "code",
   "execution_count": 166,
   "id": "c834461f-b006-4ce6-92d8-fab6bc28c1a0",
   "metadata": {
    "tags": []
   },
   "outputs": [],
   "source": [
    "df.loc[df.q17_race == 'Hispanic, Latino, or Spanish origin, White', 'q17_race'] = \"Mixed Race\"\n",
    "df.loc[df.q17_race == 'Asian or Asian American, White', 'q17_race'] = \"Mixed Race\"\n",
    "df.loc[df.q17_race == 'Black or African American, White', 'q17_race'] = \"Mixed Race\"\n",
    "df.loc[df.q17_race == 'Middle Eastern or Northern African, White', 'q17_race'] = \"Mixed Race\"\n",
    "df.loc[df.q17_race == 'Native American or Alaska Native, White', 'q17_race'] = \"Mixed Race\"\n",
    "df.loc[df.q17_race == 'White, Another option not listed here or prefer not to answer', 'q17_race'] = \"Mixed Race\"\n",
    "df.loc[df.q17_race == 'Black or African American, Hispanic, Latino, or Spanish origin', 'q17_race'] = \"Mixed Race\"\n",
    "df.loc[df.q17_race == 'Asian or Asian American, Hispanic, Latino, or Spanish origin ', 'q17_race'] = \"Mixed Race\"\n",
    "df.loc[df.q17_race == 'Asian or Asian American, Hispanic, Latino, or Spanish origin, White', 'q17_race'] = \"Mixed Race\"\n",
    "df.loc[df.q17_race == 'Black or African American, Hispanic, Latino, or Spanish origin, White', 'q17_race'] = \"Mixed Race\"\n",
    "df.loc[df.q17_race == 'Asian or Asian American, Another option not listed here or prefer not to answer', 'q17_race'] = \"Mixed Race\"\n",
    "df.loc[df.q17_race == 'Hispanic, Latino, or Spanish origin, Native American or Alaska Native', 'q17_race'] = \"Mixed Race\"\n",
    "df.loc[df.q17_race == 'Hispanic, Latino, or Spanish origin, Native American or Alaska Native, White', 'q17_race'] = \"Mixed Race\"\n",
    "df.loc[df.q17_race == 'Asian or Asian American, Black or African American', 'q17_race'] = \"Mixed Race\"\n",
    "df.loc[df.q17_race == 'Asian or Asian American, Middle Eastern or Northern African', 'q17_race'] = \"Mixed Race\"\n",
    "df.loc[df.q17_race == 'Asian or Asian American, Black or African American, White', 'q17_race'] = \"Mixed Race\"\n",
    "df.loc[df.q17_race == 'Black or African American, Native American or Alaska Native, White', 'q17_race'] = \"Mixed Race\"\n",
    "df.loc[df.q17_race == 'Asian or Asian American, White, Another option not listed here or prefer not to answer', 'q17_race'] = \"Mixed Race\"\n",
    "df.loc[df.q17_race == 'Hispanic, Latino, or Spanish origin, Another option not listed here or prefer not to answer', 'q17_race'] = \"Mixed Race\"\n",
    "df.loc[df.q17_race == 'Hispanic, Latino, or Spanish origin, Middle Eastern or Northern African, White', 'q17_race'] = \"Mixed Race\"\n",
    "df.loc[df.q17_race == 'Black or African American, Middle Eastern or Northern African, White', 'q17_race'] = \"Mixed Race\"\n",
    "df.loc[df.q17_race == 'Asian or Asian American, Native American or Alaska Native, White', 'q17_race'] = \"Mixed Race\"\n",
    "df.loc[df.q17_race == 'Black or African American, Hispanic, Latino, or Spanish origin, Native American or Alaska Native, White', 'q17_race'] = \"Mixed Race\"\n",
    "df.loc[df.q17_race == 'Black or African American, Another option not listed here or prefer not to answer', 'q17_race'] = \"Mixed Race\"\n",
    "df.loc[df.q17_race == 'Black or African American, Middle Eastern or Northern African', 'q17_race'] = \"Mixed Race\"\n",
    "df.loc[df.q17_race == 'Black or African American, Middle Eastern or Northern African', 'q17_race'] = \"Mixed Race\"\n",
    "df.loc[df.q17_race == 'Native American or Alaska Native, White, Another option not listed here or prefer not to answer', 'q17_race'] = \"Mixed Race\"\n",
    "df.loc[df.q17_race == 'Hispanic, Latino, or Spanish origin, Middle Eastern or Northern African', 'q17_race'] = \"Mixed Race\"\n",
    "df.loc[df.q17_race == 'Middle Eastern or Northern African, White, Another option not listed here or prefer not to answer', 'q17_race'] = \"Mixed Race\"\n",
    "df.loc[df.q17_race == 'Black or African American, Native American or Alaska Native', 'q17_race'] = \"Mixed Race\"\n",
    "df.loc[df.q17_race == 'Asian or Asian American, Black or African American, Hispanic, Latino, or Spanish origin, Middle Eastern or Northern African, Native American or Alaska Native, White, Another option not listed here or prefer not to answer', 'q17_race'] = \"Mixed Race\"\n",
    "df.loc[df.q17_race == 'Asian or Asian American, Hispanic, Latino, or Spanish origin, White, Another option not listed here or prefer not to answer', 'q17_race'] = \"Mixed Race\"\n",
    "df.loc[df.q17_race == 'Asian or Asian American, Hispanic, Latino, or Spanish origin, Another option not listed here or prefer not to answer', 'q17_race'] = \"Mixed Race\"\n",
    "df.loc[df.q17_race == 'Middle Eastern or Northern African, Native American or Alaska Native', 'q17_race'] = \"Mixed Race\"\n",
    "df.loc[df.q17_race == 'Asian or Asian American, Native American or Alaska Native', 'q17_race'] = \"Mixed Race\"\n",
    "df.loc[df.q17_race == 'Hispanic, Latino, or Spanish origin, Native American or Alaska Native, Another option not listed here or prefer not to answer', 'q17_race'] = \"Mixed Race\"\n",
    "df.loc[df.q17_race == 'Middle Eastern or Northern African, Native American or Alaska Native, White', 'q17_race'] = \"Mixed Race\"\n",
    "df.loc[df.q17_race == 'Asian or Asian American, Middle Eastern or Northern African, White', 'q17_race'] = \"Mixed Race\"\n",
    "df.loc[df.q17_race == 'Native American or Alaska Native, Another option not listed here or prefer not to answer', 'q17_race'] = \"Mixed Race\"\n",
    "df.loc[df.q17_race == 'Asian or Asian American, Black or African American, Native American or Alaska Native, White', 'q17_race'] = \"Mixed Race\"\n",
    "df.loc[df.q17_race == 'Asian or Asian American, Black or African American, Hispanic, Latino, or Spanish origin', 'q17_race'] = \"Mixed Race\"\n",
    "df.loc[df.q17_race == 'Hispanic, Latino, or Spanish origin, White, Another option not listed here or prefer not to answer', 'q17_race'] = \"Mixed Race\"\n",
    "df.loc[df.q17_race == 'Black or African American, Middle Eastern or Northern African, Native American or Alaska Native, White', 'q17_race'] = \"Mixed Race\"\n",
    "df.loc[df.q17_race == 'Asian or Asian American, Hispanic, Latino, or Spanish origin, Native American or Alaska Native, White', 'q17_race'] = \"Mixed Race\"\n",
    "df.loc[df.q17_race == 'Asian or Asian American, Black or African American, Hispanic, Latino, or Spanish origin, Native American or Alaska Native', 'q17_race'] = \"Mixed Race\"\n",
    "df.loc[df.q17_race == 'Asian or Asian American, Hispanic, Latino, or Spanish origin', 'q17_race'] = \"Mixed Race\""
   ]
  },
  {
   "cell_type": "code",
   "execution_count": 167,
   "id": "3902b93c-b603-4618-89aa-8c5a0f653bab",
   "metadata": {
    "tags": []
   },
   "outputs": [
    {
     "data": {
      "text/plain": [
       "q17_race\n",
       "White                                                     23235\n",
       "Asian or Asian American                                    1410\n",
       "Mixed Race                                                 1248\n",
       "Another option not listed here or prefer not to answer      802\n",
       "Black or African American                                   694\n",
       "Hispanic, Latino, or Spanish origin                         605\n",
       "Middle Eastern or Northern African                           71\n",
       "Native American or Alaska Native                             43\n",
       "Name: count, dtype: int64"
      ]
     },
     "execution_count": 167,
     "metadata": {},
     "output_type": "execute_result"
    }
   ],
   "source": [
    "df.q17_race.value_counts()"
   ]
  },
  {
   "cell_type": "code",
   "execution_count": 168,
   "id": "ca5506d9-b439-467f-a374-ea8132aee33f",
   "metadata": {
    "tags": []
   },
   "outputs": [
    {
     "name": "stdout",
     "output_type": "stream",
     "text": [
      "<class 'pandas.core.frame.DataFrame'>\n",
      "RangeIndex: 28108 entries, 0 to 28107\n",
      "Data columns (total 16 columns):\n",
      " #   Column                  Non-Null Count  Dtype  \n",
      "---  ------                  --------------  -----  \n",
      " 0   timestamp               28108 non-null  object \n",
      " 1   q1_age                  28108 non-null  object \n",
      " 2   q2_industry             28108 non-null  object \n",
      " 3   q3_title                28108 non-null  object \n",
      " 4   q5_salary               28108 non-null  int64  \n",
      " 5   q6_addtl_funds          28108 non-null  float64\n",
      " 6   q7_currency             28108 non-null  object \n",
      " 7   q8_addtl_currency_type  28108 non-null  object \n",
      " 8   q10_country             28108 non-null  object \n",
      " 9   q11_us_state            28108 non-null  object \n",
      " 10  q12_city                28108 non-null  object \n",
      " 11  q13_work_exp_yrs        28108 non-null  object \n",
      " 12  q14_field_exp_yrs       28108 non-null  object \n",
      " 13  q15_education           28108 non-null  object \n",
      " 14  q16_gender              28108 non-null  object \n",
      " 15  q17_race                28108 non-null  object \n",
      "dtypes: float64(1), int64(1), object(14)\n",
      "memory usage: 3.4+ MB\n"
     ]
    }
   ],
   "source": [
    "df.info()"
   ]
  },
  {
   "cell_type": "markdown",
   "id": "49774589-0d4f-4423-bfe5-7a4e04310b2c",
   "metadata": {},
   "source": [
    "# Part 5: Reflection\n",
    "Write a short reflection (400-500 words) answering the following: \n",
    "- What were the biggest issues you encountered in the messy dataset?\n",
    "- How did cleaning the dataset improve its usability for machine learning?\n",
    "- What would happen if we trained a model on the messy dataset vs. the cleaned one?\n",
    "- Do you feel you skewed or biased the dataset while cleaning it?\n",
    "\n",
    "I found the cleaning of this dataset to be quite tedious at times (likely, because there probably was a better way to go about doing some of the processes). The biggest issue I found when dealing with the dataset was the salaries (given that they were in different currencies), which made it hard to handle, and I ended up addressing just the outlier ones - by converting them to US dollars. However, if I was to really clean it up for real-world application - time permitting - I would manually convert them all to U.S. dollars and then deal with outliers. I also found the long list of ways people could - and did - write the name of their countries - for instance I found nearly 100 ways people wrote \"USA\", which I had relabeled by hand, same thing I had to do with currency types. By addressing the NULLs, dropping low value columns, imputing/converting salary outliers, converting salaries to numbers (I left the years of experience and ages as the buckets they were, but I could have considered using an average year so that I could make them into numbers), reducing values for country, currency, and race I think I made the dataset much easier to handle, likely imporved its ability to provide predictive data. I will say, some of the areas I took \"shortcuts\" (given time and resources) included how I handled the NULL values, for some of them I could have imputed better, which would improve ML performance. That being said, I think this would perform much better than it did in its \"messy\" version, because some of the columns add a lot of NULL values and the salary and gender had outliers that could skew the data. Also with the reduction of unique values for some features means that the lesser classes have a better class balance (even if class imbalance seems to exist in the survey, such as white and women being the majority class). I do feel - and know - that I have skewed the dataset by some of the choices I have made. For instance, how I handled some of the NULLs (using generic text) could effect some of the ML predictions, along with making choices like adding a \"Mixed Race\" value for the Race feature, where someone else cleaning the data would likely leave them ungrouped or create different groups than I did. Additionally, by not converting all non-U.S. dollars in salary and additional funds, I left a bias in the ML model that would not exist had I converted them. Also, while I did my best at addressing the synonyms in columns like country and currency, there is the chance that I missed some or didn't make connections that I should have. I think that every person provides some level of bias in data clean up, because I doubt any two data scientist would clean the same dataset exactly the same way."
   ]
  },
  {
   "cell_type": "markdown",
   "id": "c146cde6-43d7-4be6-ada4-abbdd8377e6a",
   "metadata": {},
   "source": [
    "## Deliverables\n",
    "Upload your Jupyter Notebook to your GitHub repo and then provide a link to that repo in Worlclass. "
   ]
  }
 ],
 "metadata": {
  "kernelspec": {
   "display_name": "Python 3 (ipykernel)",
   "language": "python",
   "name": "python3"
  },
  "language_info": {
   "codemirror_mode": {
    "name": "ipython",
    "version": 3
   },
   "file_extension": ".py",
   "mimetype": "text/x-python",
   "name": "python",
   "nbconvert_exporter": "python",
   "pygments_lexer": "ipython3",
   "version": "3.11.5"
  }
 },
 "nbformat": 4,
 "nbformat_minor": 5
}
